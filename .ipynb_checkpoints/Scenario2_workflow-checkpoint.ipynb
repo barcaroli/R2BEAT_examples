{
 "cells": [
  {
   "cell_type": "markdown",
   "id": "caf2a04b-6684-499d-9a7e-41d86bbdef9d",
   "metadata": {},
   "source": [
    "# Workflow example with R2BEAT \n",
    "#### Scenario 2\n",
    "Together with a sampling frame containing the units of the population \n",
    "of reference, also a previous round of the sampling survey to be \n",
    "planned is available"
   ]
  },
  {
   "cell_type": "code",
   "execution_count": 1,
   "id": "8447983d-253c-416a-9dc4-798c53ee2d07",
   "metadata": {},
   "outputs": [
    {
     "name": "stderr",
     "output_type": "stream",
     "text": [
      "Caricamento del pacchetto richiesto: plyr\n",
      "\n",
      "Caricamento del pacchetto richiesto: devtools\n",
      "\n",
      "Caricamento del pacchetto richiesto: usethis\n",
      "\n",
      "Caricamento del pacchetto richiesto: sampling\n",
      "\n",
      "Caricamento del pacchetto richiesto: SamplingStrata\n",
      "\n",
      "Caricamento del pacchetto richiesto: memoise\n",
      "\n",
      "Caricamento del pacchetto richiesto: doParallel\n",
      "\n",
      "Caricamento del pacchetto richiesto: foreach\n",
      "\n",
      "Caricamento del pacchetto richiesto: iterators\n",
      "\n",
      "Caricamento del pacchetto richiesto: parallel\n",
      "\n",
      "Caricamento del pacchetto richiesto: pbapply\n",
      "\n",
      "Caricamento del pacchetto richiesto: formattable\n",
      "\n",
      "Caricamento del pacchetto richiesto: SamplingBigData\n",
      "\n",
      "\n",
      "\n",
      "Report issues at https://github.com/barcaroli/SamplingStrata/issues\n",
      "\n",
      "\n",
      "Get a complete documentation on https://barcaroli.github.io/SamplingStrata\n",
      "\n",
      "\n"
     ]
    }
   ],
   "source": [
    "# Install last version of R2BEAT\n",
    "#devtools::install_github(\"barcaroli/R2BEAT\",dependencies = FALSE)\n",
    "library(R2BEAT)"
   ]
  },
  {
   "cell_type": "code",
   "execution_count": 2,
   "id": "88e6a364-4d30-4752-81b2-2ee6d54df81a",
   "metadata": {},
   "outputs": [
    {
     "data": {
      "text/plain": [
       "[1] '1.0.4'"
      ]
     },
     "metadata": {},
     "output_type": "display_data"
    }
   ],
   "source": [
    "packageVersion(\"R2BEAT\")"
   ]
  },
  {
   "cell_type": "code",
   "execution_count": 3,
   "id": "faa91fdb-69a8-4c59-82f2-7c7749df2154",
   "metadata": {},
   "outputs": [],
   "source": [
    "## Sampling frame\n",
    "load(\"pop.RData\")"
   ]
  },
  {
   "cell_type": "code",
   "execution_count": 4,
   "id": "e55471c0-38cf-4f8f-a1e5-109bbf22733b",
   "metadata": {},
   "outputs": [],
   "source": [
    "## Sample data\n",
    "load(\"sample.RData\")"
   ]
  },
  {
   "cell_type": "markdown",
   "id": "f1f603ae-5224-4350-ad0a-98aec36d9158",
   "metadata": {},
   "source": [
    "### Analysis of sampled data"
   ]
  },
  {
   "cell_type": "code",
   "execution_count": 5,
   "id": "61171287-2d0d-4de6-9f46-52c1698b3a9a",
   "metadata": {},
   "outputs": [
    {
     "name": "stderr",
     "output_type": "stream",
     "text": [
      "\n",
      "\n",
      "\n",
      "\n",
      "--------------------------------------------------------\n",
      "\n",
      "> The ReGenesees package has been successfully loaded. <\n",
      "\n",
      "--------------------------------------------------------\n",
      "\n",
      "\n",
      "\n",
      "\n",
      "\n"
     ]
    },
    {
     "name": "stdout",
     "output_type": "stream",
     "text": [
      "Package: ReGenesees\n",
      "Type: Package\n",
      "Title: R Evolved Generalized Software for Sampling Estimates and Errors\n",
      "        in Surveys\n",
      "Description: Design-Based and Model-Assisted analysis of complex\n",
      "        sampling surveys. Multistage, stratified, clustered, unequally\n",
      "        weighted survey designs. Horvitz-Thompson and Calibration\n",
      "        Estimators. Variance Estimation for nonlinear smooth estimators\n",
      "        by Taylor-series linearization. Estimates, standard errors,\n",
      "        confidence intervals and design effects for: Totals, Means,\n",
      "        absolute and relative Frequency Distributions (marginal,\n",
      "        conditional and joint), Ratios, Shares and Ratios of Shares,\n",
      "        Multiple Regression Coefficients and Quantiles. Automated\n",
      "        Linearization of Complex Analytic Estimators. Design Covariance\n",
      "        and Correlation. Estimates, standard errors, confidence\n",
      "        intervals and design effects for user-defined analytic\n",
      "        estimators. Estimates and sampling errors for subpopulations.\n",
      "        Consistent trimming of calibration weights. Calibration on\n",
      "        complex population parameters, e.g. multiple regression\n",
      "        coefficients. Generalized Variance Functions (GVF) method for\n",
      "        predicting variance estimates.\n",
      "Version: 2.1\n",
      "Author: Diego Zardetto [aut, cre]\n",
      "Maintainer: Diego Zardetto <zardetto@istat.it>\n",
      "Authors@R: person(\"Diego\", \"Zardetto\", role = c(\"aut\", \"cre\"), email =\n",
      "        \"zardetto@istat.it\")\n",
      "License: EUPL\n",
      "URL: https://diegozardetto.github.io/ReGenesees/,\n",
      "        https://github.com/DiegoZardetto/ReGenesees/\n",
      "BugReports: https://github.com/DiegoZardetto/ReGenesees/issues/\n",
      "Imports: stats, MASS\n",
      "Depends: R (>= 2.14.0)\n",
      "ByteCompile: TRUE\n",
      "RemoteType: github\n",
      "RemoteHost: api.github.com\n",
      "RemoteRepo: ReGenesees\n",
      "RemoteUsername: DiegoZardetto\n",
      "RemoteRef: HEAD\n",
      "RemoteSha: 054413befcf905cd6ab06611b819a1295f7a5b20\n",
      "GithubRepo: ReGenesees\n",
      "GithubUsername: DiegoZardetto\n",
      "GithubRef: HEAD\n",
      "GithubSHA1: 054413befcf905cd6ab06611b819a1295f7a5b20\n",
      "NeedsCompilation: no\n",
      "Packaged: 2021-08-11 17:21:59 UTC; UTENTE\n",
      "Built: R 4.1.0; ; 2021-08-11 17:22:03 UTC; windows\n"
     ]
    },
    {
     "name": "stderr",
     "output_type": "stream",
     "text": [
      "\n",
      "\n"
     ]
    }
   ],
   "source": [
    "# Install ReGenesees\n",
    "#devtools::install_github(\"DiegoZardetto/ReGenesees\")\n",
    "library(ReGenesees)"
   ]
  },
  {
   "cell_type": "code",
   "execution_count": 6,
   "id": "459690c3-107c-48a0-96fe-e48a2d59692a",
   "metadata": {},
   "outputs": [
    {
     "name": "stdout",
     "output_type": "stream",
     "text": [
      "\n",
      "# Empty levels found in factors: id_hh\n",
      "# Empty levels have been dropped!\n",
      "\n"
     ]
    },
    {
     "name": "stderr",
     "output_type": "stream",
     "text": [
      "Warning message in e.svydesign(sample, ids = ~municipality + id_hh, strata = ~stratum_2, :\n",
      "\"Sampling variance estimation for this design will take into account only leading contributions, i.e. PSUs in not-SR strata and SSUs in SR strata (see ?e.svydesign and ?ReGenesees.options for details)\"\n"
     ]
    }
   ],
   "source": [
    "## Sample design description\n",
    "sample$stratum_2 <- as.factor(sample$stratum_2)\n",
    "sample.des <- e.svydesign(sample, \n",
    "                          ids= ~ municipality + id_hh, \n",
    "                          strata = ~ stratum_2, \n",
    "                          weights = ~ weight,\n",
    "                          self.rep.str = ~ SR,\n",
    "                          check.data = TRUE)"
   ]
  },
  {
   "cell_type": "code",
   "execution_count": 7,
   "id": "9b4a5ab2-b574-48f8-9bf2-0f12926ca0e0",
   "metadata": {},
   "outputs": [
    {
     "name": "stdout",
     "output_type": "stream",
     "text": [
      "\n",
      "# All lonely strata (112) successfully collapsed!\n",
      "\n"
     ]
    },
    {
     "name": "stderr",
     "output_type": "stream",
     "text": [
      "Warning message in collapse.strata(sample.des):\n",
      "\"No similarity score specified: achieved strata aggregation depends on the ordering of sample data\"\n"
     ]
    }
   ],
   "source": [
    "## Find and collapse lonely strata\n",
    "ls <- find.lon.strata(sample.des)\n",
    "sample.des <- collapse.strata(sample.des)"
   ]
  },
  {
   "cell_type": "code",
   "execution_count": 8,
   "id": "71e04c72-9272-4f3e-9ea9-0d695696ee06",
   "metadata": {},
   "outputs": [
    {
     "name": "stdout",
     "output_type": "stream",
     "text": [
      "\n",
      "# Coherence check between 'universe' and 'template': OK\n",
      "\n"
     ]
    }
   ],
   "source": [
    "## Calibration with known totals\n",
    "totals <- pop.template(sample.des,\n",
    "             calmodel = ~ sex : cl_age, \n",
    "             partition = ~ region)\n",
    "totals <- fill.template(pop, totals, mem.frac = 10)\n",
    "sample.cal <- e.calibrate(sample.des, \n",
    "                          totals,\n",
    "                          calmodel = ~ sex : cl_age, \n",
    "                          partition = ~ region,\n",
    "                          calfun = \"logit\",\n",
    "                          bounds = c(0.3, 2.6), \n",
    "                          aggregate.stage = 2,\n",
    "                          force = FALSE)"
   ]
  },
  {
   "cell_type": "markdown",
   "id": "76496a7a-8dee-45d2-9f0e-e037ae92c0cb",
   "metadata": {},
   "source": [
    "### Preparation of inputs for allocation steps"
   ]
  },
  {
   "cell_type": "code",
   "execution_count": 9,
   "id": "3a1c235a-fce7-4bb6-9908-495e3e27d9b2",
   "metadata": {},
   "outputs": [],
   "source": [
    "## Preparation of inputs for allocation steps\n",
    "samp_frame <- pop\n",
    "RGdes <- sample.des\n",
    "RGcal <- sample.cal\n",
    "strata_vars <- c(\"stratum\")      \n",
    "target_vars <- c(\"income_hh\",\n",
    "                 \"active\",\n",
    "                 \"inactive\",\n",
    "                 \"unemployed\")   \n",
    "weight_var <- \"weight\"\n",
    "deff_vars <- \"stratum\"            \n",
    "id_PSU <- c(\"municipality\")      \n",
    "id_SSU <- c(\"id_hh\")             \n",
    "domain_vars <- c(\"region\") \n",
    "delta <- 1                   \n",
    "minimum <- 50                \n",
    "\n",
    "inp <- prepareInputToAllocation2(\n",
    "        samp_frame,  # sampling frame\n",
    "        RGdes,       # ReGenesees design object\n",
    "        RGcal,       # ReGenesees calibrated object\n",
    "        id_PSU,      # identification variable of PSUs\n",
    "        id_SSU,      # identification variable of SSUs\n",
    "        strata_vars, # strata variables\n",
    "        target_vars, # target variables\n",
    "        deff_vars,   # deff variables\n",
    "        domain_vars, # domain variables\n",
    "        delta,       # Average number of SSUs for each selection unit\n",
    "        minimum      # Minimum number of SSUs to be selected in each PSU\n",
    "      )"
   ]
  },
  {
   "cell_type": "code",
   "execution_count": 10,
   "id": "184e48ce-f23e-477d-9d01-61158305bdfa",
   "metadata": {},
   "outputs": [
    {
     "data": {
      "text/html": [
       "<table class=\"dataframe\">\n",
       "<caption>A data.frame: 6 × 15</caption>\n",
       "<thead>\n",
       "\t<tr><th></th><th scope=col>stratum</th><th scope=col>STRATUM</th><th scope=col>N</th><th scope=col>M1</th><th scope=col>M2</th><th scope=col>M3</th><th scope=col>M4</th><th scope=col>S1</th><th scope=col>S2</th><th scope=col>S3</th><th scope=col>S4</th><th scope=col>COST</th><th scope=col>CENS</th><th scope=col>DOM1</th><th scope=col>DOM2</th></tr>\n",
       "\t<tr><th></th><th scope=col>&lt;fct&gt;</th><th scope=col>&lt;chr&gt;</th><th scope=col>&lt;dbl&gt;</th><th scope=col>&lt;dbl&gt;</th><th scope=col>&lt;dbl&gt;</th><th scope=col>&lt;dbl&gt;</th><th scope=col>&lt;dbl&gt;</th><th scope=col>&lt;dbl&gt;</th><th scope=col>&lt;dbl&gt;</th><th scope=col>&lt;dbl&gt;</th><th scope=col>&lt;dbl&gt;</th><th scope=col>&lt;dbl&gt;</th><th scope=col>&lt;dbl&gt;</th><th scope=col>&lt;dbl&gt;</th><th scope=col>&lt;fct&gt;</th></tr>\n",
       "</thead>\n",
       "<tbody>\n",
       "\t<tr><th scope=row>1</th><td>1000 </td><td>1000 </td><td>196769</td><td>23339.70</td><td>0.6801679</td><td>0.2127596</td><td>0.10707247</td><td>16543.72</td><td>0.4664113</td><td>0.4092590</td><td>0.3092054</td><td>1</td><td>0</td><td>1</td><td>center</td></tr>\n",
       "\t<tr><th scope=row>2</th><td>10000</td><td>10000</td><td>106057</td><td>29340.38</td><td>0.7793318</td><td>0.2047430</td><td>0.01592524</td><td>25031.44</td><td>0.4146972</td><td>0.4035137</td><td>0.1251864</td><td>1</td><td>0</td><td>1</td><td>north </td></tr>\n",
       "\t<tr><th scope=row>3</th><td>11000</td><td>11000</td><td>205839</td><td>27822.70</td><td>0.7814228</td><td>0.2029522</td><td>0.01562493</td><td>26050.40</td><td>0.4132810</td><td>0.4021972</td><td>0.1240193</td><td>1</td><td>0</td><td>1</td><td>north </td></tr>\n",
       "\t<tr><th scope=row>4</th><td>12000</td><td>12000</td><td> 57606</td><td>23110.90</td><td>0.7632522</td><td>0.2079530</td><td>0.02879485</td><td>15405.51</td><td>0.4250862</td><td>0.4058430</td><td>0.1672295</td><td>1</td><td>0</td><td>1</td><td>north </td></tr>\n",
       "\t<tr><th scope=row>5</th><td>13000</td><td>13000</td><td>102801</td><td>28185.38</td><td>0.7516670</td><td>0.2142238</td><td>0.03410920</td><td>24393.71</td><td>0.4320460</td><td>0.4102828</td><td>0.1815097</td><td>1</td><td>0</td><td>1</td><td>north </td></tr>\n",
       "\t<tr><th scope=row>6</th><td>14000</td><td>14000</td><td> 84077</td><td>24787.12</td><td>0.7537232</td><td>0.2131530</td><td>0.03312385</td><td>17403.58</td><td>0.4308417</td><td>0.4095348</td><td>0.1789599</td><td>1</td><td>0</td><td>1</td><td>north </td></tr>\n",
       "</tbody>\n",
       "</table>\n"
      ],
      "text/latex": [
       "A data.frame: 6 × 15\n",
       "\\begin{tabular}{r|lllllllllllllll}\n",
       "  & stratum & STRATUM & N & M1 & M2 & M3 & M4 & S1 & S2 & S3 & S4 & COST & CENS & DOM1 & DOM2\\\\\n",
       "  & <fct> & <chr> & <dbl> & <dbl> & <dbl> & <dbl> & <dbl> & <dbl> & <dbl> & <dbl> & <dbl> & <dbl> & <dbl> & <dbl> & <fct>\\\\\n",
       "\\hline\n",
       "\t1 & 1000  & 1000  & 196769 & 23339.70 & 0.6801679 & 0.2127596 & 0.10707247 & 16543.72 & 0.4664113 & 0.4092590 & 0.3092054 & 1 & 0 & 1 & center\\\\\n",
       "\t2 & 10000 & 10000 & 106057 & 29340.38 & 0.7793318 & 0.2047430 & 0.01592524 & 25031.44 & 0.4146972 & 0.4035137 & 0.1251864 & 1 & 0 & 1 & north \\\\\n",
       "\t3 & 11000 & 11000 & 205839 & 27822.70 & 0.7814228 & 0.2029522 & 0.01562493 & 26050.40 & 0.4132810 & 0.4021972 & 0.1240193 & 1 & 0 & 1 & north \\\\\n",
       "\t4 & 12000 & 12000 &  57606 & 23110.90 & 0.7632522 & 0.2079530 & 0.02879485 & 15405.51 & 0.4250862 & 0.4058430 & 0.1672295 & 1 & 0 & 1 & north \\\\\n",
       "\t5 & 13000 & 13000 & 102801 & 28185.38 & 0.7516670 & 0.2142238 & 0.03410920 & 24393.71 & 0.4320460 & 0.4102828 & 0.1815097 & 1 & 0 & 1 & north \\\\\n",
       "\t6 & 14000 & 14000 &  84077 & 24787.12 & 0.7537232 & 0.2131530 & 0.03312385 & 17403.58 & 0.4308417 & 0.4095348 & 0.1789599 & 1 & 0 & 1 & north \\\\\n",
       "\\end{tabular}\n"
      ],
      "text/markdown": [
       "\n",
       "A data.frame: 6 × 15\n",
       "\n",
       "| <!--/--> | stratum &lt;fct&gt; | STRATUM &lt;chr&gt; | N &lt;dbl&gt; | M1 &lt;dbl&gt; | M2 &lt;dbl&gt; | M3 &lt;dbl&gt; | M4 &lt;dbl&gt; | S1 &lt;dbl&gt; | S2 &lt;dbl&gt; | S3 &lt;dbl&gt; | S4 &lt;dbl&gt; | COST &lt;dbl&gt; | CENS &lt;dbl&gt; | DOM1 &lt;dbl&gt; | DOM2 &lt;fct&gt; |\n",
       "|---|---|---|---|---|---|---|---|---|---|---|---|---|---|---|---|\n",
       "| 1 | 1000  | 1000  | 196769 | 23339.70 | 0.6801679 | 0.2127596 | 0.10707247 | 16543.72 | 0.4664113 | 0.4092590 | 0.3092054 | 1 | 0 | 1 | center |\n",
       "| 2 | 10000 | 10000 | 106057 | 29340.38 | 0.7793318 | 0.2047430 | 0.01592524 | 25031.44 | 0.4146972 | 0.4035137 | 0.1251864 | 1 | 0 | 1 | north  |\n",
       "| 3 | 11000 | 11000 | 205839 | 27822.70 | 0.7814228 | 0.2029522 | 0.01562493 | 26050.40 | 0.4132810 | 0.4021972 | 0.1240193 | 1 | 0 | 1 | north  |\n",
       "| 4 | 12000 | 12000 |  57606 | 23110.90 | 0.7632522 | 0.2079530 | 0.02879485 | 15405.51 | 0.4250862 | 0.4058430 | 0.1672295 | 1 | 0 | 1 | north  |\n",
       "| 5 | 13000 | 13000 | 102801 | 28185.38 | 0.7516670 | 0.2142238 | 0.03410920 | 24393.71 | 0.4320460 | 0.4102828 | 0.1815097 | 1 | 0 | 1 | north  |\n",
       "| 6 | 14000 | 14000 |  84077 | 24787.12 | 0.7537232 | 0.2131530 | 0.03312385 | 17403.58 | 0.4308417 | 0.4095348 | 0.1789599 | 1 | 0 | 1 | north  |\n",
       "\n"
      ],
      "text/plain": [
       "  stratum STRATUM N      M1       M2        M3        M4         S1      \n",
       "1 1000    1000    196769 23339.70 0.6801679 0.2127596 0.10707247 16543.72\n",
       "2 10000   10000   106057 29340.38 0.7793318 0.2047430 0.01592524 25031.44\n",
       "3 11000   11000   205839 27822.70 0.7814228 0.2029522 0.01562493 26050.40\n",
       "4 12000   12000    57606 23110.90 0.7632522 0.2079530 0.02879485 15405.51\n",
       "5 13000   13000   102801 28185.38 0.7516670 0.2142238 0.03410920 24393.71\n",
       "6 14000   14000    84077 24787.12 0.7537232 0.2131530 0.03312385 17403.58\n",
       "  S2        S3        S4        COST CENS DOM1 DOM2  \n",
       "1 0.4664113 0.4092590 0.3092054 1    0    1    center\n",
       "2 0.4146972 0.4035137 0.1251864 1    0    1    north \n",
       "3 0.4132810 0.4021972 0.1240193 1    0    1    north \n",
       "4 0.4250862 0.4058430 0.1672295 1    0    1    north \n",
       "5 0.4320460 0.4102828 0.1815097 1    0    1    north \n",
       "6 0.4308417 0.4095348 0.1789599 1    0    1    north "
      ]
     },
     "metadata": {},
     "output_type": "display_data"
    }
   ],
   "source": [
    "head(inp$strata)"
   ]
  },
  {
   "cell_type": "code",
   "execution_count": 11,
   "id": "48677dc4-b8e0-4a60-b5e2-1cb815a916ab",
   "metadata": {},
   "outputs": [
    {
     "data": {
      "text/html": [
       "<table class=\"dataframe\">\n",
       "<caption>A data.frame: 6 × 7</caption>\n",
       "<thead>\n",
       "\t<tr><th></th><th scope=col>stratum</th><th scope=col>STRATUM</th><th scope=col>DEFF1</th><th scope=col>DEFF2</th><th scope=col>DEFF3</th><th scope=col>DEFF4</th><th scope=col>b_nar</th></tr>\n",
       "\t<tr><th></th><th scope=col>&lt;fct&gt;</th><th scope=col>&lt;chr&gt;</th><th scope=col>&lt;dbl&gt;</th><th scope=col>&lt;dbl&gt;</th><th scope=col>&lt;dbl&gt;</th><th scope=col>&lt;dbl&gt;</th><th scope=col>&lt;dbl&gt;</th></tr>\n",
       "</thead>\n",
       "<tbody>\n",
       "\t<tr><th scope=row>1</th><td>1000 </td><td>1000 </td><td>1.002141</td><td>1.003487</td><td>1.018508</td><td>0.998091</td><td> 254.50000</td></tr>\n",
       "\t<tr><th scope=row>2</th><td>10000</td><td>10000</td><td>1.019820</td><td>1.029362</td><td>1.010320</td><td>1.000982</td><td> 178.83333</td></tr>\n",
       "\t<tr><th scope=row>3</th><td>11000</td><td>11000</td><td>1.128662</td><td>1.036882</td><td>1.002039</td><td>1.115932</td><td>  52.07500</td></tr>\n",
       "\t<tr><th scope=row>4</th><td>12000</td><td>12000</td><td>3.233942</td><td>0.978419</td><td>1.202842</td><td>0.639357</td><td>  49.42857</td></tr>\n",
       "\t<tr><th scope=row>5</th><td>13000</td><td>13000</td><td>1.063373</td><td>1.056811</td><td>1.015756</td><td>1.048938</td><td>1285.00000</td></tr>\n",
       "\t<tr><th scope=row>6</th><td>14000</td><td>14000</td><td>1.018801</td><td>1.003173</td><td>1.002272</td><td>1.013573</td><td> 263.50000</td></tr>\n",
       "</tbody>\n",
       "</table>\n"
      ],
      "text/latex": [
       "A data.frame: 6 × 7\n",
       "\\begin{tabular}{r|lllllll}\n",
       "  & stratum & STRATUM & DEFF1 & DEFF2 & DEFF3 & DEFF4 & b\\_nar\\\\\n",
       "  & <fct> & <chr> & <dbl> & <dbl> & <dbl> & <dbl> & <dbl>\\\\\n",
       "\\hline\n",
       "\t1 & 1000  & 1000  & 1.002141 & 1.003487 & 1.018508 & 0.998091 &  254.50000\\\\\n",
       "\t2 & 10000 & 10000 & 1.019820 & 1.029362 & 1.010320 & 1.000982 &  178.83333\\\\\n",
       "\t3 & 11000 & 11000 & 1.128662 & 1.036882 & 1.002039 & 1.115932 &   52.07500\\\\\n",
       "\t4 & 12000 & 12000 & 3.233942 & 0.978419 & 1.202842 & 0.639357 &   49.42857\\\\\n",
       "\t5 & 13000 & 13000 & 1.063373 & 1.056811 & 1.015756 & 1.048938 & 1285.00000\\\\\n",
       "\t6 & 14000 & 14000 & 1.018801 & 1.003173 & 1.002272 & 1.013573 &  263.50000\\\\\n",
       "\\end{tabular}\n"
      ],
      "text/markdown": [
       "\n",
       "A data.frame: 6 × 7\n",
       "\n",
       "| <!--/--> | stratum &lt;fct&gt; | STRATUM &lt;chr&gt; | DEFF1 &lt;dbl&gt; | DEFF2 &lt;dbl&gt; | DEFF3 &lt;dbl&gt; | DEFF4 &lt;dbl&gt; | b_nar &lt;dbl&gt; |\n",
       "|---|---|---|---|---|---|---|---|\n",
       "| 1 | 1000  | 1000  | 1.002141 | 1.003487 | 1.018508 | 0.998091 |  254.50000 |\n",
       "| 2 | 10000 | 10000 | 1.019820 | 1.029362 | 1.010320 | 1.000982 |  178.83333 |\n",
       "| 3 | 11000 | 11000 | 1.128662 | 1.036882 | 1.002039 | 1.115932 |   52.07500 |\n",
       "| 4 | 12000 | 12000 | 3.233942 | 0.978419 | 1.202842 | 0.639357 |   49.42857 |\n",
       "| 5 | 13000 | 13000 | 1.063373 | 1.056811 | 1.015756 | 1.048938 | 1285.00000 |\n",
       "| 6 | 14000 | 14000 | 1.018801 | 1.003173 | 1.002272 | 1.013573 |  263.50000 |\n",
       "\n"
      ],
      "text/plain": [
       "  stratum STRATUM DEFF1    DEFF2    DEFF3    DEFF4    b_nar     \n",
       "1 1000    1000    1.002141 1.003487 1.018508 0.998091  254.50000\n",
       "2 10000   10000   1.019820 1.029362 1.010320 1.000982  178.83333\n",
       "3 11000   11000   1.128662 1.036882 1.002039 1.115932   52.07500\n",
       "4 12000   12000   3.233942 0.978419 1.202842 0.639357   49.42857\n",
       "5 13000   13000   1.063373 1.056811 1.015756 1.048938 1285.00000\n",
       "6 14000   14000   1.018801 1.003173 1.002272 1.013573  263.50000"
      ]
     },
     "metadata": {},
     "output_type": "display_data"
    }
   ],
   "source": [
    "head(inp$deff)"
   ]
  },
  {
   "cell_type": "code",
   "execution_count": 12,
   "id": "9a3019d8-71d7-4d38-ac61-7f28c03884f3",
   "metadata": {},
   "outputs": [
    {
     "data": {
      "text/html": [
       "<table class=\"dataframe\">\n",
       "<caption>A data.frame: 6 × 6</caption>\n",
       "<thead>\n",
       "\t<tr><th></th><th scope=col>stratum</th><th scope=col>STRATUM</th><th scope=col>EFFST1</th><th scope=col>EFFST2</th><th scope=col>EFFST3</th><th scope=col>EFFST4</th></tr>\n",
       "\t<tr><th></th><th scope=col>&lt;fct&gt;</th><th scope=col>&lt;chr&gt;</th><th scope=col>&lt;dbl&gt;</th><th scope=col>&lt;dbl&gt;</th><th scope=col>&lt;dbl&gt;</th><th scope=col>&lt;dbl&gt;</th></tr>\n",
       "</thead>\n",
       "<tbody>\n",
       "\t<tr><th scope=row>1</th><td>1000 </td><td>1000 </td><td>0.9875397</td><td>0.8647755</td><td>0.7565498</td><td>1.0033213</td></tr>\n",
       "\t<tr><th scope=row>2</th><td>10000</td><td>10000</td><td>0.9948599</td><td>0.9076545</td><td>0.8982699</td><td>1.0054137</td></tr>\n",
       "\t<tr><th scope=row>3</th><td>11000</td><td>11000</td><td>0.9765404</td><td>0.8136085</td><td>0.7835224</td><td>0.9925166</td></tr>\n",
       "\t<tr><th scope=row>4</th><td>12000</td><td>12000</td><td>1.0145565</td><td>0.9113590</td><td>0.9126909</td><td>1.0007101</td></tr>\n",
       "\t<tr><th scope=row>5</th><td>13000</td><td>13000</td><td>1.0045911</td><td>0.9263170</td><td>0.9180502</td><td>0.9942647</td></tr>\n",
       "\t<tr><th scope=row>6</th><td>14000</td><td>14000</td><td>1.0016745</td><td>0.9471318</td><td>0.9375788</td><td>0.9967146</td></tr>\n",
       "</tbody>\n",
       "</table>\n"
      ],
      "text/latex": [
       "A data.frame: 6 × 6\n",
       "\\begin{tabular}{r|llllll}\n",
       "  & stratum & STRATUM & EFFST1 & EFFST2 & EFFST3 & EFFST4\\\\\n",
       "  & <fct> & <chr> & <dbl> & <dbl> & <dbl> & <dbl>\\\\\n",
       "\\hline\n",
       "\t1 & 1000  & 1000  & 0.9875397 & 0.8647755 & 0.7565498 & 1.0033213\\\\\n",
       "\t2 & 10000 & 10000 & 0.9948599 & 0.9076545 & 0.8982699 & 1.0054137\\\\\n",
       "\t3 & 11000 & 11000 & 0.9765404 & 0.8136085 & 0.7835224 & 0.9925166\\\\\n",
       "\t4 & 12000 & 12000 & 1.0145565 & 0.9113590 & 0.9126909 & 1.0007101\\\\\n",
       "\t5 & 13000 & 13000 & 1.0045911 & 0.9263170 & 0.9180502 & 0.9942647\\\\\n",
       "\t6 & 14000 & 14000 & 1.0016745 & 0.9471318 & 0.9375788 & 0.9967146\\\\\n",
       "\\end{tabular}\n"
      ],
      "text/markdown": [
       "\n",
       "A data.frame: 6 × 6\n",
       "\n",
       "| <!--/--> | stratum &lt;fct&gt; | STRATUM &lt;chr&gt; | EFFST1 &lt;dbl&gt; | EFFST2 &lt;dbl&gt; | EFFST3 &lt;dbl&gt; | EFFST4 &lt;dbl&gt; |\n",
       "|---|---|---|---|---|---|---|\n",
       "| 1 | 1000  | 1000  | 0.9875397 | 0.8647755 | 0.7565498 | 1.0033213 |\n",
       "| 2 | 10000 | 10000 | 0.9948599 | 0.9076545 | 0.8982699 | 1.0054137 |\n",
       "| 3 | 11000 | 11000 | 0.9765404 | 0.8136085 | 0.7835224 | 0.9925166 |\n",
       "| 4 | 12000 | 12000 | 1.0145565 | 0.9113590 | 0.9126909 | 1.0007101 |\n",
       "| 5 | 13000 | 13000 | 1.0045911 | 0.9263170 | 0.9180502 | 0.9942647 |\n",
       "| 6 | 14000 | 14000 | 1.0016745 | 0.9471318 | 0.9375788 | 0.9967146 |\n",
       "\n"
      ],
      "text/plain": [
       "  stratum STRATUM EFFST1    EFFST2    EFFST3    EFFST4   \n",
       "1 1000    1000    0.9875397 0.8647755 0.7565498 1.0033213\n",
       "2 10000   10000   0.9948599 0.9076545 0.8982699 1.0054137\n",
       "3 11000   11000   0.9765404 0.8136085 0.7835224 0.9925166\n",
       "4 12000   12000   1.0145565 0.9113590 0.9126909 1.0007101\n",
       "5 13000   13000   1.0045911 0.9263170 0.9180502 0.9942647\n",
       "6 14000   14000   1.0016745 0.9471318 0.9375788 0.9967146"
      ]
     },
     "metadata": {},
     "output_type": "display_data"
    }
   ],
   "source": [
    "head(inp$effst)"
   ]
  },
  {
   "cell_type": "code",
   "execution_count": 13,
   "id": "19a4cd0c-7049-4be4-b61c-832b4a63c6e9",
   "metadata": {},
   "outputs": [
    {
     "data": {
      "text/html": [
       "<table class=\"dataframe\">\n",
       "<caption>A data.frame: 6 × 9</caption>\n",
       "<thead>\n",
       "\t<tr><th></th><th scope=col>STRATUM</th><th scope=col>RHO_AR1</th><th scope=col>RHO_NAR1</th><th scope=col>RHO_AR2</th><th scope=col>RHO_NAR2</th><th scope=col>RHO_AR3</th><th scope=col>RHO_NAR3</th><th scope=col>RHO_AR4</th><th scope=col>RHO_NAR4</th></tr>\n",
       "\t<tr><th></th><th scope=col>&lt;chr&gt;</th><th scope=col>&lt;dbl&gt;</th><th scope=col>&lt;dbl&gt;</th><th scope=col>&lt;dbl&gt;</th><th scope=col>&lt;dbl&gt;</th><th scope=col>&lt;dbl&gt;</th><th scope=col>&lt;dbl&gt;</th><th scope=col>&lt;dbl&gt;</th><th scope=col>&lt;dbl&gt;</th></tr>\n",
       "</thead>\n",
       "<tbody>\n",
       "\t<tr><th scope=row>1</th><td>1000 </td><td>1</td><td>0.000008445759</td><td>1</td><td> 0.00001375542</td><td>1</td><td>0.000073009862</td><td>1</td><td>-0.000007530572</td></tr>\n",
       "\t<tr><th scope=row>2</th><td>10000</td><td>1</td><td>0.000111452671</td><td>1</td><td> 0.00016510965</td><td>1</td><td>0.000058031865</td><td>1</td><td> 0.000005522024</td></tr>\n",
       "\t<tr><th scope=row>3</th><td>11000</td><td>1</td><td>0.002519079785</td><td>1</td><td> 0.00072211454</td><td>1</td><td>0.000039921684</td><td>1</td><td> 0.002269838473</td></tr>\n",
       "\t<tr><th scope=row>4</th><td>12000</td><td>1</td><td>0.046128595870</td><td>1</td><td>-0.00044562537</td><td>1</td><td>0.004188477876</td><td>1</td><td>-0.007446905605</td></tr>\n",
       "\t<tr><th scope=row>5</th><td>13000</td><td>1</td><td>0.000049355919</td><td>1</td><td> 0.00004424533</td><td>1</td><td>0.000012271028</td><td>1</td><td> 0.000038113707</td></tr>\n",
       "\t<tr><th scope=row>6</th><td>14000</td><td>1</td><td>0.000071622857</td><td>1</td><td> 0.00001208762</td><td>1</td><td>0.000008655238</td><td>1</td><td> 0.000051706667</td></tr>\n",
       "</tbody>\n",
       "</table>\n"
      ],
      "text/latex": [
       "A data.frame: 6 × 9\n",
       "\\begin{tabular}{r|lllllllll}\n",
       "  & STRATUM & RHO\\_AR1 & RHO\\_NAR1 & RHO\\_AR2 & RHO\\_NAR2 & RHO\\_AR3 & RHO\\_NAR3 & RHO\\_AR4 & RHO\\_NAR4\\\\\n",
       "  & <chr> & <dbl> & <dbl> & <dbl> & <dbl> & <dbl> & <dbl> & <dbl> & <dbl>\\\\\n",
       "\\hline\n",
       "\t1 & 1000  & 1 & 0.000008445759 & 1 &  0.00001375542 & 1 & 0.000073009862 & 1 & -0.000007530572\\\\\n",
       "\t2 & 10000 & 1 & 0.000111452671 & 1 &  0.00016510965 & 1 & 0.000058031865 & 1 &  0.000005522024\\\\\n",
       "\t3 & 11000 & 1 & 0.002519079785 & 1 &  0.00072211454 & 1 & 0.000039921684 & 1 &  0.002269838473\\\\\n",
       "\t4 & 12000 & 1 & 0.046128595870 & 1 & -0.00044562537 & 1 & 0.004188477876 & 1 & -0.007446905605\\\\\n",
       "\t5 & 13000 & 1 & 0.000049355919 & 1 &  0.00004424533 & 1 & 0.000012271028 & 1 &  0.000038113707\\\\\n",
       "\t6 & 14000 & 1 & 0.000071622857 & 1 &  0.00001208762 & 1 & 0.000008655238 & 1 &  0.000051706667\\\\\n",
       "\\end{tabular}\n"
      ],
      "text/markdown": [
       "\n",
       "A data.frame: 6 × 9\n",
       "\n",
       "| <!--/--> | STRATUM &lt;chr&gt; | RHO_AR1 &lt;dbl&gt; | RHO_NAR1 &lt;dbl&gt; | RHO_AR2 &lt;dbl&gt; | RHO_NAR2 &lt;dbl&gt; | RHO_AR3 &lt;dbl&gt; | RHO_NAR3 &lt;dbl&gt; | RHO_AR4 &lt;dbl&gt; | RHO_NAR4 &lt;dbl&gt; |\n",
       "|---|---|---|---|---|---|---|---|---|---|\n",
       "| 1 | 1000  | 1 | 0.000008445759 | 1 |  0.00001375542 | 1 | 0.000073009862 | 1 | -0.000007530572 |\n",
       "| 2 | 10000 | 1 | 0.000111452671 | 1 |  0.00016510965 | 1 | 0.000058031865 | 1 |  0.000005522024 |\n",
       "| 3 | 11000 | 1 | 0.002519079785 | 1 |  0.00072211454 | 1 | 0.000039921684 | 1 |  0.002269838473 |\n",
       "| 4 | 12000 | 1 | 0.046128595870 | 1 | -0.00044562537 | 1 | 0.004188477876 | 1 | -0.007446905605 |\n",
       "| 5 | 13000 | 1 | 0.000049355919 | 1 |  0.00004424533 | 1 | 0.000012271028 | 1 |  0.000038113707 |\n",
       "| 6 | 14000 | 1 | 0.000071622857 | 1 |  0.00001208762 | 1 | 0.000008655238 | 1 |  0.000051706667 |\n",
       "\n"
      ],
      "text/plain": [
       "  STRATUM RHO_AR1 RHO_NAR1       RHO_AR2 RHO_NAR2       RHO_AR3 RHO_NAR3      \n",
       "1 1000    1       0.000008445759 1        0.00001375542 1       0.000073009862\n",
       "2 10000   1       0.000111452671 1        0.00016510965 1       0.000058031865\n",
       "3 11000   1       0.002519079785 1        0.00072211454 1       0.000039921684\n",
       "4 12000   1       0.046128595870 1       -0.00044562537 1       0.004188477876\n",
       "5 13000   1       0.000049355919 1        0.00004424533 1       0.000012271028\n",
       "6 14000   1       0.000071622857 1        0.00001208762 1       0.000008655238\n",
       "  RHO_AR4 RHO_NAR4       \n",
       "1 1       -0.000007530572\n",
       "2 1        0.000005522024\n",
       "3 1        0.002269838473\n",
       "4 1       -0.007446905605\n",
       "5 1        0.000038113707\n",
       "6 1        0.000051706667"
      ]
     },
     "metadata": {},
     "output_type": "display_data"
    }
   ],
   "source": [
    "head(inp$rho)"
   ]
  },
  {
   "cell_type": "code",
   "execution_count": 14,
   "id": "6bd08c00-f0c4-4e3b-bd2a-641ac1f260d6",
   "metadata": {},
   "outputs": [
    {
     "data": {
      "text/html": [
       "<table class=\"dataframe\">\n",
       "<caption>A data.frame: 6 × 3</caption>\n",
       "<thead>\n",
       "\t<tr><th></th><th scope=col>PSU_ID</th><th scope=col>STRATUM</th><th scope=col>PSU_MOS</th></tr>\n",
       "\t<tr><th></th><th scope=col>&lt;dbl&gt;</th><th scope=col>&lt;fct&gt;</th><th scope=col>&lt;dbl&gt;</th></tr>\n",
       "</thead>\n",
       "<tbody>\n",
       "\t<tr><th scope=row>1</th><td>309</td><td>1000</td><td> 50845</td></tr>\n",
       "\t<tr><th scope=row>2</th><td>330</td><td>1000</td><td>146162</td></tr>\n",
       "\t<tr><th scope=row>3</th><td>292</td><td>2000</td><td> 24794</td></tr>\n",
       "\t<tr><th scope=row>4</th><td>293</td><td>2000</td><td> 19609</td></tr>\n",
       "\t<tr><th scope=row>5</th><td>300</td><td>2000</td><td> 13897</td></tr>\n",
       "\t<tr><th scope=row>6</th><td>304</td><td>2000</td><td> 36195</td></tr>\n",
       "</tbody>\n",
       "</table>\n"
      ],
      "text/latex": [
       "A data.frame: 6 × 3\n",
       "\\begin{tabular}{r|lll}\n",
       "  & PSU\\_ID & STRATUM & PSU\\_MOS\\\\\n",
       "  & <dbl> & <fct> & <dbl>\\\\\n",
       "\\hline\n",
       "\t1 & 309 & 1000 &  50845\\\\\n",
       "\t2 & 330 & 1000 & 146162\\\\\n",
       "\t3 & 292 & 2000 &  24794\\\\\n",
       "\t4 & 293 & 2000 &  19609\\\\\n",
       "\t5 & 300 & 2000 &  13897\\\\\n",
       "\t6 & 304 & 2000 &  36195\\\\\n",
       "\\end{tabular}\n"
      ],
      "text/markdown": [
       "\n",
       "A data.frame: 6 × 3\n",
       "\n",
       "| <!--/--> | PSU_ID &lt;dbl&gt; | STRATUM &lt;fct&gt; | PSU_MOS &lt;dbl&gt; |\n",
       "|---|---|---|---|\n",
       "| 1 | 309 | 1000 |  50845 |\n",
       "| 2 | 330 | 1000 | 146162 |\n",
       "| 3 | 292 | 2000 |  24794 |\n",
       "| 4 | 293 | 2000 |  19609 |\n",
       "| 5 | 300 | 2000 |  13897 |\n",
       "| 6 | 304 | 2000 |  36195 |\n",
       "\n"
      ],
      "text/plain": [
       "  PSU_ID STRATUM PSU_MOS\n",
       "1 309    1000     50845 \n",
       "2 330    1000    146162 \n",
       "3 292    2000     24794 \n",
       "4 293    2000     19609 \n",
       "5 300    2000     13897 \n",
       "6 304    2000     36195 "
      ]
     },
     "metadata": {},
     "output_type": "display_data"
    }
   ],
   "source": [
    "head(inp$psu_file)"
   ]
  },
  {
   "cell_type": "code",
   "execution_count": 15,
   "id": "f41c4eeb-0fb0-46d2-8d5c-ead1bfc5bb89",
   "metadata": {},
   "outputs": [
    {
     "data": {
      "text/html": [
       "<table class=\"dataframe\">\n",
       "<caption>A data.frame: 6 × 4</caption>\n",
       "<thead>\n",
       "\t<tr><th></th><th scope=col>STRATUM</th><th scope=col>STRAT_MOS</th><th scope=col>DELTA</th><th scope=col>MINIMUM</th></tr>\n",
       "\t<tr><th></th><th scope=col>&lt;fct&gt;</th><th scope=col>&lt;dbl&gt;</th><th scope=col>&lt;dbl&gt;</th><th scope=col>&lt;dbl&gt;</th></tr>\n",
       "</thead>\n",
       "<tbody>\n",
       "\t<tr><th scope=row>1</th><td>1000</td><td>197007</td><td>1</td><td>50</td></tr>\n",
       "\t<tr><th scope=row>2</th><td>2000</td><td>261456</td><td>1</td><td>50</td></tr>\n",
       "\t<tr><th scope=row>3</th><td>3000</td><td>115813</td><td>1</td><td>50</td></tr>\n",
       "\t<tr><th scope=row>4</th><td>4000</td><td> 17241</td><td>1</td><td>50</td></tr>\n",
       "\t<tr><th scope=row>5</th><td>5000</td><td>101067</td><td>1</td><td>50</td></tr>\n",
       "\t<tr><th scope=row>6</th><td>6000</td><td> 47218</td><td>1</td><td>50</td></tr>\n",
       "</tbody>\n",
       "</table>\n"
      ],
      "text/latex": [
       "A data.frame: 6 × 4\n",
       "\\begin{tabular}{r|llll}\n",
       "  & STRATUM & STRAT\\_MOS & DELTA & MINIMUM\\\\\n",
       "  & <fct> & <dbl> & <dbl> & <dbl>\\\\\n",
       "\\hline\n",
       "\t1 & 1000 & 197007 & 1 & 50\\\\\n",
       "\t2 & 2000 & 261456 & 1 & 50\\\\\n",
       "\t3 & 3000 & 115813 & 1 & 50\\\\\n",
       "\t4 & 4000 &  17241 & 1 & 50\\\\\n",
       "\t5 & 5000 & 101067 & 1 & 50\\\\\n",
       "\t6 & 6000 &  47218 & 1 & 50\\\\\n",
       "\\end{tabular}\n"
      ],
      "text/markdown": [
       "\n",
       "A data.frame: 6 × 4\n",
       "\n",
       "| <!--/--> | STRATUM &lt;fct&gt; | STRAT_MOS &lt;dbl&gt; | DELTA &lt;dbl&gt; | MINIMUM &lt;dbl&gt; |\n",
       "|---|---|---|---|---|\n",
       "| 1 | 1000 | 197007 | 1 | 50 |\n",
       "| 2 | 2000 | 261456 | 1 | 50 |\n",
       "| 3 | 3000 | 115813 | 1 | 50 |\n",
       "| 4 | 4000 |  17241 | 1 | 50 |\n",
       "| 5 | 5000 | 101067 | 1 | 50 |\n",
       "| 6 | 6000 |  47218 | 1 | 50 |\n",
       "\n"
      ],
      "text/plain": [
       "  STRATUM STRAT_MOS DELTA MINIMUM\n",
       "1 1000    197007    1     50     \n",
       "2 2000    261456    1     50     \n",
       "3 3000    115813    1     50     \n",
       "4 4000     17241    1     50     \n",
       "5 5000    101067    1     50     \n",
       "6 6000     47218    1     50     "
      ]
     },
     "metadata": {},
     "output_type": "display_data"
    }
   ],
   "source": [
    "head(inp$des_file)"
   ]
  },
  {
   "cell_type": "markdown",
   "id": "38ef19d1-4370-489c-9c91-d285a25f70b2",
   "metadata": {},
   "source": [
    "## Allocation"
   ]
  },
  {
   "cell_type": "code",
   "execution_count": 16,
   "id": "5a084351-70c4-4515-9a70-e5a3e5092e46",
   "metadata": {},
   "outputs": [
    {
     "data": {
      "text/html": [
       "<table class=\"dataframe\">\n",
       "<caption>A data.frame: 2 × 5</caption>\n",
       "<thead>\n",
       "\t<tr><th scope=col>DOM</th><th scope=col>CV1</th><th scope=col>CV2</th><th scope=col>CV3</th><th scope=col>CV4</th></tr>\n",
       "\t<tr><th scope=col>&lt;chr&gt;</th><th scope=col>&lt;dbl&gt;</th><th scope=col>&lt;dbl&gt;</th><th scope=col>&lt;dbl&gt;</th><th scope=col>&lt;dbl&gt;</th></tr>\n",
       "</thead>\n",
       "<tbody>\n",
       "\t<tr><td>DOM1</td><td>0.02</td><td>0.03</td><td>0.03</td><td>0.03</td></tr>\n",
       "\t<tr><td>DOM2</td><td>0.03</td><td>0.06</td><td>0.06</td><td>0.06</td></tr>\n",
       "</tbody>\n",
       "</table>\n"
      ],
      "text/latex": [
       "A data.frame: 2 × 5\n",
       "\\begin{tabular}{lllll}\n",
       " DOM & CV1 & CV2 & CV3 & CV4\\\\\n",
       " <chr> & <dbl> & <dbl> & <dbl> & <dbl>\\\\\n",
       "\\hline\n",
       "\t DOM1 & 0.02 & 0.03 & 0.03 & 0.03\\\\\n",
       "\t DOM2 & 0.03 & 0.06 & 0.06 & 0.06\\\\\n",
       "\\end{tabular}\n"
      ],
      "text/markdown": [
       "\n",
       "A data.frame: 2 × 5\n",
       "\n",
       "| DOM &lt;chr&gt; | CV1 &lt;dbl&gt; | CV2 &lt;dbl&gt; | CV3 &lt;dbl&gt; | CV4 &lt;dbl&gt; |\n",
       "|---|---|---|---|---|\n",
       "| DOM1 | 0.02 | 0.03 | 0.03 | 0.03 |\n",
       "| DOM2 | 0.03 | 0.06 | 0.06 | 0.06 |\n",
       "\n"
      ],
      "text/plain": [
       "  DOM  CV1  CV2  CV3  CV4 \n",
       "1 DOM1 0.02 0.03 0.03 0.03\n",
       "2 DOM2 0.03 0.06 0.06 0.06"
      ]
     },
     "metadata": {},
     "output_type": "display_data"
    }
   ],
   "source": [
    "## Precision constraints\n",
    "cv <- as.data.frame(list(DOM=c(\"DOM1\",\"DOM2\"),\n",
    "                         CV1=c(0.02,0.03),\n",
    "                         CV2=c(0.03,0.06),\n",
    "                         CV3=c(0.03,0.06),\n",
    "                         CV4=c(0.03,0.06)))\n",
    "cv"
   ]
  },
  {
   "cell_type": "code",
   "execution_count": 17,
   "id": "af3c8bf0-6d3c-4d7e-a2ad-79010a9e1f83",
   "metadata": {},
   "outputs": [
    {
     "name": "stdout",
     "output_type": "stream",
     "text": [
      "  iterations PSU_SR PSU NSR PSU Total   SSU\n",
      "1          0      0       0         0 13512\n",
      "2          1     78      67       145 13209\n",
      "3          2     44     124       168 13016\n",
      "4          3     43     123       166 13011\n"
     ]
    }
   ],
   "source": [
    "alloc <- beat.2st(stratif = inp$strata, \n",
    "                  errors = cv, \n",
    "                  des_file = inp$des_file, \n",
    "                  psu_file = inp$psu_file, \n",
    "                  rho = inp$rho, \n",
    "                  deft_start = NULL, \n",
    "                  effst = inp$effst,\n",
    "                  epsilon1 = 5, \n",
    "                  mmdiff_deft = 1,\n",
    "                  maxi = 15, \n",
    "                  epsilon = 10^(-11), \n",
    "                  minnumstrat = 2, \n",
    "                  maxiter = 200, \n",
    "                  maxiter1 = 25)"
   ]
  },
  {
   "cell_type": "markdown",
   "id": "66ec790f-f0ba-4920-bf77-42e9f1a8a156",
   "metadata": {},
   "source": [
    "## Selection of PSUs (I stage)"
   ]
  },
  {
   "cell_type": "code",
   "execution_count": 18,
   "id": "12318460-beb6-451e-8b51-6fee22562a0f",
   "metadata": {},
   "outputs": [],
   "source": [
    "allocat <- alloc$alloc[-nrow(alloc$alloc),]\n",
    "set.seed(1234)\n",
    "sample_2st <- StratSel(dataPop= inp$psu_file,\n",
    "                       idpsu= ~ PSU_ID, \n",
    "                       dom= ~ STRATUM, \n",
    "                       final_pop= ~ PSU_MOS, \n",
    "                       size= ~ PSU_MOS, \n",
    "                       PSUsamplestratum= 1, \n",
    "                       min_sample= minimum, \n",
    "                       min_sample_index= FALSE, \n",
    "                       dataAll=allocat,\n",
    "                       domAll= ~ factor(STRATUM), \n",
    "                       f_sample= ~ ALLOC, \n",
    "                       planned_min_sample= NULL, \n",
    "                       launch= F)"
   ]
  },
  {
   "cell_type": "code",
   "execution_count": 19,
   "id": "506c1e9f-b636-4f3d-914b-e2ba2be406b8",
   "metadata": {},
   "outputs": [
    {
     "data": {
      "text/html": [
       "<table class=\"dataframe\">\n",
       "<caption>A data.frame: 26 × 6</caption>\n",
       "<thead>\n",
       "\t<tr><th scope=col>Domain</th><th scope=col>SRdom</th><th scope=col>nSRdom</th><th scope=col>SRdom+nSRdom</th><th scope=col>SR_PSU_final_sample_unit</th><th scope=col>NSR_PSU_final_sample_unit</th></tr>\n",
       "\t<tr><th scope=col>&lt;chr&gt;</th><th scope=col>&lt;chr&gt;</th><th scope=col>&lt;chr&gt;</th><th scope=col>&lt;chr&gt;</th><th scope=col>&lt;chr&gt;</th><th scope=col>&lt;chr&gt;</th></tr>\n",
       "</thead>\n",
       "<tbody>\n",
       "\t<tr><td>1000 </td><td>2 </td><td>0 </td><td>2  </td><td>423 </td><td>0   </td></tr>\n",
       "\t<tr><td>2000 </td><td>5 </td><td>4 </td><td>9  </td><td>288 </td><td>235 </td></tr>\n",
       "\t<tr><td>3000 </td><td>0 </td><td>5 </td><td>5  </td><td>0   </td><td>247 </td></tr>\n",
       "\t<tr><td>4000 </td><td>0 </td><td>1 </td><td>1  </td><td>0   </td><td>2   </td></tr>\n",
       "\t<tr><td>5000 </td><td>2 </td><td>0 </td><td>2  </td><td>281 </td><td>0   </td></tr>\n",
       "\t<tr><td>6000 </td><td>1 </td><td>1 </td><td>2  </td><td>43  </td><td>66  </td></tr>\n",
       "\t<tr><td>7000 </td><td>0 </td><td>1 </td><td>1  </td><td>0   </td><td>56  </td></tr>\n",
       "\t<tr><td>8000 </td><td>0 </td><td>1 </td><td>1  </td><td>0   </td><td>35  </td></tr>\n",
       "\t<tr><td>9000 </td><td>1 </td><td>0 </td><td>1  </td><td>911 </td><td>0   </td></tr>\n",
       "\t<tr><td>10000</td><td>6 </td><td>0 </td><td>6  </td><td>936 </td><td>0   </td></tr>\n",
       "\t<tr><td>11000</td><td>16</td><td>20</td><td>36 </td><td>761 </td><td>1091</td></tr>\n",
       "\t<tr><td>12000</td><td>0 </td><td>11</td><td>11 </td><td>0   </td><td>537 </td></tr>\n",
       "\t<tr><td>13000</td><td>1 </td><td>0 </td><td>1  </td><td>1298</td><td>0   </td></tr>\n",
       "\t<tr><td>14000</td><td>4 </td><td>0 </td><td>4  </td><td>1049</td><td>0   </td></tr>\n",
       "\t<tr><td>15000</td><td>28</td><td>10</td><td>38 </td><td>1629</td><td>627 </td></tr>\n",
       "\t<tr><td>16000</td><td>0 </td><td>27</td><td>27 </td><td>0   </td><td>1333</td></tr>\n",
       "\t<tr><td>17000</td><td>1 </td><td>0 </td><td>1  </td><td>141 </td><td>0   </td></tr>\n",
       "\t<tr><td>18000</td><td>0 </td><td>3 </td><td>3  </td><td>0   </td><td>134 </td></tr>\n",
       "\t<tr><td>19000</td><td>0 </td><td>6 </td><td>6  </td><td>0   </td><td>320 </td></tr>\n",
       "\t<tr><td>20000</td><td>0 </td><td>3 </td><td>3  </td><td>0   </td><td>166 </td></tr>\n",
       "\t<tr><td>21000</td><td>1 </td><td>0 </td><td>1  </td><td>130 </td><td>0   </td></tr>\n",
       "\t<tr><td>22000</td><td>1 </td><td>1 </td><td>2  </td><td>41  </td><td>68  </td></tr>\n",
       "\t<tr><td>23000</td><td>0 </td><td>3 </td><td>3  </td><td>0   </td><td>165 </td></tr>\n",
       "\t<tr><td>24000</td><td>0 </td><td>1 </td><td>1  </td><td>0   </td><td>2   </td></tr>\n",
       "\t<tr><td>Total</td><td>69</td><td>98</td><td>167</td><td>7931</td><td>5084</td></tr>\n",
       "\t<tr><td>Mean </td><td>  </td><td>  </td><td>   </td><td>330 </td><td>212 </td></tr>\n",
       "</tbody>\n",
       "</table>\n"
      ],
      "text/latex": [
       "A data.frame: 26 × 6\n",
       "\\begin{tabular}{llllll}\n",
       " Domain & SRdom & nSRdom & SRdom+nSRdom & SR\\_PSU\\_final\\_sample\\_unit & NSR\\_PSU\\_final\\_sample\\_unit\\\\\n",
       " <chr> & <chr> & <chr> & <chr> & <chr> & <chr>\\\\\n",
       "\\hline\n",
       "\t 1000  & 2  & 0  & 2   & 423  & 0   \\\\\n",
       "\t 2000  & 5  & 4  & 9   & 288  & 235 \\\\\n",
       "\t 3000  & 0  & 5  & 5   & 0    & 247 \\\\\n",
       "\t 4000  & 0  & 1  & 1   & 0    & 2   \\\\\n",
       "\t 5000  & 2  & 0  & 2   & 281  & 0   \\\\\n",
       "\t 6000  & 1  & 1  & 2   & 43   & 66  \\\\\n",
       "\t 7000  & 0  & 1  & 1   & 0    & 56  \\\\\n",
       "\t 8000  & 0  & 1  & 1   & 0    & 35  \\\\\n",
       "\t 9000  & 1  & 0  & 1   & 911  & 0   \\\\\n",
       "\t 10000 & 6  & 0  & 6   & 936  & 0   \\\\\n",
       "\t 11000 & 16 & 20 & 36  & 761  & 1091\\\\\n",
       "\t 12000 & 0  & 11 & 11  & 0    & 537 \\\\\n",
       "\t 13000 & 1  & 0  & 1   & 1298 & 0   \\\\\n",
       "\t 14000 & 4  & 0  & 4   & 1049 & 0   \\\\\n",
       "\t 15000 & 28 & 10 & 38  & 1629 & 627 \\\\\n",
       "\t 16000 & 0  & 27 & 27  & 0    & 1333\\\\\n",
       "\t 17000 & 1  & 0  & 1   & 141  & 0   \\\\\n",
       "\t 18000 & 0  & 3  & 3   & 0    & 134 \\\\\n",
       "\t 19000 & 0  & 6  & 6   & 0    & 320 \\\\\n",
       "\t 20000 & 0  & 3  & 3   & 0    & 166 \\\\\n",
       "\t 21000 & 1  & 0  & 1   & 130  & 0   \\\\\n",
       "\t 22000 & 1  & 1  & 2   & 41   & 68  \\\\\n",
       "\t 23000 & 0  & 3  & 3   & 0    & 165 \\\\\n",
       "\t 24000 & 0  & 1  & 1   & 0    & 2   \\\\\n",
       "\t Total & 69 & 98 & 167 & 7931 & 5084\\\\\n",
       "\t Mean  &    &    &     & 330  & 212 \\\\\n",
       "\\end{tabular}\n"
      ],
      "text/markdown": [
       "\n",
       "A data.frame: 26 × 6\n",
       "\n",
       "| Domain &lt;chr&gt; | SRdom &lt;chr&gt; | nSRdom &lt;chr&gt; | SRdom+nSRdom &lt;chr&gt; | SR_PSU_final_sample_unit &lt;chr&gt; | NSR_PSU_final_sample_unit &lt;chr&gt; |\n",
       "|---|---|---|---|---|---|\n",
       "| 1000  | 2  | 0  | 2   | 423  | 0    |\n",
       "| 2000  | 5  | 4  | 9   | 288  | 235  |\n",
       "| 3000  | 0  | 5  | 5   | 0    | 247  |\n",
       "| 4000  | 0  | 1  | 1   | 0    | 2    |\n",
       "| 5000  | 2  | 0  | 2   | 281  | 0    |\n",
       "| 6000  | 1  | 1  | 2   | 43   | 66   |\n",
       "| 7000  | 0  | 1  | 1   | 0    | 56   |\n",
       "| 8000  | 0  | 1  | 1   | 0    | 35   |\n",
       "| 9000  | 1  | 0  | 1   | 911  | 0    |\n",
       "| 10000 | 6  | 0  | 6   | 936  | 0    |\n",
       "| 11000 | 16 | 20 | 36  | 761  | 1091 |\n",
       "| 12000 | 0  | 11 | 11  | 0    | 537  |\n",
       "| 13000 | 1  | 0  | 1   | 1298 | 0    |\n",
       "| 14000 | 4  | 0  | 4   | 1049 | 0    |\n",
       "| 15000 | 28 | 10 | 38  | 1629 | 627  |\n",
       "| 16000 | 0  | 27 | 27  | 0    | 1333 |\n",
       "| 17000 | 1  | 0  | 1   | 141  | 0    |\n",
       "| 18000 | 0  | 3  | 3   | 0    | 134  |\n",
       "| 19000 | 0  | 6  | 6   | 0    | 320  |\n",
       "| 20000 | 0  | 3  | 3   | 0    | 166  |\n",
       "| 21000 | 1  | 0  | 1   | 130  | 0    |\n",
       "| 22000 | 1  | 1  | 2   | 41   | 68   |\n",
       "| 23000 | 0  | 3  | 3   | 0    | 165  |\n",
       "| 24000 | 0  | 1  | 1   | 0    | 2    |\n",
       "| Total | 69 | 98 | 167 | 7931 | 5084 |\n",
       "| Mean  | <!----> | <!----> | <!----> | 330  | 212  |\n",
       "\n"
      ],
      "text/plain": [
       "   Domain SRdom nSRdom SRdom+nSRdom SR_PSU_final_sample_unit\n",
       "1  1000   2     0      2            423                     \n",
       "2  2000   5     4      9            288                     \n",
       "3  3000   0     5      5            0                       \n",
       "4  4000   0     1      1            0                       \n",
       "5  5000   2     0      2            281                     \n",
       "6  6000   1     1      2            43                      \n",
       "7  7000   0     1      1            0                       \n",
       "8  8000   0     1      1            0                       \n",
       "9  9000   1     0      1            911                     \n",
       "10 10000  6     0      6            936                     \n",
       "11 11000  16    20     36           761                     \n",
       "12 12000  0     11     11           0                       \n",
       "13 13000  1     0      1            1298                    \n",
       "14 14000  4     0      4            1049                    \n",
       "15 15000  28    10     38           1629                    \n",
       "16 16000  0     27     27           0                       \n",
       "17 17000  1     0      1            141                     \n",
       "18 18000  0     3      3            0                       \n",
       "19 19000  0     6      6            0                       \n",
       "20 20000  0     3      3            0                       \n",
       "21 21000  1     0      1            130                     \n",
       "22 22000  1     1      2            41                      \n",
       "23 23000  0     3      3            0                       \n",
       "24 24000  0     1      1            0                       \n",
       "25 Total  69    98     167          7931                    \n",
       "26 Mean                             330                     \n",
       "   NSR_PSU_final_sample_unit\n",
       "1  0                        \n",
       "2  235                      \n",
       "3  247                      \n",
       "4  2                        \n",
       "5  0                        \n",
       "6  66                       \n",
       "7  56                       \n",
       "8  35                       \n",
       "9  0                        \n",
       "10 0                        \n",
       "11 1091                     \n",
       "12 537                      \n",
       "13 0                        \n",
       "14 0                        \n",
       "15 627                      \n",
       "16 1333                     \n",
       "17 0                        \n",
       "18 134                      \n",
       "19 320                      \n",
       "20 166                      \n",
       "21 0                        \n",
       "22 68                       \n",
       "23 165                      \n",
       "24 2                        \n",
       "25 5084                     \n",
       "26 212                      "
      ]
     },
     "metadata": {},
     "output_type": "display_data"
    }
   ],
   "source": [
    "sample_2st[[2]]"
   ]
  },
  {
   "cell_type": "code",
   "execution_count": 20,
   "id": "1c30c165-2ed7-4532-8632-e15764355639",
   "metadata": {},
   "outputs": [
    {
     "data": {
      "image/png": "[encoded data removed]",
      "text/plain": [
       "Plot with title \"SSUs by strata\""
      ]
     },
     "metadata": {
      "image/png": {
       "height": 420,
       "width": 420
      }
     },
     "output_type": "display_data"
    }
   ],
   "source": [
    "## Plot of allocation (PSUs and SSUs)\n",
    "des <- sample_2st[[2]]\n",
    "des2 <- NULL\n",
    "des2$strata <- c(des$Domain[1:24],des$Domain[1:24])\n",
    "des2$SR <- c(rep(\"SR\",24),rep(\"nSR\",24))\n",
    "des2$PSU <- as.numeric(c(des$SRdom[1:24],des$nSRdom[1:24]))\n",
    "des2$SSU <- as.numeric(c(des$SR_PSU_final_sample_unit[1:24],des$NSR_PSU_final_sample_unit[1:24]))\n",
    "des2 <- as.data.frame(des2)\n",
    "des2$strata <- as.numeric(des2$strata)\n",
    "par(mfrow=c(2, 1))\n",
    "barplot(PSU~SR+strata, data=des2,\n",
    "        main = \"PSUs by strata\",\n",
    "        xlab = \"strata\", ylab = \"PSUs\",\n",
    "        col = c(\"black\", \"grey\"),\n",
    "        # beside = TRUE,\n",
    "        las=2,\n",
    "        cex.names=0.7)\n",
    "legend(\"topright\", \n",
    "       legend = c(\"Non Self Representative\",\"Self Representative\"),cex = 0.7,\n",
    "       fill = c(\"black\", \"grey\"))\n",
    "barplot(SSU~SR+strata, data=des2,\n",
    "        main = \"SSUs by strata\",\n",
    "        xlab = \"strata\", ylab = \"PSUs\",\n",
    "        col = c(\"black\", \"grey\"),\n",
    "        # beside = TRUE,\n",
    "        las=2,\n",
    "        cex.names=0.7)\n",
    "legend(\"topright\", \n",
    "       legend = c(\"Non Self Representative\",\"Self Representative\"),cex = 0.7,\n",
    "       fill = c(\"black\", \"grey\"))\n"
   ]
  },
  {
   "cell_type": "markdown",
   "id": "4cb05ba2-3872-4886-a99f-ec1a62908790",
   "metadata": {},
   "source": [
    "## Selection of SSUs (II stage)"
   ]
  },
  {
   "cell_type": "code",
   "execution_count": 21,
   "id": "2454296e-ea81-413f-9e3f-a605efa24412",
   "metadata": {},
   "outputs": [
    {
     "name": "stdout",
     "output_type": "stream",
     "text": [
      "\n",
      "PSU =  1  *** Selected SSU =  48\n",
      "PSU =  2  *** Selected SSU =  115\n",
      "PSU =  3  *** Selected SSU =  58\n",
      "PSU =  4  *** Selected SSU =  43\n",
      "PSU =  5  *** Selected SSU =  911\n",
      "PSU =  6  *** Selected SSU =  52\n",
      "PSU =  7  *** Selected SSU =  167\n",
      "PSU =  8  *** Selected SSU =  126\n",
      "PSU =  9  *** Selected SSU =  63\n",
      "PSU =  10  *** Selected SSU =  66\n",
      "PSU =  11  *** Selected SSU =  44\n",
      "PSU =  12  *** Selected SSU =  56\n",
      "PSU =  13  *** Selected SSU =  55\n",
      "PSU =  14  *** Selected SSU =  45\n",
      "PSU =  15  *** Selected SSU =  42\n",
      "PSU =  16  *** Selected SSU =  60\n",
      "PSU =  17  *** Selected SSU =  55\n",
      "PSU =  18  *** Selected SSU =  42\n",
      "PSU =  19  *** Selected SSU =  53\n",
      "PSU =  20  *** Selected SSU =  55\n",
      "PSU =  21  *** Selected SSU =  42\n",
      "PSU =  22  *** Selected SSU =  41\n",
      "PSU =  23  *** Selected SSU =  43\n",
      "PSU =  24  *** Selected SSU =  138\n",
      "PSU =  25  *** Selected SSU =  93\n",
      "PSU =  26  *** Selected SSU =  41\n",
      "PSU =  27  *** Selected SSU =  49\n",
      "PSU =  28  *** Selected SSU =  54\n",
      "PSU =  29  *** Selected SSU =  297\n",
      "PSU =  30  *** Selected SSU =  47\n",
      "PSU =  31  *** Selected SSU =  49\n",
      "PSU =  32  *** Selected SSU =  47\n",
      "PSU =  33  *** Selected SSU =  50\n",
      "PSU =  34  *** Selected SSU =  39\n",
      "PSU =  35  *** Selected SSU =  62\n",
      "PSU =  36  *** Selected SSU =  49\n",
      "PSU =  37  *** Selected SSU =  47\n",
      "PSU =  38  *** Selected SSU =  56\n",
      "PSU =  39  *** Selected SSU =  36\n",
      "PSU =  40  *** Selected SSU =  63\n",
      "PSU =  41  *** Selected SSU =  58\n",
      "PSU =  42  *** Selected SSU =  64\n",
      "PSU =  43  *** Selected SSU =  51\n",
      "PSU =  44  *** Selected SSU =  57\n",
      "PSU =  45  *** Selected SSU =  51\n",
      "PSU =  46  *** Selected SSU =  48\n",
      "PSU =  47  *** Selected SSU =  44\n",
      "PSU =  48  *** Selected SSU =  71\n",
      "PSU =  49  *** Selected SSU =  47\n",
      "PSU =  50  *** Selected SSU =  49\n",
      "PSU =  51  *** Selected SSU =  54\n",
      "PSU =  52  *** Selected SSU =  52\n",
      "PSU =  53  *** Selected SSU =  46\n",
      "PSU =  54  *** Selected SSU =  45\n",
      "PSU =  55  *** Selected SSU =  97\n",
      "PSU =  56  *** Selected SSU =  51\n",
      "PSU =  57  *** Selected SSU =  195\n",
      "PSU =  58  *** Selected SSU =  45\n",
      "PSU =  59  *** Selected SSU =  55\n",
      "PSU =  60  *** Selected SSU =  57\n",
      "PSU =  61  *** Selected SSU =  76\n",
      "PSU =  62  *** Selected SSU =  43\n",
      "PSU =  63  *** Selected SSU =  49\n",
      "PSU =  64  *** Selected SSU =  51\n",
      "PSU =  65  *** Selected SSU =  51\n",
      "PSU =  66  *** Selected SSU =  40\n",
      "PSU =  67  *** Selected SSU =  51\n",
      "PSU =  68  *** Selected SSU =  51\n",
      "PSU =  69  *** Selected SSU =  49\n",
      "PSU =  70  *** Selected SSU =  53\n",
      "PSU =  71  *** Selected SSU =  51\n",
      "PSU =  72  *** Selected SSU =  47\n",
      "PSU =  73  *** Selected SSU =  45\n",
      "PSU =  74  *** Selected SSU =  44\n",
      "PSU =  75  *** Selected SSU =  75\n",
      "PSU =  76  *** Selected SSU =  53\n",
      "PSU =  77  *** Selected SSU =  47\n",
      "PSU =  78  *** Selected SSU =  50\n",
      "PSU =  79  *** Selected SSU =  96\n",
      "PSU =  80  *** Selected SSU =  85\n",
      "PSU =  81  *** Selected SSU =  58\n",
      "PSU =  82  *** Selected SSU =  76\n",
      "PSU =  83  *** Selected SSU =  106\n",
      "PSU =  84  *** Selected SSU =  61\n",
      "PSU =  85  *** Selected SSU =  46\n",
      "PSU =  86  *** Selected SSU =  41\n",
      "PSU =  87  *** Selected SSU =  236\n",
      "PSU =  88  *** Selected SSU =  51\n",
      "PSU =  89  *** Selected SSU =  70\n",
      "PSU =  90  *** Selected SSU =  53\n",
      "PSU =  91  *** Selected SSU =  50\n",
      "PSU =  92  *** Selected SSU =  188\n",
      "PSU =  93  *** Selected SSU =  64\n",
      "PSU =  94  *** Selected SSU =  55\n",
      "PSU =  95  *** Selected SSU =  430\n",
      "PSU =  96  *** Selected SSU =  65\n",
      "PSU =  97  *** Selected SSU =  49\n",
      "PSU =  98  *** Selected SSU =  57\n",
      "PSU =  99  *** Selected SSU =  48\n",
      "PSU =  100  *** Selected SSU =  52\n",
      "PSU =  101  *** Selected SSU =  44\n",
      "PSU =  102  *** Selected SSU =  40\n",
      "PSU =  103  *** Selected SSU =  45\n",
      "PSU =  104  *** Selected SSU =  1298\n",
      "PSU =  105  *** Selected SSU =  43\n",
      "PSU =  106  *** Selected SSU =  42\n",
      "PSU =  107  *** Selected SSU =  32\n",
      "PSU =  108  *** Selected SSU =  60\n",
      "PSU =  109  *** Selected SSU =  72\n",
      "PSU =  110  *** Selected SSU =  55\n",
      "PSU =  111  *** Selected SSU =  48\n",
      "PSU =  112  *** Selected SSU =  58\n",
      "PSU =  113  *** Selected SSU =  55\n",
      "PSU =  114  *** Selected SSU =  45\n",
      "PSU =  115  *** Selected SSU =  72\n",
      "PSU =  116  *** Selected SSU =  25\n",
      "PSU =  117  *** Selected SSU =  48\n",
      "PSU =  118  *** Selected SSU =  59\n",
      "PSU =  119  *** Selected SSU =  66\n",
      "PSU =  120  *** Selected SSU =  49\n",
      "PSU =  121  *** Selected SSU =  55\n",
      "PSU =  122  *** Selected SSU =  55\n",
      "PSU =  123  *** Selected SSU =  38\n",
      "PSU =  124  *** Selected SSU =  69\n",
      "PSU =  125  *** Selected SSU =  50\n",
      "PSU =  126  *** Selected SSU =  39\n",
      "PSU =  127  *** Selected SSU =  72\n",
      "PSU =  128  *** Selected SSU =  72\n",
      "PSU =  129  *** Selected SSU =  51\n",
      "PSU =  130  *** Selected SSU =  109\n",
      "PSU =  131  *** Selected SSU =  46\n",
      "PSU =  132  *** Selected SSU =  51\n",
      "PSU =  133  *** Selected SSU =  55\n",
      "PSU =  134  *** Selected SSU =  59\n",
      "PSU =  135  *** Selected SSU =  52\n",
      "PSU =  136  *** Selected SSU =  314\n",
      "PSU =  137  *** Selected SSU =  48\n",
      "PSU =  138  *** Selected SSU =  2\n",
      "PSU =  139  *** Selected SSU =  68\n",
      "PSU =  140  *** Selected SSU =  60\n",
      "PSU =  141  *** Selected SSU =  47\n",
      "PSU =  142  *** Selected SSU =  35\n",
      "PSU =  143  *** Selected SSU =  66\n",
      "PSU =  144  *** Selected SSU =  43\n",
      "PSU =  145  *** Selected SSU =  56\n",
      "PSU =  146  *** Selected SSU =  6\n",
      "PSU =  147  *** Selected SSU =  275\n",
      "PSU =  148  *** Selected SSU =  54\n",
      "PSU =  149  *** Selected SSU =  52\n",
      "PSU =  150  *** Selected SSU =  56\n",
      "PSU =  151  *** Selected SSU =  56\n",
      "PSU =  152  *** Selected SSU =  51\n",
      "PSU =  153  *** Selected SSU =  48\n",
      "PSU =  154  *** Selected SSU =  56\n",
      "PSU =  155  *** Selected SSU =  51\n",
      "PSU =  156  *** Selected SSU =  141\n",
      "PSU =  157  *** Selected SSU =  44\n",
      "PSU =  158  *** Selected SSU =  57\n",
      "PSU =  159  *** Selected SSU =  39\n",
      "PSU =  160  *** Selected SSU =  56\n",
      "PSU =  161  *** Selected SSU =  2\n",
      "PSU =  162  *** Selected SSU =  54\n",
      "PSU =  163  *** Selected SSU =  60\n",
      "PSU =  164  *** Selected SSU =  130\n",
      "PSU =  165  *** Selected SSU =  41\n",
      "PSU =  166  *** Selected SSU =  68\n",
      "PSU =  167  *** Selected SSU =  51\n",
      "--------------------------------\n",
      "Total PSU =  167\n",
      "Total SSU =  13015\n",
      "--------------------------------"
     ]
    }
   ],
   "source": [
    "selected_PSU <- sample_2st[[4]]\n",
    "selected_PSU <- selected_PSU[selected_PSU$PSU_final_sample_unit > 0,]\n",
    "samp <- select_SSU(df=pop,\n",
    "                   PSU_code=\"municipality\",\n",
    "                   SSU_code=\"id_ind\",\n",
    "                   PSU_sampled=selected_PSU[selected_PSU$Sampled_PSU==1,],\n",
    "                   verbose=TRUE)\n"
   ]
  },
  {
   "cell_type": "code",
   "execution_count": 22,
   "id": "49d7066e-e5b3-44ed-a6d8-c86e9f31c672",
   "metadata": {},
   "outputs": [
    {
     "data": {
      "text/html": [
       "13015"
      ],
      "text/latex": [
       "13015"
      ],
      "text/markdown": [
       "13015"
      ],
      "text/plain": [
       "[1] 13015"
      ]
     },
     "metadata": {},
     "output_type": "display_data"
    },
    {
     "data": {
      "text/html": [
       "13011"
      ],
      "text/latex": [
       "13011"
      ],
      "text/markdown": [
       "13011"
      ],
      "text/plain": [
       "[1] 13011"
      ]
     },
     "metadata": {},
     "output_type": "display_data"
    }
   ],
   "source": [
    "nrow(samp)\n",
    "sum(allocat$ALLOC)"
   ]
  },
  {
   "cell_type": "code",
   "execution_count": 23,
   "id": "38676fa0-815a-41df-a8a0-8aa260accdf8",
   "metadata": {},
   "outputs": [
    {
     "data": {
      "text/html": [
       "2258507"
      ],
      "text/latex": [
       "2258507"
      ],
      "text/markdown": [
       "2258507"
      ],
      "text/plain": [
       "[1] 2258507"
      ]
     },
     "metadata": {},
     "output_type": "display_data"
    },
    {
     "data": {
      "text/html": [
       "2258507"
      ],
      "text/latex": [
       "2258507"
      ],
      "text/markdown": [
       "2258507"
      ],
      "text/plain": [
       "[1] 2258507"
      ]
     },
     "metadata": {},
     "output_type": "display_data"
    }
   ],
   "source": [
    "nrow(pop)\n",
    "sum(samp$weight)"
   ]
  },
  {
   "cell_type": "code",
   "execution_count": 24,
   "id": "d260cab4-a346-4b0a-99b3-527ba077ab52",
   "metadata": {},
   "outputs": [
    {
     "data": {
      "image/png": "[encoded data removed]",
      "text/plain": [
       "Plot with title \"Weights distribution by region\""
      ]
     },
     "metadata": {
      "image/png": {
       "height": 420,
       "width": 420
      }
     },
     "output_type": "display_data"
    },
    {
     "data": {
      "image/png": "[encoded data removed]",
      "text/plain": [
       "Plot with title \"Weights distribution by stratum\""
      ]
     },
     "metadata": {
      "image/png": {
       "height": 420,
       "width": 420
      }
     },
     "output_type": "display_data"
    }
   ],
   "source": [
    "## Plot of weights distribution\n",
    "par(mfrow=c(1, 2))\n",
    "boxplot(samp$weight,col=\"grey\")\n",
    "title(\"Weights distribution (total sample)\",cex.main=0.7)\n",
    "boxplot(weight ~ region, data=samp,col=\"grey\")\n",
    "title(\"Weights distribution by region\",cex.main=0.7)\n",
    "par(mfrow=c(1, 2))\n",
    "boxplot(weight ~ province, data=samp,col=\"grey\")\n",
    "title(\"Weights distribution by province\",cex.main=0.7)\n",
    "boxplot(weight ~ stratum, data=samp,col=\"grey\")\n",
    "title(\"Weights distribution by stratum\",cex.main=0.7)"
   ]
  },
  {
   "cell_type": "markdown",
   "id": "edf54291-9d4e-47be-9a92-aad6b1b24fc1",
   "metadata": {},
   "source": [
    "## Precision constraints compliance control (by simulation)"
   ]
  },
  {
   "cell_type": "code",
   "execution_count": 25,
   "id": "bde1b28c-cc52-48df-809e-7194f806a2fe",
   "metadata": {},
   "outputs": [],
   "source": [
    "selected_PSU <- sample_2st[[4]]\n",
    "df=pop\n",
    "df$one <- 1\n",
    "PSU_code=\"municipality\"\n",
    "SSU_code=\"id_ind\"\n",
    "PSU_sampled=selected_PSU[selected_PSU$Sampled_PSU==1,]\n",
    "target_vars <- c(\"income_hh\",\n",
    "                 \"active\",\n",
    "                 \"inactive\",\n",
    "                 \"unemployed\")  \n",
    "PSU_sampled <- selected_PSU[selected_PSU$PSU_final_sample_unit > 0,]"
   ]
  },
  {
   "cell_type": "code",
   "execution_count": 26,
   "id": "c3d35837-196f-444f-8583-e5dc715b3978",
   "metadata": {},
   "outputs": [
    {
     "name": "stdout",
     "output_type": "stream",
     "text": [
      "  |======================================================================| 100%\n"
     ]
    },
    {
     "data": {
      "text/html": [
       "<table class=\"dataframe\">\n",
       "<caption>A data.frame: 1 × 5</caption>\n",
       "<thead>\n",
       "\t<tr><th scope=col>CV1</th><th scope=col>CV2</th><th scope=col>CV3</th><th scope=col>CV4</th><th scope=col>dom</th></tr>\n",
       "\t<tr><th scope=col>&lt;dbl&gt;</th><th scope=col>&lt;dbl&gt;</th><th scope=col>&lt;dbl&gt;</th><th scope=col>&lt;dbl&gt;</th><th scope=col>&lt;chr&gt;</th></tr>\n",
       "</thead>\n",
       "<tbody>\n",
       "\t<tr><td>0.0091</td><td>0.0094</td><td>0.0244</td><td>0.0378</td><td>DOM1</td></tr>\n",
       "</tbody>\n",
       "</table>\n"
      ],
      "text/latex": [
       "A data.frame: 1 × 5\n",
       "\\begin{tabular}{lllll}\n",
       " CV1 & CV2 & CV3 & CV4 & dom\\\\\n",
       " <dbl> & <dbl> & <dbl> & <dbl> & <chr>\\\\\n",
       "\\hline\n",
       "\t 0.0091 & 0.0094 & 0.0244 & 0.0378 & DOM1\\\\\n",
       "\\end{tabular}\n"
      ],
      "text/markdown": [
       "\n",
       "A data.frame: 1 × 5\n",
       "\n",
       "| CV1 &lt;dbl&gt; | CV2 &lt;dbl&gt; | CV3 &lt;dbl&gt; | CV4 &lt;dbl&gt; | dom &lt;chr&gt; |\n",
       "|---|---|---|---|---|\n",
       "| 0.0091 | 0.0094 | 0.0244 | 0.0378 | DOM1 |\n",
       "\n"
      ],
      "text/plain": [
       "  CV1    CV2    CV3    CV4    dom \n",
       "1 0.0091 0.0094 0.0244 0.0378 DOM1"
      ]
     },
     "metadata": {},
     "output_type": "display_data"
    }
   ],
   "source": [
    "# Domain level = national\n",
    "domain_var <- \"one\"\n",
    "eval <- eval_2stage(df,\n",
    "                    PSU_code,\n",
    "                    SSU_code,\n",
    "                    domain_var,\n",
    "                    target_vars,\n",
    "                    PSU_sampled,\n",
    "                    nsampl=100, \n",
    "                    writeFiles=FALSE,\n",
    "                    progress=TRUE) \n",
    "eval$coeff_var"
   ]
  },
  {
   "cell_type": "code",
   "execution_count": 27,
   "id": "08cb71f0-535f-401e-ae82-355941cd4a55",
   "metadata": {},
   "outputs": [
    {
     "name": "stdout",
     "output_type": "stream",
     "text": [
      "  |======================================================================| 100%\n"
     ]
    },
    {
     "data": {
      "image/png": "[encoded data removed]",
      "text/plain": [
       "Plot with title \"Distribution of CV's in the domains\""
      ]
     },
     "metadata": {
      "image/png": {
       "height": 420,
       "width": 420
      }
     },
     "output_type": "display_data"
    },
    {
     "data": {
      "text/html": [
       "<table class=\"dataframe\">\n",
       "<caption>A data.frame: 3 × 5</caption>\n",
       "<thead>\n",
       "\t<tr><th scope=col>CV1</th><th scope=col>CV2</th><th scope=col>CV3</th><th scope=col>CV4</th><th scope=col>dom</th></tr>\n",
       "\t<tr><th scope=col>&lt;dbl&gt;</th><th scope=col>&lt;dbl&gt;</th><th scope=col>&lt;dbl&gt;</th><th scope=col>&lt;dbl&gt;</th><th scope=col>&lt;chr&gt;</th></tr>\n",
       "</thead>\n",
       "<tbody>\n",
       "\t<tr><td>0.0078</td><td>0.0048</td><td>0.0160</td><td>0.0640</td><td>DOM1</td></tr>\n",
       "\t<tr><td>0.0209</td><td>0.0205</td><td>0.0496</td><td>0.0805</td><td>DOM2</td></tr>\n",
       "\t<tr><td>0.0262</td><td>0.0356</td><td>0.0599</td><td>0.0471</td><td>DOM3</td></tr>\n",
       "</tbody>\n",
       "</table>\n"
      ],
      "text/latex": [
       "A data.frame: 3 × 5\n",
       "\\begin{tabular}{lllll}\n",
       " CV1 & CV2 & CV3 & CV4 & dom\\\\\n",
       " <dbl> & <dbl> & <dbl> & <dbl> & <chr>\\\\\n",
       "\\hline\n",
       "\t 0.0078 & 0.0048 & 0.0160 & 0.0640 & DOM1\\\\\n",
       "\t 0.0209 & 0.0205 & 0.0496 & 0.0805 & DOM2\\\\\n",
       "\t 0.0262 & 0.0356 & 0.0599 & 0.0471 & DOM3\\\\\n",
       "\\end{tabular}\n"
      ],
      "text/markdown": [
       "\n",
       "A data.frame: 3 × 5\n",
       "\n",
       "| CV1 &lt;dbl&gt; | CV2 &lt;dbl&gt; | CV3 &lt;dbl&gt; | CV4 &lt;dbl&gt; | dom &lt;chr&gt; |\n",
       "|---|---|---|---|---|\n",
       "| 0.0078 | 0.0048 | 0.0160 | 0.0640 | DOM1 |\n",
       "| 0.0209 | 0.0205 | 0.0496 | 0.0805 | DOM2 |\n",
       "| 0.0262 | 0.0356 | 0.0599 | 0.0471 | DOM3 |\n",
       "\n"
      ],
      "text/plain": [
       "  CV1    CV2    CV3    CV4    dom \n",
       "1 0.0078 0.0048 0.0160 0.0640 DOM1\n",
       "2 0.0209 0.0205 0.0496 0.0805 DOM2\n",
       "3 0.0262 0.0356 0.0599 0.0471 DOM3"
      ]
     },
     "metadata": {},
     "output_type": "display_data"
    },
    {
     "data": {
      "image/png": "[encoded data removed]",
      "text/plain": [
       "Plot with title \"Distribution of relative bias in the domains\""
      ]
     },
     "metadata": {
      "image/png": {
       "height": 420,
       "width": 420
      }
     },
     "output_type": "display_data"
    }
   ],
   "source": [
    "# Domain level = regional\n",
    "domain_var <- \"region\"\n",
    "set.seed(1234)\n",
    "eval <- eval_2stage(df,\n",
    "                    PSU_code,\n",
    "                    SSU_code,\n",
    "                    domain_var,\n",
    "                    target_vars,\n",
    "                    PSU_sampled,\n",
    "                    nsampl=100, \n",
    "                    writeFiles=FALSE,\n",
    "                    progress=TRUE) \n",
    "eval$coeff_var"
   ]
  },
  {
   "cell_type": "code",
   "execution_count": 28,
   "id": "2960a7c5-abdf-46c4-bbda-e1c12b9e28eb",
   "metadata": {},
   "outputs": [
    {
     "name": "stdout",
     "output_type": "stream",
     "text": [
      "  |======================================================================| 100%\n"
     ]
    },
    {
     "data": {
      "image/png": "[encoded data removed]",
      "text/plain": [
       "Plot with title \"Distribution of CV's in the domains\""
      ]
     },
     "metadata": {
      "image/png": {
       "height": 420,
       "width": 420
      }
     },
     "output_type": "display_data"
    },
    {
     "data": {
      "text/html": [
       "<table class=\"dataframe\">\n",
       "<caption>A data.frame: 6 × 5</caption>\n",
       "<thead>\n",
       "\t<tr><th scope=col>CV1</th><th scope=col>CV2</th><th scope=col>CV3</th><th scope=col>CV4</th><th scope=col>dom</th></tr>\n",
       "\t<tr><th scope=col>&lt;dbl&gt;</th><th scope=col>&lt;dbl&gt;</th><th scope=col>&lt;dbl&gt;</th><th scope=col>&lt;dbl&gt;</th><th scope=col>&lt;chr&gt;</th></tr>\n",
       "</thead>\n",
       "<tbody>\n",
       "\t<tr><td>0.0125</td><td>0.0070</td><td>0.0257</td><td>0.0959</td><td>DOM1</td></tr>\n",
       "\t<tr><td>0.0099</td><td>0.0073</td><td>0.0246</td><td>0.0762</td><td>DOM2</td></tr>\n",
       "\t<tr><td>0.0259</td><td>0.0241</td><td>0.0596</td><td>0.0980</td><td>DOM3</td></tr>\n",
       "\t<tr><td>0.0319</td><td>0.0343</td><td>0.0815</td><td>0.1185</td><td>DOM4</td></tr>\n",
       "\t<tr><td>0.0317</td><td>0.0394</td><td>0.0612</td><td>0.0560</td><td>DOM5</td></tr>\n",
       "\t<tr><td>0.0376</td><td>0.0637</td><td>0.1166</td><td>0.0753</td><td>DOM6</td></tr>\n",
       "</tbody>\n",
       "</table>\n"
      ],
      "text/latex": [
       "A data.frame: 6 × 5\n",
       "\\begin{tabular}{lllll}\n",
       " CV1 & CV2 & CV3 & CV4 & dom\\\\\n",
       " <dbl> & <dbl> & <dbl> & <dbl> & <chr>\\\\\n",
       "\\hline\n",
       "\t 0.0125 & 0.0070 & 0.0257 & 0.0959 & DOM1\\\\\n",
       "\t 0.0099 & 0.0073 & 0.0246 & 0.0762 & DOM2\\\\\n",
       "\t 0.0259 & 0.0241 & 0.0596 & 0.0980 & DOM3\\\\\n",
       "\t 0.0319 & 0.0343 & 0.0815 & 0.1185 & DOM4\\\\\n",
       "\t 0.0317 & 0.0394 & 0.0612 & 0.0560 & DOM5\\\\\n",
       "\t 0.0376 & 0.0637 & 0.1166 & 0.0753 & DOM6\\\\\n",
       "\\end{tabular}\n"
      ],
      "text/markdown": [
       "\n",
       "A data.frame: 6 × 5\n",
       "\n",
       "| CV1 &lt;dbl&gt; | CV2 &lt;dbl&gt; | CV3 &lt;dbl&gt; | CV4 &lt;dbl&gt; | dom &lt;chr&gt; |\n",
       "|---|---|---|---|---|\n",
       "| 0.0125 | 0.0070 | 0.0257 | 0.0959 | DOM1 |\n",
       "| 0.0099 | 0.0073 | 0.0246 | 0.0762 | DOM2 |\n",
       "| 0.0259 | 0.0241 | 0.0596 | 0.0980 | DOM3 |\n",
       "| 0.0319 | 0.0343 | 0.0815 | 0.1185 | DOM4 |\n",
       "| 0.0317 | 0.0394 | 0.0612 | 0.0560 | DOM5 |\n",
       "| 0.0376 | 0.0637 | 0.1166 | 0.0753 | DOM6 |\n",
       "\n"
      ],
      "text/plain": [
       "  CV1    CV2    CV3    CV4    dom \n",
       "1 0.0125 0.0070 0.0257 0.0959 DOM1\n",
       "2 0.0099 0.0073 0.0246 0.0762 DOM2\n",
       "3 0.0259 0.0241 0.0596 0.0980 DOM3\n",
       "4 0.0319 0.0343 0.0815 0.1185 DOM4\n",
       "5 0.0317 0.0394 0.0612 0.0560 DOM5\n",
       "6 0.0376 0.0637 0.1166 0.0753 DOM6"
      ]
     },
     "metadata": {},
     "output_type": "display_data"
    },
    {
     "data": {
      "image/png": "[encoded data removed]",
      "text/plain": [
       "Plot with title \"Distribution of relative bias in the domains\""
      ]
     },
     "metadata": {
      "image/png": {
       "height": 420,
       "width": 420
      }
     },
     "output_type": "display_data"
    }
   ],
   "source": [
    "# Domain level = provincial\n",
    "domain_var <- \"province\"\n",
    "set.seed(1234)\n",
    "eval <- eval_2stage(df,\n",
    "                    PSU_code,\n",
    "                    SSU_code,\n",
    "                    domain_var,\n",
    "                    target_vars,\n",
    "                    PSU_sampled,\n",
    "                    nsampl=100, \n",
    "                    writeFiles=FALSE,\n",
    "                    progress=TRUE) \n",
    "eval$coeff_var"
   ]
  },
  {
   "cell_type": "code",
   "execution_count": 29,
   "id": "f395ae16",
   "metadata": {},
   "outputs": [
    {
     "data": {
      "text/html": [
       "<table class=\"dataframe\">\n",
       "<caption>A data.frame: 4 × 6</caption>\n",
       "<thead>\n",
       "\t<tr><th></th><th scope=col>Type</th><th scope=col>Dom</th><th scope=col>V1</th><th scope=col>V2</th><th scope=col>V3</th><th scope=col>V4</th></tr>\n",
       "\t<tr><th></th><th scope=col>&lt;chr&gt;</th><th scope=col>&lt;chr&gt;</th><th scope=col>&lt;dbl&gt;</th><th scope=col>&lt;dbl&gt;</th><th scope=col>&lt;dbl&gt;</th><th scope=col>&lt;dbl&gt;</th></tr>\n",
       "</thead>\n",
       "<tbody>\n",
       "\t<tr><th scope=row>1</th><td>DOM1</td><td>1</td><td>1</td><td>1</td><td> 1</td><td> 442</td></tr>\n",
       "\t<tr><th scope=row>5</th><td>DOM2</td><td>1</td><td>1</td><td>0</td><td> 1</td><td>2022</td></tr>\n",
       "\t<tr><th scope=row>9</th><td>DOM2</td><td>2</td><td>1</td><td>1</td><td>16</td><td> 123</td></tr>\n",
       "\t<tr><th scope=row>13</th><td>DOM2</td><td>3</td><td>1</td><td>1</td><td> 1</td><td>   1</td></tr>\n",
       "</tbody>\n",
       "</table>\n"
      ],
      "text/latex": [
       "A data.frame: 4 × 6\n",
       "\\begin{tabular}{r|llllll}\n",
       "  & Type & Dom & V1 & V2 & V3 & V4\\\\\n",
       "  & <chr> & <chr> & <dbl> & <dbl> & <dbl> & <dbl>\\\\\n",
       "\\hline\n",
       "\t1 & DOM1 & 1 & 1 & 1 &  1 &  442\\\\\n",
       "\t5 & DOM2 & 1 & 1 & 0 &  1 & 2022\\\\\n",
       "\t9 & DOM2 & 2 & 1 & 1 & 16 &  123\\\\\n",
       "\t13 & DOM2 & 3 & 1 & 1 &  1 &    1\\\\\n",
       "\\end{tabular}\n"
      ],
      "text/markdown": [
       "\n",
       "A data.frame: 4 × 6\n",
       "\n",
       "| <!--/--> | Type &lt;chr&gt; | Dom &lt;chr&gt; | V1 &lt;dbl&gt; | V2 &lt;dbl&gt; | V3 &lt;dbl&gt; | V4 &lt;dbl&gt; |\n",
       "|---|---|---|---|---|---|---|\n",
       "| 1 | DOM1 | 1 | 1 | 1 |  1 |  442 |\n",
       "| 5 | DOM2 | 1 | 1 | 0 |  1 | 2022 |\n",
       "| 9 | DOM2 | 2 | 1 | 1 | 16 |  123 |\n",
       "| 13 | DOM2 | 3 | 1 | 1 |  1 |    1 |\n",
       "\n"
      ],
      "text/plain": [
       "   Type Dom V1 V2 V3 V4  \n",
       "1  DOM1 1   1  1   1  442\n",
       "5  DOM2 1   1  0   1 2022\n",
       "9  DOM2 2   1  1  16  123\n",
       "13 DOM2 3   1  1   1    1"
      ]
     },
     "metadata": {},
     "output_type": "display_data"
    }
   ],
   "source": [
    "alloc$sensitivity"
   ]
  }
 ],
 "metadata": {
  "kernelspec": {
   "display_name": "R",
   "language": "R",
   "name": "ir"
  },
  "language_info": {
   "codemirror_mode": "r",
   "file_extension": ".r",
   "mimetype": "text/x-r-source",
   "name": "R",
   "pygments_lexer": "r",
   "version": "4.1.1"
  }
 },
 "nbformat": 4,
 "nbformat_minor": 5
}
