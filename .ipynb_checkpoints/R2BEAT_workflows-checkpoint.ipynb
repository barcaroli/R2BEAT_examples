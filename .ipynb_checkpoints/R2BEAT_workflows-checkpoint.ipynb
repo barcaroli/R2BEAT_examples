{
 "cells": [
  {
   "cell_type": "markdown",
   "id": "88692b9b-16f3-4186-98ed-aed5f58827e9",
   "metadata": {},
   "source": [
    "# Workflow examples with R2BEAT \n",
    "# Scenario 1\n",
    "Only a sampling frame containing the units of the population \n",
    "of reference is available, no previous round of the sampling survey to be \n",
    "planned"
   ]
  },
  {
   "cell_type": "code",
   "execution_count": 1,
   "id": "8447983d-253c-416a-9dc4-798c53ee2d07",
   "metadata": {},
   "outputs": [
    {
     "name": "stderr",
     "output_type": "stream",
     "text": [
      "Caricamento del pacchetto richiesto: plyr\n",
      "\n",
      "Caricamento del pacchetto richiesto: devtools\n",
      "\n",
      "Caricamento del pacchetto richiesto: usethis\n",
      "\n",
      "Caricamento del pacchetto richiesto: sampling\n",
      "\n"
     ]
    }
   ],
   "source": [
    "# Install last version of R2BEAT and ReGenesees\n",
    "#install.packages(\"devtools\")\n",
    "#devtools::install_github(\"DiegoZardetto/ReGenesees\",dependencies = FALSE)\n",
    "#devtools::install_github(\"barcaroli/R2BEAT\",dependencies=FALSE)\n",
    "library(\"R2BEAT\")"
   ]
  },
  {
   "cell_type": "code",
   "execution_count": 2,
   "id": "d001b30e-e374-437e-8ddc-2ecbf044164c",
   "metadata": {},
   "outputs": [
    {
     "data": {
      "text/plain": [
       "[1] '2.1'"
      ]
     },
     "metadata": {},
     "output_type": "display_data"
    }
   ],
   "source": [
    "packageVersion(\"ReGenesees\")"
   ]
  },
  {
   "cell_type": "code",
   "execution_count": 3,
   "id": "88e6a364-4d30-4752-81b2-2ee6d54df81a",
   "metadata": {},
   "outputs": [
    {
     "data": {
      "text/plain": [
       "[1] '1.0.4'"
      ]
     },
     "metadata": {},
     "output_type": "display_data"
    }
   ],
   "source": [
    "packageVersion(\"R2BEAT\")"
   ]
  },
  {
   "cell_type": "code",
   "execution_count": 4,
   "id": "faa91fdb-69a8-4c59-82f2-7c7749df2154",
   "metadata": {},
   "outputs": [
    {
     "name": "stdout",
     "output_type": "stream",
     "text": [
      "'data.frame':\t2258507 obs. of  13 variables:\n",
      " $ region       : Factor w/ 3 levels \"north\",\"center\",..: 1 1 1 1 1 1 1 1 1 1 ...\n",
      " $ province     : Factor w/ 6 levels \"north_1\",\"north_2\",..: 1 1 1 1 1 1 1 1 1 1 ...\n",
      " $ municipality : num  1 1 1 1 1 1 1 1 1 1 ...\n",
      " $ id_hh        : Factor w/ 963018 levels \"H1\",\"H10\",\"H100\",..: 1 1 1 2 3 3 3 3 1114 1114 ...\n",
      " $ id_ind       : int  1 2 3 4 5 6 7 8 9 10 ...\n",
      " $ stratum      : Factor w/ 24 levels \"1000\",\"2000\",..: 12 12 12 12 12 12 12 12 12 12 ...\n",
      " $ stratum_label: chr  \"north_1_6\" \"north_1_6\" \"north_1_6\" \"north_1_6\" ...\n",
      " $ sex          : int  1 2 1 2 1 1 2 2 1 1 ...\n",
      " $ cl_age       : Factor w/ 8 levels \"(0,14]\",\"(14,24]\",..: 3 7 8 5 4 6 6 4 4 1 ...\n",
      " $ active       : num  1 1 0 1 1 1 1 1 1 0 ...\n",
      " $ income_hh    : num  30488 30488 30488 21756 29871 ...\n",
      " $ unemployed   : num  0 0 0 0 0 0 0 0 0 0 ...\n",
      " $ inactive     : num  0 0 1 0 0 0 0 0 0 1 ...\n"
     ]
    }
   ],
   "source": [
    "## Sampling frame\n",
    "load(\"pop.RData\")\n",
    "str(pop)"
   ]
  },
  {
   "cell_type": "markdown",
   "id": "9f902dfe-db70-48f9-9ede-0f188362ee19",
   "metadata": {},
   "source": [
    "## Precision constraints"
   ]
  },
  {
   "cell_type": "code",
   "execution_count": 5,
   "id": "69918ced-603d-4d1a-b461-1eda1710bc8d",
   "metadata": {},
   "outputs": [
    {
     "data": {
      "text/html": [
       "<table class=\"dataframe\">\n",
       "<caption>A data.frame: 2 × 5</caption>\n",
       "<thead>\n",
       "\t<tr><th scope=col>DOM</th><th scope=col>CV1</th><th scope=col>CV2</th><th scope=col>CV3</th><th scope=col>CV4</th></tr>\n",
       "\t<tr><th scope=col>&lt;chr&gt;</th><th scope=col>&lt;dbl&gt;</th><th scope=col>&lt;dbl&gt;</th><th scope=col>&lt;dbl&gt;</th><th scope=col>&lt;dbl&gt;</th></tr>\n",
       "</thead>\n",
       "<tbody>\n",
       "\t<tr><td>DOM1</td><td>0.02</td><td>0.03</td><td>0.03</td><td>0.05</td></tr>\n",
       "\t<tr><td>DOM2</td><td>0.03</td><td>0.06</td><td>0.06</td><td>0.08</td></tr>\n",
       "</tbody>\n",
       "</table>\n"
      ],
      "text/latex": [
       "A data.frame: 2 × 5\n",
       "\\begin{tabular}{lllll}\n",
       " DOM & CV1 & CV2 & CV3 & CV4\\\\\n",
       " <chr> & <dbl> & <dbl> & <dbl> & <dbl>\\\\\n",
       "\\hline\n",
       "\t DOM1 & 0.02 & 0.03 & 0.03 & 0.05\\\\\n",
       "\t DOM2 & 0.03 & 0.06 & 0.06 & 0.08\\\\\n",
       "\\end{tabular}\n"
      ],
      "text/markdown": [
       "\n",
       "A data.frame: 2 × 5\n",
       "\n",
       "| DOM &lt;chr&gt; | CV1 &lt;dbl&gt; | CV2 &lt;dbl&gt; | CV3 &lt;dbl&gt; | CV4 &lt;dbl&gt; |\n",
       "|---|---|---|---|---|\n",
       "| DOM1 | 0.02 | 0.03 | 0.03 | 0.05 |\n",
       "| DOM2 | 0.03 | 0.06 | 0.06 | 0.08 |\n",
       "\n"
      ],
      "text/plain": [
       "  DOM  CV1  CV2  CV3  CV4 \n",
       "1 DOM1 0.02 0.03 0.03 0.05\n",
       "2 DOM2 0.03 0.06 0.06 0.08"
      ]
     },
     "metadata": {},
     "output_type": "display_data"
    }
   ],
   "source": [
    "\n",
    "cv <- as.data.frame(list(DOM=c(\"DOM1\",\"DOM2\"),\n",
    "                         CV1=c(0.02,0.03),\n",
    "                         CV2=c(0.03,0.06),\n",
    "                         CV3=c(0.03,0.06),\n",
    "                         CV4=c(0.05,0.08)))\n",
    "cv"
   ]
  },
  {
   "cell_type": "markdown",
   "id": "94534f48-9e4b-485a-a8b9-75a0366159ec",
   "metadata": {},
   "source": [
    "## Sensitivity analysis"
   ]
  },
  {
   "cell_type": "code",
   "execution_count": 6,
   "id": "7578bba5-c7ff-44aa-a188-7c280eed644a",
   "metadata": {},
   "outputs": [
    {
     "name": "stdout",
     "output_type": "stream",
     "text": [
      "\n",
      "Calculating strata...\n",
      "Computations are being done on population data\n",
      "\n",
      "Number of strata:  24\n",
      "... of which with only one unit:  0\n",
      "Calculating rho in strata...\n",
      "Stratum  1000\n",
      "Stratum  2000\n",
      "Stratum  3000\n",
      "Stratum  4000\n",
      "Stratum  5000\n",
      "Stratum  6000\n",
      "Stratum  7000\n",
      "Stratum  8000\n",
      "Stratum  9000\n",
      "Stratum  10000\n",
      "Stratum  11000\n",
      "Stratum  12000\n",
      "Stratum  13000\n",
      "Stratum  14000\n",
      "Stratum  15000\n",
      "Stratum  16000\n",
      "Stratum  17000\n",
      "Stratum  18000\n",
      "Stratum  19000\n",
      "Stratum  20000\n",
      "Stratum  21000\n",
      "Stratum  22000\n",
      "Stratum  23000\n",
      "Stratum  24000\n",
      " 1  iterations PSU_SR PSU NSR PSU Total  SSU\n",
      "1          0      0       0         0 7836\n",
      "2          1     47     128       175 8072\n",
      "3          2     47     134       181 8071\n",
      "\n",
      " 2  iterations PSU_SR PSU NSR PSU Total  SSU\n",
      "1          0      0       0         0 7836\n",
      "2          1     30     122       152 8130\n",
      "3          2     32     124       156 8127\n",
      "\n",
      " 3  iterations PSU_SR PSU NSR PSU Total  SSU\n",
      "1          0      0       0         0 7836\n",
      "2          1     26     114       140 8185\n",
      "3          2     33     118       151 8177\n",
      "\n",
      " 4  iterations PSU_SR PSU NSR PSU Total  SSU\n",
      "1          0      0       0         0 7836\n",
      "2          1     24     106       130 8236\n",
      "3          2     29     110       139 8231\n",
      "\n",
      " 5  iterations PSU_SR PSU NSR PSU Total  SSU\n",
      "1          0      0       0         0 7836\n",
      "2          1     24     102       126 8296\n",
      "3          2     26     104       130 8297\n",
      "\n",
      " 6  iterations PSU_SR PSU NSR PSU Total  SSU\n",
      "1          0      0       0         0 7836\n",
      "2          1     17     100       117 8368\n",
      "3          2     18     106       124 8364\n",
      "\n",
      " 7  iterations PSU_SR PSU NSR PSU Total  SSU\n",
      "1          0      0       0         0 7836\n",
      "2          1     16      96       112 8434\n",
      "3          2     16     100       116 8434\n",
      "\n",
      " 8  iterations PSU_SR PSU NSR PSU Total  SSU\n",
      "1          0      0       0         0 7836\n",
      "2          1     20      88       108 8482\n",
      "3          2     16      94       110 8489\n",
      "\n",
      " 9  iterations PSU_SR PSU NSR PSU Total  SSU\n",
      "1          0      0       0         0 7836\n",
      "2          1     18      82       100 8547\n",
      "3          2     16      90       106 8552\n",
      "\n",
      " 10  iterations PSU_SR PSU NSR PSU Total  SSU\n",
      "1          0      0       0         0 7836\n",
      "2          1     18      80        98 8601\n",
      "3          2     20      86       106 8598\n",
      "\n",
      " 11  iterations PSU_SR PSU NSR PSU Total  SSU\n",
      "1          0      0       0         0 7836\n",
      "2          1     13      78        91 8685\n",
      "3          2     18      86       104 8655\n"
     ]
    },
    {
     "data": {
      "image/png": "[encoded data removed]",
      "text/plain": [
       "Plot with title \"Second Stage Size\""
      ]
     },
     "metadata": {
      "image/png": {
       "height": 420,
       "width": 420
      }
     },
     "output_type": "display_data"
    }
   ],
   "source": [
    "sens_min_SSU <- sensitivity_min_SSU (\n",
    "             samp_frame=pop,\n",
    "             errors=cv,\n",
    "             id_PSU=\"municipality\",\n",
    "             id_SSU=\"id_ind\",\n",
    "             strata_var=\"stratum\",\n",
    "             target_vars=c(\"income_hh\",\"active\",\"inactive\",\"unemployed\"),\n",
    "             deff_var=\"stratum\",\n",
    "             domain_var=\"region\",\n",
    "             delta=1,\n",
    "             f=0.05,\n",
    "             deff_sugg=1,\n",
    "             min=30,\n",
    "             max=80,\n",
    "             plot=TRUE)"
   ]
  },
  {
   "cell_type": "markdown",
   "id": "abee92be-2a4e-4a09-8334-3655246e3c8a",
   "metadata": {},
   "source": [
    "## Preparation of inputs for allocation steps"
   ]
  },
  {
   "cell_type": "code",
   "execution_count": 6,
   "id": "3a1c235a-fce7-4bb6-9908-495e3e27d9b2",
   "metadata": {},
   "outputs": [
    {
     "name": "stdout",
     "output_type": "stream",
     "text": [
      "\n",
      "Calculating strata...\n",
      "Computations are being done on population data\n",
      "\n",
      "Number of strata:  24\n",
      "... of which with only one unit:  0\n",
      "Calculating rho in strata...\n",
      "Stratum  1000\n",
      "Stratum  2000\n",
      "Stratum  3000\n",
      "Stratum  4000\n",
      "Stratum  5000\n",
      "Stratum  6000\n",
      "Stratum  7000\n",
      "Stratum  8000\n",
      "Stratum  9000\n",
      "Stratum  10000\n",
      "Stratum  11000\n",
      "Stratum  12000\n",
      "Stratum  13000\n",
      "Stratum  14000\n",
      "Stratum  15000\n",
      "Stratum  16000\n",
      "Stratum  17000\n",
      "Stratum  18000\n",
      "Stratum  19000\n",
      "Stratum  20000\n",
      "Stratum  21000\n",
      "Stratum  22000\n",
      "Stratum  23000\n",
      "Stratum  24000"
     ]
    }
   ],
   "source": [
    "## Preparation of inputs for allocation steps\n",
    "samp_frame <- pop\n",
    "samp_frame$one <- 1\n",
    "id_PSU <- \"municipality\"  \n",
    "id_SSU <- \"id_ind\"        \n",
    "strata_var <- \"stratum\"   \n",
    "target_vars <- c(\"income_hh\",\"active\",\"inactive\",\"unemployed\")   \n",
    "deff_var <- \"stratum\"     \n",
    "domain_var <- \"region\"  \n",
    "delta =  1       # households = survey units\n",
    "minimum <- 50    # minimum number of SSUs to be interviewed in each selected PSU\n",
    "f = 0.05         # suggestion for the sampling fraction \n",
    "deff_sugg <- 1.5 # suggestion for the deff value\n",
    " \n",
    "inp <- prepareInputToAllocation1(samp_frame,\n",
    "                                id_PSU,\n",
    "                                id_SSU,\n",
    "                                strata_var,\n",
    "                                target_vars,\n",
    "                                deff_var,\n",
    "                                domain_var,\n",
    "                                minimum,\n",
    "                                delta,\n",
    "                                f,\n",
    "                                deff_sugg)"
   ]
  },
  {
   "cell_type": "code",
   "execution_count": 7,
   "id": "184e48ce-f23e-477d-9d01-61158305bdfa",
   "metadata": {},
   "outputs": [
    {
     "data": {
      "text/html": [
       "<table class=\"dataframe\">\n",
       "<caption>A data.frame: 6 × 14</caption>\n",
       "<thead>\n",
       "\t<tr><th></th><th scope=col>N</th><th scope=col>M1</th><th scope=col>M2</th><th scope=col>M3</th><th scope=col>M4</th><th scope=col>S1</th><th scope=col>S2</th><th scope=col>S3</th><th scope=col>S4</th><th scope=col>COST</th><th scope=col>CENS</th><th scope=col>DOM1</th><th scope=col>DOM2</th><th scope=col>STRATUM</th></tr>\n",
       "\t<tr><th></th><th scope=col>&lt;dbl&gt;</th><th scope=col>&lt;dbl&gt;</th><th scope=col>&lt;dbl&gt;</th><th scope=col>&lt;dbl&gt;</th><th scope=col>&lt;dbl&gt;</th><th scope=col>&lt;dbl&gt;</th><th scope=col>&lt;dbl&gt;</th><th scope=col>&lt;dbl&gt;</th><th scope=col>&lt;dbl&gt;</th><th scope=col>&lt;dbl&gt;</th><th scope=col>&lt;dbl&gt;</th><th scope=col>&lt;dbl&gt;</th><th scope=col>&lt;dbl&gt;</th><th scope=col>&lt;fct&gt;</th></tr>\n",
       "</thead>\n",
       "<tbody>\n",
       "\t<tr><th scope=row>1000</th><td>197007</td><td>23959.87</td><td>0.6650322</td><td>0.2285807</td><td>0.10638708</td><td>22179.08</td><td>0.4719792</td><td>0.4199185</td><td>0.3083324</td><td>1</td><td>0</td><td>1</td><td>2</td><td>1000</td></tr>\n",
       "\t<tr><th scope=row>2000</th><td>261456</td><td>20966.65</td><td>0.6709886</td><td>0.2297519</td><td>0.09925953</td><td>19624.65</td><td>0.4698541</td><td>0.4206732</td><td>0.2990102</td><td>1</td><td>0</td><td>1</td><td>2</td><td>2000</td></tr>\n",
       "\t<tr><th scope=row>3000</th><td>115813</td><td>19814.73</td><td>0.6644591</td><td>0.2315975</td><td>0.10394343</td><td>14754.88</td><td>0.4721792</td><td>0.4218532</td><td>0.3051871</td><td>1</td><td>0</td><td>1</td><td>2</td><td>3000</td></tr>\n",
       "\t<tr><th scope=row>4000</th><td> 17241</td><td>18732.72</td><td>0.6273418</td><td>0.2499275</td><td>0.12273070</td><td>13462.74</td><td>0.4835122</td><td>0.4329708</td><td>0.3281278</td><td>1</td><td>0</td><td>1</td><td>2</td><td>4000</td></tr>\n",
       "\t<tr><th scope=row>5000</th><td>101067</td><td>22070.31</td><td>0.6134445</td><td>0.2338845</td><td>0.15267100</td><td>17187.98</td><td>0.4869603</td><td>0.4232996</td><td>0.3596701</td><td>1</td><td>0</td><td>1</td><td>2</td><td>5000</td></tr>\n",
       "\t<tr><th scope=row>6000</th><td> 47218</td><td>21069.07</td><td>0.6135796</td><td>0.2348469</td><td>0.15157355</td><td>17342.74</td><td>0.4869288</td><td>0.4239031</td><td>0.3586070</td><td>1</td><td>0</td><td>1</td><td>2</td><td>6000</td></tr>\n",
       "</tbody>\n",
       "</table>\n"
      ],
      "text/latex": [
       "A data.frame: 6 × 14\n",
       "\\begin{tabular}{r|llllllllllllll}\n",
       "  & N & M1 & M2 & M3 & M4 & S1 & S2 & S3 & S4 & COST & CENS & DOM1 & DOM2 & STRATUM\\\\\n",
       "  & <dbl> & <dbl> & <dbl> & <dbl> & <dbl> & <dbl> & <dbl> & <dbl> & <dbl> & <dbl> & <dbl> & <dbl> & <dbl> & <fct>\\\\\n",
       "\\hline\n",
       "\t1000 & 197007 & 23959.87 & 0.6650322 & 0.2285807 & 0.10638708 & 22179.08 & 0.4719792 & 0.4199185 & 0.3083324 & 1 & 0 & 1 & 2 & 1000\\\\\n",
       "\t2000 & 261456 & 20966.65 & 0.6709886 & 0.2297519 & 0.09925953 & 19624.65 & 0.4698541 & 0.4206732 & 0.2990102 & 1 & 0 & 1 & 2 & 2000\\\\\n",
       "\t3000 & 115813 & 19814.73 & 0.6644591 & 0.2315975 & 0.10394343 & 14754.88 & 0.4721792 & 0.4218532 & 0.3051871 & 1 & 0 & 1 & 2 & 3000\\\\\n",
       "\t4000 &  17241 & 18732.72 & 0.6273418 & 0.2499275 & 0.12273070 & 13462.74 & 0.4835122 & 0.4329708 & 0.3281278 & 1 & 0 & 1 & 2 & 4000\\\\\n",
       "\t5000 & 101067 & 22070.31 & 0.6134445 & 0.2338845 & 0.15267100 & 17187.98 & 0.4869603 & 0.4232996 & 0.3596701 & 1 & 0 & 1 & 2 & 5000\\\\\n",
       "\t6000 &  47218 & 21069.07 & 0.6135796 & 0.2348469 & 0.15157355 & 17342.74 & 0.4869288 & 0.4239031 & 0.3586070 & 1 & 0 & 1 & 2 & 6000\\\\\n",
       "\\end{tabular}\n"
      ],
      "text/markdown": [
       "\n",
       "A data.frame: 6 × 14\n",
       "\n",
       "| <!--/--> | N &lt;dbl&gt; | M1 &lt;dbl&gt; | M2 &lt;dbl&gt; | M3 &lt;dbl&gt; | M4 &lt;dbl&gt; | S1 &lt;dbl&gt; | S2 &lt;dbl&gt; | S3 &lt;dbl&gt; | S4 &lt;dbl&gt; | COST &lt;dbl&gt; | CENS &lt;dbl&gt; | DOM1 &lt;dbl&gt; | DOM2 &lt;dbl&gt; | STRATUM &lt;fct&gt; |\n",
       "|---|---|---|---|---|---|---|---|---|---|---|---|---|---|---|\n",
       "| 1000 | 197007 | 23959.87 | 0.6650322 | 0.2285807 | 0.10638708 | 22179.08 | 0.4719792 | 0.4199185 | 0.3083324 | 1 | 0 | 1 | 2 | 1000 |\n",
       "| 2000 | 261456 | 20966.65 | 0.6709886 | 0.2297519 | 0.09925953 | 19624.65 | 0.4698541 | 0.4206732 | 0.2990102 | 1 | 0 | 1 | 2 | 2000 |\n",
       "| 3000 | 115813 | 19814.73 | 0.6644591 | 0.2315975 | 0.10394343 | 14754.88 | 0.4721792 | 0.4218532 | 0.3051871 | 1 | 0 | 1 | 2 | 3000 |\n",
       "| 4000 |  17241 | 18732.72 | 0.6273418 | 0.2499275 | 0.12273070 | 13462.74 | 0.4835122 | 0.4329708 | 0.3281278 | 1 | 0 | 1 | 2 | 4000 |\n",
       "| 5000 | 101067 | 22070.31 | 0.6134445 | 0.2338845 | 0.15267100 | 17187.98 | 0.4869603 | 0.4232996 | 0.3596701 | 1 | 0 | 1 | 2 | 5000 |\n",
       "| 6000 |  47218 | 21069.07 | 0.6135796 | 0.2348469 | 0.15157355 | 17342.74 | 0.4869288 | 0.4239031 | 0.3586070 | 1 | 0 | 1 | 2 | 6000 |\n",
       "\n"
      ],
      "text/plain": [
       "     N      M1       M2        M3        M4         S1       S2       \n",
       "1000 197007 23959.87 0.6650322 0.2285807 0.10638708 22179.08 0.4719792\n",
       "2000 261456 20966.65 0.6709886 0.2297519 0.09925953 19624.65 0.4698541\n",
       "3000 115813 19814.73 0.6644591 0.2315975 0.10394343 14754.88 0.4721792\n",
       "4000  17241 18732.72 0.6273418 0.2499275 0.12273070 13462.74 0.4835122\n",
       "5000 101067 22070.31 0.6134445 0.2338845 0.15267100 17187.98 0.4869603\n",
       "6000  47218 21069.07 0.6135796 0.2348469 0.15157355 17342.74 0.4869288\n",
       "     S3        S4        COST CENS DOM1 DOM2 STRATUM\n",
       "1000 0.4199185 0.3083324 1    0    1    2    1000   \n",
       "2000 0.4206732 0.2990102 1    0    1    2    2000   \n",
       "3000 0.4218532 0.3051871 1    0    1    2    3000   \n",
       "4000 0.4329708 0.3281278 1    0    1    2    4000   \n",
       "5000 0.4232996 0.3596701 1    0    1    2    5000   \n",
       "6000 0.4239031 0.3586070 1    0    1    2    6000   "
      ]
     },
     "metadata": {},
     "output_type": "display_data"
    }
   ],
   "source": [
    "head(inp$strata)"
   ]
  },
  {
   "cell_type": "code",
   "execution_count": 8,
   "id": "48677dc4-b8e0-4a60-b5e2-1cb815a916ab",
   "metadata": {},
   "outputs": [
    {
     "data": {
      "text/html": [
       "<table class=\"dataframe\">\n",
       "<caption>A data.frame: 6 × 6</caption>\n",
       "<thead>\n",
       "\t<tr><th></th><th scope=col>STRATUM</th><th scope=col>DEFF1</th><th scope=col>DEFF2</th><th scope=col>DEFF3</th><th scope=col>DEFF4</th><th scope=col>b_nar</th></tr>\n",
       "\t<tr><th></th><th scope=col>&lt;fct&gt;</th><th scope=col>&lt;dbl&gt;</th><th scope=col>&lt;dbl&gt;</th><th scope=col>&lt;dbl&gt;</th><th scope=col>&lt;dbl&gt;</th><th scope=col>&lt;dbl&gt;</th></tr>\n",
       "</thead>\n",
       "<tbody>\n",
       "\t<tr><th scope=row>1</th><td>1000</td><td>1.5</td><td>1.5</td><td>1.5</td><td>1.5</td><td>4925.17500</td></tr>\n",
       "\t<tr><th scope=row>12</th><td>2000</td><td>1.5</td><td>1.5</td><td>1.5</td><td>1.5</td><td>1005.60000</td></tr>\n",
       "\t<tr><th scope=row>18</th><td>3000</td><td>1.5</td><td>1.5</td><td>1.5</td><td>1.5</td><td> 222.71731</td></tr>\n",
       "\t<tr><th scope=row>19</th><td>4000</td><td>1.5</td><td>1.5</td><td>1.5</td><td>1.5</td><td>  47.89167</td></tr>\n",
       "\t<tr><th scope=row>20</th><td>5000</td><td>1.5</td><td>1.5</td><td>1.5</td><td>1.5</td><td>2526.67500</td></tr>\n",
       "\t<tr><th scope=row>21</th><td>6000</td><td>1.5</td><td>1.5</td><td>1.5</td><td>1.5</td><td> 786.96667</td></tr>\n",
       "</tbody>\n",
       "</table>\n"
      ],
      "text/latex": [
       "A data.frame: 6 × 6\n",
       "\\begin{tabular}{r|llllll}\n",
       "  & STRATUM & DEFF1 & DEFF2 & DEFF3 & DEFF4 & b\\_nar\\\\\n",
       "  & <fct> & <dbl> & <dbl> & <dbl> & <dbl> & <dbl>\\\\\n",
       "\\hline\n",
       "\t1 & 1000 & 1.5 & 1.5 & 1.5 & 1.5 & 4925.17500\\\\\n",
       "\t12 & 2000 & 1.5 & 1.5 & 1.5 & 1.5 & 1005.60000\\\\\n",
       "\t18 & 3000 & 1.5 & 1.5 & 1.5 & 1.5 &  222.71731\\\\\n",
       "\t19 & 4000 & 1.5 & 1.5 & 1.5 & 1.5 &   47.89167\\\\\n",
       "\t20 & 5000 & 1.5 & 1.5 & 1.5 & 1.5 & 2526.67500\\\\\n",
       "\t21 & 6000 & 1.5 & 1.5 & 1.5 & 1.5 &  786.96667\\\\\n",
       "\\end{tabular}\n"
      ],
      "text/markdown": [
       "\n",
       "A data.frame: 6 × 6\n",
       "\n",
       "| <!--/--> | STRATUM &lt;fct&gt; | DEFF1 &lt;dbl&gt; | DEFF2 &lt;dbl&gt; | DEFF3 &lt;dbl&gt; | DEFF4 &lt;dbl&gt; | b_nar &lt;dbl&gt; |\n",
       "|---|---|---|---|---|---|---|\n",
       "| 1 | 1000 | 1.5 | 1.5 | 1.5 | 1.5 | 4925.17500 |\n",
       "| 12 | 2000 | 1.5 | 1.5 | 1.5 | 1.5 | 1005.60000 |\n",
       "| 18 | 3000 | 1.5 | 1.5 | 1.5 | 1.5 |  222.71731 |\n",
       "| 19 | 4000 | 1.5 | 1.5 | 1.5 | 1.5 |   47.89167 |\n",
       "| 20 | 5000 | 1.5 | 1.5 | 1.5 | 1.5 | 2526.67500 |\n",
       "| 21 | 6000 | 1.5 | 1.5 | 1.5 | 1.5 |  786.96667 |\n",
       "\n"
      ],
      "text/plain": [
       "   STRATUM DEFF1 DEFF2 DEFF3 DEFF4 b_nar     \n",
       "1  1000    1.5   1.5   1.5   1.5   4925.17500\n",
       "12 2000    1.5   1.5   1.5   1.5   1005.60000\n",
       "18 3000    1.5   1.5   1.5   1.5    222.71731\n",
       "19 4000    1.5   1.5   1.5   1.5     47.89167\n",
       "20 5000    1.5   1.5   1.5   1.5   2526.67500\n",
       "21 6000    1.5   1.5   1.5   1.5    786.96667"
      ]
     },
     "metadata": {},
     "output_type": "display_data"
    }
   ],
   "source": [
    "head(inp$deff)"
   ]
  },
  {
   "cell_type": "code",
   "execution_count": 9,
   "id": "9a3019d8-71d7-4d38-ac61-7f28c03884f3",
   "metadata": {},
   "outputs": [
    {
     "data": {
      "text/html": [
       "<table class=\"dataframe\">\n",
       "<caption>A data.frame: 6 × 5</caption>\n",
       "<thead>\n",
       "\t<tr><th></th><th scope=col>STRATUM</th><th scope=col>EFFST1</th><th scope=col>EFFST2</th><th scope=col>EFFST3</th><th scope=col>EFFST4</th></tr>\n",
       "\t<tr><th></th><th scope=col>&lt;fct&gt;</th><th scope=col>&lt;dbl&gt;</th><th scope=col>&lt;dbl&gt;</th><th scope=col>&lt;dbl&gt;</th><th scope=col>&lt;dbl&gt;</th></tr>\n",
       "</thead>\n",
       "<tbody>\n",
       "\t<tr><th scope=row>1</th><td>1000</td><td>1</td><td>1</td><td>1</td><td>1</td></tr>\n",
       "\t<tr><th scope=row>2</th><td>2000</td><td>1</td><td>1</td><td>1</td><td>1</td></tr>\n",
       "\t<tr><th scope=row>3</th><td>3000</td><td>1</td><td>1</td><td>1</td><td>1</td></tr>\n",
       "\t<tr><th scope=row>4</th><td>4000</td><td>1</td><td>1</td><td>1</td><td>1</td></tr>\n",
       "\t<tr><th scope=row>5</th><td>5000</td><td>1</td><td>1</td><td>1</td><td>1</td></tr>\n",
       "\t<tr><th scope=row>6</th><td>6000</td><td>1</td><td>1</td><td>1</td><td>1</td></tr>\n",
       "</tbody>\n",
       "</table>\n"
      ],
      "text/latex": [
       "A data.frame: 6 × 5\n",
       "\\begin{tabular}{r|lllll}\n",
       "  & STRATUM & EFFST1 & EFFST2 & EFFST3 & EFFST4\\\\\n",
       "  & <fct> & <dbl> & <dbl> & <dbl> & <dbl>\\\\\n",
       "\\hline\n",
       "\t1 & 1000 & 1 & 1 & 1 & 1\\\\\n",
       "\t2 & 2000 & 1 & 1 & 1 & 1\\\\\n",
       "\t3 & 3000 & 1 & 1 & 1 & 1\\\\\n",
       "\t4 & 4000 & 1 & 1 & 1 & 1\\\\\n",
       "\t5 & 5000 & 1 & 1 & 1 & 1\\\\\n",
       "\t6 & 6000 & 1 & 1 & 1 & 1\\\\\n",
       "\\end{tabular}\n"
      ],
      "text/markdown": [
       "\n",
       "A data.frame: 6 × 5\n",
       "\n",
       "| <!--/--> | STRATUM &lt;fct&gt; | EFFST1 &lt;dbl&gt; | EFFST2 &lt;dbl&gt; | EFFST3 &lt;dbl&gt; | EFFST4 &lt;dbl&gt; |\n",
       "|---|---|---|---|---|---|\n",
       "| 1 | 1000 | 1 | 1 | 1 | 1 |\n",
       "| 2 | 2000 | 1 | 1 | 1 | 1 |\n",
       "| 3 | 3000 | 1 | 1 | 1 | 1 |\n",
       "| 4 | 4000 | 1 | 1 | 1 | 1 |\n",
       "| 5 | 5000 | 1 | 1 | 1 | 1 |\n",
       "| 6 | 6000 | 1 | 1 | 1 | 1 |\n",
       "\n"
      ],
      "text/plain": [
       "  STRATUM EFFST1 EFFST2 EFFST3 EFFST4\n",
       "1 1000    1      1      1      1     \n",
       "2 2000    1      1      1      1     \n",
       "3 3000    1      1      1      1     \n",
       "4 4000    1      1      1      1     \n",
       "5 5000    1      1      1      1     \n",
       "6 6000    1      1      1      1     "
      ]
     },
     "metadata": {},
     "output_type": "display_data"
    }
   ],
   "source": [
    "head(inp$effst)"
   ]
  },
  {
   "cell_type": "code",
   "execution_count": 10,
   "id": "19a4cd0c-7049-4be4-b61c-832b4a63c6e9",
   "metadata": {},
   "outputs": [
    {
     "data": {
      "text/html": [
       "<table class=\"dataframe\">\n",
       "<caption>A data.frame: 6 × 9</caption>\n",
       "<thead>\n",
       "\t<tr><th></th><th scope=col>STRATUM</th><th scope=col>RHO_AR1</th><th scope=col>RHO_NAR1</th><th scope=col>RHO_AR2</th><th scope=col>RHO_NAR2</th><th scope=col>RHO_AR3</th><th scope=col>RHO_NAR3</th><th scope=col>RHO_AR4</th><th scope=col>RHO_NAR4</th></tr>\n",
       "\t<tr><th></th><th scope=col>&lt;fct&gt;</th><th scope=col>&lt;dbl&gt;</th><th scope=col>&lt;dbl&gt;</th><th scope=col>&lt;dbl&gt;</th><th scope=col>&lt;dbl&gt;</th><th scope=col>&lt;dbl&gt;</th><th scope=col>&lt;dbl&gt;</th><th scope=col>&lt;dbl&gt;</th><th scope=col>&lt;dbl&gt;</th></tr>\n",
       "</thead>\n",
       "<tbody>\n",
       "\t<tr><th scope=row>1</th><td>1000</td><td>1</td><td>0.0032494875</td><td>1</td><td>0.00001260175649</td><td>1</td><td>0.0000003631192</td><td>1</td><td>0.000039120880</td></tr>\n",
       "\t<tr><th scope=row>2</th><td>2000</td><td>1</td><td>0.0028554017</td><td>1</td><td>0.00150936389450</td><td>1</td><td>0.0007420929883</td><td>1</td><td>0.000937018761</td></tr>\n",
       "\t<tr><th scope=row>3</th><td>3000</td><td>1</td><td>0.0069678726</td><td>1</td><td>0.00162968276279</td><td>1</td><td>0.0006469515878</td><td>1</td><td>0.002837431259</td></tr>\n",
       "\t<tr><th scope=row>4</th><td>4000</td><td>1</td><td>0.0114552934</td><td>1</td><td>0.00578473329221</td><td>1</td><td>0.0019797687826</td><td>1</td><td>0.008962657055</td></tr>\n",
       "\t<tr><th scope=row>5</th><td>5000</td><td>1</td><td>0.0002677333</td><td>1</td><td>0.00000001682475</td><td>1</td><td>0.0000029484212</td><td>1</td><td>0.000003404961</td></tr>\n",
       "\t<tr><th scope=row>6</th><td>6000</td><td>1</td><td>0.0057050500</td><td>1</td><td>0.00004270905958</td><td>1</td><td>0.0000397945795</td><td>1</td><td>0.000194411580</td></tr>\n",
       "</tbody>\n",
       "</table>\n"
      ],
      "text/latex": [
       "A data.frame: 6 × 9\n",
       "\\begin{tabular}{r|lllllllll}\n",
       "  & STRATUM & RHO\\_AR1 & RHO\\_NAR1 & RHO\\_AR2 & RHO\\_NAR2 & RHO\\_AR3 & RHO\\_NAR3 & RHO\\_AR4 & RHO\\_NAR4\\\\\n",
       "  & <fct> & <dbl> & <dbl> & <dbl> & <dbl> & <dbl> & <dbl> & <dbl> & <dbl>\\\\\n",
       "\\hline\n",
       "\t1 & 1000 & 1 & 0.0032494875 & 1 & 0.00001260175649 & 1 & 0.0000003631192 & 1 & 0.000039120880\\\\\n",
       "\t2 & 2000 & 1 & 0.0028554017 & 1 & 0.00150936389450 & 1 & 0.0007420929883 & 1 & 0.000937018761\\\\\n",
       "\t3 & 3000 & 1 & 0.0069678726 & 1 & 0.00162968276279 & 1 & 0.0006469515878 & 1 & 0.002837431259\\\\\n",
       "\t4 & 4000 & 1 & 0.0114552934 & 1 & 0.00578473329221 & 1 & 0.0019797687826 & 1 & 0.008962657055\\\\\n",
       "\t5 & 5000 & 1 & 0.0002677333 & 1 & 0.00000001682475 & 1 & 0.0000029484212 & 1 & 0.000003404961\\\\\n",
       "\t6 & 6000 & 1 & 0.0057050500 & 1 & 0.00004270905958 & 1 & 0.0000397945795 & 1 & 0.000194411580\\\\\n",
       "\\end{tabular}\n"
      ],
      "text/markdown": [
       "\n",
       "A data.frame: 6 × 9\n",
       "\n",
       "| <!--/--> | STRATUM &lt;fct&gt; | RHO_AR1 &lt;dbl&gt; | RHO_NAR1 &lt;dbl&gt; | RHO_AR2 &lt;dbl&gt; | RHO_NAR2 &lt;dbl&gt; | RHO_AR3 &lt;dbl&gt; | RHO_NAR3 &lt;dbl&gt; | RHO_AR4 &lt;dbl&gt; | RHO_NAR4 &lt;dbl&gt; |\n",
       "|---|---|---|---|---|---|---|---|---|---|\n",
       "| 1 | 1000 | 1 | 0.0032494875 | 1 | 0.00001260175649 | 1 | 0.0000003631192 | 1 | 0.000039120880 |\n",
       "| 2 | 2000 | 1 | 0.0028554017 | 1 | 0.00150936389450 | 1 | 0.0007420929883 | 1 | 0.000937018761 |\n",
       "| 3 | 3000 | 1 | 0.0069678726 | 1 | 0.00162968276279 | 1 | 0.0006469515878 | 1 | 0.002837431259 |\n",
       "| 4 | 4000 | 1 | 0.0114552934 | 1 | 0.00578473329221 | 1 | 0.0019797687826 | 1 | 0.008962657055 |\n",
       "| 5 | 5000 | 1 | 0.0002677333 | 1 | 0.00000001682475 | 1 | 0.0000029484212 | 1 | 0.000003404961 |\n",
       "| 6 | 6000 | 1 | 0.0057050500 | 1 | 0.00004270905958 | 1 | 0.0000397945795 | 1 | 0.000194411580 |\n",
       "\n"
      ],
      "text/plain": [
       "  STRATUM RHO_AR1 RHO_NAR1     RHO_AR2 RHO_NAR2         RHO_AR3 RHO_NAR3       \n",
       "1 1000    1       0.0032494875 1       0.00001260175649 1       0.0000003631192\n",
       "2 2000    1       0.0028554017 1       0.00150936389450 1       0.0007420929883\n",
       "3 3000    1       0.0069678726 1       0.00162968276279 1       0.0006469515878\n",
       "4 4000    1       0.0114552934 1       0.00578473329221 1       0.0019797687826\n",
       "5 5000    1       0.0002677333 1       0.00000001682475 1       0.0000029484212\n",
       "6 6000    1       0.0057050500 1       0.00004270905958 1       0.0000397945795\n",
       "  RHO_AR4 RHO_NAR4      \n",
       "1 1       0.000039120880\n",
       "2 1       0.000937018761\n",
       "3 1       0.002837431259\n",
       "4 1       0.008962657055\n",
       "5 1       0.000003404961\n",
       "6 1       0.000194411580"
      ]
     },
     "metadata": {},
     "output_type": "display_data"
    }
   ],
   "source": [
    "head(inp$rho)"
   ]
  },
  {
   "cell_type": "code",
   "execution_count": 11,
   "id": "6bd08c00-f0c4-4e3b-bd2a-641ac1f260d6",
   "metadata": {},
   "outputs": [
    {
     "data": {
      "text/html": [
       "<table class=\"dataframe\">\n",
       "<caption>A data.frame: 6 × 3</caption>\n",
       "<thead>\n",
       "\t<tr><th></th><th scope=col>PSU_ID</th><th scope=col>STRATUM</th><th scope=col>PSU_MOS</th></tr>\n",
       "\t<tr><th></th><th scope=col>&lt;dbl&gt;</th><th scope=col>&lt;fct&gt;</th><th scope=col>&lt;dbl&gt;</th></tr>\n",
       "</thead>\n",
       "<tbody>\n",
       "\t<tr><th scope=row>1</th><td>1</td><td>12000</td><td> 1546</td></tr>\n",
       "\t<tr><th scope=row>2</th><td>2</td><td>12000</td><td>  936</td></tr>\n",
       "\t<tr><th scope=row>3</th><td>3</td><td>12000</td><td>  367</td></tr>\n",
       "\t<tr><th scope=row>4</th><td>4</td><td>10000</td><td>13032</td></tr>\n",
       "\t<tr><th scope=row>5</th><td>5</td><td>12000</td><td>  678</td></tr>\n",
       "\t<tr><th scope=row>6</th><td>6</td><td>11000</td><td> 3193</td></tr>\n",
       "</tbody>\n",
       "</table>\n"
      ],
      "text/latex": [
       "A data.frame: 6 × 3\n",
       "\\begin{tabular}{r|lll}\n",
       "  & PSU\\_ID & STRATUM & PSU\\_MOS\\\\\n",
       "  & <dbl> & <fct> & <dbl>\\\\\n",
       "\\hline\n",
       "\t1 & 1 & 12000 &  1546\\\\\n",
       "\t2 & 2 & 12000 &   936\\\\\n",
       "\t3 & 3 & 12000 &   367\\\\\n",
       "\t4 & 4 & 10000 & 13032\\\\\n",
       "\t5 & 5 & 12000 &   678\\\\\n",
       "\t6 & 6 & 11000 &  3193\\\\\n",
       "\\end{tabular}\n"
      ],
      "text/markdown": [
       "\n",
       "A data.frame: 6 × 3\n",
       "\n",
       "| <!--/--> | PSU_ID &lt;dbl&gt; | STRATUM &lt;fct&gt; | PSU_MOS &lt;dbl&gt; |\n",
       "|---|---|---|---|\n",
       "| 1 | 1 | 12000 |  1546 |\n",
       "| 2 | 2 | 12000 |   936 |\n",
       "| 3 | 3 | 12000 |   367 |\n",
       "| 4 | 4 | 10000 | 13032 |\n",
       "| 5 | 5 | 12000 |   678 |\n",
       "| 6 | 6 | 11000 |  3193 |\n",
       "\n"
      ],
      "text/plain": [
       "  PSU_ID STRATUM PSU_MOS\n",
       "1 1      12000    1546  \n",
       "2 2      12000     936  \n",
       "3 3      12000     367  \n",
       "4 4      10000   13032  \n",
       "5 5      12000     678  \n",
       "6 6      11000    3193  "
      ]
     },
     "metadata": {},
     "output_type": "display_data"
    }
   ],
   "source": [
    "head(inp$psu_file)"
   ]
  },
  {
   "cell_type": "code",
   "execution_count": 12,
   "id": "f41c4eeb-0fb0-46d2-8d5c-ead1bfc5bb89",
   "metadata": {},
   "outputs": [
    {
     "data": {
      "text/html": [
       "<table class=\"dataframe\">\n",
       "<caption>A data.frame: 6 × 4</caption>\n",
       "<thead>\n",
       "\t<tr><th></th><th scope=col>STRATUM</th><th scope=col>STRAT_MOS</th><th scope=col>DELTA</th><th scope=col>MINIMUM</th></tr>\n",
       "\t<tr><th></th><th scope=col>&lt;fct&gt;</th><th scope=col>&lt;dbl&gt;</th><th scope=col>&lt;dbl&gt;</th><th scope=col>&lt;dbl&gt;</th></tr>\n",
       "</thead>\n",
       "<tbody>\n",
       "\t<tr><th scope=row>1</th><td>1000</td><td>197007</td><td>1</td><td>50</td></tr>\n",
       "\t<tr><th scope=row>2</th><td>2000</td><td>261456</td><td>1</td><td>50</td></tr>\n",
       "\t<tr><th scope=row>3</th><td>3000</td><td>115813</td><td>1</td><td>50</td></tr>\n",
       "\t<tr><th scope=row>4</th><td>4000</td><td> 17241</td><td>1</td><td>50</td></tr>\n",
       "\t<tr><th scope=row>5</th><td>5000</td><td>101067</td><td>1</td><td>50</td></tr>\n",
       "\t<tr><th scope=row>6</th><td>6000</td><td> 47218</td><td>1</td><td>50</td></tr>\n",
       "</tbody>\n",
       "</table>\n"
      ],
      "text/latex": [
       "A data.frame: 6 × 4\n",
       "\\begin{tabular}{r|llll}\n",
       "  & STRATUM & STRAT\\_MOS & DELTA & MINIMUM\\\\\n",
       "  & <fct> & <dbl> & <dbl> & <dbl>\\\\\n",
       "\\hline\n",
       "\t1 & 1000 & 197007 & 1 & 50\\\\\n",
       "\t2 & 2000 & 261456 & 1 & 50\\\\\n",
       "\t3 & 3000 & 115813 & 1 & 50\\\\\n",
       "\t4 & 4000 &  17241 & 1 & 50\\\\\n",
       "\t5 & 5000 & 101067 & 1 & 50\\\\\n",
       "\t6 & 6000 &  47218 & 1 & 50\\\\\n",
       "\\end{tabular}\n"
      ],
      "text/markdown": [
       "\n",
       "A data.frame: 6 × 4\n",
       "\n",
       "| <!--/--> | STRATUM &lt;fct&gt; | STRAT_MOS &lt;dbl&gt; | DELTA &lt;dbl&gt; | MINIMUM &lt;dbl&gt; |\n",
       "|---|---|---|---|---|\n",
       "| 1 | 1000 | 197007 | 1 | 50 |\n",
       "| 2 | 2000 | 261456 | 1 | 50 |\n",
       "| 3 | 3000 | 115813 | 1 | 50 |\n",
       "| 4 | 4000 |  17241 | 1 | 50 |\n",
       "| 5 | 5000 | 101067 | 1 | 50 |\n",
       "| 6 | 6000 |  47218 | 1 | 50 |\n",
       "\n"
      ],
      "text/plain": [
       "  STRATUM STRAT_MOS DELTA MINIMUM\n",
       "1 1000    197007    1     50     \n",
       "2 2000    261456    1     50     \n",
       "3 3000    115813    1     50     \n",
       "4 4000     17241    1     50     \n",
       "5 5000    101067    1     50     \n",
       "6 6000     47218    1     50     "
      ]
     },
     "metadata": {},
     "output_type": "display_data"
    }
   ],
   "source": [
    "head(inp$des_file)"
   ]
  },
  {
   "cell_type": "markdown",
   "id": "38ef19d1-4370-489c-9c91-d285a25f70b2",
   "metadata": {},
   "source": [
    "## Allocation"
   ]
  },
  {
   "cell_type": "code",
   "execution_count": 13,
   "id": "af3c8bf0-6d3c-4d7e-a2ad-79010a9e1f83",
   "metadata": {},
   "outputs": [
    {
     "name": "stdout",
     "output_type": "stream",
     "text": [
      "  iterations PSU_SR PSU NSR PSU Total   SSU\n",
      "1          0      0       0         0  7836\n",
      "2          1     26      82       108  8297\n",
      "3          2     26      87       113 34715\n",
      "4          3     44      86       130  8291\n",
      "5          4     25      87       112  8296\n"
     ]
    }
   ],
   "source": [
    "minPSUstrat <- 1\n",
    "inp$desfile$MINIMUM <- 50\n",
    "alloc <- beat.2st(stratif = inp$strata, \n",
    "                  errors = cv, \n",
    "                  des_file = inp$des_file, \n",
    "                  psu_file = inp$psu_file, \n",
    "                  rho = inp$rho, \n",
    "                  deft_start = NULL, \n",
    "                  effst = inp$effst,\n",
    "                  epsilon1 = 5, \n",
    "                  mmdiff_deft = 1,\n",
    "                  maxi = 15, \n",
    "                  epsilon = 10^(-11), \n",
    "                  minPSUstrat,\n",
    "                  minnumstrat = 2, \n",
    "                  maxiter = 200, \n",
    "                  maxiter1 = 25)"
   ]
  },
  {
   "cell_type": "markdown",
   "id": "67730033-af0d-4c40-ba53-002f93f1b304",
   "metadata": {},
   "source": [
    "## Selection of PSUs (I stage)"
   ]
  },
  {
   "cell_type": "code",
   "execution_count": 14,
   "id": "12318460-beb6-451e-8b51-6fee22562a0f",
   "metadata": {},
   "outputs": [
    {
     "data": {
      "image/png": "[encoded data removed]",
      "text/plain": [
       "Plot with title \"SSUs by strata\""
      ]
     },
     "metadata": {
      "image/png": {
       "height": 420,
       "width": 420
      }
     },
     "output_type": "display_data"
    }
   ],
   "source": [
    "set.seed(1234)\n",
    "sample_1st <- select_PSU(alloc, type=\"ALLOC\", pps=TRUE)"
   ]
  },
  {
   "cell_type": "code",
   "execution_count": 15,
   "id": "506c1e9f-b636-4f3d-914b-e2ba2be406b8",
   "metadata": {},
   "outputs": [
    {
     "data": {
      "text/html": [
       "<table class=\"dataframe\">\n",
       "<caption>A data.frame: 25 × 7</caption>\n",
       "<thead>\n",
       "\t<tr><th scope=col>STRATUM</th><th scope=col>PSU</th><th scope=col>PSU_SR</th><th scope=col>PSU_NSR</th><th scope=col>SSU</th><th scope=col>SSU_SR</th><th scope=col>SSU_NSR</th></tr>\n",
       "\t<tr><th scope=col>&lt;chr&gt;</th><th scope=col>&lt;dbl&gt;</th><th scope=col>&lt;dbl&gt;</th><th scope=col>&lt;dbl&gt;</th><th scope=col>&lt;dbl&gt;</th><th scope=col>&lt;dbl&gt;</th><th scope=col>&lt;dbl&gt;</th></tr>\n",
       "</thead>\n",
       "<tbody>\n",
       "\t<tr><td>1000 </td><td> 19</td><td> 0</td><td>19</td><td>1121</td><td> 287</td><td>   0</td></tr>\n",
       "\t<tr><td>10000</td><td>  2</td><td> 2</td><td> 0</td><td> 287</td><td> 588</td><td>   0</td></tr>\n",
       "\t<tr><td>11000</td><td>  1</td><td> 0</td><td> 1</td><td>  32</td><td>   0</td><td>1121</td></tr>\n",
       "\t<tr><td>12000</td><td>  4</td><td> 0</td><td> 4</td><td> 178</td><td>   0</td><td> 341</td></tr>\n",
       "\t<tr><td>13000</td><td>  1</td><td> 0</td><td> 1</td><td>  51</td><td> 704</td><td>   0</td></tr>\n",
       "\t<tr><td>14000</td><td>  2</td><td> 1</td><td> 1</td><td>  81</td><td> 577</td><td>   0</td></tr>\n",
       "\t<tr><td>15000</td><td>  2</td><td> 2</td><td> 0</td><td> 172</td><td> 161</td><td>1059</td></tr>\n",
       "\t<tr><td>16000</td><td>  1</td><td> 0</td><td> 1</td><td>  53</td><td>   0</td><td> 808</td></tr>\n",
       "\t<tr><td>17000</td><td>  3</td><td> 0</td><td> 3</td><td> 145</td><td> 156</td><td>   0</td></tr>\n",
       "\t<tr><td>18000</td><td>  3</td><td> 1</td><td> 2</td><td> 133</td><td>  19</td><td> 114</td></tr>\n",
       "\t<tr><td>19000</td><td>  6</td><td> 0</td><td> 6</td><td> 300</td><td>   0</td><td> 300</td></tr>\n",
       "\t<tr><td>2000 </td><td>  1</td><td> 1</td><td> 0</td><td> 558</td><td>  52</td><td> 324</td></tr>\n",
       "\t<tr><td>20000</td><td>  1</td><td> 1</td><td> 0</td><td> 156</td><td>   0</td><td> 145</td></tr>\n",
       "\t<tr><td>21000</td><td>  3</td><td> 0</td><td> 3</td><td> 127</td><td> 126</td><td>   0</td></tr>\n",
       "\t<tr><td>22000</td><td>  1</td><td> 1</td><td> 0</td><td> 126</td><td>  51</td><td>  84</td></tr>\n",
       "\t<tr><td>23000</td><td>  1</td><td> 0</td><td> 1</td><td>  21</td><td>   0</td><td> 127</td></tr>\n",
       "\t<tr><td>24000</td><td>  2</td><td> 1</td><td> 1</td><td> 135</td><td>   0</td><td>  21</td></tr>\n",
       "\t<tr><td>3000 </td><td>  6</td><td> 6</td><td> 0</td><td> 588</td><td>   0</td><td> 178</td></tr>\n",
       "\t<tr><td>4000 </td><td>  7</td><td> 0</td><td> 7</td><td> 341</td><td>   0</td><td>  32</td></tr>\n",
       "\t<tr><td>5000 </td><td> 15</td><td> 0</td><td>15</td><td> 808</td><td> 172</td><td>   0</td></tr>\n",
       "\t<tr><td>6000 </td><td>  1</td><td> 1</td><td> 0</td><td> 704</td><td>  18</td><td>  63</td></tr>\n",
       "\t<tr><td>7000 </td><td>  4</td><td> 4</td><td> 0</td><td> 577</td><td>   0</td><td>  53</td></tr>\n",
       "\t<tr><td>8000 </td><td> 20</td><td> 3</td><td>17</td><td>1220</td><td>   0</td><td>  51</td></tr>\n",
       "\t<tr><td>9000 </td><td>  6</td><td> 1</td><td> 5</td><td> 376</td><td> 558</td><td>   0</td></tr>\n",
       "\t<tr><td>Total</td><td>112</td><td>25</td><td>87</td><td>8290</td><td>3469</td><td>4821</td></tr>\n",
       "</tbody>\n",
       "</table>\n"
      ],
      "text/latex": [
       "A data.frame: 25 × 7\n",
       "\\begin{tabular}{lllllll}\n",
       " STRATUM & PSU & PSU\\_SR & PSU\\_NSR & SSU & SSU\\_SR & SSU\\_NSR\\\\\n",
       " <chr> & <dbl> & <dbl> & <dbl> & <dbl> & <dbl> & <dbl>\\\\\n",
       "\\hline\n",
       "\t 1000  &  19 &  0 & 19 & 1121 &  287 &    0\\\\\n",
       "\t 10000 &   2 &  2 &  0 &  287 &  588 &    0\\\\\n",
       "\t 11000 &   1 &  0 &  1 &   32 &    0 & 1121\\\\\n",
       "\t 12000 &   4 &  0 &  4 &  178 &    0 &  341\\\\\n",
       "\t 13000 &   1 &  0 &  1 &   51 &  704 &    0\\\\\n",
       "\t 14000 &   2 &  1 &  1 &   81 &  577 &    0\\\\\n",
       "\t 15000 &   2 &  2 &  0 &  172 &  161 & 1059\\\\\n",
       "\t 16000 &   1 &  0 &  1 &   53 &    0 &  808\\\\\n",
       "\t 17000 &   3 &  0 &  3 &  145 &  156 &    0\\\\\n",
       "\t 18000 &   3 &  1 &  2 &  133 &   19 &  114\\\\\n",
       "\t 19000 &   6 &  0 &  6 &  300 &    0 &  300\\\\\n",
       "\t 2000  &   1 &  1 &  0 &  558 &   52 &  324\\\\\n",
       "\t 20000 &   1 &  1 &  0 &  156 &    0 &  145\\\\\n",
       "\t 21000 &   3 &  0 &  3 &  127 &  126 &    0\\\\\n",
       "\t 22000 &   1 &  1 &  0 &  126 &   51 &   84\\\\\n",
       "\t 23000 &   1 &  0 &  1 &   21 &    0 &  127\\\\\n",
       "\t 24000 &   2 &  1 &  1 &  135 &    0 &   21\\\\\n",
       "\t 3000  &   6 &  6 &  0 &  588 &    0 &  178\\\\\n",
       "\t 4000  &   7 &  0 &  7 &  341 &    0 &   32\\\\\n",
       "\t 5000  &  15 &  0 & 15 &  808 &  172 &    0\\\\\n",
       "\t 6000  &   1 &  1 &  0 &  704 &   18 &   63\\\\\n",
       "\t 7000  &   4 &  4 &  0 &  577 &    0 &   53\\\\\n",
       "\t 8000  &  20 &  3 & 17 & 1220 &    0 &   51\\\\\n",
       "\t 9000  &   6 &  1 &  5 &  376 &  558 &    0\\\\\n",
       "\t Total & 112 & 25 & 87 & 8290 & 3469 & 4821\\\\\n",
       "\\end{tabular}\n"
      ],
      "text/markdown": [
       "\n",
       "A data.frame: 25 × 7\n",
       "\n",
       "| STRATUM &lt;chr&gt; | PSU &lt;dbl&gt; | PSU_SR &lt;dbl&gt; | PSU_NSR &lt;dbl&gt; | SSU &lt;dbl&gt; | SSU_SR &lt;dbl&gt; | SSU_NSR &lt;dbl&gt; |\n",
       "|---|---|---|---|---|---|---|\n",
       "| 1000  |  19 |  0 | 19 | 1121 |  287 |    0 |\n",
       "| 10000 |   2 |  2 |  0 |  287 |  588 |    0 |\n",
       "| 11000 |   1 |  0 |  1 |   32 |    0 | 1121 |\n",
       "| 12000 |   4 |  0 |  4 |  178 |    0 |  341 |\n",
       "| 13000 |   1 |  0 |  1 |   51 |  704 |    0 |\n",
       "| 14000 |   2 |  1 |  1 |   81 |  577 |    0 |\n",
       "| 15000 |   2 |  2 |  0 |  172 |  161 | 1059 |\n",
       "| 16000 |   1 |  0 |  1 |   53 |    0 |  808 |\n",
       "| 17000 |   3 |  0 |  3 |  145 |  156 |    0 |\n",
       "| 18000 |   3 |  1 |  2 |  133 |   19 |  114 |\n",
       "| 19000 |   6 |  0 |  6 |  300 |    0 |  300 |\n",
       "| 2000  |   1 |  1 |  0 |  558 |   52 |  324 |\n",
       "| 20000 |   1 |  1 |  0 |  156 |    0 |  145 |\n",
       "| 21000 |   3 |  0 |  3 |  127 |  126 |    0 |\n",
       "| 22000 |   1 |  1 |  0 |  126 |   51 |   84 |\n",
       "| 23000 |   1 |  0 |  1 |   21 |    0 |  127 |\n",
       "| 24000 |   2 |  1 |  1 |  135 |    0 |   21 |\n",
       "| 3000  |   6 |  6 |  0 |  588 |    0 |  178 |\n",
       "| 4000  |   7 |  0 |  7 |  341 |    0 |   32 |\n",
       "| 5000  |  15 |  0 | 15 |  808 |  172 |    0 |\n",
       "| 6000  |   1 |  1 |  0 |  704 |   18 |   63 |\n",
       "| 7000  |   4 |  4 |  0 |  577 |    0 |   53 |\n",
       "| 8000  |  20 |  3 | 17 | 1220 |    0 |   51 |\n",
       "| 9000  |   6 |  1 |  5 |  376 |  558 |    0 |\n",
       "| Total | 112 | 25 | 87 | 8290 | 3469 | 4821 |\n",
       "\n"
      ],
      "text/plain": [
       "   STRATUM PSU PSU_SR PSU_NSR SSU  SSU_SR SSU_NSR\n",
       "1  1000     19  0     19      1121  287      0   \n",
       "2  10000     2  2      0       287  588      0   \n",
       "3  11000     1  0      1        32    0   1121   \n",
       "4  12000     4  0      4       178    0    341   \n",
       "5  13000     1  0      1        51  704      0   \n",
       "6  14000     2  1      1        81  577      0   \n",
       "7  15000     2  2      0       172  161   1059   \n",
       "8  16000     1  0      1        53    0    808   \n",
       "9  17000     3  0      3       145  156      0   \n",
       "10 18000     3  1      2       133   19    114   \n",
       "11 19000     6  0      6       300    0    300   \n",
       "12 2000      1  1      0       558   52    324   \n",
       "13 20000     1  1      0       156    0    145   \n",
       "14 21000     3  0      3       127  126      0   \n",
       "15 22000     1  1      0       126   51     84   \n",
       "16 23000     1  0      1        21    0    127   \n",
       "17 24000     2  1      1       135    0     21   \n",
       "18 3000      6  6      0       588    0    178   \n",
       "19 4000      7  0      7       341    0     32   \n",
       "20 5000     15  0     15       808  172      0   \n",
       "21 6000      1  1      0       704   18     63   \n",
       "22 7000      4  4      0       577    0     53   \n",
       "23 8000     20  3     17      1220    0     51   \n",
       "24 9000      6  1      5       376  558      0   \n",
       "25 Total   112 25     87      8290 3469   4821   "
      ]
     },
     "metadata": {},
     "output_type": "display_data"
    }
   ],
   "source": [
    "sample_1st$PSU_stats"
   ]
  },
  {
   "cell_type": "markdown",
   "id": "4cb05ba2-3872-4886-a99f-ec1a62908790",
   "metadata": {},
   "source": [
    "## Selection of SSUs (II stage)"
   ]
  },
  {
   "cell_type": "code",
   "execution_count": 16,
   "id": "2454296e-ea81-413f-9e3f-a605efa24412",
   "metadata": {},
   "outputs": [
    {
     "name": "stdout",
     "output_type": "stream",
     "text": [
      "\n",
      "PSU =  1  *** Selected SSU =  72\n",
      "PSU =  2  *** Selected SSU =  558\n",
      "PSU =  3  *** Selected SSU =  51\n",
      "PSU =  4  *** Selected SSU =  105\n",
      "PSU =  5  *** Selected SSU =  54\n",
      "PSU =  6  *** Selected SSU =  79\n",
      "PSU =  7  *** Selected SSU =  52\n",
      "PSU =  8  *** Selected SSU =  68\n",
      "PSU =  9  *** Selected SSU =  51\n",
      "PSU =  10  *** Selected SSU =  50\n",
      "PSU =  11  *** Selected SSU =  57\n",
      "PSU =  12  *** Selected SSU =  73\n",
      "PSU =  13  *** Selected SSU =  52\n",
      "PSU =  14  *** Selected SSU =  87\n",
      "PSU =  15  *** Selected SSU =  58\n",
      "PSU =  16  *** Selected SSU =  58\n",
      "PSU =  17  *** Selected SSU =  54\n",
      "PSU =  18  *** Selected SSU =  187\n",
      "PSU =  19  *** Selected SSU =  56\n",
      "PSU =  20  *** Selected SSU =  58\n",
      "PSU =  21  *** Selected SSU =  53\n",
      "PSU =  22  *** Selected SSU =  52\n",
      "PSU =  23  *** Selected SSU =  15\n",
      "PSU =  24  *** Selected SSU =  77\n",
      "PSU =  25  *** Selected SSU =  52\n",
      "PSU =  26  *** Selected SSU =  61\n",
      "PSU =  27  *** Selected SSU =  54\n",
      "PSU =  28  *** Selected SSU =  58\n",
      "PSU =  29  *** Selected SSU =  56\n",
      "PSU =  30  *** Selected SSU =  59\n",
      "PSU =  31  *** Selected SSU =  61\n",
      "PSU =  32  *** Selected SSU =  65\n",
      "PSU =  33  *** Selected SSU =  65\n",
      "PSU =  34  *** Selected SSU =  52\n",
      "PSU =  35  *** Selected SSU =  54\n",
      "PSU =  36  *** Selected SSU =  107\n",
      "PSU =  37  *** Selected SSU =  82\n",
      "PSU =  38  *** Selected SSU =  54\n",
      "PSU =  39  *** Selected SSU =  53\n",
      "PSU =  40  *** Selected SSU =  72\n",
      "PSU =  41  *** Selected SSU =  56\n",
      "PSU =  42  *** Selected SSU =  51\n",
      "PSU =  43  *** Selected SSU =  54\n",
      "PSU =  44  *** Selected SSU =  52\n",
      "PSU =  45  *** Selected SSU =  48\n",
      "PSU =  46  *** Selected SSU =  87\n",
      "PSU =  47  *** Selected SSU =  62\n",
      "PSU =  48  *** Selected SSU =  57\n",
      "PSU =  49  *** Selected SSU =  57\n",
      "PSU =  50  *** Selected SSU =  52\n",
      "PSU =  51  *** Selected SSU =  130\n",
      "PSU =  52  *** Selected SSU =  52\n",
      "PSU =  53  *** Selected SSU =  103\n",
      "PSU =  54  *** Selected SSU =  54\n",
      "PSU =  55  *** Selected SSU =  237\n",
      "PSU =  56  *** Selected SSU =  57\n",
      "PSU =  57  *** Selected SSU =  53\n",
      "PSU =  58  *** Selected SSU =  53\n",
      "PSU =  59  *** Selected SSU =  66\n",
      "PSU =  60  *** Selected SSU =  51\n",
      "PSU =  61  *** Selected SSU =  58\n",
      "PSU =  62  *** Selected SSU =  704\n",
      "PSU =  63  *** Selected SSU =  55\n",
      "PSU =  64  *** Selected SSU =  55\n",
      "PSU =  65  *** Selected SSU =  51\n",
      "PSU =  66  *** Selected SSU =  71\n",
      "PSU =  67  *** Selected SSU =  51\n",
      "PSU =  68  *** Selected SSU =  59\n",
      "PSU =  69  *** Selected SSU =  60\n",
      "PSU =  70  *** Selected SSU =  60\n",
      "PSU =  71  *** Selected SSU =  63\n",
      "PSU =  72  *** Selected SSU =  60\n",
      "PSU =  73  *** Selected SSU =  56\n",
      "PSU =  74  *** Selected SSU =  64\n",
      "PSU =  75  *** Selected SSU =  15\n",
      "PSU =  76  *** Selected SSU =  52\n",
      "PSU =  77  *** Selected SSU =  74\n",
      "PSU =  78  *** Selected SSU =  54\n",
      "PSU =  79  *** Selected SSU =  52\n",
      "PSU =  80  *** Selected SSU =  54\n",
      "PSU =  81  *** Selected SSU =  32\n",
      "PSU =  82  *** Selected SSU =  213\n",
      "PSU =  83  *** Selected SSU =  91\n",
      "PSU =  84  *** Selected SSU =  63\n",
      "PSU =  85  *** Selected SSU =  57\n",
      "PSU =  86  *** Selected SSU =  52\n",
      "PSU =  87  *** Selected SSU =  18\n",
      "PSU =  88  *** Selected SSU =  53\n",
      "PSU =  89  *** Selected SSU =  51\n",
      "PSU =  90  *** Selected SSU =  63\n",
      "PSU =  91  *** Selected SSU =  3\n",
      "PSU =  92  *** Selected SSU =  169\n",
      "PSU =  93  *** Selected SSU =  51\n",
      "PSU =  94  *** Selected SSU =  19\n",
      "PSU =  95  *** Selected SSU =  29\n",
      "PSU =  96  *** Selected SSU =  41\n",
      "PSU =  97  *** Selected SSU =  55\n",
      "PSU =  98  *** Selected SSU =  63\n",
      "PSU =  99  *** Selected SSU =  51\n",
      "PSU =  100  *** Selected SSU =  55\n",
      "PSU =  101  *** Selected SSU =  53\n",
      "PSU =  102  *** Selected SSU =  53\n",
      "PSU =  103  *** Selected SSU =  54\n",
      "PSU =  104  *** Selected SSU =  156\n",
      "PSU =  105  *** Selected SSU =  54\n",
      "PSU =  106  *** Selected SSU =  84\n",
      "PSU =  107  *** Selected SSU =  21\n",
      "PSU =  108  *** Selected SSU =  126\n",
      "PSU =  109  *** Selected SSU =  53\n",
      "PSU =  110  *** Selected SSU =  51\n",
      "PSU =  111  *** Selected SSU =  23\n",
      "PSU =  112  *** Selected SSU =  51\n",
      "--------------------------------\n",
      "Total PSU =  112\n",
      "Total SSU =  8290\n",
      "--------------------------------"
     ]
    }
   ],
   "source": [
    "samp <- select_SSU(df=pop,\n",
    "                   PSU_code=\"municipality\",\n",
    "                   SSU_code=\"id_ind\",\n",
    "                   PSU_sampled=sample_1st$sample_PSU,\n",
    "                   verbose=TRUE)"
   ]
  },
  {
   "cell_type": "code",
   "execution_count": 20,
   "id": "49d7066e-e5b3-44ed-a6d8-c86e9f31c672",
   "metadata": {},
   "outputs": [
    {
     "data": {
      "text/html": [
       "8291"
      ],
      "text/latex": [
       "8291"
      ],
      "text/markdown": [
       "8291"
      ],
      "text/plain": [
       "[1] 8291"
      ]
     },
     "metadata": {},
     "output_type": "display_data"
    },
    {
     "data": {
      "text/html": [
       "8297"
      ],
      "text/latex": [
       "8297"
      ],
      "text/markdown": [
       "8297"
      ],
      "text/plain": [
       "[1] 8297"
      ]
     },
     "metadata": {},
     "output_type": "display_data"
    }
   ],
   "source": [
    "nrow(samp)\n",
    "sum(alloc$alloc$ALLOC[-nrow(alloc$alloc)])"
   ]
  },
  {
   "cell_type": "code",
   "execution_count": 22,
   "id": "38676fa0-815a-41df-a8a0-8aa260accdf8",
   "metadata": {},
   "outputs": [
    {
     "data": {
      "text/html": [
       "2258507"
      ],
      "text/latex": [
       "2258507"
      ],
      "text/markdown": [
       "2258507"
      ],
      "text/plain": [
       "[1] 2258507"
      ]
     },
     "metadata": {},
     "output_type": "display_data"
    },
    {
     "data": {
      "text/html": [
       "2258507"
      ],
      "text/latex": [
       "2258507"
      ],
      "text/markdown": [
       "2258507"
      ],
      "text/plain": [
       "[1] 2258507"
      ]
     },
     "metadata": {},
     "output_type": "display_data"
    }
   ],
   "source": [
    "nrow(pop)\n",
    "sum(samp$weight)"
   ]
  },
  {
   "cell_type": "code",
   "execution_count": 23,
   "id": "d260cab4-a346-4b0a-99b3-527ba077ab52",
   "metadata": {},
   "outputs": [
    {
     "data": {
      "image/png": "[encoded data removed]",
      "text/plain": [
       "Plot with title \"Weights distribution by region\""
      ]
     },
     "metadata": {
      "image/png": {
       "height": 420,
       "width": 420
      }
     },
     "output_type": "display_data"
    },
    {
     "data": {
      "image/png": "[encoded data removed]",
      "text/plain": [
       "Plot with title \"Weights distribution by stratum\""
      ]
     },
     "metadata": {
      "image/png": {
       "height": 420,
       "width": 420
      }
     },
     "output_type": "display_data"
    }
   ],
   "source": [
    "## Plot of weights distribution\n",
    "par(mfrow=c(1, 2))\n",
    "boxplot(samp$weight,col=\"grey\")\n",
    "title(\"Weights distribution (total sample)\",cex.main=0.7)\n",
    "boxplot(weight ~ region, data=samp,col=\"grey\")\n",
    "title(\"Weights distribution by region\",cex.main=0.7)\n",
    "par(mfrow=c(1, 2))\n",
    "boxplot(weight ~ province, data=samp,col=\"grey\")\n",
    "title(\"Weights distribution by province\",cex.main=0.7)\n",
    "boxplot(weight ~ stratum, data=samp,col=\"grey\")\n",
    "title(\"Weights distribution by stratum\",cex.main=0.7)"
   ]
  },
  {
   "cell_type": "markdown",
   "id": "edf54291-9d4e-47be-9a92-aad6b1b24fc1",
   "metadata": {},
   "source": [
    "## Precision constraints compliance control (by simulation)"
   ]
  },
  {
   "cell_type": "markdown",
   "id": "4252f43c-b9a5-4d9d-a67e-43bdeba706c7",
   "metadata": {},
   "source": [
    "## Verify compliance to precision constraints"
   ]
  },
  {
   "cell_type": "code",
   "execution_count": 17,
   "id": "bde1b28c-cc52-48df-809e-7194f806a2fe",
   "metadata": {},
   "outputs": [],
   "source": [
    "df=pop\n",
    "df$one <- 1\n",
    "PSU_code=\"municipality\"\n",
    "SSU_code=\"id_ind\"\n",
    "target_vars <- c(\"income_hh\",\n",
    "                 \"active\",\n",
    "                 \"inactive\",\n",
    "                 \"unemployed\")  "
   ]
  },
  {
   "cell_type": "code",
   "execution_count": 18,
   "id": "c3d35837-196f-444f-8583-e5dc715b3978",
   "metadata": {},
   "outputs": [
    {
     "name": "stdout",
     "output_type": "stream",
     "text": [
      "  |======================================================================| 100%\n"
     ]
    },
    {
     "data": {
      "text/html": [
       "<table class=\"dataframe\">\n",
       "<caption>A data.frame: 1 × 5</caption>\n",
       "<thead>\n",
       "\t<tr><th scope=col>CV1</th><th scope=col>CV2</th><th scope=col>CV3</th><th scope=col>CV4</th><th scope=col>dom</th></tr>\n",
       "\t<tr><th scope=col>&lt;dbl&gt;</th><th scope=col>&lt;dbl&gt;</th><th scope=col>&lt;dbl&gt;</th><th scope=col>&lt;dbl&gt;</th><th scope=col>&lt;chr&gt;</th></tr>\n",
       "</thead>\n",
       "<tbody>\n",
       "\t<tr><td>0.0104</td><td>0.0096</td><td>0.0254</td><td>0.0337</td><td>DOM1</td></tr>\n",
       "</tbody>\n",
       "</table>\n"
      ],
      "text/latex": [
       "A data.frame: 1 × 5\n",
       "\\begin{tabular}{lllll}\n",
       " CV1 & CV2 & CV3 & CV4 & dom\\\\\n",
       " <dbl> & <dbl> & <dbl> & <dbl> & <chr>\\\\\n",
       "\\hline\n",
       "\t 0.0104 & 0.0096 & 0.0254 & 0.0337 & DOM1\\\\\n",
       "\\end{tabular}\n"
      ],
      "text/markdown": [
       "\n",
       "A data.frame: 1 × 5\n",
       "\n",
       "| CV1 &lt;dbl&gt; | CV2 &lt;dbl&gt; | CV3 &lt;dbl&gt; | CV4 &lt;dbl&gt; | dom &lt;chr&gt; |\n",
       "|---|---|---|---|---|\n",
       "| 0.0104 | 0.0096 | 0.0254 | 0.0337 | DOM1 |\n",
       "\n"
      ],
      "text/plain": [
       "  CV1    CV2    CV3    CV4    dom \n",
       "1 0.0104 0.0096 0.0254 0.0337 DOM1"
      ]
     },
     "metadata": {},
     "output_type": "display_data"
    }
   ],
   "source": [
    "# Domain level = national\n",
    "domain_var <- \"one\"\n",
    "set.seed(1234)\n",
    "eval <- eval_2stage(df,\n",
    "                    PSU_code,\n",
    "                    SSU_code,\n",
    "                    domain_var,\n",
    "                    target_vars,\n",
    "                    sample_1st$sample_PSU,\n",
    "                    nsampl=100, \n",
    "                    writeFiles=FALSE,\n",
    "                    progress=TRUE) \n",
    "eval$coeff_var"
   ]
  },
  {
   "cell_type": "code",
   "execution_count": 21,
   "id": "ea0e548e-81b6-4f6d-a84c-efb50be4f8d3",
   "metadata": {},
   "outputs": [
    {
     "name": "stdout",
     "output_type": "stream",
     "text": [
      "  |======================================================================| 100%\n"
     ]
    },
    {
     "data": {
      "image/png": "[encoded data removed]",
      "text/plain": [
       "Plot with title \"Distribution of CV's in the domains\""
      ]
     },
     "metadata": {
      "image/png": {
       "height": 420,
       "width": 420
      }
     },
     "output_type": "display_data"
    },
    {
     "data": {
      "text/html": [
       "<table class=\"dataframe\">\n",
       "<caption>A data.frame: 3 × 5</caption>\n",
       "<thead>\n",
       "\t<tr><th scope=col>CV1</th><th scope=col>CV2</th><th scope=col>CV3</th><th scope=col>CV4</th><th scope=col>dom</th></tr>\n",
       "\t<tr><th scope=col>&lt;dbl&gt;</th><th scope=col>&lt;dbl&gt;</th><th scope=col>&lt;dbl&gt;</th><th scope=col>&lt;dbl&gt;</th><th scope=col>&lt;chr&gt;</th></tr>\n",
       "</thead>\n",
       "<tbody>\n",
       "\t<tr><td>0.0113</td><td>0.0065</td><td>0.0229</td><td>0.0688</td><td>DOM1</td></tr>\n",
       "\t<tr><td>0.0241</td><td>0.0197</td><td>0.0529</td><td>0.0707</td><td>DOM2</td></tr>\n",
       "\t<tr><td>0.0231</td><td>0.0309</td><td>0.0561</td><td>0.0447</td><td>DOM3</td></tr>\n",
       "</tbody>\n",
       "</table>\n"
      ],
      "text/latex": [
       "A data.frame: 3 × 5\n",
       "\\begin{tabular}{lllll}\n",
       " CV1 & CV2 & CV3 & CV4 & dom\\\\\n",
       " <dbl> & <dbl> & <dbl> & <dbl> & <chr>\\\\\n",
       "\\hline\n",
       "\t 0.0113 & 0.0065 & 0.0229 & 0.0688 & DOM1\\\\\n",
       "\t 0.0241 & 0.0197 & 0.0529 & 0.0707 & DOM2\\\\\n",
       "\t 0.0231 & 0.0309 & 0.0561 & 0.0447 & DOM3\\\\\n",
       "\\end{tabular}\n"
      ],
      "text/markdown": [
       "\n",
       "A data.frame: 3 × 5\n",
       "\n",
       "| CV1 &lt;dbl&gt; | CV2 &lt;dbl&gt; | CV3 &lt;dbl&gt; | CV4 &lt;dbl&gt; | dom &lt;chr&gt; |\n",
       "|---|---|---|---|---|\n",
       "| 0.0113 | 0.0065 | 0.0229 | 0.0688 | DOM1 |\n",
       "| 0.0241 | 0.0197 | 0.0529 | 0.0707 | DOM2 |\n",
       "| 0.0231 | 0.0309 | 0.0561 | 0.0447 | DOM3 |\n",
       "\n"
      ],
      "text/plain": [
       "  CV1    CV2    CV3    CV4    dom \n",
       "1 0.0113 0.0065 0.0229 0.0688 DOM1\n",
       "2 0.0241 0.0197 0.0529 0.0707 DOM2\n",
       "3 0.0231 0.0309 0.0561 0.0447 DOM3"
      ]
     },
     "metadata": {},
     "output_type": "display_data"
    },
    {
     "data": {
      "image/png": "[encoded data removed]",
      "text/plain": [
       "Plot with title \"Distribution of relative bias in the domains\""
      ]
     },
     "metadata": {
      "image/png": {
       "height": 420,
       "width": 420
      }
     },
     "output_type": "display_data"
    }
   ],
   "source": [
    "# Domain level = regional\n",
    "domain_var <- \"region\"\n",
    "set.seed(1234)\n",
    "set.seed(1234)\n",
    "eval <- eval_2stage(df,\n",
    "                    PSU_code,\n",
    "                    SSU_code,\n",
    "                    domain_var,\n",
    "                    target_vars,\n",
    "                    sample_1st$sample_PSU,\n",
    "                    nsampl=100, \n",
    "                    writeFiles=FALSE,\n",
    "                    progress=TRUE) \n",
    "eval$coeff_var"
   ]
  },
  {
   "cell_type": "code",
   "execution_count": 22,
   "id": "08cb71f0-535f-401e-ae82-355941cd4a55",
   "metadata": {},
   "outputs": [
    {
     "data": {
      "text/html": [
       "<table class=\"dataframe\">\n",
       "<caption>A data.frame: 4 × 6</caption>\n",
       "<thead>\n",
       "\t<tr><th></th><th scope=col>Type</th><th scope=col>Dom</th><th scope=col>V1</th><th scope=col>V2</th><th scope=col>V3</th><th scope=col>V4</th></tr>\n",
       "\t<tr><th></th><th scope=col>&lt;chr&gt;</th><th scope=col>&lt;chr&gt;</th><th scope=col>&lt;dbl&gt;</th><th scope=col>&lt;dbl&gt;</th><th scope=col>&lt;dbl&gt;</th><th scope=col>&lt;dbl&gt;</th></tr>\n",
       "</thead>\n",
       "<tbody>\n",
       "\t<tr><th scope=row>2</th><td>DOM1</td><td>1</td><td>  1</td><td>0</td><td> 1</td><td>   1</td></tr>\n",
       "\t<tr><th scope=row>6</th><td>DOM2</td><td>1</td><td>  1</td><td>0</td><td> 1</td><td>1184</td></tr>\n",
       "\t<tr><th scope=row>10</th><td>DOM2</td><td>2</td><td>  1</td><td>0</td><td> 1</td><td> 246</td></tr>\n",
       "\t<tr><th scope=row>14</th><td>DOM2</td><td>3</td><td>192</td><td>1</td><td>37</td><td>   1</td></tr>\n",
       "</tbody>\n",
       "</table>\n"
      ],
      "text/latex": [
       "A data.frame: 4 × 6\n",
       "\\begin{tabular}{r|llllll}\n",
       "  & Type & Dom & V1 & V2 & V3 & V4\\\\\n",
       "  & <chr> & <chr> & <dbl> & <dbl> & <dbl> & <dbl>\\\\\n",
       "\\hline\n",
       "\t2 & DOM1 & 1 &   1 & 0 &  1 &    1\\\\\n",
       "\t6 & DOM2 & 1 &   1 & 0 &  1 & 1184\\\\\n",
       "\t10 & DOM2 & 2 &   1 & 0 &  1 &  246\\\\\n",
       "\t14 & DOM2 & 3 & 192 & 1 & 37 &    1\\\\\n",
       "\\end{tabular}\n"
      ],
      "text/markdown": [
       "\n",
       "A data.frame: 4 × 6\n",
       "\n",
       "| <!--/--> | Type &lt;chr&gt; | Dom &lt;chr&gt; | V1 &lt;dbl&gt; | V2 &lt;dbl&gt; | V3 &lt;dbl&gt; | V4 &lt;dbl&gt; |\n",
       "|---|---|---|---|---|---|---|\n",
       "| 2 | DOM1 | 1 |   1 | 0 |  1 |    1 |\n",
       "| 6 | DOM2 | 1 |   1 | 0 |  1 | 1184 |\n",
       "| 10 | DOM2 | 2 |   1 | 0 |  1 |  246 |\n",
       "| 14 | DOM2 | 3 | 192 | 1 | 37 |    1 |\n",
       "\n"
      ],
      "text/plain": [
       "   Type Dom V1  V2 V3 V4  \n",
       "2  DOM1 1     1 0   1    1\n",
       "6  DOM2 1     1 0   1 1184\n",
       "10 DOM2 2     1 0   1  246\n",
       "14 DOM2 3   192 1  37    1"
      ]
     },
     "metadata": {},
     "output_type": "display_data"
    }
   ],
   "source": [
    "alloc$sensitivity"
   ]
  },
  {
   "cell_type": "code",
   "execution_count": 23,
   "id": "e717ae20-463c-4c3e-9ab1-a0e2db7fe942",
   "metadata": {},
   "outputs": [],
   "source": [
    "save(samp,file=\"sample.RData\")"
   ]
  },
  {
   "cell_type": "markdown",
   "id": "84931ad9-2a66-4a77-9a7c-d216d8b16c39",
   "metadata": {},
   "source": [
    "# Scenario 2\n",
    "One previous round of the sampling survey is available."
   ]
  },
  {
   "cell_type": "markdown",
   "id": "8db9f6cc-8167-4d04-9d32-4df48c1a1257",
   "metadata": {},
   "source": [
    "## Analysis of sampled data"
   ]
  },
  {
   "cell_type": "code",
   "execution_count": 24,
   "id": "fa2c5377-e90d-4ad4-a42a-70f1b42bbc61",
   "metadata": {},
   "outputs": [
    {
     "name": "stderr",
     "output_type": "stream",
     "text": [
      "\n",
      "\n",
      "\n",
      "\n",
      "--------------------------------------------------------\n",
      "\n",
      "> The ReGenesees package has been successfully loaded. <\n",
      "\n",
      "--------------------------------------------------------\n",
      "\n",
      "\n",
      "\n",
      "\n",
      "\n"
     ]
    },
    {
     "name": "stdout",
     "output_type": "stream",
     "text": [
      "Package: ReGenesees\n",
      "Type: Package\n",
      "Title: R Evolved Generalized Software for Sampling Estimates and Errors\n",
      "        in Surveys\n",
      "Description: Design-Based and Model-Assisted analysis of complex\n",
      "        sampling surveys. Multistage, stratified, clustered, unequally\n",
      "        weighted survey designs. Horvitz-Thompson and Calibration\n",
      "        Estimators. Variance Estimation for nonlinear smooth estimators\n",
      "        by Taylor-series linearization. Estimates, standard errors,\n",
      "        confidence intervals and design effects for: Totals, Means,\n",
      "        absolute and relative Frequency Distributions (marginal,\n",
      "        conditional and joint), Ratios, Shares and Ratios of Shares,\n",
      "        Multiple Regression Coefficients and Quantiles. Automated\n",
      "        Linearization of Complex Analytic Estimators. Design Covariance\n",
      "        and Correlation. Estimates, standard errors, confidence\n",
      "        intervals and design effects for user-defined analytic\n",
      "        estimators. Estimates and sampling errors for subpopulations.\n",
      "        Consistent trimming of calibration weights. Calibration on\n",
      "        complex population parameters, e.g. multiple regression\n",
      "        coefficients. Generalized Variance Functions (GVF) method for\n",
      "        predicting variance estimates.\n",
      "Version: 2.1\n",
      "Author: Diego Zardetto [aut, cre]\n",
      "Maintainer: Diego Zardetto <zardetto@istat.it>\n",
      "Authors@R: person(\"Diego\", \"Zardetto\", role = c(\"aut\", \"cre\"), email =\n",
      "        \"zardetto@istat.it\")\n",
      "License: EUPL\n",
      "URL: https://diegozardetto.github.io/ReGenesees/,\n",
      "        https://github.com/DiegoZardetto/ReGenesees/\n",
      "BugReports: https://github.com/DiegoZardetto/ReGenesees/issues/\n",
      "Imports: stats, MASS\n",
      "Depends: R (>= 2.14.0)\n",
      "ByteCompile: TRUE\n",
      "RemoteType: github\n",
      "RemoteHost: api.github.com\n",
      "RemoteRepo: ReGenesees\n",
      "RemoteUsername: DiegoZardetto\n",
      "RemoteRef: HEAD\n",
      "RemoteSha: c0bd789ed6ab88a4b3a02bd553f51d8f4ec857e2\n",
      "GithubRepo: ReGenesees\n",
      "GithubUsername: DiegoZardetto\n",
      "GithubRef: HEAD\n",
      "GithubSHA1: c0bd789ed6ab88a4b3a02bd553f51d8f4ec857e2\n",
      "NeedsCompilation: no\n",
      "Packaged: 2021-09-28 11:33:29 UTC; Giulio\n",
      "Built: R 4.1.1; ; 2021-09-28 11:33:35 UTC; windows\n"
     ]
    },
    {
     "name": "stderr",
     "output_type": "stream",
     "text": [
      "\n",
      "\n"
     ]
    }
   ],
   "source": [
    "library(ReGenesees)"
   ]
  },
  {
   "cell_type": "code",
   "execution_count": 25,
   "id": "760ede37-7919-4d9f-bae8-5eeaa3eb4fb1",
   "metadata": {},
   "outputs": [
    {
     "name": "stdout",
     "output_type": "stream",
     "text": [
      "'data.frame':\t8290 obs. of  20 variables:\n",
      " $ municipality : Factor w/ 112 levels \"4\",\"8\",\"9\",\"11\",..: 31 31 31 31 31 31 31 31 31 31 ...\n",
      " $ id_ind       : int  14478 14681 14888 14914 15034 15047 15147 15169 15173 15224 ...\n",
      " $ region       : Factor w/ 3 levels \"north\",\"center\",..: 1 1 1 1 1 1 1 1 1 1 ...\n",
      " $ province     : Factor w/ 6 levels \"north_1\",\"north_2\",..: 1 1 1 1 1 1 1 1 1 1 ...\n",
      " $ id_hh        : Factor w/ 963018 levels \"H1\",\"H10\",\"H100\",..: 96659 96724 96795 96802 96838 96844 96879 96888 96889 96910 ...\n",
      " $ stratum      : Factor w/ 24 levels \"1000\",\"2000\",..: 11 11 11 11 11 11 11 11 11 11 ...\n",
      " $ stratum_label: chr  \"north_1_5\" \"north_1_5\" \"north_1_5\" \"north_1_5\" ...\n",
      " $ sex          : int  1 1 2 2 2 1 1 2 1 1 ...\n",
      " $ cl_age       : Factor w/ 8 levels \"(0,14]\",\"(14,24]\",..: 1 5 1 4 4 2 4 2 4 4 ...\n",
      " $ active       : num  0 1 0 1 1 1 1 1 1 1 ...\n",
      " $ income_hh    : num  22289 28918 19792 25656 28864 ...\n",
      " $ unemployed   : num  0 0 0 0 0 0 0 0 0 0 ...\n",
      " $ inactive     : num  1 0 1 0 0 0 0 0 0 0 ...\n",
      " $ Prob_1st     : num  0.484 0.484 0.484 0.484 0.484 ...\n",
      " $ Prob_2st     : num  0.0112 0.0112 0.0112 0.0112 0.0112 ...\n",
      " $ Prob_tot     : num  0.00543 0.00543 0.00543 0.00543 0.00543 ...\n",
      " $ weight       : num  184 184 184 184 184 ...\n",
      " $ SR           : num  0 0 0 0 0 0 0 0 0 0 ...\n",
      " $ nSR          : num  1 1 1 1 1 1 1 1 1 1 ...\n",
      " $ stratum_2    : chr  \"110003\" \"110003\" \"110003\" \"110003\" ...\n"
     ]
    }
   ],
   "source": [
    "load(\"sample.RData\")\n",
    "str(samp)"
   ]
  },
  {
   "cell_type": "code",
   "execution_count": 26,
   "id": "4c77e9a1-bdb5-4d2f-b765-62c8c7a1d23a",
   "metadata": {},
   "outputs": [
    {
     "name": "stdout",
     "output_type": "stream",
     "text": [
      "\n",
      "# Empty levels found in factors: id_hh\n",
      "# Empty levels have been dropped!\n",
      "\n"
     ]
    },
    {
     "name": "stderr",
     "output_type": "stream",
     "text": [
      "Warning message in e.svydesign(samp, ids = ~municipality + id_hh, strata = ~stratum_2, :\n",
      "\"Sampling variance estimation for this design will take into account only leading contributions, i.e. PSUs in not-SR strata and SSUs in SR strata (see ?e.svydesign and ?ReGenesees.options for details)\"\n"
     ]
    }
   ],
   "source": [
    "## Sample design description\n",
    "samp$stratum_2 <- as.factor(samp$stratum_2)\n",
    "sample.des <- e.svydesign(samp, \n",
    "                          ids= ~ municipality + id_hh, \n",
    "                          strata = ~ stratum_2, \n",
    "                          weights = ~ weight,\n",
    "                          self.rep.str = ~ SR,\n",
    "                          check.data = TRUE)"
   ]
  },
  {
   "cell_type": "code",
   "execution_count": 27,
   "id": "291f0110-0d06-4e06-b540-56e8f86d3e05",
   "metadata": {},
   "outputs": [
    {
     "name": "stdout",
     "output_type": "stream",
     "text": [
      "\n",
      "# All lonely strata (87) successfully collapsed!\n",
      "\n"
     ]
    },
    {
     "name": "stderr",
     "output_type": "stream",
     "text": [
      "Warning message in collapse.strata(sample.des):\n",
      "\"No similarity score specified: achieved strata aggregation depends on the ordering of sample data\"\n"
     ]
    }
   ],
   "source": [
    "## Find and collapse lonely strata\n",
    "ls <- find.lon.strata(sample.des)\n",
    "sample.des <- collapse.strata(sample.des)"
   ]
  },
  {
   "cell_type": "code",
   "execution_count": 28,
   "id": "4edf2440-7122-4035-a0a7-4dbca5a45a1a",
   "metadata": {},
   "outputs": [
    {
     "name": "stdout",
     "output_type": "stream",
     "text": [
      "\n",
      "# Coherence check between 'universe' and 'template': OK\n",
      "\n"
     ]
    }
   ],
   "source": [
    "## Calibration with known totals\n",
    "totals <- pop.template(sample.des,\n",
    "             calmodel = ~ sex : cl_age, \n",
    "             partition = ~ region)\n",
    "totals <- fill.template(pop, totals, mem.frac = 10)\n",
    "sample.cal <- e.calibrate(sample.des, \n",
    "                          totals,\n",
    "                          calmodel = ~ sex : cl_age, \n",
    "                          partition = ~ region,\n",
    "                          calfun = \"logit\",\n",
    "                          bounds = c(0.3, 2.6), \n",
    "                          aggregate.stage = 2,\n",
    "                          force = FALSE)"
   ]
  },
  {
   "cell_type": "markdown",
   "id": "9c28d6a8-2649-4f35-867a-359dbcc4cdc4",
   "metadata": {
    "tags": []
   },
   "source": [
    "## Preparation of inputs for allocation steps"
   ]
  },
  {
   "cell_type": "code",
   "execution_count": 29,
   "id": "7868377e-7e8e-47d8-9400-42842ee0fb6f",
   "metadata": {},
   "outputs": [],
   "source": [
    "samp_frame <- pop\n",
    "RGdes <- sample.des\n",
    "RGcal <- sample.cal\n",
    "strata_vars <- c(\"stratum\")      \n",
    "target_vars <- c(\"income_hh\",\n",
    "                 \"active\",\n",
    "                 \"inactive\",\n",
    "                 \"unemployed\")   \n",
    "weight_var <- \"weight\"\n",
    "deff_vars <- \"stratum\"            \n",
    "id_PSU <- c(\"municipality\")      \n",
    "id_SSU <- c(\"id_hh\")             \n",
    "domain_vars <- c(\"region\") \n",
    "delta <- 1                   \n",
    "minimum <- 50                \n",
    "\n",
    "inp <- prepareInputToAllocation2(\n",
    "        samp_frame,  # sampling frame\n",
    "        RGdes,       # ReGenesees design object\n",
    "        RGcal,       # ReGenesees calibrated object\n",
    "        id_PSU,      # identification variable of PSUs\n",
    "        id_SSU,      # identification variable of SSUs\n",
    "        strata_vars, # strata variables\n",
    "        target_vars, # target variables\n",
    "        deff_vars,   # deff variables\n",
    "        domain_vars, # domain variables\n",
    "        delta,       # Average number of SSUs for each selection unit\n",
    "        minimum      # Minimum number of SSUs to be selected in each PSU\n",
    "      )"
   ]
  },
  {
   "cell_type": "code",
   "execution_count": 30,
   "id": "7733865b-9131-4b4f-a3fc-906d83f0d5ab",
   "metadata": {},
   "outputs": [
    {
     "data": {
      "text/html": [
       "<table class=\"dataframe\">\n",
       "<caption>A data.frame: 6 × 15</caption>\n",
       "<thead>\n",
       "\t<tr><th></th><th scope=col>stratum</th><th scope=col>STRATUM</th><th scope=col>N</th><th scope=col>M1</th><th scope=col>M2</th><th scope=col>M3</th><th scope=col>M4</th><th scope=col>S1</th><th scope=col>S2</th><th scope=col>S3</th><th scope=col>S4</th><th scope=col>COST</th><th scope=col>CENS</th><th scope=col>DOM1</th><th scope=col>DOM2</th></tr>\n",
       "\t<tr><th></th><th scope=col>&lt;fct&gt;</th><th scope=col>&lt;chr&gt;</th><th scope=col>&lt;dbl&gt;</th><th scope=col>&lt;dbl&gt;</th><th scope=col>&lt;dbl&gt;</th><th scope=col>&lt;dbl&gt;</th><th scope=col>&lt;dbl&gt;</th><th scope=col>&lt;dbl&gt;</th><th scope=col>&lt;dbl&gt;</th><th scope=col>&lt;dbl&gt;</th><th scope=col>&lt;dbl&gt;</th><th scope=col>&lt;dbl&gt;</th><th scope=col>&lt;dbl&gt;</th><th scope=col>&lt;dbl&gt;</th><th scope=col>&lt;fct&gt;</th></tr>\n",
       "</thead>\n",
       "<tbody>\n",
       "\t<tr><th scope=row>1</th><td>1000 </td><td>1000 </td><td>196095</td><td>25283.04</td><td>0.6908830</td><td>0.2436486</td><td>0.06546845</td><td>23223.11</td><td>0.4621295</td><td>0.4292831</td><td>0.2473506</td><td>1</td><td>0</td><td>1</td><td>center</td></tr>\n",
       "\t<tr><th scope=row>2</th><td>10000</td><td>10000</td><td>106119</td><td>28972.56</td><td>0.7762824</td><td>0.2033010</td><td>0.02041662</td><td>21596.37</td><td>0.4167350</td><td>0.4024546</td><td>0.1414206</td><td>1</td><td>0</td><td>1</td><td>north </td></tr>\n",
       "\t<tr><th scope=row>3</th><td>11000</td><td>11000</td><td>205701</td><td>28591.64</td><td>0.7829250</td><td>0.1983132</td><td>0.01876181</td><td>35059.27</td><td>0.4122541</td><td>0.3987293</td><td>0.1356827</td><td>1</td><td>0</td><td>1</td><td>north </td></tr>\n",
       "\t<tr><th scope=row>4</th><td>12000</td><td>12000</td><td> 57396</td><td>25963.68</td><td>0.7575331</td><td>0.2277654</td><td>0.01470142</td><td>15511.53</td><td>0.4285752</td><td>0.4193904</td><td>0.1203549</td><td>1</td><td>0</td><td>1</td><td>north </td></tr>\n",
       "\t<tr><th scope=row>5</th><td>13000</td><td>13000</td><td>103266</td><td>27476.83</td><td>0.7837272</td><td>0.1775604</td><td>0.03871240</td><td>22898.40</td><td>0.4117024</td><td>0.3821423</td><td>0.1929086</td><td>1</td><td>0</td><td>1</td><td>north </td></tr>\n",
       "\t<tr><th scope=row>6</th><td>14000</td><td>14000</td><td> 83998</td><td>24287.14</td><td>0.7602083</td><td>0.2065345</td><td>0.03325712</td><td>17173.44</td><td>0.4269562</td><td>0.4048185</td><td>0.1793072</td><td>1</td><td>0</td><td>1</td><td>north </td></tr>\n",
       "</tbody>\n",
       "</table>\n"
      ],
      "text/latex": [
       "A data.frame: 6 × 15\n",
       "\\begin{tabular}{r|lllllllllllllll}\n",
       "  & stratum & STRATUM & N & M1 & M2 & M3 & M4 & S1 & S2 & S3 & S4 & COST & CENS & DOM1 & DOM2\\\\\n",
       "  & <fct> & <chr> & <dbl> & <dbl> & <dbl> & <dbl> & <dbl> & <dbl> & <dbl> & <dbl> & <dbl> & <dbl> & <dbl> & <dbl> & <fct>\\\\\n",
       "\\hline\n",
       "\t1 & 1000  & 1000  & 196095 & 25283.04 & 0.6908830 & 0.2436486 & 0.06546845 & 23223.11 & 0.4621295 & 0.4292831 & 0.2473506 & 1 & 0 & 1 & center\\\\\n",
       "\t2 & 10000 & 10000 & 106119 & 28972.56 & 0.7762824 & 0.2033010 & 0.02041662 & 21596.37 & 0.4167350 & 0.4024546 & 0.1414206 & 1 & 0 & 1 & north \\\\\n",
       "\t3 & 11000 & 11000 & 205701 & 28591.64 & 0.7829250 & 0.1983132 & 0.01876181 & 35059.27 & 0.4122541 & 0.3987293 & 0.1356827 & 1 & 0 & 1 & north \\\\\n",
       "\t4 & 12000 & 12000 &  57396 & 25963.68 & 0.7575331 & 0.2277654 & 0.01470142 & 15511.53 & 0.4285752 & 0.4193904 & 0.1203549 & 1 & 0 & 1 & north \\\\\n",
       "\t5 & 13000 & 13000 & 103266 & 27476.83 & 0.7837272 & 0.1775604 & 0.03871240 & 22898.40 & 0.4117024 & 0.3821423 & 0.1929086 & 1 & 0 & 1 & north \\\\\n",
       "\t6 & 14000 & 14000 &  83998 & 24287.14 & 0.7602083 & 0.2065345 & 0.03325712 & 17173.44 & 0.4269562 & 0.4048185 & 0.1793072 & 1 & 0 & 1 & north \\\\\n",
       "\\end{tabular}\n"
      ],
      "text/markdown": [
       "\n",
       "A data.frame: 6 × 15\n",
       "\n",
       "| <!--/--> | stratum &lt;fct&gt; | STRATUM &lt;chr&gt; | N &lt;dbl&gt; | M1 &lt;dbl&gt; | M2 &lt;dbl&gt; | M3 &lt;dbl&gt; | M4 &lt;dbl&gt; | S1 &lt;dbl&gt; | S2 &lt;dbl&gt; | S3 &lt;dbl&gt; | S4 &lt;dbl&gt; | COST &lt;dbl&gt; | CENS &lt;dbl&gt; | DOM1 &lt;dbl&gt; | DOM2 &lt;fct&gt; |\n",
       "|---|---|---|---|---|---|---|---|---|---|---|---|---|---|---|---|\n",
       "| 1 | 1000  | 1000  | 196095 | 25283.04 | 0.6908830 | 0.2436486 | 0.06546845 | 23223.11 | 0.4621295 | 0.4292831 | 0.2473506 | 1 | 0 | 1 | center |\n",
       "| 2 | 10000 | 10000 | 106119 | 28972.56 | 0.7762824 | 0.2033010 | 0.02041662 | 21596.37 | 0.4167350 | 0.4024546 | 0.1414206 | 1 | 0 | 1 | north  |\n",
       "| 3 | 11000 | 11000 | 205701 | 28591.64 | 0.7829250 | 0.1983132 | 0.01876181 | 35059.27 | 0.4122541 | 0.3987293 | 0.1356827 | 1 | 0 | 1 | north  |\n",
       "| 4 | 12000 | 12000 |  57396 | 25963.68 | 0.7575331 | 0.2277654 | 0.01470142 | 15511.53 | 0.4285752 | 0.4193904 | 0.1203549 | 1 | 0 | 1 | north  |\n",
       "| 5 | 13000 | 13000 | 103266 | 27476.83 | 0.7837272 | 0.1775604 | 0.03871240 | 22898.40 | 0.4117024 | 0.3821423 | 0.1929086 | 1 | 0 | 1 | north  |\n",
       "| 6 | 14000 | 14000 |  83998 | 24287.14 | 0.7602083 | 0.2065345 | 0.03325712 | 17173.44 | 0.4269562 | 0.4048185 | 0.1793072 | 1 | 0 | 1 | north  |\n",
       "\n"
      ],
      "text/plain": [
       "  stratum STRATUM N      M1       M2        M3        M4         S1      \n",
       "1 1000    1000    196095 25283.04 0.6908830 0.2436486 0.06546845 23223.11\n",
       "2 10000   10000   106119 28972.56 0.7762824 0.2033010 0.02041662 21596.37\n",
       "3 11000   11000   205701 28591.64 0.7829250 0.1983132 0.01876181 35059.27\n",
       "4 12000   12000    57396 25963.68 0.7575331 0.2277654 0.01470142 15511.53\n",
       "5 13000   13000   103266 27476.83 0.7837272 0.1775604 0.03871240 22898.40\n",
       "6 14000   14000    83998 24287.14 0.7602083 0.2065345 0.03325712 17173.44\n",
       "  S2        S3        S4        COST CENS DOM1 DOM2  \n",
       "1 0.4621295 0.4292831 0.2473506 1    0    1    center\n",
       "2 0.4167350 0.4024546 0.1414206 1    0    1    north \n",
       "3 0.4122541 0.3987293 0.1356827 1    0    1    north \n",
       "4 0.4285752 0.4193904 0.1203549 1    0    1    north \n",
       "5 0.4117024 0.3821423 0.1929086 1    0    1    north \n",
       "6 0.4269562 0.4048185 0.1793072 1    0    1    north "
      ]
     },
     "metadata": {},
     "output_type": "display_data"
    }
   ],
   "source": [
    "head(inp$strata)"
   ]
  },
  {
   "cell_type": "code",
   "execution_count": 31,
   "id": "088c8948-1919-48fd-a146-f78468a07951",
   "metadata": {},
   "outputs": [
    {
     "data": {
      "text/html": [
       "<table class=\"dataframe\">\n",
       "<caption>A data.frame: 6 × 7</caption>\n",
       "<thead>\n",
       "\t<tr><th></th><th scope=col>stratum</th><th scope=col>STRATUM</th><th scope=col>DEFF1</th><th scope=col>DEFF2</th><th scope=col>DEFF3</th><th scope=col>DEFF4</th><th scope=col>b_nar</th></tr>\n",
       "\t<tr><th></th><th scope=col>&lt;fct&gt;</th><th scope=col>&lt;chr&gt;</th><th scope=col>&lt;dbl&gt;</th><th scope=col>&lt;dbl&gt;</th><th scope=col>&lt;dbl&gt;</th><th scope=col>&lt;dbl&gt;</th><th scope=col>&lt;dbl&gt;</th></tr>\n",
       "</thead>\n",
       "<tbody>\n",
       "\t<tr><th scope=row>1</th><td>1000 </td><td>1000 </td><td>0.999876</td><td>0.999528</td><td>1.000412</td><td>1.004149</td><td>143.50000</td></tr>\n",
       "\t<tr><th scope=row>2</th><td>10000</td><td>10000</td><td>1.027703</td><td>1.001044</td><td>0.988835</td><td>1.174327</td><td> 98.00000</td></tr>\n",
       "\t<tr><th scope=row>3</th><td>11000</td><td>11000</td><td>0.592872</td><td>0.457294</td><td>0.681566</td><td>1.838375</td><td> 59.00000</td></tr>\n",
       "\t<tr><th scope=row>4</th><td>12000</td><td>12000</td><td>3.071332</td><td>0.887471</td><td>0.856744</td><td>0.856610</td><td> 48.71429</td></tr>\n",
       "\t<tr><th scope=row>5</th><td>13000</td><td>13000</td><td>1.018096</td><td>1.022899</td><td>1.015849</td><td>1.001630</td><td>704.00000</td></tr>\n",
       "\t<tr><th scope=row>6</th><td>14000</td><td>14000</td><td>1.014614</td><td>1.002947</td><td>1.002986</td><td>1.011830</td><td>144.25000</td></tr>\n",
       "</tbody>\n",
       "</table>\n"
      ],
      "text/latex": [
       "A data.frame: 6 × 7\n",
       "\\begin{tabular}{r|lllllll}\n",
       "  & stratum & STRATUM & DEFF1 & DEFF2 & DEFF3 & DEFF4 & b\\_nar\\\\\n",
       "  & <fct> & <chr> & <dbl> & <dbl> & <dbl> & <dbl> & <dbl>\\\\\n",
       "\\hline\n",
       "\t1 & 1000  & 1000  & 0.999876 & 0.999528 & 1.000412 & 1.004149 & 143.50000\\\\\n",
       "\t2 & 10000 & 10000 & 1.027703 & 1.001044 & 0.988835 & 1.174327 &  98.00000\\\\\n",
       "\t3 & 11000 & 11000 & 0.592872 & 0.457294 & 0.681566 & 1.838375 &  59.00000\\\\\n",
       "\t4 & 12000 & 12000 & 3.071332 & 0.887471 & 0.856744 & 0.856610 &  48.71429\\\\\n",
       "\t5 & 13000 & 13000 & 1.018096 & 1.022899 & 1.015849 & 1.001630 & 704.00000\\\\\n",
       "\t6 & 14000 & 14000 & 1.014614 & 1.002947 & 1.002986 & 1.011830 & 144.25000\\\\\n",
       "\\end{tabular}\n"
      ],
      "text/markdown": [
       "\n",
       "A data.frame: 6 × 7\n",
       "\n",
       "| <!--/--> | stratum &lt;fct&gt; | STRATUM &lt;chr&gt; | DEFF1 &lt;dbl&gt; | DEFF2 &lt;dbl&gt; | DEFF3 &lt;dbl&gt; | DEFF4 &lt;dbl&gt; | b_nar &lt;dbl&gt; |\n",
       "|---|---|---|---|---|---|---|---|\n",
       "| 1 | 1000  | 1000  | 0.999876 | 0.999528 | 1.000412 | 1.004149 | 143.50000 |\n",
       "| 2 | 10000 | 10000 | 1.027703 | 1.001044 | 0.988835 | 1.174327 |  98.00000 |\n",
       "| 3 | 11000 | 11000 | 0.592872 | 0.457294 | 0.681566 | 1.838375 |  59.00000 |\n",
       "| 4 | 12000 | 12000 | 3.071332 | 0.887471 | 0.856744 | 0.856610 |  48.71429 |\n",
       "| 5 | 13000 | 13000 | 1.018096 | 1.022899 | 1.015849 | 1.001630 | 704.00000 |\n",
       "| 6 | 14000 | 14000 | 1.014614 | 1.002947 | 1.002986 | 1.011830 | 144.25000 |\n",
       "\n"
      ],
      "text/plain": [
       "  stratum STRATUM DEFF1    DEFF2    DEFF3    DEFF4    b_nar    \n",
       "1 1000    1000    0.999876 0.999528 1.000412 1.004149 143.50000\n",
       "2 10000   10000   1.027703 1.001044 0.988835 1.174327  98.00000\n",
       "3 11000   11000   0.592872 0.457294 0.681566 1.838375  59.00000\n",
       "4 12000   12000   3.071332 0.887471 0.856744 0.856610  48.71429\n",
       "5 13000   13000   1.018096 1.022899 1.015849 1.001630 704.00000\n",
       "6 14000   14000   1.014614 1.002947 1.002986 1.011830 144.25000"
      ]
     },
     "metadata": {},
     "output_type": "display_data"
    }
   ],
   "source": [
    "head(inp$deff)"
   ]
  },
  {
   "cell_type": "code",
   "execution_count": 32,
   "id": "5af420ff-c9a0-4c57-82a2-9d040e17a6c4",
   "metadata": {},
   "outputs": [
    {
     "data": {
      "text/html": [
       "<table class=\"dataframe\">\n",
       "<caption>A data.frame: 6 × 6</caption>\n",
       "<thead>\n",
       "\t<tr><th></th><th scope=col>stratum</th><th scope=col>STRATUM</th><th scope=col>EFFST1</th><th scope=col>EFFST2</th><th scope=col>EFFST3</th><th scope=col>EFFST4</th></tr>\n",
       "\t<tr><th></th><th scope=col>&lt;fct&gt;</th><th scope=col>&lt;chr&gt;</th><th scope=col>&lt;dbl&gt;</th><th scope=col>&lt;dbl&gt;</th><th scope=col>&lt;dbl&gt;</th><th scope=col>&lt;dbl&gt;</th></tr>\n",
       "</thead>\n",
       "<tbody>\n",
       "\t<tr><th scope=row>1</th><td>1000 </td><td>1000 </td><td>0.9486306</td><td>0.7988180</td><td>0.7076215</td><td>1.0322402</td></tr>\n",
       "\t<tr><th scope=row>2</th><td>10000</td><td>10000</td><td>0.9960368</td><td>0.8951515</td><td>0.8772252</td><td>0.9968016</td></tr>\n",
       "\t<tr><th scope=row>3</th><td>11000</td><td>11000</td><td>1.0379964</td><td>0.9650269</td><td>0.8209022</td><td>1.0018701</td></tr>\n",
       "\t<tr><th scope=row>4</th><td>12000</td><td>12000</td><td>0.9549886</td><td>0.8942016</td><td>0.8794657</td><td>1.0037357</td></tr>\n",
       "\t<tr><th scope=row>5</th><td>13000</td><td>13000</td><td>0.9973725</td><td>0.9187114</td><td>0.8945896</td><td>1.0074768</td></tr>\n",
       "\t<tr><th scope=row>6</th><td>14000</td><td>14000</td><td>0.9979007</td><td>0.9206678</td><td>0.9005948</td><td>1.0090391</td></tr>\n",
       "</tbody>\n",
       "</table>\n"
      ],
      "text/latex": [
       "A data.frame: 6 × 6\n",
       "\\begin{tabular}{r|llllll}\n",
       "  & stratum & STRATUM & EFFST1 & EFFST2 & EFFST3 & EFFST4\\\\\n",
       "  & <fct> & <chr> & <dbl> & <dbl> & <dbl> & <dbl>\\\\\n",
       "\\hline\n",
       "\t1 & 1000  & 1000  & 0.9486306 & 0.7988180 & 0.7076215 & 1.0322402\\\\\n",
       "\t2 & 10000 & 10000 & 0.9960368 & 0.8951515 & 0.8772252 & 0.9968016\\\\\n",
       "\t3 & 11000 & 11000 & 1.0379964 & 0.9650269 & 0.8209022 & 1.0018701\\\\\n",
       "\t4 & 12000 & 12000 & 0.9549886 & 0.8942016 & 0.8794657 & 1.0037357\\\\\n",
       "\t5 & 13000 & 13000 & 0.9973725 & 0.9187114 & 0.8945896 & 1.0074768\\\\\n",
       "\t6 & 14000 & 14000 & 0.9979007 & 0.9206678 & 0.9005948 & 1.0090391\\\\\n",
       "\\end{tabular}\n"
      ],
      "text/markdown": [
       "\n",
       "A data.frame: 6 × 6\n",
       "\n",
       "| <!--/--> | stratum &lt;fct&gt; | STRATUM &lt;chr&gt; | EFFST1 &lt;dbl&gt; | EFFST2 &lt;dbl&gt; | EFFST3 &lt;dbl&gt; | EFFST4 &lt;dbl&gt; |\n",
       "|---|---|---|---|---|---|---|\n",
       "| 1 | 1000  | 1000  | 0.9486306 | 0.7988180 | 0.7076215 | 1.0322402 |\n",
       "| 2 | 10000 | 10000 | 0.9960368 | 0.8951515 | 0.8772252 | 0.9968016 |\n",
       "| 3 | 11000 | 11000 | 1.0379964 | 0.9650269 | 0.8209022 | 1.0018701 |\n",
       "| 4 | 12000 | 12000 | 0.9549886 | 0.8942016 | 0.8794657 | 1.0037357 |\n",
       "| 5 | 13000 | 13000 | 0.9973725 | 0.9187114 | 0.8945896 | 1.0074768 |\n",
       "| 6 | 14000 | 14000 | 0.9979007 | 0.9206678 | 0.9005948 | 1.0090391 |\n",
       "\n"
      ],
      "text/plain": [
       "  stratum STRATUM EFFST1    EFFST2    EFFST3    EFFST4   \n",
       "1 1000    1000    0.9486306 0.7988180 0.7076215 1.0322402\n",
       "2 10000   10000   0.9960368 0.8951515 0.8772252 0.9968016\n",
       "3 11000   11000   1.0379964 0.9650269 0.8209022 1.0018701\n",
       "4 12000   12000   0.9549886 0.8942016 0.8794657 1.0037357\n",
       "5 13000   13000   0.9973725 0.9187114 0.8945896 1.0074768\n",
       "6 14000   14000   0.9979007 0.9206678 0.9005948 1.0090391"
      ]
     },
     "metadata": {},
     "output_type": "display_data"
    }
   ],
   "source": [
    "head(inp$effst)"
   ]
  },
  {
   "cell_type": "code",
   "execution_count": 33,
   "id": "ba81a5c6-86b7-4525-9906-f0e9e5aff3f6",
   "metadata": {},
   "outputs": [
    {
     "data": {
      "text/html": [
       "<table class=\"dataframe\">\n",
       "<caption>A data.frame: 6 × 9</caption>\n",
       "<thead>\n",
       "\t<tr><th></th><th scope=col>STRATUM</th><th scope=col>RHO_AR1</th><th scope=col>RHO_NAR1</th><th scope=col>RHO_AR2</th><th scope=col>RHO_NAR2</th><th scope=col>RHO_AR3</th><th scope=col>RHO_NAR3</th><th scope=col>RHO_AR4</th><th scope=col>RHO_NAR4</th></tr>\n",
       "\t<tr><th></th><th scope=col>&lt;chr&gt;</th><th scope=col>&lt;dbl&gt;</th><th scope=col>&lt;dbl&gt;</th><th scope=col>&lt;dbl&gt;</th><th scope=col>&lt;dbl&gt;</th><th scope=col>&lt;dbl&gt;</th><th scope=col>&lt;dbl&gt;</th><th scope=col>&lt;dbl&gt;</th><th scope=col>&lt;dbl&gt;</th></tr>\n",
       "</thead>\n",
       "<tbody>\n",
       "\t<tr><th scope=row>1</th><td>1000 </td><td>1</td><td>-0.0000008701754</td><td>1</td><td>-0.000003312281</td><td>1</td><td> 0.000002891228</td><td>1</td><td> 0.000029115789</td></tr>\n",
       "\t<tr><th scope=row>2</th><td>10000</td><td>1</td><td> 0.0002855979381</td><td>1</td><td> 0.000010762887</td><td>1</td><td>-0.000115103093</td><td>1</td><td> 0.001797185567</td></tr>\n",
       "\t<tr><th scope=row>3</th><td>11000</td><td>1</td><td>-0.0070194482759</td><td>1</td><td>-0.009357000000</td><td>1</td><td>-0.005490241379</td><td>1</td><td> 0.014454741379</td></tr>\n",
       "\t<tr><th scope=row>4</th><td>12000</td><td>1</td><td> 0.0434111497006</td><td>1</td><td>-0.002358392216</td><td>1</td><td>-0.003002371257</td><td>1</td><td>-0.003005179641</td></tr>\n",
       "\t<tr><th scope=row>5</th><td>13000</td><td>1</td><td> 0.0000257411095</td><td>1</td><td> 0.000032573257</td><td>1</td><td> 0.000022544808</td><td>1</td><td> 0.000002318634</td></tr>\n",
       "\t<tr><th scope=row>6</th><td>14000</td><td>1</td><td> 0.0001020174520</td><td>1</td><td> 0.000020572426</td><td>1</td><td> 0.000020844677</td><td>1</td><td> 0.000082582897</td></tr>\n",
       "</tbody>\n",
       "</table>\n"
      ],
      "text/latex": [
       "A data.frame: 6 × 9\n",
       "\\begin{tabular}{r|lllllllll}\n",
       "  & STRATUM & RHO\\_AR1 & RHO\\_NAR1 & RHO\\_AR2 & RHO\\_NAR2 & RHO\\_AR3 & RHO\\_NAR3 & RHO\\_AR4 & RHO\\_NAR4\\\\\n",
       "  & <chr> & <dbl> & <dbl> & <dbl> & <dbl> & <dbl> & <dbl> & <dbl> & <dbl>\\\\\n",
       "\\hline\n",
       "\t1 & 1000  & 1 & -0.0000008701754 & 1 & -0.000003312281 & 1 &  0.000002891228 & 1 &  0.000029115789\\\\\n",
       "\t2 & 10000 & 1 &  0.0002855979381 & 1 &  0.000010762887 & 1 & -0.000115103093 & 1 &  0.001797185567\\\\\n",
       "\t3 & 11000 & 1 & -0.0070194482759 & 1 & -0.009357000000 & 1 & -0.005490241379 & 1 &  0.014454741379\\\\\n",
       "\t4 & 12000 & 1 &  0.0434111497006 & 1 & -0.002358392216 & 1 & -0.003002371257 & 1 & -0.003005179641\\\\\n",
       "\t5 & 13000 & 1 &  0.0000257411095 & 1 &  0.000032573257 & 1 &  0.000022544808 & 1 &  0.000002318634\\\\\n",
       "\t6 & 14000 & 1 &  0.0001020174520 & 1 &  0.000020572426 & 1 &  0.000020844677 & 1 &  0.000082582897\\\\\n",
       "\\end{tabular}\n"
      ],
      "text/markdown": [
       "\n",
       "A data.frame: 6 × 9\n",
       "\n",
       "| <!--/--> | STRATUM &lt;chr&gt; | RHO_AR1 &lt;dbl&gt; | RHO_NAR1 &lt;dbl&gt; | RHO_AR2 &lt;dbl&gt; | RHO_NAR2 &lt;dbl&gt; | RHO_AR3 &lt;dbl&gt; | RHO_NAR3 &lt;dbl&gt; | RHO_AR4 &lt;dbl&gt; | RHO_NAR4 &lt;dbl&gt; |\n",
       "|---|---|---|---|---|---|---|---|---|---|\n",
       "| 1 | 1000  | 1 | -0.0000008701754 | 1 | -0.000003312281 | 1 |  0.000002891228 | 1 |  0.000029115789 |\n",
       "| 2 | 10000 | 1 |  0.0002855979381 | 1 |  0.000010762887 | 1 | -0.000115103093 | 1 |  0.001797185567 |\n",
       "| 3 | 11000 | 1 | -0.0070194482759 | 1 | -0.009357000000 | 1 | -0.005490241379 | 1 |  0.014454741379 |\n",
       "| 4 | 12000 | 1 |  0.0434111497006 | 1 | -0.002358392216 | 1 | -0.003002371257 | 1 | -0.003005179641 |\n",
       "| 5 | 13000 | 1 |  0.0000257411095 | 1 |  0.000032573257 | 1 |  0.000022544808 | 1 |  0.000002318634 |\n",
       "| 6 | 14000 | 1 |  0.0001020174520 | 1 |  0.000020572426 | 1 |  0.000020844677 | 1 |  0.000082582897 |\n",
       "\n"
      ],
      "text/plain": [
       "  STRATUM RHO_AR1 RHO_NAR1         RHO_AR2 RHO_NAR2        RHO_AR3\n",
       "1 1000    1       -0.0000008701754 1       -0.000003312281 1      \n",
       "2 10000   1        0.0002855979381 1        0.000010762887 1      \n",
       "3 11000   1       -0.0070194482759 1       -0.009357000000 1      \n",
       "4 12000   1        0.0434111497006 1       -0.002358392216 1      \n",
       "5 13000   1        0.0000257411095 1        0.000032573257 1      \n",
       "6 14000   1        0.0001020174520 1        0.000020572426 1      \n",
       "  RHO_NAR3        RHO_AR4 RHO_NAR4       \n",
       "1  0.000002891228 1        0.000029115789\n",
       "2 -0.000115103093 1        0.001797185567\n",
       "3 -0.005490241379 1        0.014454741379\n",
       "4 -0.003002371257 1       -0.003005179641\n",
       "5  0.000022544808 1        0.000002318634\n",
       "6  0.000020844677 1        0.000082582897"
      ]
     },
     "metadata": {},
     "output_type": "display_data"
    }
   ],
   "source": [
    "head(inp$rho)"
   ]
  },
  {
   "cell_type": "code",
   "execution_count": 34,
   "id": "266c94cc-b38e-4634-836f-f59a8d398916",
   "metadata": {},
   "outputs": [
    {
     "data": {
      "text/html": [
       "<table class=\"dataframe\">\n",
       "<caption>A data.frame: 6 × 3</caption>\n",
       "<thead>\n",
       "\t<tr><th></th><th scope=col>PSU_ID</th><th scope=col>STRATUM</th><th scope=col>PSU_MOS</th></tr>\n",
       "\t<tr><th></th><th scope=col>&lt;dbl&gt;</th><th scope=col>&lt;fct&gt;</th><th scope=col>&lt;dbl&gt;</th></tr>\n",
       "</thead>\n",
       "<tbody>\n",
       "\t<tr><th scope=row>1</th><td>309</td><td>1000</td><td> 50845</td></tr>\n",
       "\t<tr><th scope=row>2</th><td>330</td><td>1000</td><td>146162</td></tr>\n",
       "\t<tr><th scope=row>3</th><td>292</td><td>2000</td><td> 24794</td></tr>\n",
       "\t<tr><th scope=row>4</th><td>293</td><td>2000</td><td> 19609</td></tr>\n",
       "\t<tr><th scope=row>5</th><td>300</td><td>2000</td><td> 13897</td></tr>\n",
       "\t<tr><th scope=row>6</th><td>304</td><td>2000</td><td> 36195</td></tr>\n",
       "</tbody>\n",
       "</table>\n"
      ],
      "text/latex": [
       "A data.frame: 6 × 3\n",
       "\\begin{tabular}{r|lll}\n",
       "  & PSU\\_ID & STRATUM & PSU\\_MOS\\\\\n",
       "  & <dbl> & <fct> & <dbl>\\\\\n",
       "\\hline\n",
       "\t1 & 309 & 1000 &  50845\\\\\n",
       "\t2 & 330 & 1000 & 146162\\\\\n",
       "\t3 & 292 & 2000 &  24794\\\\\n",
       "\t4 & 293 & 2000 &  19609\\\\\n",
       "\t5 & 300 & 2000 &  13897\\\\\n",
       "\t6 & 304 & 2000 &  36195\\\\\n",
       "\\end{tabular}\n"
      ],
      "text/markdown": [
       "\n",
       "A data.frame: 6 × 3\n",
       "\n",
       "| <!--/--> | PSU_ID &lt;dbl&gt; | STRATUM &lt;fct&gt; | PSU_MOS &lt;dbl&gt; |\n",
       "|---|---|---|---|\n",
       "| 1 | 309 | 1000 |  50845 |\n",
       "| 2 | 330 | 1000 | 146162 |\n",
       "| 3 | 292 | 2000 |  24794 |\n",
       "| 4 | 293 | 2000 |  19609 |\n",
       "| 5 | 300 | 2000 |  13897 |\n",
       "| 6 | 304 | 2000 |  36195 |\n",
       "\n"
      ],
      "text/plain": [
       "  PSU_ID STRATUM PSU_MOS\n",
       "1 309    1000     50845 \n",
       "2 330    1000    146162 \n",
       "3 292    2000     24794 \n",
       "4 293    2000     19609 \n",
       "5 300    2000     13897 \n",
       "6 304    2000     36195 "
      ]
     },
     "metadata": {},
     "output_type": "display_data"
    }
   ],
   "source": [
    "head(inp$psu_file)"
   ]
  },
  {
   "cell_type": "code",
   "execution_count": 35,
   "id": "43b921c8-5e86-49d0-869b-af96cd30a260",
   "metadata": {},
   "outputs": [
    {
     "data": {
      "text/html": [
       "<table class=\"dataframe\">\n",
       "<caption>A data.frame: 6 × 4</caption>\n",
       "<thead>\n",
       "\t<tr><th></th><th scope=col>STRATUM</th><th scope=col>STRAT_MOS</th><th scope=col>DELTA</th><th scope=col>MINIMUM</th></tr>\n",
       "\t<tr><th></th><th scope=col>&lt;fct&gt;</th><th scope=col>&lt;dbl&gt;</th><th scope=col>&lt;dbl&gt;</th><th scope=col>&lt;dbl&gt;</th></tr>\n",
       "</thead>\n",
       "<tbody>\n",
       "\t<tr><th scope=row>1</th><td>1000</td><td>197007</td><td>1</td><td>50</td></tr>\n",
       "\t<tr><th scope=row>2</th><td>2000</td><td>261456</td><td>1</td><td>50</td></tr>\n",
       "\t<tr><th scope=row>3</th><td>3000</td><td>115813</td><td>1</td><td>50</td></tr>\n",
       "\t<tr><th scope=row>4</th><td>4000</td><td> 17241</td><td>1</td><td>50</td></tr>\n",
       "\t<tr><th scope=row>5</th><td>5000</td><td>101067</td><td>1</td><td>50</td></tr>\n",
       "\t<tr><th scope=row>6</th><td>6000</td><td> 47218</td><td>1</td><td>50</td></tr>\n",
       "</tbody>\n",
       "</table>\n"
      ],
      "text/latex": [
       "A data.frame: 6 × 4\n",
       "\\begin{tabular}{r|llll}\n",
       "  & STRATUM & STRAT\\_MOS & DELTA & MINIMUM\\\\\n",
       "  & <fct> & <dbl> & <dbl> & <dbl>\\\\\n",
       "\\hline\n",
       "\t1 & 1000 & 197007 & 1 & 50\\\\\n",
       "\t2 & 2000 & 261456 & 1 & 50\\\\\n",
       "\t3 & 3000 & 115813 & 1 & 50\\\\\n",
       "\t4 & 4000 &  17241 & 1 & 50\\\\\n",
       "\t5 & 5000 & 101067 & 1 & 50\\\\\n",
       "\t6 & 6000 &  47218 & 1 & 50\\\\\n",
       "\\end{tabular}\n"
      ],
      "text/markdown": [
       "\n",
       "A data.frame: 6 × 4\n",
       "\n",
       "| <!--/--> | STRATUM &lt;fct&gt; | STRAT_MOS &lt;dbl&gt; | DELTA &lt;dbl&gt; | MINIMUM &lt;dbl&gt; |\n",
       "|---|---|---|---|---|\n",
       "| 1 | 1000 | 197007 | 1 | 50 |\n",
       "| 2 | 2000 | 261456 | 1 | 50 |\n",
       "| 3 | 3000 | 115813 | 1 | 50 |\n",
       "| 4 | 4000 |  17241 | 1 | 50 |\n",
       "| 5 | 5000 | 101067 | 1 | 50 |\n",
       "| 6 | 6000 |  47218 | 1 | 50 |\n",
       "\n"
      ],
      "text/plain": [
       "  STRATUM STRAT_MOS DELTA MINIMUM\n",
       "1 1000    197007    1     50     \n",
       "2 2000    261456    1     50     \n",
       "3 3000    115813    1     50     \n",
       "4 4000     17241    1     50     \n",
       "5 5000    101067    1     50     \n",
       "6 6000     47218    1     50     "
      ]
     },
     "metadata": {},
     "output_type": "display_data"
    }
   ],
   "source": [
    "head(inp$des_file)"
   ]
  },
  {
   "cell_type": "markdown",
   "id": "47eb4bdb-b1b5-4efa-a18b-5f59323a99ff",
   "metadata": {},
   "source": [
    "## Allocation"
   ]
  },
  {
   "cell_type": "code",
   "execution_count": 37,
   "id": "293dd15f-9a63-4f83-9a6a-6f880e304130",
   "metadata": {},
   "outputs": [
    {
     "name": "stdout",
     "output_type": "stream",
     "text": [
      "  iterations PSU_SR PSU NSR PSU Total  SSU\n",
      "1          0      0       0         0 7402\n",
      "2          1     41      78       119 9745\n",
      "3          2     35     114       149 8717\n",
      "4          3     29     108       137 9066\n",
      "5          4     30     112       142 9026\n"
     ]
    }
   ],
   "source": [
    "set.seed(1234)\n",
    "minPSUstrat <- 2\n",
    "inp$des_file$MINIMUM <- 50\n",
    "alloc <- beat.2st(stratif = inp$strata, \n",
    "                  errors = cv, \n",
    "                  des_file = inp$des_file, \n",
    "                  psu_file = inp$psu_file, \n",
    "                  rho = inp$rho, \n",
    "                  deft_start = NULL, \n",
    "                  effst = inp$effst,\n",
    "                  epsilon1 = 5, \n",
    "                  mmdiff_deft = 1,\n",
    "                  maxi = 15, \n",
    "                  epsilon = 10^(-11), \n",
    "                  minnumstrat = 2, \n",
    "                  minPSUstrat,\n",
    "                  maxiter = 200, \n",
    "                  maxiter1 = 25)"
   ]
  },
  {
   "cell_type": "markdown",
   "id": "79ba8a68-1e4d-4762-ad19-22355d5941c3",
   "metadata": {},
   "source": [
    "## Selection of PSUs (I stage)"
   ]
  },
  {
   "cell_type": "code",
   "execution_count": 42,
   "id": "6002c5d3-37ec-4a36-b4a5-ac47525b113f",
   "metadata": {},
   "outputs": [
    {
     "data": {
      "image/png": "[encoded data removed]",
      "text/plain": [
       "Plot with title \"SSUs by strata\""
      ]
     },
     "metadata": {
      "image/png": {
       "height": 420,
       "width": 420
      }
     },
     "output_type": "display_data"
    }
   ],
   "source": [
    "set.seed(1234)\n",
    "sample_1st <- select_PSU(alloc, type=\"ALLOC\", pps=TRUE)"
   ]
  },
  {
   "cell_type": "code",
   "execution_count": 43,
   "id": "3418078b-0b64-4875-aa72-ffcadc7b729b",
   "metadata": {},
   "outputs": [
    {
     "data": {
      "text/html": [
       "<table class=\"dataframe\">\n",
       "<caption>A data.frame: 25 × 7</caption>\n",
       "<thead>\n",
       "\t<tr><th scope=col>STRATUM</th><th scope=col>PSU</th><th scope=col>PSU_SR</th><th scope=col>PSU_NSR</th><th scope=col>SSU</th><th scope=col>SSU_SR</th><th scope=col>SSU_NSR</th></tr>\n",
       "\t<tr><th scope=col>&lt;chr&gt;</th><th scope=col>&lt;dbl&gt;</th><th scope=col>&lt;dbl&gt;</th><th scope=col>&lt;dbl&gt;</th><th scope=col>&lt;dbl&gt;</th><th scope=col>&lt;dbl&gt;</th><th scope=col>&lt;dbl&gt;</th></tr>\n",
       "</thead>\n",
       "<tbody>\n",
       "\t<tr><td>1000 </td><td>  6</td><td> 6</td><td>  0</td><td> 626</td><td> 218</td><td>   0</td></tr>\n",
       "\t<tr><td>10000</td><td>  2</td><td> 2</td><td>  0</td><td> 218</td><td> 626</td><td>   0</td></tr>\n",
       "\t<tr><td>11000</td><td>  6</td><td> 0</td><td>  6</td><td> 270</td><td> 102</td><td>1396</td></tr>\n",
       "\t<tr><td>12000</td><td>  2</td><td> 0</td><td>  2</td><td>   2</td><td>   0</td><td> 268</td></tr>\n",
       "\t<tr><td>13000</td><td>  2</td><td> 0</td><td>  2</td><td>   2</td><td> 839</td><td>   0</td></tr>\n",
       "\t<tr><td>14000</td><td>  2</td><td> 0</td><td>  2</td><td>   2</td><td> 635</td><td>   0</td></tr>\n",
       "\t<tr><td>15000</td><td>  2</td><td> 2</td><td>  0</td><td>  88</td><td> 619</td><td>1254</td></tr>\n",
       "\t<tr><td>16000</td><td>  2</td><td> 0</td><td>  2</td><td>  28</td><td>   0</td><td>1038</td></tr>\n",
       "\t<tr><td>17000</td><td>  4</td><td> 0</td><td>  4</td><td> 124</td><td>  88</td><td>   0</td></tr>\n",
       "\t<tr><td>18000</td><td>  6</td><td> 2</td><td>  4</td><td> 216</td><td>   0</td><td>  44</td></tr>\n",
       "\t<tr><td>19000</td><td>  2</td><td> 0</td><td>  2</td><td>  44</td><td>   6</td><td> 210</td></tr>\n",
       "\t<tr><td>2000 </td><td>  1</td><td> 1</td><td>  0</td><td> 693</td><td>   0</td><td> 270</td></tr>\n",
       "\t<tr><td>20000</td><td>  1</td><td> 1</td><td>  0</td><td>  88</td><td>   0</td><td> 124</td></tr>\n",
       "\t<tr><td>21000</td><td>  2</td><td> 0</td><td>  2</td><td>   2</td><td>  79</td><td>   0</td></tr>\n",
       "\t<tr><td>22000</td><td>  1</td><td> 1</td><td>  0</td><td>  79</td><td>   0</td><td>  56</td></tr>\n",
       "\t<tr><td>23000</td><td>  4</td><td> 0</td><td>  4</td><td> 188</td><td>   0</td><td> 188</td></tr>\n",
       "\t<tr><td>24000</td><td>  2</td><td> 0</td><td>  2</td><td>  56</td><td>   0</td><td>   2</td></tr>\n",
       "\t<tr><td>3000 </td><td> 28</td><td> 2</td><td> 26</td><td>1498</td><td>   0</td><td> 134</td></tr>\n",
       "\t<tr><td>4000 </td><td>  6</td><td> 0</td><td>  6</td><td> 268</td><td>   0</td><td>   2</td></tr>\n",
       "\t<tr><td>5000 </td><td> 20</td><td> 0</td><td> 20</td><td>1038</td><td>  88</td><td>   0</td></tr>\n",
       "\t<tr><td>6000 </td><td> 31</td><td> 9</td><td> 22</td><td>1873</td><td>   0</td><td>  28</td></tr>\n",
       "\t<tr><td>7000 </td><td>  4</td><td> 4</td><td>  0</td><td> 635</td><td>   0</td><td>   2</td></tr>\n",
       "\t<tr><td>8000 </td><td>  1</td><td> 1</td><td>  0</td><td> 839</td><td>   0</td><td>   2</td></tr>\n",
       "\t<tr><td>9000 </td><td>  4</td><td> 0</td><td>  4</td><td> 134</td><td> 693</td><td>   0</td></tr>\n",
       "\t<tr><td>Total</td><td>141</td><td>31</td><td>110</td><td>9011</td><td>3993</td><td>5018</td></tr>\n",
       "</tbody>\n",
       "</table>\n"
      ],
      "text/latex": [
       "A data.frame: 25 × 7\n",
       "\\begin{tabular}{lllllll}\n",
       " STRATUM & PSU & PSU\\_SR & PSU\\_NSR & SSU & SSU\\_SR & SSU\\_NSR\\\\\n",
       " <chr> & <dbl> & <dbl> & <dbl> & <dbl> & <dbl> & <dbl>\\\\\n",
       "\\hline\n",
       "\t 1000  &   6 &  6 &   0 &  626 &  218 &    0\\\\\n",
       "\t 10000 &   2 &  2 &   0 &  218 &  626 &    0\\\\\n",
       "\t 11000 &   6 &  0 &   6 &  270 &  102 & 1396\\\\\n",
       "\t 12000 &   2 &  0 &   2 &    2 &    0 &  268\\\\\n",
       "\t 13000 &   2 &  0 &   2 &    2 &  839 &    0\\\\\n",
       "\t 14000 &   2 &  0 &   2 &    2 &  635 &    0\\\\\n",
       "\t 15000 &   2 &  2 &   0 &   88 &  619 & 1254\\\\\n",
       "\t 16000 &   2 &  0 &   2 &   28 &    0 & 1038\\\\\n",
       "\t 17000 &   4 &  0 &   4 &  124 &   88 &    0\\\\\n",
       "\t 18000 &   6 &  2 &   4 &  216 &    0 &   44\\\\\n",
       "\t 19000 &   2 &  0 &   2 &   44 &    6 &  210\\\\\n",
       "\t 2000  &   1 &  1 &   0 &  693 &    0 &  270\\\\\n",
       "\t 20000 &   1 &  1 &   0 &   88 &    0 &  124\\\\\n",
       "\t 21000 &   2 &  0 &   2 &    2 &   79 &    0\\\\\n",
       "\t 22000 &   1 &  1 &   0 &   79 &    0 &   56\\\\\n",
       "\t 23000 &   4 &  0 &   4 &  188 &    0 &  188\\\\\n",
       "\t 24000 &   2 &  0 &   2 &   56 &    0 &    2\\\\\n",
       "\t 3000  &  28 &  2 &  26 & 1498 &    0 &  134\\\\\n",
       "\t 4000  &   6 &  0 &   6 &  268 &    0 &    2\\\\\n",
       "\t 5000  &  20 &  0 &  20 & 1038 &   88 &    0\\\\\n",
       "\t 6000  &  31 &  9 &  22 & 1873 &    0 &   28\\\\\n",
       "\t 7000  &   4 &  4 &   0 &  635 &    0 &    2\\\\\n",
       "\t 8000  &   1 &  1 &   0 &  839 &    0 &    2\\\\\n",
       "\t 9000  &   4 &  0 &   4 &  134 &  693 &    0\\\\\n",
       "\t Total & 141 & 31 & 110 & 9011 & 3993 & 5018\\\\\n",
       "\\end{tabular}\n"
      ],
      "text/markdown": [
       "\n",
       "A data.frame: 25 × 7\n",
       "\n",
       "| STRATUM &lt;chr&gt; | PSU &lt;dbl&gt; | PSU_SR &lt;dbl&gt; | PSU_NSR &lt;dbl&gt; | SSU &lt;dbl&gt; | SSU_SR &lt;dbl&gt; | SSU_NSR &lt;dbl&gt; |\n",
       "|---|---|---|---|---|---|---|\n",
       "| 1000  |   6 |  6 |   0 |  626 |  218 |    0 |\n",
       "| 10000 |   2 |  2 |   0 |  218 |  626 |    0 |\n",
       "| 11000 |   6 |  0 |   6 |  270 |  102 | 1396 |\n",
       "| 12000 |   2 |  0 |   2 |    2 |    0 |  268 |\n",
       "| 13000 |   2 |  0 |   2 |    2 |  839 |    0 |\n",
       "| 14000 |   2 |  0 |   2 |    2 |  635 |    0 |\n",
       "| 15000 |   2 |  2 |   0 |   88 |  619 | 1254 |\n",
       "| 16000 |   2 |  0 |   2 |   28 |    0 | 1038 |\n",
       "| 17000 |   4 |  0 |   4 |  124 |   88 |    0 |\n",
       "| 18000 |   6 |  2 |   4 |  216 |    0 |   44 |\n",
       "| 19000 |   2 |  0 |   2 |   44 |    6 |  210 |\n",
       "| 2000  |   1 |  1 |   0 |  693 |    0 |  270 |\n",
       "| 20000 |   1 |  1 |   0 |   88 |    0 |  124 |\n",
       "| 21000 |   2 |  0 |   2 |    2 |   79 |    0 |\n",
       "| 22000 |   1 |  1 |   0 |   79 |    0 |   56 |\n",
       "| 23000 |   4 |  0 |   4 |  188 |    0 |  188 |\n",
       "| 24000 |   2 |  0 |   2 |   56 |    0 |    2 |\n",
       "| 3000  |  28 |  2 |  26 | 1498 |    0 |  134 |\n",
       "| 4000  |   6 |  0 |   6 |  268 |    0 |    2 |\n",
       "| 5000  |  20 |  0 |  20 | 1038 |   88 |    0 |\n",
       "| 6000  |  31 |  9 |  22 | 1873 |    0 |   28 |\n",
       "| 7000  |   4 |  4 |   0 |  635 |    0 |    2 |\n",
       "| 8000  |   1 |  1 |   0 |  839 |    0 |    2 |\n",
       "| 9000  |   4 |  0 |   4 |  134 |  693 |    0 |\n",
       "| Total | 141 | 31 | 110 | 9011 | 3993 | 5018 |\n",
       "\n"
      ],
      "text/plain": [
       "   STRATUM PSU PSU_SR PSU_NSR SSU  SSU_SR SSU_NSR\n",
       "1  1000      6  6       0      626  218      0   \n",
       "2  10000     2  2       0      218  626      0   \n",
       "3  11000     6  0       6      270  102   1396   \n",
       "4  12000     2  0       2        2    0    268   \n",
       "5  13000     2  0       2        2  839      0   \n",
       "6  14000     2  0       2        2  635      0   \n",
       "7  15000     2  2       0       88  619   1254   \n",
       "8  16000     2  0       2       28    0   1038   \n",
       "9  17000     4  0       4      124   88      0   \n",
       "10 18000     6  2       4      216    0     44   \n",
       "11 19000     2  0       2       44    6    210   \n",
       "12 2000      1  1       0      693    0    270   \n",
       "13 20000     1  1       0       88    0    124   \n",
       "14 21000     2  0       2        2   79      0   \n",
       "15 22000     1  1       0       79    0     56   \n",
       "16 23000     4  0       4      188    0    188   \n",
       "17 24000     2  0       2       56    0      2   \n",
       "18 3000     28  2      26     1498    0    134   \n",
       "19 4000      6  0       6      268    0      2   \n",
       "20 5000     20  0      20     1038   88      0   \n",
       "21 6000     31  9      22     1873    0     28   \n",
       "22 7000      4  4       0      635    0      2   \n",
       "23 8000      1  1       0      839    0      2   \n",
       "24 9000      4  0       4      134  693      0   \n",
       "25 Total   141 31     110     9011 3993   5018   "
      ]
     },
     "metadata": {},
     "output_type": "display_data"
    }
   ],
   "source": [
    "sample_1st$PSU_stats"
   ]
  },
  {
   "cell_type": "markdown",
   "id": "8f115f8f-5b85-4404-b2dc-92626ccc9288",
   "metadata": {},
   "source": [
    "## Selection of SSUs (II stage)"
   ]
  },
  {
   "cell_type": "code",
   "execution_count": 45,
   "id": "f3ac024f-fcbf-40c6-83ec-cc7a215f8cde",
   "metadata": {},
   "outputs": [
    {
     "name": "stdout",
     "output_type": "stream",
     "text": [
      "\n",
      "PSU =  1  *** Selected SSU =  77\n",
      "PSU =  2  *** Selected SSU =  58\n",
      "PSU =  3  *** Selected SSU =  693\n",
      "PSU =  4  *** Selected SSU =  112\n",
      "PSU =  5  *** Selected SSU =  84\n",
      "PSU =  6  *** Selected SSU =  51\n",
      "PSU =  7  *** Selected SSU =  52\n",
      "PSU =  8  *** Selected SSU =  66\n",
      "PSU =  9  *** Selected SSU =  52\n",
      "PSU =  10  *** Selected SSU =  30\n",
      "PSU =  11  *** Selected SSU =  56\n",
      "PSU =  12  *** Selected SSU =  56\n",
      "PSU =  13  *** Selected SSU =  52\n",
      "PSU =  14  *** Selected SSU =  50\n",
      "PSU =  15  *** Selected SSU =  92\n",
      "PSU =  16  *** Selected SSU =  62\n",
      "PSU =  17  *** Selected SSU =  50\n",
      "PSU =  18  *** Selected SSU =  199\n",
      "PSU =  19  *** Selected SSU =  51\n",
      "PSU =  20  *** Selected SSU =  59\n",
      "PSU =  21  *** Selected SSU =  51\n",
      "PSU =  22  *** Selected SSU =  52\n",
      "PSU =  23  *** Selected SSU =  58\n",
      "PSU =  24  *** Selected SSU =  51\n",
      "PSU =  25  *** Selected SSU =  52\n",
      "PSU =  26  *** Selected SSU =  58\n",
      "PSU =  27  *** Selected SSU =  52\n",
      "PSU =  28  *** Selected SSU =  52\n",
      "PSU =  29  *** Selected SSU =  52\n",
      "PSU =  30  *** Selected SSU =  58\n",
      "PSU =  31  *** Selected SSU =  56\n",
      "PSU =  32  *** Selected SSU =  30\n",
      "PSU =  33  *** Selected SSU =  52\n",
      "PSU =  34  *** Selected SSU =  30\n",
      "PSU =  35  *** Selected SSU =  58\n",
      "PSU =  36  *** Selected SSU =  52\n",
      "PSU =  37  *** Selected SSU =  56\n",
      "PSU =  38  *** Selected SSU =  58\n",
      "PSU =  39  *** Selected SSU =  30\n",
      "PSU =  40  *** Selected SSU =  59\n",
      "PSU =  41  *** Selected SSU =  66\n",
      "PSU =  42  *** Selected SSU =  81\n",
      "PSU =  43  *** Selected SSU =  52\n",
      "PSU =  44  *** Selected SSU =  118\n",
      "PSU =  45  *** Selected SSU =  54\n",
      "PSU =  46  *** Selected SSU =  58\n",
      "PSU =  47  *** Selected SSU =  63\n",
      "PSU =  48  *** Selected SSU =  52\n",
      "PSU =  49  *** Selected SSU =  52\n",
      "PSU =  50  *** Selected SSU =  52\n",
      "PSU =  51  *** Selected SSU =  54\n",
      "PSU =  52  *** Selected SSU =  56\n",
      "PSU =  53  *** Selected SSU =  54\n",
      "PSU =  54  *** Selected SSU =  47\n",
      "PSU =  55  *** Selected SSU =  56\n",
      "PSU =  56  *** Selected SSU =  62\n",
      "PSU =  57  *** Selected SSU =  52\n",
      "PSU =  58  *** Selected SSU =  52\n",
      "PSU =  59  *** Selected SSU =  64\n",
      "PSU =  60  *** Selected SSU =  31\n",
      "PSU =  61  *** Selected SSU =  80\n",
      "PSU =  62  *** Selected SSU =  71\n",
      "PSU =  63  *** Selected SSU =  64\n",
      "PSU =  64  *** Selected SSU =  58\n",
      "PSU =  65  *** Selected SSU =  51\n",
      "PSU =  66  *** Selected SSU =  88\n",
      "PSU =  67  *** Selected SSU =  52\n",
      "PSU =  68  *** Selected SSU =  54\n",
      "PSU =  69  *** Selected SSU =  52\n",
      "PSU =  70  *** Selected SSU =  52\n",
      "PSU =  71  *** Selected SSU =  143\n",
      "PSU =  72  *** Selected SSU =  58\n",
      "PSU =  73  *** Selected SSU =  51\n",
      "PSU =  74  *** Selected SSU =  114\n",
      "PSU =  75  *** Selected SSU =  52\n",
      "PSU =  76  *** Selected SSU =  260\n",
      "PSU =  77  *** Selected SSU =  54\n",
      "PSU =  78  *** Selected SSU =  50\n",
      "PSU =  79  *** Selected SSU =  52\n",
      "PSU =  80  *** Selected SSU =  64\n",
      "PSU =  81  *** Selected SSU =  47\n",
      "PSU =  82  *** Selected SSU =  54\n",
      "PSU =  83  *** Selected SSU =  839\n",
      "PSU =  84  *** Selected SSU =  55\n",
      "PSU =  85  *** Selected SSU =  50\n",
      "PSU =  86  *** Selected SSU =  60\n",
      "PSU =  87  *** Selected SSU =  55\n",
      "PSU =  88  *** Selected SSU =  68\n",
      "PSU =  89  *** Selected SSU =  52\n",
      "PSU =  90  *** Selected SSU =  62\n",
      "PSU =  91  *** Selected SSU =  31\n",
      "PSU =  92  *** Selected SSU =  50\n",
      "PSU =  93  *** Selected SSU =  72\n",
      "PSU =  94  *** Selected SSU =  72\n",
      "PSU =  95  *** Selected SSU =  68\n",
      "PSU =  96  *** Selected SSU =  62\n",
      "PSU =  97  *** Selected SSU =  58\n",
      "PSU =  98  *** Selected SSU =  57\n",
      "PSU =  99  *** Selected SSU =  26\n",
      "PSU =  100  *** Selected SSU =  52\n",
      "PSU =  101  *** Selected SSU =  57\n",
      "PSU =  102  *** Selected SSU =  56\n",
      "PSU =  103  *** Selected SSU =  17\n",
      "PSU =  104  *** Selected SSU =  1\n",
      "PSU =  105  *** Selected SSU =  52\n",
      "PSU =  106  *** Selected SSU =  26\n",
      "PSU =  107  *** Selected SSU =  17\n",
      "PSU =  108  *** Selected SSU =  50\n",
      "PSU =  109  *** Selected SSU =  50\n",
      "PSU =  110  *** Selected SSU =  162\n",
      "PSU =  111  *** Selected SSU =  1\n",
      "PSU =  112  *** Selected SSU =  1\n",
      "PSU =  113  *** Selected SSU =  1\n",
      "PSU =  114  *** Selected SSU =  14\n",
      "PSU =  115  *** Selected SSU =  14\n",
      "PSU =  116  *** Selected SSU =  1\n",
      "PSU =  117  *** Selected SSU =  2\n",
      "PSU =  118  *** Selected SSU =  86\n",
      "PSU =  119  *** Selected SSU =  1\n",
      "PSU =  120  *** Selected SSU =  12\n",
      "PSU =  121  *** Selected SSU =  53\n",
      "PSU =  122  *** Selected SSU =  22\n",
      "PSU =  123  *** Selected SSU =  22\n",
      "PSU =  124  *** Selected SSU =  50\n",
      "PSU =  125  *** Selected SSU =  53\n",
      "PSU =  126  *** Selected SSU =  88\n",
      "PSU =  127  *** Selected SSU =  52\n",
      "PSU =  128  *** Selected SSU =  12\n",
      "PSU =  129  *** Selected SSU =  3\n",
      "PSU =  130  *** Selected SSU =  50\n",
      "PSU =  131  *** Selected SSU =  3\n",
      "PSU =  132  *** Selected SSU =  52\n",
      "PSU =  133  *** Selected SSU =  28\n",
      "PSU =  134  *** Selected SSU =  1\n",
      "PSU =  135  *** Selected SSU =  40\n",
      "PSU =  136  *** Selected SSU =  79\n",
      "PSU =  137  *** Selected SSU =  54\n",
      "PSU =  138  *** Selected SSU =  28\n",
      "PSU =  139  *** Selected SSU =  40\n",
      "PSU =  140  *** Selected SSU =  1\n",
      "PSU =  141  *** Selected SSU =  54\n",
      "--------------------------------\n",
      "Total PSU =  141\n",
      "Total SSU =  9011\n",
      "--------------------------------"
     ]
    }
   ],
   "source": [
    "set.seed(1234)\n",
    "samp <- select_SSU(df=pop,\n",
    "                   PSU_code=\"municipality\",\n",
    "                   SSU_code=\"id_ind\",\n",
    "                   PSU_sampled=sample_1st$sample_PSU,\n",
    "                   verbose=TRUE)"
   ]
  },
  {
   "cell_type": "code",
   "execution_count": 48,
   "id": "ebfb4302-5f57-4d72-8028-0c70fbdd0622",
   "metadata": {
    "tags": []
   },
   "outputs": [
    {
     "data": {
      "text/html": [
       "9011"
      ],
      "text/latex": [
       "9011"
      ],
      "text/markdown": [
       "9011"
      ],
      "text/plain": [
       "[1] 9011"
      ]
     },
     "metadata": {},
     "output_type": "display_data"
    },
    {
     "data": {
      "text/html": [
       "9026"
      ],
      "text/latex": [
       "9026"
      ],
      "text/markdown": [
       "9026"
      ],
      "text/plain": [
       "[1] 9026"
      ]
     },
     "metadata": {},
     "output_type": "display_data"
    }
   ],
   "source": [
    "nrow(samp)\n",
    "sum(alloc$alloc$ALLOC[-nrow(alloc$alloc)])"
   ]
  },
  {
   "cell_type": "code",
   "execution_count": 49,
   "id": "128bb5ff-ed4d-45fd-a53c-1439349d9721",
   "metadata": {},
   "outputs": [
    {
     "data": {
      "text/html": [
       "2258507"
      ],
      "text/latex": [
       "2258507"
      ],
      "text/markdown": [
       "2258507"
      ],
      "text/plain": [
       "[1] 2258507"
      ]
     },
     "metadata": {},
     "output_type": "display_data"
    },
    {
     "data": {
      "text/html": [
       "2258507"
      ],
      "text/latex": [
       "2258507"
      ],
      "text/markdown": [
       "2258507"
      ],
      "text/plain": [
       "[1] 2258507"
      ]
     },
     "metadata": {},
     "output_type": "display_data"
    }
   ],
   "source": [
    "nrow(pop)\n",
    "sum(samp$weight)"
   ]
  },
  {
   "cell_type": "code",
   "execution_count": 50,
   "id": "cb80b652-1f91-4a88-b6ca-c668453bf3b4",
   "metadata": {},
   "outputs": [
    {
     "data": {
      "image/png": "[encoded data removed]",
      "text/plain": [
       "Plot with title \"Weights distribution by region\""
      ]
     },
     "metadata": {
      "image/png": {
       "height": 420,
       "width": 420
      }
     },
     "output_type": "display_data"
    },
    {
     "data": {
      "image/png": "[encoded data removed]",
      "text/plain": [
       "Plot with title \"Weights distribution by stratum\""
      ]
     },
     "metadata": {
      "image/png": {
       "height": 420,
       "width": 420
      }
     },
     "output_type": "display_data"
    }
   ],
   "source": [
    "## Plot of weights distribution\n",
    "par(mfrow=c(1, 2))\n",
    "boxplot(samp$weight,col=\"grey\")\n",
    "title(\"Weights distribution (total sample)\",cex.main=0.7)\n",
    "boxplot(weight ~ region, data=samp,col=\"grey\")\n",
    "title(\"Weights distribution by region\",cex.main=0.7)\n",
    "par(mfrow=c(1, 2))\n",
    "boxplot(weight ~ province, data=samp,col=\"grey\")\n",
    "title(\"Weights distribution by province\",cex.main=0.7)\n",
    "boxplot(weight ~ stratum, data=samp,col=\"grey\")\n",
    "title(\"Weights distribution by stratum\",cex.main=0.7)"
   ]
  },
  {
   "cell_type": "markdown",
   "id": "8da71a16-abe6-450a-a172-f1151abd0f0a",
   "metadata": {},
   "source": [
    "## Precision constraints compliance control (by simulation)"
   ]
  },
  {
   "cell_type": "code",
   "execution_count": 47,
   "id": "26e6f25b-15a7-482c-8607-2c6021f02278",
   "metadata": {},
   "outputs": [],
   "source": [
    "selected_PSU <- sample_2st[[4]]\n",
    "df=pop\n",
    "df$one <- 1\n",
    "PSU_code=\"municipality\"\n",
    "SSU_code=\"id_ind\"\n",
    "PSU_sampled=selected_PSU[selected_PSU$Sampled_PSU==1,]\n",
    "target_vars <- c(\"income_hh\",\n",
    "                 \"active\",\n",
    "                 \"inactive\",\n",
    "                 \"unemployed\")  \n",
    "PSU_sampled <- selected_PSU[selected_PSU$PSU_final_sample_unit > 0,]"
   ]
  },
  {
   "cell_type": "code",
   "execution_count": 48,
   "id": "9b4cbeeb-9a7f-4f51-9ad2-f2541a52d145",
   "metadata": {},
   "outputs": [
    {
     "name": "stdout",
     "output_type": "stream",
     "text": [
      "  |======================================================================| 100%\n"
     ]
    },
    {
     "data": {
      "text/html": [
       "<table class=\"dataframe\">\n",
       "<caption>A data.frame: 1 × 5</caption>\n",
       "<thead>\n",
       "\t<tr><th scope=col>CV1</th><th scope=col>CV2</th><th scope=col>CV3</th><th scope=col>CV4</th><th scope=col>dom</th></tr>\n",
       "\t<tr><th scope=col>&lt;dbl&gt;</th><th scope=col>&lt;dbl&gt;</th><th scope=col>&lt;dbl&gt;</th><th scope=col>&lt;dbl&gt;</th><th scope=col>&lt;chr&gt;</th></tr>\n",
       "</thead>\n",
       "<tbody>\n",
       "\t<tr><td>0.0149</td><td>0.0194</td><td>0.0485</td><td>0.0729</td><td>DOM1</td></tr>\n",
       "</tbody>\n",
       "</table>\n"
      ],
      "text/latex": [
       "A data.frame: 1 × 5\n",
       "\\begin{tabular}{lllll}\n",
       " CV1 & CV2 & CV3 & CV4 & dom\\\\\n",
       " <dbl> & <dbl> & <dbl> & <dbl> & <chr>\\\\\n",
       "\\hline\n",
       "\t 0.0149 & 0.0194 & 0.0485 & 0.0729 & DOM1\\\\\n",
       "\\end{tabular}\n"
      ],
      "text/markdown": [
       "\n",
       "A data.frame: 1 × 5\n",
       "\n",
       "| CV1 &lt;dbl&gt; | CV2 &lt;dbl&gt; | CV3 &lt;dbl&gt; | CV4 &lt;dbl&gt; | dom &lt;chr&gt; |\n",
       "|---|---|---|---|---|\n",
       "| 0.0149 | 0.0194 | 0.0485 | 0.0729 | DOM1 |\n",
       "\n"
      ],
      "text/plain": [
       "  CV1    CV2    CV3    CV4    dom \n",
       "1 0.0149 0.0194 0.0485 0.0729 DOM1"
      ]
     },
     "metadata": {},
     "output_type": "display_data"
    }
   ],
   "source": [
    "# Domain level = national\n",
    "domain_var <- \"one\"\n",
    "set.seed(1234)\n",
    "eval <- eval_2stage(df,\n",
    "                    PSU_code,\n",
    "                    SSU_code,\n",
    "                    domain_var,\n",
    "                    target_vars,\n",
    "                    PSU_sampled,\n",
    "                    nsampl=100, \n",
    "                    writeFiles=FALSE,\n",
    "                    progress=TRUE) \n",
    "eval$coeff_var"
   ]
  },
  {
   "cell_type": "code",
   "execution_count": 49,
   "id": "6514e98c-99e9-45b6-ac26-51a3c34dfe2c",
   "metadata": {},
   "outputs": [
    {
     "name": "stdout",
     "output_type": "stream",
     "text": [
      "  |======================================================================| 100%\n"
     ]
    },
    {
     "data": {
      "image/png": "[encoded data removed]",
      "text/plain": [
       "Plot with title \"Distribution of CV's in the domains\""
      ]
     },
     "metadata": {
      "image/png": {
       "height": 420,
       "width": 420
      }
     },
     "output_type": "display_data"
    },
    {
     "data": {
      "text/html": [
       "<table class=\"dataframe\">\n",
       "<caption>A data.frame: 3 × 5</caption>\n",
       "<thead>\n",
       "\t<tr><th scope=col>CV1</th><th scope=col>CV2</th><th scope=col>CV3</th><th scope=col>CV4</th><th scope=col>dom</th></tr>\n",
       "\t<tr><th scope=col>&lt;dbl&gt;</th><th scope=col>&lt;dbl&gt;</th><th scope=col>&lt;dbl&gt;</th><th scope=col>&lt;dbl&gt;</th><th scope=col>&lt;chr&gt;</th></tr>\n",
       "</thead>\n",
       "<tbody>\n",
       "\t<tr><td>0.0098</td><td>0.0067</td><td>0.0258</td><td>0.0709</td><td>DOM1</td></tr>\n",
       "\t<tr><td>0.0388</td><td>0.0452</td><td>0.1058</td><td>0.1554</td><td>DOM2</td></tr>\n",
       "\t<tr><td>0.0424</td><td>0.0456</td><td>0.0927</td><td>0.0746</td><td>DOM3</td></tr>\n",
       "</tbody>\n",
       "</table>\n"
      ],
      "text/latex": [
       "A data.frame: 3 × 5\n",
       "\\begin{tabular}{lllll}\n",
       " CV1 & CV2 & CV3 & CV4 & dom\\\\\n",
       " <dbl> & <dbl> & <dbl> & <dbl> & <chr>\\\\\n",
       "\\hline\n",
       "\t 0.0098 & 0.0067 & 0.0258 & 0.0709 & DOM1\\\\\n",
       "\t 0.0388 & 0.0452 & 0.1058 & 0.1554 & DOM2\\\\\n",
       "\t 0.0424 & 0.0456 & 0.0927 & 0.0746 & DOM3\\\\\n",
       "\\end{tabular}\n"
      ],
      "text/markdown": [
       "\n",
       "A data.frame: 3 × 5\n",
       "\n",
       "| CV1 &lt;dbl&gt; | CV2 &lt;dbl&gt; | CV3 &lt;dbl&gt; | CV4 &lt;dbl&gt; | dom &lt;chr&gt; |\n",
       "|---|---|---|---|---|\n",
       "| 0.0098 | 0.0067 | 0.0258 | 0.0709 | DOM1 |\n",
       "| 0.0388 | 0.0452 | 0.1058 | 0.1554 | DOM2 |\n",
       "| 0.0424 | 0.0456 | 0.0927 | 0.0746 | DOM3 |\n",
       "\n"
      ],
      "text/plain": [
       "  CV1    CV2    CV3    CV4    dom \n",
       "1 0.0098 0.0067 0.0258 0.0709 DOM1\n",
       "2 0.0388 0.0452 0.1058 0.1554 DOM2\n",
       "3 0.0424 0.0456 0.0927 0.0746 DOM3"
      ]
     },
     "metadata": {},
     "output_type": "display_data"
    },
    {
     "data": {
      "image/png": "[encoded data removed]",
      "text/plain": [
       "Plot with title \"Distribution of relative bias in the domains\""
      ]
     },
     "metadata": {
      "image/png": {
       "height": 420,
       "width": 420
      }
     },
     "output_type": "display_data"
    }
   ],
   "source": [
    "# Domain level = regional\n",
    "domain_var <- \"region\"\n",
    "set.seed(1234)\n",
    "eval <- eval_2stage(df,\n",
    "                    PSU_code,\n",
    "                    SSU_code,\n",
    "                    domain_var,\n",
    "                    target_vars,\n",
    "                    PSU_sampled,\n",
    "                    nsampl=100, \n",
    "                    writeFiles=FALSE,\n",
    "                    progress=TRUE) \n",
    "eval$coeff_var"
   ]
  },
  {
   "cell_type": "code",
   "execution_count": 51,
   "id": "c8e59b35-b73e-4b36-bfaa-ed53646f6a41",
   "metadata": {},
   "outputs": [
    {
     "data": {
      "text/html": [
       "<table class=\"dataframe\">\n",
       "<caption>A data.frame: 4 × 6</caption>\n",
       "<thead>\n",
       "\t<tr><th></th><th scope=col>Type</th><th scope=col>Dom</th><th scope=col>V1</th><th scope=col>V2</th><th scope=col>V3</th><th scope=col>V4</th></tr>\n",
       "\t<tr><th></th><th scope=col>&lt;chr&gt;</th><th scope=col>&lt;chr&gt;</th><th scope=col>&lt;dbl&gt;</th><th scope=col>&lt;dbl&gt;</th><th scope=col>&lt;dbl&gt;</th><th scope=col>&lt;dbl&gt;</th></tr>\n",
       "</thead>\n",
       "<tbody>\n",
       "\t<tr><th scope=row>1</th><td>DOM1</td><td>1</td><td> 1</td><td>1</td><td> 1</td><td>   1</td></tr>\n",
       "\t<tr><th scope=row>5</th><td>DOM2</td><td>1</td><td> 1</td><td>0</td><td> 1</td><td>1250</td></tr>\n",
       "\t<tr><th scope=row>9</th><td>DOM2</td><td>2</td><td> 1</td><td>1</td><td>33</td><td>  81</td></tr>\n",
       "\t<tr><th scope=row>13</th><td>DOM2</td><td>3</td><td>30</td><td>1</td><td>64</td><td>   1</td></tr>\n",
       "</tbody>\n",
       "</table>\n"
      ],
      "text/latex": [
       "A data.frame: 4 × 6\n",
       "\\begin{tabular}{r|llllll}\n",
       "  & Type & Dom & V1 & V2 & V3 & V4\\\\\n",
       "  & <chr> & <chr> & <dbl> & <dbl> & <dbl> & <dbl>\\\\\n",
       "\\hline\n",
       "\t1 & DOM1 & 1 &  1 & 1 &  1 &    1\\\\\n",
       "\t5 & DOM2 & 1 &  1 & 0 &  1 & 1250\\\\\n",
       "\t9 & DOM2 & 2 &  1 & 1 & 33 &   81\\\\\n",
       "\t13 & DOM2 & 3 & 30 & 1 & 64 &    1\\\\\n",
       "\\end{tabular}\n"
      ],
      "text/markdown": [
       "\n",
       "A data.frame: 4 × 6\n",
       "\n",
       "| <!--/--> | Type &lt;chr&gt; | Dom &lt;chr&gt; | V1 &lt;dbl&gt; | V2 &lt;dbl&gt; | V3 &lt;dbl&gt; | V4 &lt;dbl&gt; |\n",
       "|---|---|---|---|---|---|---|\n",
       "| 1 | DOM1 | 1 |  1 | 1 |  1 |    1 |\n",
       "| 5 | DOM2 | 1 |  1 | 0 |  1 | 1250 |\n",
       "| 9 | DOM2 | 2 |  1 | 1 | 33 |   81 |\n",
       "| 13 | DOM2 | 3 | 30 | 1 | 64 |    1 |\n",
       "\n"
      ],
      "text/plain": [
       "   Type Dom V1 V2 V3 V4  \n",
       "1  DOM1 1    1 1   1    1\n",
       "5  DOM2 1    1 0   1 1250\n",
       "9  DOM2 2    1 1  33   81\n",
       "13 DOM2 3   30 1  64    1"
      ]
     },
     "metadata": {},
     "output_type": "display_data"
    }
   ],
   "source": [
    "alloc$sensitivity"
   ]
  },
  {
   "cell_type": "code",
   "execution_count": null,
   "id": "7e99a3d9-b67a-4d35-8142-cd10f3916637",
   "metadata": {},
   "outputs": [],
   "source": []
  }
 ],
 "metadata": {
  "kernelspec": {
   "display_name": "R",
   "language": "R",
   "name": "ir"
  },
  "language_info": {
   "codemirror_mode": "r",
   "file_extension": ".r",
   "mimetype": "text/x-r-source",
   "name": "R",
   "pygments_lexer": "r",
   "version": "4.1.1"
  }
 },
 "nbformat": 4,
 "nbformat_minor": 5
}
