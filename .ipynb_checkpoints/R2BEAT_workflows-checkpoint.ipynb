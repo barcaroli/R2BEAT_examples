{
 "cells": [
  {
   "cell_type": "markdown",
   "id": "4ad2eb21-4fa9-4fcf-a47d-e13146f054f7",
   "metadata": {},
   "source": [
    "# Workflow example with R2BEAT \n",
    "# Scenario 1\n",
    "Only a sampling frame containing the units of the population \n",
    "of reference is available, no previous round of the sampling survey to be \n",
    "planned"
   ]
  },
  {
   "cell_type": "code",
   "execution_count": 1,
   "id": "8447983d-253c-416a-9dc4-798c53ee2d07",
   "metadata": {},
   "outputs": [
    {
     "name": "stderr",
     "output_type": "stream",
     "text": [
      "Caricamento del pacchetto richiesto: plyr\n",
      "\n",
      "Caricamento del pacchetto richiesto: devtools\n",
      "\n",
      "Caricamento del pacchetto richiesto: usethis\n",
      "\n",
      "Caricamento del pacchetto richiesto: sampling\n",
      "\n"
     ]
    }
   ],
   "source": [
    "# Install last version of R2BEAT and ReGenesees\n",
    "#install.packages(\"devtools\")\n",
    "#devtools::install_github(\"DiegoZardetto/ReGenesees\",dependencies = FALSE)\n",
    "#devtools::install_github(\"barcaroli/R2BEAT\")\n",
    "library(R2BEAT)"
   ]
  },
  {
   "cell_type": "code",
   "execution_count": 2,
   "id": "88e6a364-4d30-4752-81b2-2ee6d54df81a",
   "metadata": {},
   "outputs": [
    {
     "data": {
      "text/plain": [
       "[1] '1.0.4'"
      ]
     },
     "metadata": {},
     "output_type": "display_data"
    }
   ],
   "source": [
    "packageVersion(\"R2BEAT\")"
   ]
  },
  {
   "cell_type": "code",
   "execution_count": 3,
   "id": "faa91fdb-69a8-4c59-82f2-7c7749df2154",
   "metadata": {},
   "outputs": [],
   "source": [
    "## Sampling frame\n",
    "load(\"pop.RData\")"
   ]
  },
  {
   "cell_type": "markdown",
   "id": "9f902dfe-db70-48f9-9ede-0f188362ee19",
   "metadata": {},
   "source": [
    "## Precision constraints"
   ]
  },
  {
   "cell_type": "code",
   "execution_count": 4,
   "id": "69918ced-603d-4d1a-b461-1eda1710bc8d",
   "metadata": {},
   "outputs": [
    {
     "data": {
      "text/html": [
       "<table class=\"dataframe\">\n",
       "<caption>A data.frame: 2 × 5</caption>\n",
       "<thead>\n",
       "\t<tr><th scope=col>DOM</th><th scope=col>CV1</th><th scope=col>CV2</th><th scope=col>CV3</th><th scope=col>CV4</th></tr>\n",
       "\t<tr><th scope=col>&lt;chr&gt;</th><th scope=col>&lt;dbl&gt;</th><th scope=col>&lt;dbl&gt;</th><th scope=col>&lt;dbl&gt;</th><th scope=col>&lt;dbl&gt;</th></tr>\n",
       "</thead>\n",
       "<tbody>\n",
       "\t<tr><td>DOM1</td><td>0.02</td><td>0.03</td><td>0.03</td><td>0.05</td></tr>\n",
       "\t<tr><td>DOM2</td><td>0.03</td><td>0.06</td><td>0.06</td><td>0.08</td></tr>\n",
       "</tbody>\n",
       "</table>\n"
      ],
      "text/latex": [
       "A data.frame: 2 × 5\n",
       "\\begin{tabular}{lllll}\n",
       " DOM & CV1 & CV2 & CV3 & CV4\\\\\n",
       " <chr> & <dbl> & <dbl> & <dbl> & <dbl>\\\\\n",
       "\\hline\n",
       "\t DOM1 & 0.02 & 0.03 & 0.03 & 0.05\\\\\n",
       "\t DOM2 & 0.03 & 0.06 & 0.06 & 0.08\\\\\n",
       "\\end{tabular}\n"
      ],
      "text/markdown": [
       "\n",
       "A data.frame: 2 × 5\n",
       "\n",
       "| DOM &lt;chr&gt; | CV1 &lt;dbl&gt; | CV2 &lt;dbl&gt; | CV3 &lt;dbl&gt; | CV4 &lt;dbl&gt; |\n",
       "|---|---|---|---|---|\n",
       "| DOM1 | 0.02 | 0.03 | 0.03 | 0.05 |\n",
       "| DOM2 | 0.03 | 0.06 | 0.06 | 0.08 |\n",
       "\n"
      ],
      "text/plain": [
       "  DOM  CV1  CV2  CV3  CV4 \n",
       "1 DOM1 0.02 0.03 0.03 0.05\n",
       "2 DOM2 0.03 0.06 0.06 0.08"
      ]
     },
     "metadata": {},
     "output_type": "display_data"
    }
   ],
   "source": [
    "\n",
    "cv <- as.data.frame(list(DOM=c(\"DOM1\",\"DOM2\"),\n",
    "                         CV1=c(0.02,0.03),\n",
    "                         CV2=c(0.03,0.06),\n",
    "                         CV3=c(0.03,0.06),\n",
    "                         CV4=c(0.05,0.08)))\n",
    "cv"
   ]
  },
  {
   "cell_type": "markdown",
   "id": "94534f48-9e4b-485a-a8b9-75a0366159ec",
   "metadata": {},
   "source": [
    "## Sensitivity analysis"
   ]
  },
  {
   "cell_type": "code",
   "execution_count": 5,
   "id": "7578bba5-c7ff-44aa-a188-7c280eed644a",
   "metadata": {},
   "outputs": [
    {
     "name": "stdout",
     "output_type": "stream",
     "text": [
      "\n",
      "Calculating strata...\n",
      "Computations are being done on population data\n",
      "\n",
      "Number of strata:  24\n",
      "... of which with only one unit:  0\n",
      "Calculating rho in strata...\n",
      "Stratum  1000\n",
      "Stratum  2000\n",
      "Stratum  3000\n",
      "Stratum  4000\n",
      "Stratum  5000\n",
      "Stratum  6000\n",
      "Stratum  7000\n",
      "Stratum  8000\n",
      "Stratum  9000\n",
      "Stratum  10000\n",
      "Stratum  11000\n",
      "Stratum  12000\n",
      "Stratum  13000\n",
      "Stratum  14000\n",
      "Stratum  15000\n",
      "Stratum  16000\n",
      "Stratum  17000\n",
      "Stratum  18000\n",
      "Stratum  19000\n",
      "Stratum  20000\n",
      "Stratum  21000\n",
      "Stratum  22000\n",
      "Stratum  23000\n",
      "Stratum  24000\n",
      " 1  iterations PSU_SR PSU NSR PSU Total  SSU\n",
      "1          0      0       0         0 7836\n",
      "2          1     39     132       171 8077\n",
      "3          2     42     134       176 8074\n",
      "\n",
      " 2  iterations PSU_SR PSU NSR PSU Total  SSU\n",
      "1          0      0       0         0 7836\n",
      "2          1     30     121       151 8130\n",
      "3          2     32     124       156 8127\n",
      "\n",
      " 3  iterations PSU_SR PSU NSR PSU Total  SSU\n",
      "1          0      0       0         0 7836\n",
      "2          1     24     111       135 8188\n",
      "3          2     29     112       141 8182\n",
      "\n",
      " 4  iterations PSU_SR PSU NSR PSU Total  SSU\n",
      "1          0      0       0         0 7836\n",
      "2          1     22     101       123 8242\n",
      "3          2     25     104       129 8239\n",
      "\n",
      " 5  iterations PSU_SR PSU NSR PSU Total  SSU\n",
      "1          0      0       0         0 7836\n",
      "2          1     20      93       113 8304\n",
      "3          2     23      96       119 8299\n",
      "\n",
      " 6  iterations PSU_SR PSU NSR PSU Total  SSU\n",
      "1          0      0       0         0 7836\n",
      "2          1     17      87       104 8368\n",
      "3          2     18      93       111 8364\n",
      "\n",
      " 7  iterations PSU_SR PSU NSR PSU Total  SSU\n",
      "1          0      0       0         0 7836\n",
      "2          1     16      81        97 8434\n",
      "3          2     16      88       104 8434\n",
      "\n",
      " 8  iterations PSU_SR PSU NSR PSU Total  SSU\n",
      "1          0      0       0         0 7836\n",
      "2          1     16      75        91 8489\n",
      "3          2     16      82        98 8489\n",
      "\n",
      " 9  iterations PSU_SR PSU NSR PSU Total  SSU\n",
      "1          0      0       0         0 7836\n",
      "2          1     16      69        85 8552\n",
      "3          2     16      77        93 8552\n",
      "\n",
      " 10  iterations PSU_SR PSU NSR PSU Total  SSU\n",
      "1          0      0       0         0 7836\n",
      "2          1     14      67        81 8616\n",
      "3          2     15      74        89 8615\n",
      "\n",
      " 11  iterations PSU_SR PSU NSR PSU Total  SSU\n",
      "1          0      0       0         0 7836\n",
      "2          1     13      63        76 8685\n",
      "3          2     14      71        85 8675\n"
     ]
    },
    {
     "data": {
      "image/png": "[encoded data removed]",
      "text/plain": [
       "Plot with title \"Second Stage Size\""
      ]
     },
     "metadata": {
      "image/png": {
       "height": 420,
       "width": 420
      }
     },
     "output_type": "display_data"
    }
   ],
   "source": [
    "sens_min_SSU <- sensitivity_min_SSU (\n",
    "             samp_frame=pop,\n",
    "             errors=cv,\n",
    "             id_PSU=\"municipality\",\n",
    "             id_SSU=\"id_ind\",\n",
    "             strata_var=\"stratum\",\n",
    "             target_vars=c(\"income_hh\",\"active\",\"inactive\",\"unemployed\"),\n",
    "             deff_var=\"stratum\",\n",
    "             domain_var=\"region\",\n",
    "             delta=1,\n",
    "             f=0.05,\n",
    "             deff_sugg=1,\n",
    "             min=30,\n",
    "             max=80,\n",
    "             plot=TRUE)"
   ]
  },
  {
   "cell_type": "markdown",
   "id": "abee92be-2a4e-4a09-8334-3655246e3c8a",
   "metadata": {},
   "source": [
    "## Preparation of inputs for allocation steps"
   ]
  },
  {
   "cell_type": "code",
   "execution_count": 6,
   "id": "3a1c235a-fce7-4bb6-9908-495e3e27d9b2",
   "metadata": {},
   "outputs": [
    {
     "name": "stdout",
     "output_type": "stream",
     "text": [
      "\n",
      "Calculating strata...\n",
      "Computations are being done on population data\n",
      "\n",
      "Number of strata:  24\n",
      "... of which with only one unit:  0\n",
      "Calculating rho in strata...\n",
      "Stratum  1000\n",
      "Stratum  2000\n",
      "Stratum  3000\n",
      "Stratum  4000\n",
      "Stratum  5000\n",
      "Stratum  6000\n",
      "Stratum  7000\n",
      "Stratum  8000\n",
      "Stratum  9000\n",
      "Stratum  10000\n",
      "Stratum  11000\n",
      "Stratum  12000\n",
      "Stratum  13000\n",
      "Stratum  14000\n",
      "Stratum  15000\n",
      "Stratum  16000\n",
      "Stratum  17000\n",
      "Stratum  18000\n",
      "Stratum  19000\n",
      "Stratum  20000\n",
      "Stratum  21000\n",
      "Stratum  22000\n",
      "Stratum  23000\n",
      "Stratum  24000"
     ]
    }
   ],
   "source": [
    "## Preparation of inputs for allocation steps\n",
    "samp_frame <- pop\n",
    "samp_frame$one <- 1\n",
    "id_PSU <- \"municipality\"  \n",
    "id_SSU <- \"id_ind\"        \n",
    "strata_var <- \"stratum\"   \n",
    "target_vars <- c(\"income_hh\",\"active\",\"inactive\",\"unemployed\")   \n",
    "deff_var <- \"stratum\"     \n",
    "domain_var <- \"region\"  \n",
    "delta =  1       # households = survey units\n",
    "minimum <- 50    # minimum number of SSUs to be interviewed in each selected PSU\n",
    "f = 0.05         # suggestion for the sampling fraction \n",
    "deff_sugg <- 1.5 # suggestion for the deff value\n",
    " \n",
    "inp <- prepareInputToAllocation1(samp_frame,\n",
    "                                id_PSU,\n",
    "                                id_SSU,\n",
    "                                strata_var,\n",
    "                                target_vars,\n",
    "                                deff_var,\n",
    "                                domain_var,\n",
    "                                minimum,\n",
    "                                delta,\n",
    "                                f,\n",
    "                                deff_sugg)"
   ]
  },
  {
   "cell_type": "code",
   "execution_count": 7,
   "id": "184e48ce-f23e-477d-9d01-61158305bdfa",
   "metadata": {},
   "outputs": [
    {
     "data": {
      "text/html": [
       "<table class=\"dataframe\">\n",
       "<caption>A data.frame: 6 × 14</caption>\n",
       "<thead>\n",
       "\t<tr><th></th><th scope=col>N</th><th scope=col>M1</th><th scope=col>M2</th><th scope=col>M3</th><th scope=col>M4</th><th scope=col>S1</th><th scope=col>S2</th><th scope=col>S3</th><th scope=col>S4</th><th scope=col>COST</th><th scope=col>CENS</th><th scope=col>DOM1</th><th scope=col>DOM2</th><th scope=col>STRATUM</th></tr>\n",
       "\t<tr><th></th><th scope=col>&lt;dbl&gt;</th><th scope=col>&lt;dbl&gt;</th><th scope=col>&lt;dbl&gt;</th><th scope=col>&lt;dbl&gt;</th><th scope=col>&lt;dbl&gt;</th><th scope=col>&lt;dbl&gt;</th><th scope=col>&lt;dbl&gt;</th><th scope=col>&lt;dbl&gt;</th><th scope=col>&lt;dbl&gt;</th><th scope=col>&lt;dbl&gt;</th><th scope=col>&lt;dbl&gt;</th><th scope=col>&lt;dbl&gt;</th><th scope=col>&lt;dbl&gt;</th><th scope=col>&lt;fct&gt;</th></tr>\n",
       "</thead>\n",
       "<tbody>\n",
       "\t<tr><th scope=row>1000</th><td>197007</td><td>23959.87</td><td>0.6650322</td><td>0.2285807</td><td>0.10638708</td><td>22179.08</td><td>0.4719792</td><td>0.4199185</td><td>0.3083324</td><td>1</td><td>0</td><td>1</td><td>2</td><td>1000</td></tr>\n",
       "\t<tr><th scope=row>2000</th><td>261456</td><td>20966.65</td><td>0.6709886</td><td>0.2297519</td><td>0.09925953</td><td>19624.65</td><td>0.4698541</td><td>0.4206732</td><td>0.2990102</td><td>1</td><td>0</td><td>1</td><td>2</td><td>2000</td></tr>\n",
       "\t<tr><th scope=row>3000</th><td>115813</td><td>19814.73</td><td>0.6644591</td><td>0.2315975</td><td>0.10394343</td><td>14754.88</td><td>0.4721792</td><td>0.4218532</td><td>0.3051871</td><td>1</td><td>0</td><td>1</td><td>2</td><td>3000</td></tr>\n",
       "\t<tr><th scope=row>4000</th><td> 17241</td><td>18732.72</td><td>0.6273418</td><td>0.2499275</td><td>0.12273070</td><td>13462.74</td><td>0.4835122</td><td>0.4329708</td><td>0.3281278</td><td>1</td><td>0</td><td>1</td><td>2</td><td>4000</td></tr>\n",
       "\t<tr><th scope=row>5000</th><td>101067</td><td>22070.31</td><td>0.6134445</td><td>0.2338845</td><td>0.15267100</td><td>17187.98</td><td>0.4869603</td><td>0.4232996</td><td>0.3596701</td><td>1</td><td>0</td><td>1</td><td>2</td><td>5000</td></tr>\n",
       "\t<tr><th scope=row>6000</th><td> 47218</td><td>21069.07</td><td>0.6135796</td><td>0.2348469</td><td>0.15157355</td><td>17342.74</td><td>0.4869288</td><td>0.4239031</td><td>0.3586070</td><td>1</td><td>0</td><td>1</td><td>2</td><td>6000</td></tr>\n",
       "</tbody>\n",
       "</table>\n"
      ],
      "text/latex": [
       "A data.frame: 6 × 14\n",
       "\\begin{tabular}{r|llllllllllllll}\n",
       "  & N & M1 & M2 & M3 & M4 & S1 & S2 & S3 & S4 & COST & CENS & DOM1 & DOM2 & STRATUM\\\\\n",
       "  & <dbl> & <dbl> & <dbl> & <dbl> & <dbl> & <dbl> & <dbl> & <dbl> & <dbl> & <dbl> & <dbl> & <dbl> & <dbl> & <fct>\\\\\n",
       "\\hline\n",
       "\t1000 & 197007 & 23959.87 & 0.6650322 & 0.2285807 & 0.10638708 & 22179.08 & 0.4719792 & 0.4199185 & 0.3083324 & 1 & 0 & 1 & 2 & 1000\\\\\n",
       "\t2000 & 261456 & 20966.65 & 0.6709886 & 0.2297519 & 0.09925953 & 19624.65 & 0.4698541 & 0.4206732 & 0.2990102 & 1 & 0 & 1 & 2 & 2000\\\\\n",
       "\t3000 & 115813 & 19814.73 & 0.6644591 & 0.2315975 & 0.10394343 & 14754.88 & 0.4721792 & 0.4218532 & 0.3051871 & 1 & 0 & 1 & 2 & 3000\\\\\n",
       "\t4000 &  17241 & 18732.72 & 0.6273418 & 0.2499275 & 0.12273070 & 13462.74 & 0.4835122 & 0.4329708 & 0.3281278 & 1 & 0 & 1 & 2 & 4000\\\\\n",
       "\t5000 & 101067 & 22070.31 & 0.6134445 & 0.2338845 & 0.15267100 & 17187.98 & 0.4869603 & 0.4232996 & 0.3596701 & 1 & 0 & 1 & 2 & 5000\\\\\n",
       "\t6000 &  47218 & 21069.07 & 0.6135796 & 0.2348469 & 0.15157355 & 17342.74 & 0.4869288 & 0.4239031 & 0.3586070 & 1 & 0 & 1 & 2 & 6000\\\\\n",
       "\\end{tabular}\n"
      ],
      "text/markdown": [
       "\n",
       "A data.frame: 6 × 14\n",
       "\n",
       "| <!--/--> | N &lt;dbl&gt; | M1 &lt;dbl&gt; | M2 &lt;dbl&gt; | M3 &lt;dbl&gt; | M4 &lt;dbl&gt; | S1 &lt;dbl&gt; | S2 &lt;dbl&gt; | S3 &lt;dbl&gt; | S4 &lt;dbl&gt; | COST &lt;dbl&gt; | CENS &lt;dbl&gt; | DOM1 &lt;dbl&gt; | DOM2 &lt;dbl&gt; | STRATUM &lt;fct&gt; |\n",
       "|---|---|---|---|---|---|---|---|---|---|---|---|---|---|---|\n",
       "| 1000 | 197007 | 23959.87 | 0.6650322 | 0.2285807 | 0.10638708 | 22179.08 | 0.4719792 | 0.4199185 | 0.3083324 | 1 | 0 | 1 | 2 | 1000 |\n",
       "| 2000 | 261456 | 20966.65 | 0.6709886 | 0.2297519 | 0.09925953 | 19624.65 | 0.4698541 | 0.4206732 | 0.2990102 | 1 | 0 | 1 | 2 | 2000 |\n",
       "| 3000 | 115813 | 19814.73 | 0.6644591 | 0.2315975 | 0.10394343 | 14754.88 | 0.4721792 | 0.4218532 | 0.3051871 | 1 | 0 | 1 | 2 | 3000 |\n",
       "| 4000 |  17241 | 18732.72 | 0.6273418 | 0.2499275 | 0.12273070 | 13462.74 | 0.4835122 | 0.4329708 | 0.3281278 | 1 | 0 | 1 | 2 | 4000 |\n",
       "| 5000 | 101067 | 22070.31 | 0.6134445 | 0.2338845 | 0.15267100 | 17187.98 | 0.4869603 | 0.4232996 | 0.3596701 | 1 | 0 | 1 | 2 | 5000 |\n",
       "| 6000 |  47218 | 21069.07 | 0.6135796 | 0.2348469 | 0.15157355 | 17342.74 | 0.4869288 | 0.4239031 | 0.3586070 | 1 | 0 | 1 | 2 | 6000 |\n",
       "\n"
      ],
      "text/plain": [
       "     N      M1       M2        M3        M4         S1       S2       \n",
       "1000 197007 23959.87 0.6650322 0.2285807 0.10638708 22179.08 0.4719792\n",
       "2000 261456 20966.65 0.6709886 0.2297519 0.09925953 19624.65 0.4698541\n",
       "3000 115813 19814.73 0.6644591 0.2315975 0.10394343 14754.88 0.4721792\n",
       "4000  17241 18732.72 0.6273418 0.2499275 0.12273070 13462.74 0.4835122\n",
       "5000 101067 22070.31 0.6134445 0.2338845 0.15267100 17187.98 0.4869603\n",
       "6000  47218 21069.07 0.6135796 0.2348469 0.15157355 17342.74 0.4869288\n",
       "     S3        S4        COST CENS DOM1 DOM2 STRATUM\n",
       "1000 0.4199185 0.3083324 1    0    1    2    1000   \n",
       "2000 0.4206732 0.2990102 1    0    1    2    2000   \n",
       "3000 0.4218532 0.3051871 1    0    1    2    3000   \n",
       "4000 0.4329708 0.3281278 1    0    1    2    4000   \n",
       "5000 0.4232996 0.3596701 1    0    1    2    5000   \n",
       "6000 0.4239031 0.3586070 1    0    1    2    6000   "
      ]
     },
     "metadata": {},
     "output_type": "display_data"
    }
   ],
   "source": [
    "head(inp$strata)"
   ]
  },
  {
   "cell_type": "code",
   "execution_count": 8,
   "id": "48677dc4-b8e0-4a60-b5e2-1cb815a916ab",
   "metadata": {},
   "outputs": [
    {
     "data": {
      "text/html": [
       "<table class=\"dataframe\">\n",
       "<caption>A data.frame: 6 × 6</caption>\n",
       "<thead>\n",
       "\t<tr><th></th><th scope=col>STRATUM</th><th scope=col>DEFF1</th><th scope=col>DEFF2</th><th scope=col>DEFF3</th><th scope=col>DEFF4</th><th scope=col>b_nar</th></tr>\n",
       "\t<tr><th></th><th scope=col>&lt;fct&gt;</th><th scope=col>&lt;dbl&gt;</th><th scope=col>&lt;dbl&gt;</th><th scope=col>&lt;dbl&gt;</th><th scope=col>&lt;dbl&gt;</th><th scope=col>&lt;dbl&gt;</th></tr>\n",
       "</thead>\n",
       "<tbody>\n",
       "\t<tr><th scope=row>1</th><td>1000</td><td>1.5</td><td>1.5</td><td>1.5</td><td>1.5</td><td>4925.17500</td></tr>\n",
       "\t<tr><th scope=row>12</th><td>2000</td><td>1.5</td><td>1.5</td><td>1.5</td><td>1.5</td><td>1005.60000</td></tr>\n",
       "\t<tr><th scope=row>18</th><td>3000</td><td>1.5</td><td>1.5</td><td>1.5</td><td>1.5</td><td> 222.71731</td></tr>\n",
       "\t<tr><th scope=row>19</th><td>4000</td><td>1.5</td><td>1.5</td><td>1.5</td><td>1.5</td><td>  47.89167</td></tr>\n",
       "\t<tr><th scope=row>20</th><td>5000</td><td>1.5</td><td>1.5</td><td>1.5</td><td>1.5</td><td>2526.67500</td></tr>\n",
       "\t<tr><th scope=row>21</th><td>6000</td><td>1.5</td><td>1.5</td><td>1.5</td><td>1.5</td><td> 786.96667</td></tr>\n",
       "</tbody>\n",
       "</table>\n"
      ],
      "text/latex": [
       "A data.frame: 6 × 6\n",
       "\\begin{tabular}{r|llllll}\n",
       "  & STRATUM & DEFF1 & DEFF2 & DEFF3 & DEFF4 & b\\_nar\\\\\n",
       "  & <fct> & <dbl> & <dbl> & <dbl> & <dbl> & <dbl>\\\\\n",
       "\\hline\n",
       "\t1 & 1000 & 1.5 & 1.5 & 1.5 & 1.5 & 4925.17500\\\\\n",
       "\t12 & 2000 & 1.5 & 1.5 & 1.5 & 1.5 & 1005.60000\\\\\n",
       "\t18 & 3000 & 1.5 & 1.5 & 1.5 & 1.5 &  222.71731\\\\\n",
       "\t19 & 4000 & 1.5 & 1.5 & 1.5 & 1.5 &   47.89167\\\\\n",
       "\t20 & 5000 & 1.5 & 1.5 & 1.5 & 1.5 & 2526.67500\\\\\n",
       "\t21 & 6000 & 1.5 & 1.5 & 1.5 & 1.5 &  786.96667\\\\\n",
       "\\end{tabular}\n"
      ],
      "text/markdown": [
       "\n",
       "A data.frame: 6 × 6\n",
       "\n",
       "| <!--/--> | STRATUM &lt;fct&gt; | DEFF1 &lt;dbl&gt; | DEFF2 &lt;dbl&gt; | DEFF3 &lt;dbl&gt; | DEFF4 &lt;dbl&gt; | b_nar &lt;dbl&gt; |\n",
       "|---|---|---|---|---|---|---|\n",
       "| 1 | 1000 | 1.5 | 1.5 | 1.5 | 1.5 | 4925.17500 |\n",
       "| 12 | 2000 | 1.5 | 1.5 | 1.5 | 1.5 | 1005.60000 |\n",
       "| 18 | 3000 | 1.5 | 1.5 | 1.5 | 1.5 |  222.71731 |\n",
       "| 19 | 4000 | 1.5 | 1.5 | 1.5 | 1.5 |   47.89167 |\n",
       "| 20 | 5000 | 1.5 | 1.5 | 1.5 | 1.5 | 2526.67500 |\n",
       "| 21 | 6000 | 1.5 | 1.5 | 1.5 | 1.5 |  786.96667 |\n",
       "\n"
      ],
      "text/plain": [
       "   STRATUM DEFF1 DEFF2 DEFF3 DEFF4 b_nar     \n",
       "1  1000    1.5   1.5   1.5   1.5   4925.17500\n",
       "12 2000    1.5   1.5   1.5   1.5   1005.60000\n",
       "18 3000    1.5   1.5   1.5   1.5    222.71731\n",
       "19 4000    1.5   1.5   1.5   1.5     47.89167\n",
       "20 5000    1.5   1.5   1.5   1.5   2526.67500\n",
       "21 6000    1.5   1.5   1.5   1.5    786.96667"
      ]
     },
     "metadata": {},
     "output_type": "display_data"
    }
   ],
   "source": [
    "head(inp$deff)"
   ]
  },
  {
   "cell_type": "code",
   "execution_count": 9,
   "id": "9a3019d8-71d7-4d38-ac61-7f28c03884f3",
   "metadata": {},
   "outputs": [
    {
     "data": {
      "text/html": [
       "<table class=\"dataframe\">\n",
       "<caption>A data.frame: 6 × 5</caption>\n",
       "<thead>\n",
       "\t<tr><th></th><th scope=col>STRATUM</th><th scope=col>EFFST1</th><th scope=col>EFFST2</th><th scope=col>EFFST3</th><th scope=col>EFFST4</th></tr>\n",
       "\t<tr><th></th><th scope=col>&lt;fct&gt;</th><th scope=col>&lt;dbl&gt;</th><th scope=col>&lt;dbl&gt;</th><th scope=col>&lt;dbl&gt;</th><th scope=col>&lt;dbl&gt;</th></tr>\n",
       "</thead>\n",
       "<tbody>\n",
       "\t<tr><th scope=row>1</th><td>1000</td><td>1</td><td>1</td><td>1</td><td>1</td></tr>\n",
       "\t<tr><th scope=row>2</th><td>2000</td><td>1</td><td>1</td><td>1</td><td>1</td></tr>\n",
       "\t<tr><th scope=row>3</th><td>3000</td><td>1</td><td>1</td><td>1</td><td>1</td></tr>\n",
       "\t<tr><th scope=row>4</th><td>4000</td><td>1</td><td>1</td><td>1</td><td>1</td></tr>\n",
       "\t<tr><th scope=row>5</th><td>5000</td><td>1</td><td>1</td><td>1</td><td>1</td></tr>\n",
       "\t<tr><th scope=row>6</th><td>6000</td><td>1</td><td>1</td><td>1</td><td>1</td></tr>\n",
       "</tbody>\n",
       "</table>\n"
      ],
      "text/latex": [
       "A data.frame: 6 × 5\n",
       "\\begin{tabular}{r|lllll}\n",
       "  & STRATUM & EFFST1 & EFFST2 & EFFST3 & EFFST4\\\\\n",
       "  & <fct> & <dbl> & <dbl> & <dbl> & <dbl>\\\\\n",
       "\\hline\n",
       "\t1 & 1000 & 1 & 1 & 1 & 1\\\\\n",
       "\t2 & 2000 & 1 & 1 & 1 & 1\\\\\n",
       "\t3 & 3000 & 1 & 1 & 1 & 1\\\\\n",
       "\t4 & 4000 & 1 & 1 & 1 & 1\\\\\n",
       "\t5 & 5000 & 1 & 1 & 1 & 1\\\\\n",
       "\t6 & 6000 & 1 & 1 & 1 & 1\\\\\n",
       "\\end{tabular}\n"
      ],
      "text/markdown": [
       "\n",
       "A data.frame: 6 × 5\n",
       "\n",
       "| <!--/--> | STRATUM &lt;fct&gt; | EFFST1 &lt;dbl&gt; | EFFST2 &lt;dbl&gt; | EFFST3 &lt;dbl&gt; | EFFST4 &lt;dbl&gt; |\n",
       "|---|---|---|---|---|---|\n",
       "| 1 | 1000 | 1 | 1 | 1 | 1 |\n",
       "| 2 | 2000 | 1 | 1 | 1 | 1 |\n",
       "| 3 | 3000 | 1 | 1 | 1 | 1 |\n",
       "| 4 | 4000 | 1 | 1 | 1 | 1 |\n",
       "| 5 | 5000 | 1 | 1 | 1 | 1 |\n",
       "| 6 | 6000 | 1 | 1 | 1 | 1 |\n",
       "\n"
      ],
      "text/plain": [
       "  STRATUM EFFST1 EFFST2 EFFST3 EFFST4\n",
       "1 1000    1      1      1      1     \n",
       "2 2000    1      1      1      1     \n",
       "3 3000    1      1      1      1     \n",
       "4 4000    1      1      1      1     \n",
       "5 5000    1      1      1      1     \n",
       "6 6000    1      1      1      1     "
      ]
     },
     "metadata": {},
     "output_type": "display_data"
    }
   ],
   "source": [
    "head(inp$effst)"
   ]
  },
  {
   "cell_type": "code",
   "execution_count": 10,
   "id": "19a4cd0c-7049-4be4-b61c-832b4a63c6e9",
   "metadata": {},
   "outputs": [
    {
     "data": {
      "text/html": [
       "<table class=\"dataframe\">\n",
       "<caption>A data.frame: 6 × 9</caption>\n",
       "<thead>\n",
       "\t<tr><th></th><th scope=col>STRATUM</th><th scope=col>RHO_AR1</th><th scope=col>RHO_NAR1</th><th scope=col>RHO_AR2</th><th scope=col>RHO_NAR2</th><th scope=col>RHO_AR3</th><th scope=col>RHO_NAR3</th><th scope=col>RHO_AR4</th><th scope=col>RHO_NAR4</th></tr>\n",
       "\t<tr><th></th><th scope=col>&lt;fct&gt;</th><th scope=col>&lt;dbl&gt;</th><th scope=col>&lt;dbl&gt;</th><th scope=col>&lt;dbl&gt;</th><th scope=col>&lt;dbl&gt;</th><th scope=col>&lt;dbl&gt;</th><th scope=col>&lt;dbl&gt;</th><th scope=col>&lt;dbl&gt;</th><th scope=col>&lt;dbl&gt;</th></tr>\n",
       "</thead>\n",
       "<tbody>\n",
       "\t<tr><th scope=row>1</th><td>1000</td><td>1</td><td>0.0032494875</td><td>1</td><td>0.00001260175649</td><td>1</td><td>0.0000003631192</td><td>1</td><td>0.000039120880</td></tr>\n",
       "\t<tr><th scope=row>2</th><td>2000</td><td>1</td><td>0.0028554017</td><td>1</td><td>0.00150936389450</td><td>1</td><td>0.0007420929883</td><td>1</td><td>0.000937018761</td></tr>\n",
       "\t<tr><th scope=row>3</th><td>3000</td><td>1</td><td>0.0069678726</td><td>1</td><td>0.00162968276279</td><td>1</td><td>0.0006469515878</td><td>1</td><td>0.002837431259</td></tr>\n",
       "\t<tr><th scope=row>4</th><td>4000</td><td>1</td><td>0.0114552934</td><td>1</td><td>0.00578473329221</td><td>1</td><td>0.0019797687826</td><td>1</td><td>0.008962657055</td></tr>\n",
       "\t<tr><th scope=row>5</th><td>5000</td><td>1</td><td>0.0002677333</td><td>1</td><td>0.00000001682475</td><td>1</td><td>0.0000029484212</td><td>1</td><td>0.000003404961</td></tr>\n",
       "\t<tr><th scope=row>6</th><td>6000</td><td>1</td><td>0.0057050500</td><td>1</td><td>0.00004270905958</td><td>1</td><td>0.0000397945795</td><td>1</td><td>0.000194411580</td></tr>\n",
       "</tbody>\n",
       "</table>\n"
      ],
      "text/latex": [
       "A data.frame: 6 × 9\n",
       "\\begin{tabular}{r|lllllllll}\n",
       "  & STRATUM & RHO\\_AR1 & RHO\\_NAR1 & RHO\\_AR2 & RHO\\_NAR2 & RHO\\_AR3 & RHO\\_NAR3 & RHO\\_AR4 & RHO\\_NAR4\\\\\n",
       "  & <fct> & <dbl> & <dbl> & <dbl> & <dbl> & <dbl> & <dbl> & <dbl> & <dbl>\\\\\n",
       "\\hline\n",
       "\t1 & 1000 & 1 & 0.0032494875 & 1 & 0.00001260175649 & 1 & 0.0000003631192 & 1 & 0.000039120880\\\\\n",
       "\t2 & 2000 & 1 & 0.0028554017 & 1 & 0.00150936389450 & 1 & 0.0007420929883 & 1 & 0.000937018761\\\\\n",
       "\t3 & 3000 & 1 & 0.0069678726 & 1 & 0.00162968276279 & 1 & 0.0006469515878 & 1 & 0.002837431259\\\\\n",
       "\t4 & 4000 & 1 & 0.0114552934 & 1 & 0.00578473329221 & 1 & 0.0019797687826 & 1 & 0.008962657055\\\\\n",
       "\t5 & 5000 & 1 & 0.0002677333 & 1 & 0.00000001682475 & 1 & 0.0000029484212 & 1 & 0.000003404961\\\\\n",
       "\t6 & 6000 & 1 & 0.0057050500 & 1 & 0.00004270905958 & 1 & 0.0000397945795 & 1 & 0.000194411580\\\\\n",
       "\\end{tabular}\n"
      ],
      "text/markdown": [
       "\n",
       "A data.frame: 6 × 9\n",
       "\n",
       "| <!--/--> | STRATUM &lt;fct&gt; | RHO_AR1 &lt;dbl&gt; | RHO_NAR1 &lt;dbl&gt; | RHO_AR2 &lt;dbl&gt; | RHO_NAR2 &lt;dbl&gt; | RHO_AR3 &lt;dbl&gt; | RHO_NAR3 &lt;dbl&gt; | RHO_AR4 &lt;dbl&gt; | RHO_NAR4 &lt;dbl&gt; |\n",
       "|---|---|---|---|---|---|---|---|---|---|\n",
       "| 1 | 1000 | 1 | 0.0032494875 | 1 | 0.00001260175649 | 1 | 0.0000003631192 | 1 | 0.000039120880 |\n",
       "| 2 | 2000 | 1 | 0.0028554017 | 1 | 0.00150936389450 | 1 | 0.0007420929883 | 1 | 0.000937018761 |\n",
       "| 3 | 3000 | 1 | 0.0069678726 | 1 | 0.00162968276279 | 1 | 0.0006469515878 | 1 | 0.002837431259 |\n",
       "| 4 | 4000 | 1 | 0.0114552934 | 1 | 0.00578473329221 | 1 | 0.0019797687826 | 1 | 0.008962657055 |\n",
       "| 5 | 5000 | 1 | 0.0002677333 | 1 | 0.00000001682475 | 1 | 0.0000029484212 | 1 | 0.000003404961 |\n",
       "| 6 | 6000 | 1 | 0.0057050500 | 1 | 0.00004270905958 | 1 | 0.0000397945795 | 1 | 0.000194411580 |\n",
       "\n"
      ],
      "text/plain": [
       "  STRATUM RHO_AR1 RHO_NAR1     RHO_AR2 RHO_NAR2         RHO_AR3 RHO_NAR3       \n",
       "1 1000    1       0.0032494875 1       0.00001260175649 1       0.0000003631192\n",
       "2 2000    1       0.0028554017 1       0.00150936389450 1       0.0007420929883\n",
       "3 3000    1       0.0069678726 1       0.00162968276279 1       0.0006469515878\n",
       "4 4000    1       0.0114552934 1       0.00578473329221 1       0.0019797687826\n",
       "5 5000    1       0.0002677333 1       0.00000001682475 1       0.0000029484212\n",
       "6 6000    1       0.0057050500 1       0.00004270905958 1       0.0000397945795\n",
       "  RHO_AR4 RHO_NAR4      \n",
       "1 1       0.000039120880\n",
       "2 1       0.000937018761\n",
       "3 1       0.002837431259\n",
       "4 1       0.008962657055\n",
       "5 1       0.000003404961\n",
       "6 1       0.000194411580"
      ]
     },
     "metadata": {},
     "output_type": "display_data"
    }
   ],
   "source": [
    "head(inp$rho)"
   ]
  },
  {
   "cell_type": "code",
   "execution_count": 11,
   "id": "6bd08c00-f0c4-4e3b-bd2a-641ac1f260d6",
   "metadata": {},
   "outputs": [
    {
     "data": {
      "text/html": [
       "<table class=\"dataframe\">\n",
       "<caption>A data.frame: 6 × 3</caption>\n",
       "<thead>\n",
       "\t<tr><th></th><th scope=col>PSU_ID</th><th scope=col>STRATUM</th><th scope=col>PSU_MOS</th></tr>\n",
       "\t<tr><th></th><th scope=col>&lt;dbl&gt;</th><th scope=col>&lt;fct&gt;</th><th scope=col>&lt;dbl&gt;</th></tr>\n",
       "</thead>\n",
       "<tbody>\n",
       "\t<tr><th scope=row>1</th><td>1</td><td>12000</td><td> 1546</td></tr>\n",
       "\t<tr><th scope=row>2</th><td>2</td><td>12000</td><td>  936</td></tr>\n",
       "\t<tr><th scope=row>3</th><td>3</td><td>12000</td><td>  367</td></tr>\n",
       "\t<tr><th scope=row>4</th><td>4</td><td>10000</td><td>13032</td></tr>\n",
       "\t<tr><th scope=row>5</th><td>5</td><td>12000</td><td>  678</td></tr>\n",
       "\t<tr><th scope=row>6</th><td>6</td><td>11000</td><td> 3193</td></tr>\n",
       "</tbody>\n",
       "</table>\n"
      ],
      "text/latex": [
       "A data.frame: 6 × 3\n",
       "\\begin{tabular}{r|lll}\n",
       "  & PSU\\_ID & STRATUM & PSU\\_MOS\\\\\n",
       "  & <dbl> & <fct> & <dbl>\\\\\n",
       "\\hline\n",
       "\t1 & 1 & 12000 &  1546\\\\\n",
       "\t2 & 2 & 12000 &   936\\\\\n",
       "\t3 & 3 & 12000 &   367\\\\\n",
       "\t4 & 4 & 10000 & 13032\\\\\n",
       "\t5 & 5 & 12000 &   678\\\\\n",
       "\t6 & 6 & 11000 &  3193\\\\\n",
       "\\end{tabular}\n"
      ],
      "text/markdown": [
       "\n",
       "A data.frame: 6 × 3\n",
       "\n",
       "| <!--/--> | PSU_ID &lt;dbl&gt; | STRATUM &lt;fct&gt; | PSU_MOS &lt;dbl&gt; |\n",
       "|---|---|---|---|\n",
       "| 1 | 1 | 12000 |  1546 |\n",
       "| 2 | 2 | 12000 |   936 |\n",
       "| 3 | 3 | 12000 |   367 |\n",
       "| 4 | 4 | 10000 | 13032 |\n",
       "| 5 | 5 | 12000 |   678 |\n",
       "| 6 | 6 | 11000 |  3193 |\n",
       "\n"
      ],
      "text/plain": [
       "  PSU_ID STRATUM PSU_MOS\n",
       "1 1      12000    1546  \n",
       "2 2      12000     936  \n",
       "3 3      12000     367  \n",
       "4 4      10000   13032  \n",
       "5 5      12000     678  \n",
       "6 6      11000    3193  "
      ]
     },
     "metadata": {},
     "output_type": "display_data"
    }
   ],
   "source": [
    "head(inp$psu_file)"
   ]
  },
  {
   "cell_type": "code",
   "execution_count": 12,
   "id": "f41c4eeb-0fb0-46d2-8d5c-ead1bfc5bb89",
   "metadata": {},
   "outputs": [
    {
     "data": {
      "text/html": [
       "<table class=\"dataframe\">\n",
       "<caption>A data.frame: 6 × 4</caption>\n",
       "<thead>\n",
       "\t<tr><th></th><th scope=col>STRATUM</th><th scope=col>STRAT_MOS</th><th scope=col>DELTA</th><th scope=col>MINIMUM</th></tr>\n",
       "\t<tr><th></th><th scope=col>&lt;fct&gt;</th><th scope=col>&lt;dbl&gt;</th><th scope=col>&lt;dbl&gt;</th><th scope=col>&lt;dbl&gt;</th></tr>\n",
       "</thead>\n",
       "<tbody>\n",
       "\t<tr><th scope=row>1</th><td>1000</td><td>197007</td><td>1</td><td>50</td></tr>\n",
       "\t<tr><th scope=row>2</th><td>2000</td><td>261456</td><td>1</td><td>50</td></tr>\n",
       "\t<tr><th scope=row>3</th><td>3000</td><td>115813</td><td>1</td><td>50</td></tr>\n",
       "\t<tr><th scope=row>4</th><td>4000</td><td> 17241</td><td>1</td><td>50</td></tr>\n",
       "\t<tr><th scope=row>5</th><td>5000</td><td>101067</td><td>1</td><td>50</td></tr>\n",
       "\t<tr><th scope=row>6</th><td>6000</td><td> 47218</td><td>1</td><td>50</td></tr>\n",
       "</tbody>\n",
       "</table>\n"
      ],
      "text/latex": [
       "A data.frame: 6 × 4\n",
       "\\begin{tabular}{r|llll}\n",
       "  & STRATUM & STRAT\\_MOS & DELTA & MINIMUM\\\\\n",
       "  & <fct> & <dbl> & <dbl> & <dbl>\\\\\n",
       "\\hline\n",
       "\t1 & 1000 & 197007 & 1 & 50\\\\\n",
       "\t2 & 2000 & 261456 & 1 & 50\\\\\n",
       "\t3 & 3000 & 115813 & 1 & 50\\\\\n",
       "\t4 & 4000 &  17241 & 1 & 50\\\\\n",
       "\t5 & 5000 & 101067 & 1 & 50\\\\\n",
       "\t6 & 6000 &  47218 & 1 & 50\\\\\n",
       "\\end{tabular}\n"
      ],
      "text/markdown": [
       "\n",
       "A data.frame: 6 × 4\n",
       "\n",
       "| <!--/--> | STRATUM &lt;fct&gt; | STRAT_MOS &lt;dbl&gt; | DELTA &lt;dbl&gt; | MINIMUM &lt;dbl&gt; |\n",
       "|---|---|---|---|---|\n",
       "| 1 | 1000 | 197007 | 1 | 50 |\n",
       "| 2 | 2000 | 261456 | 1 | 50 |\n",
       "| 3 | 3000 | 115813 | 1 | 50 |\n",
       "| 4 | 4000 |  17241 | 1 | 50 |\n",
       "| 5 | 5000 | 101067 | 1 | 50 |\n",
       "| 6 | 6000 |  47218 | 1 | 50 |\n",
       "\n"
      ],
      "text/plain": [
       "  STRATUM STRAT_MOS DELTA MINIMUM\n",
       "1 1000    197007    1     50     \n",
       "2 2000    261456    1     50     \n",
       "3 3000    115813    1     50     \n",
       "4 4000     17241    1     50     \n",
       "5 5000    101067    1     50     \n",
       "6 6000     47218    1     50     "
      ]
     },
     "metadata": {},
     "output_type": "display_data"
    }
   ],
   "source": [
    "head(inp$des_file)"
   ]
  },
  {
   "cell_type": "markdown",
   "id": "38ef19d1-4370-489c-9c91-d285a25f70b2",
   "metadata": {},
   "source": [
    "## Allocation"
   ]
  },
  {
   "cell_type": "code",
   "execution_count": 13,
   "id": "af3c8bf0-6d3c-4d7e-a2ad-79010a9e1f83",
   "metadata": {},
   "outputs": [
    {
     "name": "stdout",
     "output_type": "stream",
     "text": [
      "  iterations PSU_SR PSU NSR PSU Total  SSU\n",
      "1          0      0       0         0 7836\n",
      "2          1     20      93       113 8304\n",
      "3          2     23      96       119 8299\n"
     ]
    }
   ],
   "source": [
    "alloc <- beat.2st(stratif = inp$strata, \n",
    "                  errors = cv, \n",
    "                  des_file = inp$des_file, \n",
    "                  psu_file = inp$psu_file, \n",
    "                  rho = inp$rho, \n",
    "                  deft_start = NULL, \n",
    "                  effst = inp$effst,\n",
    "                  epsilon1 = 5, \n",
    "                  mmdiff_deft = 1,\n",
    "                  maxi = 15, \n",
    "                  epsilon = 10^(-11), \n",
    "                  minnumstrat = 2, \n",
    "                  maxiter = 200, \n",
    "                  maxiter1 = 25)"
   ]
  },
  {
   "cell_type": "code",
   "execution_count": 14,
   "id": "12318460-beb6-451e-8b51-6fee22562a0f",
   "metadata": {},
   "outputs": [],
   "source": [
    "allocat <- alloc$alloc[-nrow(alloc$alloc),]\n",
    "set.seed(1234)\n",
    "sample_2st <- StratSel(dataPop= inp$psu_file,\n",
    "                       idpsu= ~ PSU_ID, \n",
    "                       dom= ~ STRATUM, \n",
    "                       final_pop= ~ PSU_MOS, \n",
    "                       size= ~ PSU_MOS, \n",
    "                       PSUsamplestratum= 1, \n",
    "                       min_sample= minimum, \n",
    "                       min_sample_index= FALSE, \n",
    "                       dataAll=allocat,\n",
    "                       domAll= ~ factor(STRATUM), \n",
    "                       f_sample= ~ ALLOC, \n",
    "                       planned_min_sample= NULL, \n",
    "                       launch= F)"
   ]
  },
  {
   "cell_type": "code",
   "execution_count": 15,
   "id": "506c1e9f-b636-4f3d-914b-e2ba2be406b8",
   "metadata": {},
   "outputs": [
    {
     "data": {
      "text/html": [
       "<table class=\"dataframe\">\n",
       "<caption>A data.frame: 26 × 6</caption>\n",
       "<thead>\n",
       "\t<tr><th scope=col>Domain</th><th scope=col>SRdom</th><th scope=col>nSRdom</th><th scope=col>SRdom+nSRdom</th><th scope=col>SR_PSU_final_sample_unit</th><th scope=col>NSR_PSU_final_sample_unit</th></tr>\n",
       "\t<tr><th scope=col>&lt;chr&gt;</th><th scope=col>&lt;chr&gt;</th><th scope=col>&lt;chr&gt;</th><th scope=col>&lt;chr&gt;</th><th scope=col>&lt;chr&gt;</th><th scope=col>&lt;chr&gt;</th></tr>\n",
       "</thead>\n",
       "<tbody>\n",
       "\t<tr><td>1000 </td><td>2 </td><td>0 </td><td>2  </td><td>287 </td><td>0   </td></tr>\n",
       "\t<tr><td>2000 </td><td>3 </td><td>4 </td><td>7  </td><td>143 </td><td>233 </td></tr>\n",
       "\t<tr><td>3000 </td><td>0 </td><td>4 </td><td>4  </td><td>0   </td><td>177 </td></tr>\n",
       "\t<tr><td>4000 </td><td>0 </td><td>1 </td><td>1  </td><td>0   </td><td>32  </td></tr>\n",
       "\t<tr><td>5000 </td><td>2 </td><td>0 </td><td>2  </td><td>172 </td><td>0   </td></tr>\n",
       "\t<tr><td>6000 </td><td>1 </td><td>1 </td><td>2  </td><td>32  </td><td>49  </td></tr>\n",
       "\t<tr><td>7000 </td><td>0 </td><td>1 </td><td>1  </td><td>0   </td><td>53  </td></tr>\n",
       "\t<tr><td>8000 </td><td>0 </td><td>1 </td><td>1  </td><td>0   </td><td>51  </td></tr>\n",
       "\t<tr><td>9000 </td><td>1 </td><td>0 </td><td>1  </td><td>558 </td><td>0   </td></tr>\n",
       "\t<tr><td>10000</td><td>6 </td><td>0 </td><td>6  </td><td>588 </td><td>0   </td></tr>\n",
       "\t<tr><td>11000</td><td>2 </td><td>20</td><td>22 </td><td>76  </td><td>1046</td></tr>\n",
       "\t<tr><td>12000</td><td>0 </td><td>7 </td><td>7  </td><td>0   </td><td>342 </td></tr>\n",
       "\t<tr><td>13000</td><td>1 </td><td>0 </td><td>1  </td><td>704 </td><td>0   </td></tr>\n",
       "\t<tr><td>14000</td><td>4 </td><td>0 </td><td>4  </td><td>577 </td><td>0   </td></tr>\n",
       "\t<tr><td>15000</td><td>8 </td><td>16</td><td>24 </td><td>369 </td><td>849 </td></tr>\n",
       "\t<tr><td>16000</td><td>0 </td><td>16</td><td>16 </td><td>0   </td><td>808 </td></tr>\n",
       "\t<tr><td>17000</td><td>1 </td><td>0 </td><td>1  </td><td>157 </td><td>0   </td></tr>\n",
       "\t<tr><td>18000</td><td>0 </td><td>3 </td><td>3  </td><td>0   </td><td>135 </td></tr>\n",
       "\t<tr><td>19000</td><td>0 </td><td>6 </td><td>6  </td><td>0   </td><td>300 </td></tr>\n",
       "\t<tr><td>20000</td><td>0 </td><td>3 </td><td>3  </td><td>0   </td><td>145 </td></tr>\n",
       "\t<tr><td>21000</td><td>1 </td><td>0 </td><td>1  </td><td>127 </td><td>0   </td></tr>\n",
       "\t<tr><td>22000</td><td>3 </td><td>0 </td><td>3  </td><td>137 </td><td>0   </td></tr>\n",
       "\t<tr><td>23000</td><td>0 </td><td>3 </td><td>3  </td><td>0   </td><td>126 </td></tr>\n",
       "\t<tr><td>24000</td><td>0 </td><td>1 </td><td>1  </td><td>0   </td><td>21  </td></tr>\n",
       "\t<tr><td>Total</td><td>35</td><td>87</td><td>122</td><td>3927</td><td>4367</td></tr>\n",
       "\t<tr><td>Mean </td><td>  </td><td>  </td><td>   </td><td>164 </td><td>182 </td></tr>\n",
       "</tbody>\n",
       "</table>\n"
      ],
      "text/latex": [
       "A data.frame: 26 × 6\n",
       "\\begin{tabular}{llllll}\n",
       " Domain & SRdom & nSRdom & SRdom+nSRdom & SR\\_PSU\\_final\\_sample\\_unit & NSR\\_PSU\\_final\\_sample\\_unit\\\\\n",
       " <chr> & <chr> & <chr> & <chr> & <chr> & <chr>\\\\\n",
       "\\hline\n",
       "\t 1000  & 2  & 0  & 2   & 287  & 0   \\\\\n",
       "\t 2000  & 3  & 4  & 7   & 143  & 233 \\\\\n",
       "\t 3000  & 0  & 4  & 4   & 0    & 177 \\\\\n",
       "\t 4000  & 0  & 1  & 1   & 0    & 32  \\\\\n",
       "\t 5000  & 2  & 0  & 2   & 172  & 0   \\\\\n",
       "\t 6000  & 1  & 1  & 2   & 32   & 49  \\\\\n",
       "\t 7000  & 0  & 1  & 1   & 0    & 53  \\\\\n",
       "\t 8000  & 0  & 1  & 1   & 0    & 51  \\\\\n",
       "\t 9000  & 1  & 0  & 1   & 558  & 0   \\\\\n",
       "\t 10000 & 6  & 0  & 6   & 588  & 0   \\\\\n",
       "\t 11000 & 2  & 20 & 22  & 76   & 1046\\\\\n",
       "\t 12000 & 0  & 7  & 7   & 0    & 342 \\\\\n",
       "\t 13000 & 1  & 0  & 1   & 704  & 0   \\\\\n",
       "\t 14000 & 4  & 0  & 4   & 577  & 0   \\\\\n",
       "\t 15000 & 8  & 16 & 24  & 369  & 849 \\\\\n",
       "\t 16000 & 0  & 16 & 16  & 0    & 808 \\\\\n",
       "\t 17000 & 1  & 0  & 1   & 157  & 0   \\\\\n",
       "\t 18000 & 0  & 3  & 3   & 0    & 135 \\\\\n",
       "\t 19000 & 0  & 6  & 6   & 0    & 300 \\\\\n",
       "\t 20000 & 0  & 3  & 3   & 0    & 145 \\\\\n",
       "\t 21000 & 1  & 0  & 1   & 127  & 0   \\\\\n",
       "\t 22000 & 3  & 0  & 3   & 137  & 0   \\\\\n",
       "\t 23000 & 0  & 3  & 3   & 0    & 126 \\\\\n",
       "\t 24000 & 0  & 1  & 1   & 0    & 21  \\\\\n",
       "\t Total & 35 & 87 & 122 & 3927 & 4367\\\\\n",
       "\t Mean  &    &    &     & 164  & 182 \\\\\n",
       "\\end{tabular}\n"
      ],
      "text/markdown": [
       "\n",
       "A data.frame: 26 × 6\n",
       "\n",
       "| Domain &lt;chr&gt; | SRdom &lt;chr&gt; | nSRdom &lt;chr&gt; | SRdom+nSRdom &lt;chr&gt; | SR_PSU_final_sample_unit &lt;chr&gt; | NSR_PSU_final_sample_unit &lt;chr&gt; |\n",
       "|---|---|---|---|---|---|\n",
       "| 1000  | 2  | 0  | 2   | 287  | 0    |\n",
       "| 2000  | 3  | 4  | 7   | 143  | 233  |\n",
       "| 3000  | 0  | 4  | 4   | 0    | 177  |\n",
       "| 4000  | 0  | 1  | 1   | 0    | 32   |\n",
       "| 5000  | 2  | 0  | 2   | 172  | 0    |\n",
       "| 6000  | 1  | 1  | 2   | 32   | 49   |\n",
       "| 7000  | 0  | 1  | 1   | 0    | 53   |\n",
       "| 8000  | 0  | 1  | 1   | 0    | 51   |\n",
       "| 9000  | 1  | 0  | 1   | 558  | 0    |\n",
       "| 10000 | 6  | 0  | 6   | 588  | 0    |\n",
       "| 11000 | 2  | 20 | 22  | 76   | 1046 |\n",
       "| 12000 | 0  | 7  | 7   | 0    | 342  |\n",
       "| 13000 | 1  | 0  | 1   | 704  | 0    |\n",
       "| 14000 | 4  | 0  | 4   | 577  | 0    |\n",
       "| 15000 | 8  | 16 | 24  | 369  | 849  |\n",
       "| 16000 | 0  | 16 | 16  | 0    | 808  |\n",
       "| 17000 | 1  | 0  | 1   | 157  | 0    |\n",
       "| 18000 | 0  | 3  | 3   | 0    | 135  |\n",
       "| 19000 | 0  | 6  | 6   | 0    | 300  |\n",
       "| 20000 | 0  | 3  | 3   | 0    | 145  |\n",
       "| 21000 | 1  | 0  | 1   | 127  | 0    |\n",
       "| 22000 | 3  | 0  | 3   | 137  | 0    |\n",
       "| 23000 | 0  | 3  | 3   | 0    | 126  |\n",
       "| 24000 | 0  | 1  | 1   | 0    | 21   |\n",
       "| Total | 35 | 87 | 122 | 3927 | 4367 |\n",
       "| Mean  | <!----> | <!----> | <!----> | 164  | 182  |\n",
       "\n"
      ],
      "text/plain": [
       "   Domain SRdom nSRdom SRdom+nSRdom SR_PSU_final_sample_unit\n",
       "1  1000   2     0      2            287                     \n",
       "2  2000   3     4      7            143                     \n",
       "3  3000   0     4      4            0                       \n",
       "4  4000   0     1      1            0                       \n",
       "5  5000   2     0      2            172                     \n",
       "6  6000   1     1      2            32                      \n",
       "7  7000   0     1      1            0                       \n",
       "8  8000   0     1      1            0                       \n",
       "9  9000   1     0      1            558                     \n",
       "10 10000  6     0      6            588                     \n",
       "11 11000  2     20     22           76                      \n",
       "12 12000  0     7      7            0                       \n",
       "13 13000  1     0      1            704                     \n",
       "14 14000  4     0      4            577                     \n",
       "15 15000  8     16     24           369                     \n",
       "16 16000  0     16     16           0                       \n",
       "17 17000  1     0      1            157                     \n",
       "18 18000  0     3      3            0                       \n",
       "19 19000  0     6      6            0                       \n",
       "20 20000  0     3      3            0                       \n",
       "21 21000  1     0      1            127                     \n",
       "22 22000  3     0      3            137                     \n",
       "23 23000  0     3      3            0                       \n",
       "24 24000  0     1      1            0                       \n",
       "25 Total  35    87     122          3927                    \n",
       "26 Mean                             164                     \n",
       "   NSR_PSU_final_sample_unit\n",
       "1  0                        \n",
       "2  233                      \n",
       "3  177                      \n",
       "4  32                       \n",
       "5  0                        \n",
       "6  49                       \n",
       "7  53                       \n",
       "8  51                       \n",
       "9  0                        \n",
       "10 0                        \n",
       "11 1046                     \n",
       "12 342                      \n",
       "13 0                        \n",
       "14 0                        \n",
       "15 849                      \n",
       "16 808                      \n",
       "17 0                        \n",
       "18 135                      \n",
       "19 300                      \n",
       "20 145                      \n",
       "21 0                        \n",
       "22 0                        \n",
       "23 126                      \n",
       "24 21                       \n",
       "25 4367                     \n",
       "26 182                      "
      ]
     },
     "metadata": {},
     "output_type": "display_data"
    }
   ],
   "source": [
    "sample_2st[[2]]"
   ]
  },
  {
   "cell_type": "code",
   "execution_count": null,
   "id": "1c30c165-2ed7-4532-8632-e15764355639",
   "metadata": {},
   "outputs": [],
   "source": [
    "## Plot of allocation (PSUs and SSUs)\n",
    "des <- sample_2st[[2]]\n",
    "des2 <- NULL\n",
    "des2$strata <- c(des$Domain[1:24],des$Domain[1:24])\n",
    "des2$SR <- c(rep(\"SR\",24),rep(\"nSR\",24))\n",
    "des2$PSU <- as.numeric(c(des$SRdom[1:24],des$nSRdom[1:24]))\n",
    "des2$SSU <- as.numeric(c(des$SR_PSU_final_sample_unit[1:24],des$NSR_PSU_final_sample_unit[1:24]))\n",
    "des2 <- as.data.frame(des2)\n",
    "des2$strata <- as.numeric(des2$strata)\n",
    "par(mfrow=c(2, 1))\n",
    "barplot(PSU~SR+strata, data=des2,\n",
    "        main = \"PSUs by strata\",\n",
    "        xlab = \"strata\", ylab = \"PSUs\",\n",
    "        col = c(\"black\", \"grey\"),\n",
    "        # beside = TRUE,\n",
    "        las=2,\n",
    "        cex.names=0.7)\n",
    "legend(\"topright\", \n",
    "       legend = c(\"Non Self Representative\",\"Self Representative\"),cex = 0.7,\n",
    "       fill = c(\"black\", \"grey\"))\n",
    "barplot(SSU~SR+strata, data=des2,\n",
    "        main = \"SSUs by strata\",\n",
    "        xlab = \"strata\", ylab = \"PSUs\",\n",
    "        col = c(\"black\", \"grey\"),\n",
    "        # beside = TRUE,\n",
    "        las=2,\n",
    "        cex.names=0.7)\n",
    "legend(\"topright\", \n",
    "       legend = c(\"Non Self Representative\",\"Self Representative\"),cex = 0.7,\n",
    "       fill = c(\"black\", \"grey\"))\n"
   ]
  },
  {
   "cell_type": "markdown",
   "id": "4cb05ba2-3872-4886-a99f-ec1a62908790",
   "metadata": {},
   "source": [
    "## Selection of SSUs (II stage)"
   ]
  },
  {
   "cell_type": "code",
   "execution_count": 17,
   "id": "2454296e-ea81-413f-9e3f-a605efa24412",
   "metadata": {},
   "outputs": [
    {
     "name": "stdout",
     "output_type": "stream",
     "text": [
      "\n",
      "PSU =  1  *** Selected SSU =  46\n",
      "PSU =  2  *** Selected SSU =  72\n",
      "PSU =  3  *** Selected SSU =  52\n",
      "PSU =  4  *** Selected SSU =  558\n",
      "PSU =  5  *** Selected SSU =  105\n",
      "PSU =  6  *** Selected SSU =  54\n",
      "PSU =  7  *** Selected SSU =  79\n",
      "PSU =  8  *** Selected SSU =  38\n",
      "PSU =  9  *** Selected SSU =  52\n",
      "PSU =  10  *** Selected SSU =  56\n",
      "PSU =  11  *** Selected SSU =  51\n",
      "PSU =  12  *** Selected SSU =  50\n",
      "PSU =  13  *** Selected SSU =  50\n",
      "PSU =  14  *** Selected SSU =  46\n",
      "PSU =  15  *** Selected SSU =  50\n",
      "PSU =  16  *** Selected SSU =  87\n",
      "PSU =  17  *** Selected SSU =  58\n",
      "PSU =  18  *** Selected SSU =  51\n",
      "PSU =  19  *** Selected SSU =  187\n",
      "PSU =  20  *** Selected SSU =  54\n",
      "PSU =  21  *** Selected SSU =  45\n",
      "PSU =  22  *** Selected SSU =  58\n",
      "PSU =  23  *** Selected SSU =  53\n",
      "PSU =  24  *** Selected SSU =  45\n",
      "PSU =  25  *** Selected SSU =  38\n",
      "PSU =  26  *** Selected SSU =  47\n",
      "PSU =  27  *** Selected SSU =  51\n",
      "PSU =  28  *** Selected SSU =  68\n",
      "PSU =  29  *** Selected SSU =  58\n",
      "PSU =  30  *** Selected SSU =  45\n",
      "PSU =  31  *** Selected SSU =  58\n",
      "PSU =  32  *** Selected SSU =  43\n",
      "PSU =  33  *** Selected SSU =  61\n",
      "PSU =  34  *** Selected SSU =  45\n",
      "PSU =  35  *** Selected SSU =  49\n",
      "PSU =  36  *** Selected SSU =  50\n",
      "PSU =  37  *** Selected SSU =  52\n",
      "PSU =  38  *** Selected SSU =  107\n",
      "PSU =  39  *** Selected SSU =  49\n",
      "PSU =  40  *** Selected SSU =  59\n",
      "PSU =  41  *** Selected SSU =  51\n",
      "PSU =  42  *** Selected SSU =  46\n",
      "PSU =  43  *** Selected SSU =  41\n",
      "PSU =  44  *** Selected SSU =  49\n",
      "PSU =  45  *** Selected SSU =  54\n",
      "PSU =  46  *** Selected SSU =  47\n",
      "PSU =  47  *** Selected SSU =  41\n",
      "PSU =  48  *** Selected SSU =  53\n",
      "PSU =  49  *** Selected SSU =  48\n",
      "PSU =  50  *** Selected SSU =  52\n",
      "PSU =  51  *** Selected SSU =  46\n",
      "PSU =  52  *** Selected SSU =  57\n",
      "PSU =  53  *** Selected SSU =  55\n",
      "PSU =  54  *** Selected SSU =  61\n",
      "PSU =  55  *** Selected SSU =  41\n",
      "PSU =  56  *** Selected SSU =  52\n",
      "PSU =  57  *** Selected SSU =  57\n",
      "PSU =  58  *** Selected SSU =  50\n",
      "PSU =  59  *** Selected SSU =  51\n",
      "PSU =  60  *** Selected SSU =  130\n",
      "PSU =  61  *** Selected SSU =  55\n",
      "PSU =  62  *** Selected SSU =  103\n",
      "PSU =  63  *** Selected SSU =  47\n",
      "PSU =  64  *** Selected SSU =  237\n",
      "PSU =  65  *** Selected SSU =  47\n",
      "PSU =  66  *** Selected SSU =  51\n",
      "PSU =  67  *** Selected SSU =  49\n",
      "PSU =  68  *** Selected SSU =  49\n",
      "PSU =  69  *** Selected SSU =  47\n",
      "PSU =  70  *** Selected SSU =  704\n",
      "PSU =  71  *** Selected SSU =  53\n",
      "PSU =  72  *** Selected SSU =  44\n",
      "PSU =  73  *** Selected SSU =  58\n",
      "PSU =  74  *** Selected SSU =  64\n",
      "PSU =  75  *** Selected SSU =  39\n",
      "PSU =  76  *** Selected SSU =  49\n",
      "PSU =  77  *** Selected SSU =  54\n",
      "PSU =  78  *** Selected SSU =  52\n",
      "PSU =  79  *** Selected SSU =  58\n",
      "PSU =  80  *** Selected SSU =  42\n",
      "PSU =  81  *** Selected SSU =  56\n",
      "PSU =  82  *** Selected SSU =  64\n",
      "PSU =  83  *** Selected SSU =  44\n",
      "PSU =  84  *** Selected SSU =  63\n",
      "PSU =  85  *** Selected SSU =  52\n",
      "PSU =  86  *** Selected SSU =  74\n",
      "PSU =  87  *** Selected SSU =  54\n",
      "PSU =  88  *** Selected SSU =  42\n",
      "PSU =  89  *** Selected SSU =  52\n",
      "PSU =  90  *** Selected SSU =  42\n",
      "PSU =  91  *** Selected SSU =  44\n",
      "PSU =  92  *** Selected SSU =  213\n",
      "PSU =  93  *** Selected SSU =  32\n",
      "PSU =  94  *** Selected SSU =  49\n",
      "PSU =  95  *** Selected SSU =  47\n",
      "PSU =  96  *** Selected SSU =  49\n",
      "PSU =  97  *** Selected SSU =  53\n",
      "PSU =  98  *** Selected SSU =  51\n",
      "PSU =  99  *** Selected SSU =  32\n",
      "PSU =  100  *** Selected SSU =  3\n",
      "PSU =  101  *** Selected SSU =  169\n",
      "PSU =  102  *** Selected SSU =  39\n",
      "PSU =  103  *** Selected SSU =  48\n",
      "PSU =  104  *** Selected SSU =  52\n",
      "PSU =  105  *** Selected SSU =  49\n",
      "PSU =  106  *** Selected SSU =  45\n",
      "PSU =  107  *** Selected SSU =  49\n",
      "PSU =  108  *** Selected SSU =  44\n",
      "PSU =  109  *** Selected SSU =  52\n",
      "PSU =  110  *** Selected SSU =  49\n",
      "PSU =  111  *** Selected SSU =  157\n",
      "PSU =  112  *** Selected SSU =  54\n",
      "PSU =  113  *** Selected SSU =  47\n",
      "PSU =  114  *** Selected SSU =  52\n",
      "PSU =  115  *** Selected SSU =  36\n",
      "PSU =  116  *** Selected SSU =  41\n",
      "PSU =  117  *** Selected SSU =  127\n",
      "PSU =  118  *** Selected SSU =  51\n",
      "PSU =  119  *** Selected SSU =  50\n",
      "PSU =  120  *** Selected SSU =  21\n",
      "PSU =  121  *** Selected SSU =  46\n",
      "PSU =  122  *** Selected SSU =  39\n",
      "--------------------------------\n",
      "Total PSU =  122\n",
      "Total SSU =  8294\n",
      "--------------------------------"
     ]
    }
   ],
   "source": [
    "selected_PSU <- sample_2st[[4]]\n",
    "selected_PSU <- selected_PSU[selected_PSU$PSU_final_sample_unit > 0,]\n",
    "samp <- select_SSU(df=pop,\n",
    "                   PSU_code=\"municipality\",\n",
    "                   SSU_code=\"id_ind\",\n",
    "                   PSU_sampled=selected_PSU[selected_PSU$Sampled_PSU==1,],\n",
    "                   verbose=TRUE)\n"
   ]
  },
  {
   "cell_type": "code",
   "execution_count": 18,
   "id": "49d7066e-e5b3-44ed-a6d8-c86e9f31c672",
   "metadata": {},
   "outputs": [
    {
     "data": {
      "text/html": [
       "8294"
      ],
      "text/latex": [
       "8294"
      ],
      "text/markdown": [
       "8294"
      ],
      "text/plain": [
       "[1] 8294"
      ]
     },
     "metadata": {},
     "output_type": "display_data"
    },
    {
     "data": {
      "text/html": [
       "8299"
      ],
      "text/latex": [
       "8299"
      ],
      "text/markdown": [
       "8299"
      ],
      "text/plain": [
       "[1] 8299"
      ]
     },
     "metadata": {},
     "output_type": "display_data"
    }
   ],
   "source": [
    "nrow(samp)\n",
    "sum(allocat$ALLOC)"
   ]
  },
  {
   "cell_type": "code",
   "execution_count": 19,
   "id": "38676fa0-815a-41df-a8a0-8aa260accdf8",
   "metadata": {},
   "outputs": [
    {
     "data": {
      "text/html": [
       "2258507"
      ],
      "text/latex": [
       "2258507"
      ],
      "text/markdown": [
       "2258507"
      ],
      "text/plain": [
       "[1] 2258507"
      ]
     },
     "metadata": {},
     "output_type": "display_data"
    },
    {
     "data": {
      "text/html": [
       "2258507"
      ],
      "text/latex": [
       "2258507"
      ],
      "text/markdown": [
       "2258507"
      ],
      "text/plain": [
       "[1] 2258507"
      ]
     },
     "metadata": {},
     "output_type": "display_data"
    }
   ],
   "source": [
    "nrow(pop)\n",
    "sum(samp$weight)"
   ]
  },
  {
   "cell_type": "code",
   "execution_count": 20,
   "id": "d260cab4-a346-4b0a-99b3-527ba077ab52",
   "metadata": {},
   "outputs": [
    {
     "data": {
      "image/png": "[encoded data removed]",
      "text/plain": [
       "Plot with title \"Weights distribution by region\""
      ]
     },
     "metadata": {
      "image/png": {
       "height": 420,
       "width": 420
      }
     },
     "output_type": "display_data"
    },
    {
     "data": {
      "image/png": "[encoded data removed]",
      "text/plain": [
       "Plot with title \"Weights distribution by stratum\""
      ]
     },
     "metadata": {
      "image/png": {
       "height": 420,
       "width": 420
      }
     },
     "output_type": "display_data"
    }
   ],
   "source": [
    "## Plot of weights distribution\n",
    "par(mfrow=c(1, 2))\n",
    "boxplot(samp$weight,col=\"grey\")\n",
    "title(\"Weights distribution (total sample)\",cex.main=0.7)\n",
    "boxplot(weight ~ region, data=samp,col=\"grey\")\n",
    "title(\"Weights distribution by region\",cex.main=0.7)\n",
    "par(mfrow=c(1, 2))\n",
    "boxplot(weight ~ province, data=samp,col=\"grey\")\n",
    "title(\"Weights distribution by province\",cex.main=0.7)\n",
    "boxplot(weight ~ stratum, data=samp,col=\"grey\")\n",
    "title(\"Weights distribution by stratum\",cex.main=0.7)"
   ]
  },
  {
   "cell_type": "markdown",
   "id": "edf54291-9d4e-47be-9a92-aad6b1b24fc1",
   "metadata": {},
   "source": [
    "## Precision constraints compliance control (by simulation)"
   ]
  },
  {
   "cell_type": "code",
   "execution_count": 21,
   "id": "bde1b28c-cc52-48df-809e-7194f806a2fe",
   "metadata": {},
   "outputs": [],
   "source": [
    "selected_PSU <- sample_2st[[4]]\n",
    "df=pop\n",
    "df$one <- 1\n",
    "PSU_code=\"municipality\"\n",
    "SSU_code=\"id_ind\"\n",
    "PSU_sampled=selected_PSU[selected_PSU$Sampled_PSU==1,]\n",
    "target_vars <- c(\"income_hh\",\n",
    "                 \"active\",\n",
    "                 \"inactive\",\n",
    "                 \"unemployed\")  \n",
    "PSU_sampled <- selected_PSU[selected_PSU$PSU_final_sample_unit > 0,]"
   ]
  },
  {
   "cell_type": "code",
   "execution_count": 22,
   "id": "c3d35837-196f-444f-8583-e5dc715b3978",
   "metadata": {},
   "outputs": [
    {
     "name": "stdout",
     "output_type": "stream",
     "text": [
      "  |======================================================================| 100%\n"
     ]
    },
    {
     "data": {
      "text/html": [
       "<table class=\"dataframe\">\n",
       "<caption>A data.frame: 1 × 5</caption>\n",
       "<thead>\n",
       "\t<tr><th scope=col>CV1</th><th scope=col>CV2</th><th scope=col>CV3</th><th scope=col>CV4</th><th scope=col>dom</th></tr>\n",
       "\t<tr><th scope=col>&lt;dbl&gt;</th><th scope=col>&lt;dbl&gt;</th><th scope=col>&lt;dbl&gt;</th><th scope=col>&lt;dbl&gt;</th><th scope=col>&lt;chr&gt;</th></tr>\n",
       "</thead>\n",
       "<tbody>\n",
       "\t<tr><td>0.0112</td><td>0.0096</td><td>0.0274</td><td>0.0357</td><td>DOM1</td></tr>\n",
       "</tbody>\n",
       "</table>\n"
      ],
      "text/latex": [
       "A data.frame: 1 × 5\n",
       "\\begin{tabular}{lllll}\n",
       " CV1 & CV2 & CV3 & CV4 & dom\\\\\n",
       " <dbl> & <dbl> & <dbl> & <dbl> & <chr>\\\\\n",
       "\\hline\n",
       "\t 0.0112 & 0.0096 & 0.0274 & 0.0357 & DOM1\\\\\n",
       "\\end{tabular}\n"
      ],
      "text/markdown": [
       "\n",
       "A data.frame: 1 × 5\n",
       "\n",
       "| CV1 &lt;dbl&gt; | CV2 &lt;dbl&gt; | CV3 &lt;dbl&gt; | CV4 &lt;dbl&gt; | dom &lt;chr&gt; |\n",
       "|---|---|---|---|---|\n",
       "| 0.0112 | 0.0096 | 0.0274 | 0.0357 | DOM1 |\n",
       "\n"
      ],
      "text/plain": [
       "  CV1    CV2    CV3    CV4    dom \n",
       "1 0.0112 0.0096 0.0274 0.0357 DOM1"
      ]
     },
     "metadata": {},
     "output_type": "display_data"
    }
   ],
   "source": [
    "# Domain level = national\n",
    "domain_var <- \"one\"\n",
    "eval <- eval_2stage(df,\n",
    "                    PSU_code,\n",
    "                    SSU_code,\n",
    "                    domain_var,\n",
    "                    target_vars,\n",
    "                    PSU_sampled,\n",
    "                    nsampl=100, \n",
    "                    writeFiles=FALSE,\n",
    "                    progress=TRUE) \n",
    "eval$coeff_var"
   ]
  },
  {
   "cell_type": "code",
   "execution_count": 23,
   "id": "ea0e548e-81b6-4f6d-a84c-efb50be4f8d3",
   "metadata": {},
   "outputs": [
    {
     "name": "stdout",
     "output_type": "stream",
     "text": [
      "  |======================================================================| 100%\n"
     ]
    },
    {
     "data": {
      "image/png": "[encoded data removed]",
      "text/plain": [
       "Plot with title \"Distribution of CV's in the domains\""
      ]
     },
     "metadata": {
      "image/png": {
       "height": 420,
       "width": 420
      }
     },
     "output_type": "display_data"
    },
    {
     "data": {
      "text/html": [
       "<table class=\"dataframe\">\n",
       "<caption>A data.frame: 3 × 5</caption>\n",
       "<thead>\n",
       "\t<tr><th scope=col>CV1</th><th scope=col>CV2</th><th scope=col>CV3</th><th scope=col>CV4</th><th scope=col>dom</th></tr>\n",
       "\t<tr><th scope=col>&lt;dbl&gt;</th><th scope=col>&lt;dbl&gt;</th><th scope=col>&lt;dbl&gt;</th><th scope=col>&lt;dbl&gt;</th><th scope=col>&lt;chr&gt;</th></tr>\n",
       "</thead>\n",
       "<tbody>\n",
       "\t<tr><td>0.0109</td><td>0.0067</td><td>0.0244</td><td>0.0716</td><td>DOM1</td></tr>\n",
       "\t<tr><td>0.0277</td><td>0.0201</td><td>0.0533</td><td>0.0841</td><td>DOM2</td></tr>\n",
       "\t<tr><td>0.0257</td><td>0.0316</td><td>0.0598</td><td>0.0461</td><td>DOM3</td></tr>\n",
       "</tbody>\n",
       "</table>\n"
      ],
      "text/latex": [
       "A data.frame: 3 × 5\n",
       "\\begin{tabular}{lllll}\n",
       " CV1 & CV2 & CV3 & CV4 & dom\\\\\n",
       " <dbl> & <dbl> & <dbl> & <dbl> & <chr>\\\\\n",
       "\\hline\n",
       "\t 0.0109 & 0.0067 & 0.0244 & 0.0716 & DOM1\\\\\n",
       "\t 0.0277 & 0.0201 & 0.0533 & 0.0841 & DOM2\\\\\n",
       "\t 0.0257 & 0.0316 & 0.0598 & 0.0461 & DOM3\\\\\n",
       "\\end{tabular}\n"
      ],
      "text/markdown": [
       "\n",
       "A data.frame: 3 × 5\n",
       "\n",
       "| CV1 &lt;dbl&gt; | CV2 &lt;dbl&gt; | CV3 &lt;dbl&gt; | CV4 &lt;dbl&gt; | dom &lt;chr&gt; |\n",
       "|---|---|---|---|---|\n",
       "| 0.0109 | 0.0067 | 0.0244 | 0.0716 | DOM1 |\n",
       "| 0.0277 | 0.0201 | 0.0533 | 0.0841 | DOM2 |\n",
       "| 0.0257 | 0.0316 | 0.0598 | 0.0461 | DOM3 |\n",
       "\n"
      ],
      "text/plain": [
       "  CV1    CV2    CV3    CV4    dom \n",
       "1 0.0109 0.0067 0.0244 0.0716 DOM1\n",
       "2 0.0277 0.0201 0.0533 0.0841 DOM2\n",
       "3 0.0257 0.0316 0.0598 0.0461 DOM3"
      ]
     },
     "metadata": {},
     "output_type": "display_data"
    },
    {
     "data": {
      "image/png": "[encoded data removed]",
      "text/plain": [
       "Plot with title \"Distribution of relative bias in the domains\""
      ]
     },
     "metadata": {
      "image/png": {
       "height": 420,
       "width": 420
      }
     },
     "output_type": "display_data"
    }
   ],
   "source": [
    "# Domain level = regional\n",
    "domain_var <- \"region\"\n",
    "set.seed(1234)\n",
    "eval <- eval_2stage(df,\n",
    "                    PSU_code,\n",
    "                    SSU_code,\n",
    "                    domain_var,\n",
    "                    target_vars,\n",
    "                    PSU_sampled,\n",
    "                    nsampl=100, \n",
    "                    writeFiles=FALSE,\n",
    "                    progress=TRUE) \n",
    "eval$coeff_var"
   ]
  },
  {
   "cell_type": "code",
   "execution_count": 24,
   "id": "08cb71f0-535f-401e-ae82-355941cd4a55",
   "metadata": {},
   "outputs": [
    {
     "data": {
      "text/html": [
       "<table class=\"dataframe\">\n",
       "<caption>A data.frame: 4 × 6</caption>\n",
       "<thead>\n",
       "\t<tr><th></th><th scope=col>Type</th><th scope=col>Dom</th><th scope=col>V1</th><th scope=col>V2</th><th scope=col>V3</th><th scope=col>V4</th></tr>\n",
       "\t<tr><th></th><th scope=col>&lt;chr&gt;</th><th scope=col>&lt;chr&gt;</th><th scope=col>&lt;dbl&gt;</th><th scope=col>&lt;dbl&gt;</th><th scope=col>&lt;dbl&gt;</th><th scope=col>&lt;dbl&gt;</th></tr>\n",
       "</thead>\n",
       "<tbody>\n",
       "\t<tr><th scope=row>2</th><td>DOM1</td><td>1</td><td>  1</td><td>0</td><td> 1</td><td>   1</td></tr>\n",
       "\t<tr><th scope=row>6</th><td>DOM2</td><td>1</td><td>  1</td><td>0</td><td> 1</td><td>1184</td></tr>\n",
       "\t<tr><th scope=row>10</th><td>DOM2</td><td>2</td><td>  1</td><td>0</td><td> 1</td><td> 246</td></tr>\n",
       "\t<tr><th scope=row>14</th><td>DOM2</td><td>3</td><td>202</td><td>1</td><td>27</td><td>   1</td></tr>\n",
       "</tbody>\n",
       "</table>\n"
      ],
      "text/latex": [
       "A data.frame: 4 × 6\n",
       "\\begin{tabular}{r|llllll}\n",
       "  & Type & Dom & V1 & V2 & V3 & V4\\\\\n",
       "  & <chr> & <chr> & <dbl> & <dbl> & <dbl> & <dbl>\\\\\n",
       "\\hline\n",
       "\t2 & DOM1 & 1 &   1 & 0 &  1 &    1\\\\\n",
       "\t6 & DOM2 & 1 &   1 & 0 &  1 & 1184\\\\\n",
       "\t10 & DOM2 & 2 &   1 & 0 &  1 &  246\\\\\n",
       "\t14 & DOM2 & 3 & 202 & 1 & 27 &    1\\\\\n",
       "\\end{tabular}\n"
      ],
      "text/markdown": [
       "\n",
       "A data.frame: 4 × 6\n",
       "\n",
       "| <!--/--> | Type &lt;chr&gt; | Dom &lt;chr&gt; | V1 &lt;dbl&gt; | V2 &lt;dbl&gt; | V3 &lt;dbl&gt; | V4 &lt;dbl&gt; |\n",
       "|---|---|---|---|---|---|---|\n",
       "| 2 | DOM1 | 1 |   1 | 0 |  1 |    1 |\n",
       "| 6 | DOM2 | 1 |   1 | 0 |  1 | 1184 |\n",
       "| 10 | DOM2 | 2 |   1 | 0 |  1 |  246 |\n",
       "| 14 | DOM2 | 3 | 202 | 1 | 27 |    1 |\n",
       "\n"
      ],
      "text/plain": [
       "   Type Dom V1  V2 V3 V4  \n",
       "2  DOM1 1     1 0   1    1\n",
       "6  DOM2 1     1 0   1 1184\n",
       "10 DOM2 2     1 0   1  246\n",
       "14 DOM2 3   202 1  27    1"
      ]
     },
     "metadata": {},
     "output_type": "display_data"
    }
   ],
   "source": [
    "alloc$sensitivity"
   ]
  },
  {
   "cell_type": "code",
   "execution_count": 26,
   "id": "e717ae20-463c-4c3e-9ab1-a0e2db7fe942",
   "metadata": {},
   "outputs": [],
   "source": [
    "save(samp,file=\"sample.RData\")"
   ]
  },
  {
   "cell_type": "code",
   "execution_count": null,
   "id": "be1de5cc-33e3-416d-b5c0-12602da64206",
   "metadata": {},
   "outputs": [],
   "source": []
  }
 ],
 "metadata": {
  "kernelspec": {
   "display_name": "R",
   "language": "R",
   "name": "ir"
  },
  "language_info": {
   "codemirror_mode": "r",
   "file_extension": ".r",
   "mimetype": "text/x-r-source",
   "name": "R",
   "pygments_lexer": "r",
   "version": "4.1.1"
  }
 },
 "nbformat": 4,
 "nbformat_minor": 5
}
