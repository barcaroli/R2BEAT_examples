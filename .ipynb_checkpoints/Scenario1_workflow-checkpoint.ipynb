{
 "cells": [
  {
   "cell_type": "markdown",
   "id": "638fb5f1-a50b-4b19-a99d-8430b835e9c6",
   "metadata": {},
   "source": [
    "# Workflow example with R2BEAT \n",
    "#### Scenario 1\n",
    "Only a sampling frame containing the units of the population \n",
    "of reference is available, no previous round of the sampling survey to be \n",
    "planned"
   ]
  },
  {
   "cell_type": "code",
   "execution_count": 1,
   "id": "8447983d-253c-416a-9dc4-798c53ee2d07",
   "metadata": {},
   "outputs": [
    {
     "name": "stderr",
     "output_type": "stream",
     "text": [
      "Caricamento del pacchetto richiesto: plyr\n",
      "\n",
      "Caricamento del pacchetto richiesto: devtools\n",
      "\n",
      "Caricamento del pacchetto richiesto: usethis\n",
      "\n",
      "Caricamento del pacchetto richiesto: sampling\n",
      "\n",
      "Caricamento del pacchetto richiesto: SamplingStrata\n",
      "\n",
      "Caricamento del pacchetto richiesto: memoise\n",
      "\n",
      "Caricamento del pacchetto richiesto: doParallel\n",
      "\n",
      "Caricamento del pacchetto richiesto: foreach\n",
      "\n",
      "Caricamento del pacchetto richiesto: iterators\n",
      "\n",
      "Caricamento del pacchetto richiesto: parallel\n",
      "\n",
      "Caricamento del pacchetto richiesto: pbapply\n",
      "\n",
      "Caricamento del pacchetto richiesto: formattable\n",
      "\n",
      "Caricamento del pacchetto richiesto: SamplingBigData\n",
      "\n",
      "\n",
      "\n",
      "Report issues at https://github.com/barcaroli/SamplingStrata/issues\n",
      "\n",
      "\n",
      "Get a complete documentation on https://barcaroli.github.io/SamplingStrata\n",
      "\n",
      "\n"
     ]
    }
   ],
   "source": [
    "# Install last version of R2BEAT\n",
    "#devtools::install_github(\"barcaroli/R2BEAT\",dependencies = FALSE)\n",
    "library(R2BEAT)"
   ]
  },
  {
   "cell_type": "code",
   "execution_count": 2,
   "id": "88e6a364-4d30-4752-81b2-2ee6d54df81a",
   "metadata": {},
   "outputs": [
    {
     "data": {
      "text/plain": [
       "[1] '1.0.4'"
      ]
     },
     "metadata": {},
     "output_type": "display_data"
    }
   ],
   "source": [
    "packageVersion(\"R2BEAT\")"
   ]
  },
  {
   "cell_type": "code",
   "execution_count": 3,
   "id": "faa91fdb-69a8-4c59-82f2-7c7749df2154",
   "metadata": {},
   "outputs": [],
   "source": [
    "## Sampling frame\n",
    "load(\"pop.RData\")"
   ]
  },
  {
   "cell_type": "markdown",
   "id": "9f902dfe-db70-48f9-9ede-0f188362ee19",
   "metadata": {},
   "source": [
    "## Precision constraints"
   ]
  },
  {
   "cell_type": "code",
   "execution_count": 6,
   "id": "69918ced-603d-4d1a-b461-1eda1710bc8d",
   "metadata": {},
   "outputs": [
    {
     "data": {
      "text/html": [
       "<table class=\"dataframe\">\n",
       "<caption>A data.frame: 2 × 5</caption>\n",
       "<thead>\n",
       "\t<tr><th scope=col>DOM</th><th scope=col>CV1</th><th scope=col>CV2</th><th scope=col>CV3</th><th scope=col>CV4</th></tr>\n",
       "\t<tr><th scope=col>&lt;chr&gt;</th><th scope=col>&lt;dbl&gt;</th><th scope=col>&lt;dbl&gt;</th><th scope=col>&lt;dbl&gt;</th><th scope=col>&lt;dbl&gt;</th></tr>\n",
       "</thead>\n",
       "<tbody>\n",
       "\t<tr><td>DOM1</td><td>0.02</td><td>0.03</td><td>0.03</td><td>0.03</td></tr>\n",
       "\t<tr><td>DOM2</td><td>0.03</td><td>0.06</td><td>0.06</td><td>0.06</td></tr>\n",
       "</tbody>\n",
       "</table>\n"
      ],
      "text/latex": [
       "A data.frame: 2 × 5\n",
       "\\begin{tabular}{lllll}\n",
       " DOM & CV1 & CV2 & CV3 & CV4\\\\\n",
       " <chr> & <dbl> & <dbl> & <dbl> & <dbl>\\\\\n",
       "\\hline\n",
       "\t DOM1 & 0.02 & 0.03 & 0.03 & 0.03\\\\\n",
       "\t DOM2 & 0.03 & 0.06 & 0.06 & 0.06\\\\\n",
       "\\end{tabular}\n"
      ],
      "text/markdown": [
       "\n",
       "A data.frame: 2 × 5\n",
       "\n",
       "| DOM &lt;chr&gt; | CV1 &lt;dbl&gt; | CV2 &lt;dbl&gt; | CV3 &lt;dbl&gt; | CV4 &lt;dbl&gt; |\n",
       "|---|---|---|---|---|\n",
       "| DOM1 | 0.02 | 0.03 | 0.03 | 0.03 |\n",
       "| DOM2 | 0.03 | 0.06 | 0.06 | 0.06 |\n",
       "\n"
      ],
      "text/plain": [
       "  DOM  CV1  CV2  CV3  CV4 \n",
       "1 DOM1 0.02 0.03 0.03 0.03\n",
       "2 DOM2 0.03 0.06 0.06 0.06"
      ]
     },
     "metadata": {},
     "output_type": "display_data"
    }
   ],
   "source": [
    "\n",
    "cv <- as.data.frame(list(DOM=c(\"DOM1\",\"DOM2\"),\n",
    "                         CV1=c(0.02,0.03),\n",
    "                         CV2=c(0.03,0.06),\n",
    "                         CV3=c(0.03,0.06),\n",
    "                         CV4=c(0.03,0.06)))\n",
    "cv"
   ]
  },
  {
   "cell_type": "markdown",
   "id": "94534f48-9e4b-485a-a8b9-75a0366159ec",
   "metadata": {},
   "source": [
    "## Sensitivity analysis"
   ]
  },
  {
   "cell_type": "markdown",
   "id": "b6ac39e1-a371-49fd-a51f-17b066bf7162",
   "metadata": {},
   "source": [
    "#### Deff"
   ]
  },
  {
   "cell_type": "code",
   "execution_count": 7,
   "id": "1503522d-764f-4b3c-ac80-9786239e9c1d",
   "metadata": {},
   "outputs": [
    {
     "name": "stdout",
     "output_type": "stream",
     "text": [
      "\n",
      " 1\n",
      "Computations are being done on population data\n",
      "\n",
      "Number of strata:  24\n",
      "... of which with only one unit:  0  iterations PSU_SR PSU NSR PSU Total   SSU\n",
      "1          0      0       0         0 13554\n",
      "2          1     43     131       174 13554\n",
      "\n",
      " 2\n",
      "Computations are being done on population data\n",
      "\n",
      "Number of strata:  24\n",
      "... of which with only one unit:  0  iterations PSU_SR PSU NSR PSU Total   SSU\n",
      "1          0      0       0         0 13554\n",
      "2          1     43     131       174 13873\n",
      "\n",
      " 3\n",
      "Computations are being done on population data\n",
      "\n",
      "Number of strata:  24\n",
      "... of which with only one unit:  0  iterations PSU_SR PSU NSR PSU Total   SSU\n",
      "1          0      0       0         0 13554\n",
      "2          1     43     131       174 14183\n",
      "3          2     46     137       183 14175\n",
      "\n",
      " 4\n",
      "Computations are being done on population data\n",
      "\n",
      "Number of strata:  24\n",
      "... of which with only one unit:  0  iterations PSU_SR PSU NSR PSU Total   SSU\n",
      "1          0      0       0         0 13554\n",
      "2          1     43     131       174 14482\n",
      "3          2     49     138       187 14464\n",
      "\n",
      " 5\n",
      "Computations are being done on population data\n",
      "\n",
      "Number of strata:  24\n",
      "... of which with only one unit:  0  iterations PSU_SR PSU NSR PSU Total   SSU\n",
      "1          0      0       0         0 13554\n",
      "2          1     43     131       174 14782\n",
      "3          2     49     143       192 14755\n",
      "\n",
      " 6\n",
      "Computations are being done on population data\n",
      "\n",
      "Number of strata:  24\n",
      "... of which with only one unit:  0  iterations PSU_SR PSU NSR PSU Total   SSU\n",
      "1          0      0       0         0 13554\n",
      "2          1     43     131       174 15074\n",
      "3          2     52     144       196 15025\n",
      "\n",
      " 7\n",
      "Computations are being done on population data\n",
      "\n",
      "Number of strata:  24\n",
      "... of which with only one unit:  0  iterations PSU_SR PSU NSR PSU Total   SSU\n",
      "1          0      0       0         0 13554\n",
      "2          1     43     131       174 15360\n",
      "3          2     52     148       200 15300\n",
      "\n",
      " 8\n",
      "Computations are being done on population data\n",
      "\n",
      "Number of strata:  24\n",
      "... of which with only one unit:  0  iterations PSU_SR PSU NSR PSU Total   SSU\n",
      "1          0      0       0         0 13554\n",
      "2          1     43     131       174 15643\n",
      "3          2     53     151       204 15573\n",
      "\n",
      " 9\n",
      "Computations are being done on population data\n",
      "\n",
      "Number of strata:  24\n",
      "... of which with only one unit:  0  iterations PSU_SR PSU NSR PSU Total   SSU\n",
      "1          0      0       0         0 13554\n",
      "2          1     43     131       174 15923\n",
      "3          2     56     151       207 15814\n",
      "\n",
      " 10\n",
      "Computations are being done on population data\n",
      "\n",
      "Number of strata:  24\n",
      "... of which with only one unit:  0  iterations PSU_SR PSU NSR PSU Total   SSU\n",
      "1          0      0       0         0 13554\n",
      "2          1     43     131       174 16203\n",
      "3          2     58     153       211 16062\n",
      "\n",
      " 11\n",
      "Computations are being done on population data\n",
      "\n",
      "Number of strata:  24\n",
      "... of which with only one unit:  0  iterations PSU_SR PSU NSR PSU Total   SSU\n",
      "1          0      0       0         0 13554\n",
      "2          1     43     131       174 16471\n",
      "3          2     59     156       215 16311\n"
     ]
    },
    {
     "data": {
      "image/png": "[encoded data removed]",
      "text/plain": [
       "Plot with title \"Second Stage Size\""
      ]
     },
     "metadata": {
      "image/png": {
       "height": 420,
       "width": 420
      }
     },
     "output_type": "display_data"
    }
   ],
   "source": [
    "deff_sens <- sensitivity(samp_frame=pop,\n",
    "             errors=cv,\n",
    "             id_PSU=\"municipality\",\n",
    "             id_SSU=\"id_ind\",\n",
    "             strata_var=\"stratum\",\n",
    "             target_vars=c(\"income_hh\",\"active\",\"inactive\",\"unemployed\"),\n",
    "             deff_var=\"stratum\",\n",
    "             domain_var=\"region\",\n",
    "             minimum=50,\n",
    "             delta=1,\n",
    "             f=0.05,\n",
    "             search=c(\"deff\"),\n",
    "             min=1,\n",
    "             max=2,\n",
    "             plot=TRUE)"
   ]
  },
  {
   "cell_type": "code",
   "execution_count": 29,
   "id": "873e40e5-842a-4133-abe0-e7c139c35ee2",
   "metadata": {},
   "outputs": [
    {
     "data": {
      "image/png": "[encoded data removed]",
      "text/plain": [
       "Plot with title \"Second Stage Size\""
      ]
     },
     "metadata": {
      "image/png": {
       "height": 420,
       "width": 420
      }
     },
     "output_type": "display_data"
    }
   ],
   "source": [
    "plot.sens(deff_sens,search=\"deff\",min=1,max=2)"
   ]
  },
  {
   "cell_type": "markdown",
   "id": "524b067f-21be-436a-8f0c-ec9396c4ec2c",
   "metadata": {},
   "source": [
    "##### Minimum"
   ]
  },
  {
   "cell_type": "code",
   "execution_count": 8,
   "id": "90fec66c-c756-4178-8db8-ad93ac3d70a2",
   "metadata": {},
   "outputs": [
    {
     "name": "stdout",
     "output_type": "stream",
     "text": [
      "\n",
      " 1\n",
      "Computations are being done on population data\n",
      "\n",
      "Number of strata:  24\n",
      "... of which with only one unit:  0   iterations PSU_SR PSU NSR PSU Total   SSU\n",
      "1           0      0       0         0 13554\n",
      "2           1     43     131       174 70035\n",
      "3           2    385      86       471 18910\n",
      "4           3     64     195       259 66634\n",
      "5           4    372      93       465 19552\n",
      "6           5     66     203       269 66481\n",
      "7           6    372      92       464 19552\n",
      "8           7     66     203       269 66481\n",
      "9           8    372      92       464 19552\n",
      "10          9     66     203       269 66481\n",
      "11         10    372      92       464 19552\n",
      "12         11     66     203       269 66481\n",
      "13         12    372      92       464 19552\n",
      "14         13     66     203       269 66481\n",
      "15         14    372      92       464 19552\n",
      "16         15     66     203       269 66481\n",
      "\n",
      " 2\n",
      "Computations are being done on population data\n",
      "\n",
      "Number of strata:  24\n",
      "... of which with only one unit:  0   iterations PSU_SR PSU NSR PSU Total   SSU\n",
      "1           0      0       0         0 13554\n",
      "2           1     43     131       174 78024\n",
      "3           2    416      65       481 17815\n",
      "4           3     54     187       241 75890\n",
      "5           4    405      74       479 18351\n",
      "6           5     57     193       250 75513\n",
      "7           6    405      73       478 18351\n",
      "8           7     57     193       250 75513\n",
      "9           8    405      73       478 18351\n",
      "10          9     57     193       250 75513\n",
      "11         10    405      73       478 18351\n",
      "12         11     57     193       250 75513\n",
      "13         12    405      73       478 18351\n",
      "14         13     57     193       250 75513\n",
      "15         14    405      73       478 18351\n",
      "16         15     57     193       250 75513\n",
      "\n",
      " 3\n",
      "Computations are being done on population data\n",
      "\n",
      "Number of strata:  24\n",
      "... of which with only one unit:  0   iterations PSU_SR PSU NSR PSU Total   SSU\n",
      "1           0      0       0         0 13554\n",
      "2           1     43     131       174 85746\n",
      "3           2    434      54       488 17229\n",
      "4           3     52     180       232 83551\n",
      "5           4    427      60       487 17693\n",
      "6           5     52     187       239 83548\n",
      "7           6    427      60       487 17693\n",
      "8           7     52     187       239 83548\n",
      "9           8    427      60       487 17693\n",
      "10          9     52     187       239 83548\n",
      "11         10    427      60       487 17693\n",
      "12         11     52     187       239 83548\n",
      "13         12    427      60       487 17693\n",
      "14         13     52     187       239 83548\n",
      "15         14    427      60       487 17693\n",
      "16         15     52     187       239 83548\n",
      "\n",
      " 4\n",
      "Computations are being done on population data\n",
      "\n",
      "Number of strata:  24\n",
      "... of which with only one unit:  0   iterations PSU_SR PSU NSR PSU Total   SSU\n",
      "1           0      0       0         0 13554\n",
      "2           1     43     131       174 93223\n",
      "3           2    454      39       493 16287\n",
      "4           3     52     165       217 90768\n",
      "5           4    448      44       492 16601\n",
      "6           5     52     170       222 90771\n",
      "7           6    448      44       492 16602\n",
      "8           7     52     170       222 90771\n",
      "9           8    448      44       492 16602\n",
      "10          9     52     170       222 90771\n",
      "11         10    448      44       492 16602\n",
      "12         11     52     170       222 90771\n",
      "13         12    448      44       492 16602\n",
      "14         13     52     170       222 90771\n",
      "15         14    448      44       492 16602\n",
      "16         15     52     170       222 90771\n",
      "\n",
      " 5\n",
      "Computations are being done on population data\n",
      "\n",
      "Number of strata:  24\n",
      "... of which with only one unit:  0   iterations PSU_SR PSU NSR PSU Total    SSU\n",
      "1           0      0       0         0  13554\n",
      "2           1     43     131       174 100485\n",
      "3           2    461      35       496  16054\n",
      "4           3     50     164       214  98476\n",
      "5           4    461      34       495  16051\n",
      "6           5     50     164       214  98481\n",
      "7           6    461      34       495  16051\n",
      "8           7     50     164       214  98481\n",
      "9           8    461      34       495  16051\n",
      "10          9     50     164       214  98481\n",
      "11         10    461      34       495  16051\n",
      "12         11     50     164       214  98481\n",
      "13         12    461      34       495  16051\n",
      "14         13     50     164       214  98481\n",
      "15         14    461      34       495  16051\n",
      "16         15     50     164       214  98481\n",
      "\n",
      " 6\n",
      "Computations are being done on population data\n",
      "\n",
      "Number of strata:  24\n",
      "... of which with only one unit:  0   iterations PSU_SR PSU NSR PSU Total    SSU\n",
      "1           0      0       0         0  13554\n",
      "2           1     43     131       174 107544\n",
      "3           2    465      34       499  16047\n",
      "4           3     50     164       214 105352\n",
      "5           4    463      35       498  16161\n",
      "6           5     50     166       216 105354\n",
      "7           6    463      35       498  16161\n",
      "8           7     50     166       216 105354\n",
      "9           8    463      35       498  16161\n",
      "10          9     50     166       216 105354\n",
      "11         10    463      35       498  16161\n",
      "12         11     50     166       216 105354\n",
      "13         12    463      35       498  16161\n",
      "14         13     50     166       216 105354\n",
      "15         14    463      35       498  16161\n",
      "16         15     50     166       216 105354\n",
      "\n",
      " 7\n",
      "Computations are being done on population data\n",
      "\n",
      "Number of strata:  24\n",
      "... of which with only one unit:  0   iterations PSU_SR PSU NSR PSU Total    SSU\n",
      "1           0      0       0         0  13554\n",
      "2           1     43     131       174 114411\n",
      "3           2    474      27       501  15728\n",
      "4           3     51     157       208 111430\n",
      "5           4    471      29       500  15877\n",
      "6           5     51     160       211 111433\n",
      "7           6    471      29       500  15877\n",
      "8           7     51     160       211 111433\n",
      "9           8    471      29       500  15877\n",
      "10          9     51     160       211 111433\n",
      "11         10    471      29       500  15877\n",
      "12         11     51     160       211 111433\n",
      "13         12    471      29       500  15877\n",
      "14         13     51     160       211 111433\n",
      "15         14    471      29       500  15877\n",
      "16         15     51     160       211 111433\n",
      "\n",
      " 8\n",
      "Computations are being done on population data\n",
      "\n",
      "Number of strata:  24\n",
      "... of which with only one unit:  0   iterations PSU_SR PSU NSR PSU Total    SSU\n",
      "1           0      0       0         0  13554\n",
      "2           1     43     131       174 121105\n",
      "3           2    482      21       503  15298\n",
      "4           3     50     152       202 118560\n",
      "5           4    478      24       502  15629\n",
      "6           5     51     156       207 117902\n",
      "7           6    478      24       502  15627\n",
      "8           7     51     156       207 117902\n",
      "9           8    478      24       502  15627\n",
      "10          9     51     156       207 117902\n",
      "11         10    478      24       502  15627\n",
      "12         11     51     156       207 117902\n",
      "13         12    478      24       502  15627\n",
      "14         13     51     156       207 117902\n",
      "15         14    478      24       502  15627\n",
      "16         15     51     156       207 117902\n",
      "\n",
      " 9\n",
      "Computations are being done on population data\n",
      "\n",
      "Number of strata:  24\n",
      "... of which with only one unit:  0   iterations PSU_SR PSU NSR PSU Total    SSU\n",
      "1           0      0       0         0  13554\n",
      "2           1     43     131       174 127633\n",
      "3           2    486      18       504  15106\n",
      "4           3     50     149       199 124919\n",
      "5           4    485      18       503  15166\n",
      "6           5     50     150       200 124924\n",
      "7           6    485      18       503  15166\n",
      "8           7     50     150       200 124924\n",
      "9           8    485      18       503  15166\n",
      "10          9     50     150       200 124924\n",
      "11         10    485      18       503  15166\n",
      "12         11     50     150       200 124924\n",
      "13         12    485      18       503  15166\n",
      "14         13     50     150       200 124924\n",
      "15         14    485      18       503  15166\n",
      "16         15     50     150       200 124924\n",
      "\n",
      " 10\n",
      "Computations are being done on population data\n",
      "\n",
      "Number of strata:  24\n",
      "... of which with only one unit:  0   iterations PSU_SR PSU NSR PSU Total    SSU\n",
      "1           0      0       0         0  13554\n",
      "2           1     43     131       174 134002\n",
      "3           2    488      17       505  15089\n",
      "4           3     49     150       199 131368\n",
      "5           4    487      17       504  15149\n",
      "6           5     49     151       200 131373\n",
      "7           6    487      17       504  15149\n",
      "8           7     49     151       200 131373\n",
      "9           8    487      17       504  15149\n",
      "10          9     49     151       200 131373\n",
      "11         10    487      17       504  15149\n",
      "12         11     49     151       200 131373\n",
      "13         12    487      17       504  15149\n",
      "14         13     49     151       200 131373\n",
      "15         14    487      17       504  15149\n",
      "16         15     49     151       200 131373\n",
      "\n",
      " 11\n",
      "Computations are being done on population data\n",
      "\n",
      "Number of strata:  24\n",
      "... of which with only one unit:  0   iterations PSU_SR PSU NSR PSU Total    SSU\n",
      "1           0      0       0         0  13554\n",
      "2           1     43     131       174 140224\n",
      "3           2    491      15       506  14895\n",
      "4           3     49     146       195 137825\n",
      "5           4    491      14       505  14893\n",
      "6           5     49     146       195 137827\n",
      "7           6    491      14       505  14893\n",
      "8           7     49     146       195 137827\n",
      "9           8    491      14       505  14893\n",
      "10          9     49     146       195 137827\n",
      "11         10    491      14       505  14893\n",
      "12         11     49     146       195 137827\n",
      "13         12    491      14       505  14893\n",
      "14         13     49     146       195 137827\n",
      "15         14    491      14       505  14893\n",
      "16         15     49     146       195 137827\n"
     ]
    },
    {
     "data": {
      "image/png": "[encoded data removed]",
      "text/plain": [
       "Plot with title \"Second Stage Size\""
      ]
     },
     "metadata": {
      "image/png": {
       "height": 420,
       "width": 420
      }
     },
     "output_type": "display_data"
    }
   ],
   "source": [
    "deff_min <- sensitivity (samp_frame=pop,\n",
    "             errors=cv,\n",
    "             id_PSU=\"municipality\",\n",
    "             id_SSU=\"id_ind\",\n",
    "             strata_var=\"stratum\",\n",
    "             target_vars=c(\"income_hh\",\"active\",\"inactive\",\"unemployed\"),\n",
    "             deff_var=\"stratum\",\n",
    "             domain_var=\"region\",\n",
    "             delta=1,\n",
    "             f=0.05,\n",
    "             deff_sugg=1.5,\n",
    "             search=c(\"min_SSU\"),\n",
    "             min=30,\n",
    "             max=80,\n",
    "             plot=TRUE)"
   ]
  },
  {
   "cell_type": "code",
   "execution_count": 30,
   "id": "c193c3d5-2672-46ca-a0f4-51a3195fa702",
   "metadata": {},
   "outputs": [
    {
     "data": {
      "image/png": "[encoded data removed]",
      "text/plain": [
       "Plot with title \"Second Stage Size\""
      ]
     },
     "metadata": {
      "image/png": {
       "height": 420,
       "width": 420
      }
     },
     "output_type": "display_data"
    }
   ],
   "source": [
    "plot.sens(deff_min,search=\"min_SSU\",min=30,max=80)"
   ]
  },
  {
   "cell_type": "markdown",
   "id": "b3f819d7-4f02-45d2-a8ea-0485558d268a",
   "metadata": {},
   "source": [
    "#### Sampling fraction"
   ]
  },
  {
   "cell_type": "code",
   "execution_count": 9,
   "id": "7578bba5-c7ff-44aa-a188-7c280eed644a",
   "metadata": {},
   "outputs": [
    {
     "name": "stdout",
     "output_type": "stream",
     "text": [
      "\n",
      " 1\n",
      "Computations are being done on population data\n",
      "\n",
      "Number of strata:  24\n",
      "... of which with only one unit:  0  iterations PSU_SR PSU NSR PSU Total   SSU\n",
      "1          0      0       0         0 13554\n",
      "2          1     43     131       174 11606\n",
      "3          2     32     114       146 11461\n",
      "\n",
      " 2\n",
      "Computations are being done on population data\n",
      "\n",
      "Number of strata:  24\n",
      "... of which with only one unit:  0  iterations PSU_SR PSU NSR PSU Total   SSU\n",
      "1          0      0       0         0 13554\n",
      "2          1     43     131       174 11630\n",
      "3          2     32     114       146 11487\n",
      "\n",
      " 3\n",
      "Computations are being done on population data\n",
      "\n",
      "Number of strata:  24\n",
      "... of which with only one unit:  0  iterations PSU_SR PSU NSR PSU Total   SSU\n",
      "1          0      0       0         0 13554\n",
      "2          1     43     131       174 11649\n",
      "3          2     32     115       147 11511\n",
      "\n",
      " 4\n",
      "Computations are being done on population data\n",
      "\n",
      "Number of strata:  24\n",
      "... of which with only one unit:  0  iterations PSU_SR PSU NSR PSU Total   SSU\n",
      "1          0      0       0         0 13554\n",
      "2          1     43     131       174 11617\n",
      "3          2     32     114       146 11477\n",
      "\n",
      " 5\n",
      "Computations are being done on population data\n",
      "\n",
      "Number of strata:  24\n",
      "... of which with only one unit:  0  iterations PSU_SR PSU NSR PSU Total   SSU\n",
      "1          0      0       0         0 13554\n",
      "2          1     43     131       174 11559\n",
      "3          2     32     113       145 11424\n",
      "\n",
      " 6\n",
      "Computations are being done on population data\n",
      "\n",
      "Number of strata:  24\n",
      "... of which with only one unit:  0  iterations PSU_SR PSU NSR PSU Total   SSU\n",
      "1          0      0       0         0 13554\n",
      "2          1     43     131       174 11590\n",
      "3          2     32     114       146 11455\n",
      "\n",
      " 7\n",
      "Computations are being done on population data\n",
      "\n",
      "Number of strata:  24\n",
      "... of which with only one unit:  0  iterations PSU_SR PSU NSR PSU Total   SSU\n",
      "1          0      0       0         0 13554\n",
      "2          1     43     131       174 11618\n",
      "3          2     32     114       146 11484\n",
      "\n",
      " 8\n",
      "Computations are being done on population data\n",
      "\n",
      "Number of strata:  24\n",
      "... of which with only one unit:  0  iterations PSU_SR PSU NSR PSU Total   SSU\n",
      "1          0      0       0         0 13554\n",
      "2          1     43     131       174 11647\n",
      "3          2     32     115       147 11508\n",
      "\n",
      " 9\n",
      "Computations are being done on population data\n",
      "\n",
      "Number of strata:  24\n",
      "... of which with only one unit:  0  iterations PSU_SR PSU NSR PSU Total   SSU\n",
      "1          0      0       0         0 13554\n",
      "2          1     43     131       174 11670\n",
      "3          2     32     115       147 11536\n",
      "\n",
      " 10\n",
      "Computations are being done on population data\n",
      "\n",
      "Number of strata:  24\n",
      "... of which with only one unit:  0  iterations PSU_SR PSU NSR PSU Total   SSU\n",
      "1          0      0       0         0 13554\n",
      "2          1     43     131       174 11697\n",
      "3          2     32     115       147 11566\n",
      "\n",
      " 11\n",
      "Computations are being done on population data\n",
      "\n",
      "Number of strata:  24\n",
      "... of which with only one unit:  0  iterations PSU_SR PSU NSR PSU Total   SSU\n",
      "1          0      0       0         0 13554\n",
      "2          1     43     131       174 11717\n",
      "3          2     32     116       148 11587\n"
     ]
    },
    {
     "data": {
      "image/png": "[encoded data removed]",
      "text/plain": [
       "Plot with title \"Second Stage Size\""
      ]
     },
     "metadata": {
      "image/png": {
       "height": 420,
       "width": 420
      }
     },
     "output_type": "display_data"
    }
   ],
   "source": [
    "deff_sf <- sensitivity (samp_frame=pop,\n",
    "             errors=cv,\n",
    "             id_PSU=\"municipality\",\n",
    "             id_SSU=\"id_ind\",\n",
    "             strata_var=\"stratum\",\n",
    "             target_vars=c(\"income_hh\",\"active\",\"inactive\",\"unemployed\"),\n",
    "             deff_var=\"stratum\",\n",
    "             domain_var=\"region\",\n",
    "             delta=1,\n",
    "             minimum=50,\n",
    "             deff_sugg=1.5,\n",
    "             search=c(\"sample_fraction\"),\n",
    "             min=0.01,\n",
    "             max=0.10,\n",
    "             plot=TRUE)"
   ]
  },
  {
   "cell_type": "code",
   "execution_count": 32,
   "id": "1586e257-f8ee-47f5-9d81-f9c35de60e9e",
   "metadata": {},
   "outputs": [
    {
     "data": {
      "image/png": "[encoded data removed]",
      "text/plain": [
       "Plot with title \"Second Stage Size\""
      ]
     },
     "metadata": {
      "image/png": {
       "height": 420,
       "width": 420
      }
     },
     "output_type": "display_data"
    }
   ],
   "source": [
    "plot.sens(deff_sf,search=\"sample_fraction\",min=0.01,max=0.10)"
   ]
  },
  {
   "cell_type": "markdown",
   "id": "76496a7a-8dee-45d2-9f0e-e037ae92c0cb",
   "metadata": {},
   "source": [
    "### Preparation of inputs for allocation steps"
   ]
  },
  {
   "cell_type": "code",
   "execution_count": 12,
   "id": "3a1c235a-fce7-4bb6-9908-495e3e27d9b2",
   "metadata": {},
   "outputs": [
    {
     "name": "stdout",
     "output_type": "stream",
     "text": [
      "\n",
      "Computations are being done on population data\n",
      "\n",
      "Number of strata:  24\n",
      "... of which with only one unit:  0"
     ]
    }
   ],
   "source": [
    "## Preparation of inputs for allocation steps\n",
    "samp_frame <- pop\n",
    "samp_frame$one <- 1\n",
    "id_PSU <- \"municipality\"  \n",
    "id_SSU <- \"id_ind\"        \n",
    "strata_var <- \"stratum\"   \n",
    "target_vars <- c(\"income_hh\",\"active\",\"inactive\",\"unemployed\")   \n",
    "deff_var <- \"stratum\"     \n",
    "domain_var <- \"region\"  \n",
    "delta =  1       # households = survey units\n",
    "minimum <- 50    # minimum number of SSUs to be interviewed in each selected PSU\n",
    "f = 0.05         # suggestion for the sampling fraction \n",
    "deff_sugg <- 1.5 # suggestion for the deff value\n",
    " \n",
    "inp <- prepareInputToAllocation1(samp_frame,\n",
    "                                id_PSU,\n",
    "                                id_SSU,\n",
    "                                strata_var,\n",
    "                                target_vars,\n",
    "                                deff_var,\n",
    "                                domain_var,\n",
    "                                minimum,\n",
    "                                delta,\n",
    "                                f,\n",
    "                                deff_sugg)"
   ]
  },
  {
   "cell_type": "code",
   "execution_count": 13,
   "id": "184e48ce-f23e-477d-9d01-61158305bdfa",
   "metadata": {},
   "outputs": [
    {
     "data": {
      "text/html": [
       "<table class=\"dataframe\">\n",
       "<caption>A data.frame: 6 × 14</caption>\n",
       "<thead>\n",
       "\t<tr><th></th><th scope=col>N</th><th scope=col>M1</th><th scope=col>M2</th><th scope=col>M3</th><th scope=col>M4</th><th scope=col>S1</th><th scope=col>S2</th><th scope=col>S3</th><th scope=col>S4</th><th scope=col>COST</th><th scope=col>CENS</th><th scope=col>DOM1</th><th scope=col>DOM2</th><th scope=col>STRATUM</th></tr>\n",
       "\t<tr><th></th><th scope=col>&lt;dbl&gt;</th><th scope=col>&lt;dbl&gt;</th><th scope=col>&lt;dbl&gt;</th><th scope=col>&lt;dbl&gt;</th><th scope=col>&lt;dbl&gt;</th><th scope=col>&lt;dbl&gt;</th><th scope=col>&lt;dbl&gt;</th><th scope=col>&lt;dbl&gt;</th><th scope=col>&lt;dbl&gt;</th><th scope=col>&lt;dbl&gt;</th><th scope=col>&lt;dbl&gt;</th><th scope=col>&lt;dbl&gt;</th><th scope=col>&lt;dbl&gt;</th><th scope=col>&lt;fct&gt;</th></tr>\n",
       "</thead>\n",
       "<tbody>\n",
       "\t<tr><th scope=row>1000</th><td>197007</td><td>23959.87</td><td>0.6650322</td><td>0.2285807</td><td>0.10638708</td><td>22179.08</td><td>0.4719792</td><td>0.4199185</td><td>0.3083324</td><td>1</td><td>0</td><td>1</td><td>2</td><td>1000</td></tr>\n",
       "\t<tr><th scope=row>2000</th><td>261456</td><td>20966.65</td><td>0.6709886</td><td>0.2297519</td><td>0.09925953</td><td>19624.65</td><td>0.4698541</td><td>0.4206732</td><td>0.2990102</td><td>1</td><td>0</td><td>1</td><td>2</td><td>2000</td></tr>\n",
       "\t<tr><th scope=row>3000</th><td>115813</td><td>19814.73</td><td>0.6644591</td><td>0.2315975</td><td>0.10394343</td><td>14754.88</td><td>0.4721792</td><td>0.4218532</td><td>0.3051871</td><td>1</td><td>0</td><td>1</td><td>2</td><td>3000</td></tr>\n",
       "\t<tr><th scope=row>4000</th><td> 17241</td><td>18732.72</td><td>0.6273418</td><td>0.2499275</td><td>0.12273070</td><td>13462.74</td><td>0.4835122</td><td>0.4329708</td><td>0.3281278</td><td>1</td><td>0</td><td>1</td><td>2</td><td>4000</td></tr>\n",
       "\t<tr><th scope=row>5000</th><td>101067</td><td>22070.31</td><td>0.6134445</td><td>0.2338845</td><td>0.15267100</td><td>17187.98</td><td>0.4869603</td><td>0.4232996</td><td>0.3596701</td><td>1</td><td>0</td><td>1</td><td>2</td><td>5000</td></tr>\n",
       "\t<tr><th scope=row>6000</th><td> 47218</td><td>21069.07</td><td>0.6135796</td><td>0.2348469</td><td>0.15157355</td><td>17342.74</td><td>0.4869288</td><td>0.4239031</td><td>0.3586070</td><td>1</td><td>0</td><td>1</td><td>2</td><td>6000</td></tr>\n",
       "</tbody>\n",
       "</table>\n"
      ],
      "text/latex": [
       "A data.frame: 6 × 14\n",
       "\\begin{tabular}{r|llllllllllllll}\n",
       "  & N & M1 & M2 & M3 & M4 & S1 & S2 & S3 & S4 & COST & CENS & DOM1 & DOM2 & STRATUM\\\\\n",
       "  & <dbl> & <dbl> & <dbl> & <dbl> & <dbl> & <dbl> & <dbl> & <dbl> & <dbl> & <dbl> & <dbl> & <dbl> & <dbl> & <fct>\\\\\n",
       "\\hline\n",
       "\t1000 & 197007 & 23959.87 & 0.6650322 & 0.2285807 & 0.10638708 & 22179.08 & 0.4719792 & 0.4199185 & 0.3083324 & 1 & 0 & 1 & 2 & 1000\\\\\n",
       "\t2000 & 261456 & 20966.65 & 0.6709886 & 0.2297519 & 0.09925953 & 19624.65 & 0.4698541 & 0.4206732 & 0.2990102 & 1 & 0 & 1 & 2 & 2000\\\\\n",
       "\t3000 & 115813 & 19814.73 & 0.6644591 & 0.2315975 & 0.10394343 & 14754.88 & 0.4721792 & 0.4218532 & 0.3051871 & 1 & 0 & 1 & 2 & 3000\\\\\n",
       "\t4000 &  17241 & 18732.72 & 0.6273418 & 0.2499275 & 0.12273070 & 13462.74 & 0.4835122 & 0.4329708 & 0.3281278 & 1 & 0 & 1 & 2 & 4000\\\\\n",
       "\t5000 & 101067 & 22070.31 & 0.6134445 & 0.2338845 & 0.15267100 & 17187.98 & 0.4869603 & 0.4232996 & 0.3596701 & 1 & 0 & 1 & 2 & 5000\\\\\n",
       "\t6000 &  47218 & 21069.07 & 0.6135796 & 0.2348469 & 0.15157355 & 17342.74 & 0.4869288 & 0.4239031 & 0.3586070 & 1 & 0 & 1 & 2 & 6000\\\\\n",
       "\\end{tabular}\n"
      ],
      "text/markdown": [
       "\n",
       "A data.frame: 6 × 14\n",
       "\n",
       "| <!--/--> | N &lt;dbl&gt; | M1 &lt;dbl&gt; | M2 &lt;dbl&gt; | M3 &lt;dbl&gt; | M4 &lt;dbl&gt; | S1 &lt;dbl&gt; | S2 &lt;dbl&gt; | S3 &lt;dbl&gt; | S4 &lt;dbl&gt; | COST &lt;dbl&gt; | CENS &lt;dbl&gt; | DOM1 &lt;dbl&gt; | DOM2 &lt;dbl&gt; | STRATUM &lt;fct&gt; |\n",
       "|---|---|---|---|---|---|---|---|---|---|---|---|---|---|---|\n",
       "| 1000 | 197007 | 23959.87 | 0.6650322 | 0.2285807 | 0.10638708 | 22179.08 | 0.4719792 | 0.4199185 | 0.3083324 | 1 | 0 | 1 | 2 | 1000 |\n",
       "| 2000 | 261456 | 20966.65 | 0.6709886 | 0.2297519 | 0.09925953 | 19624.65 | 0.4698541 | 0.4206732 | 0.2990102 | 1 | 0 | 1 | 2 | 2000 |\n",
       "| 3000 | 115813 | 19814.73 | 0.6644591 | 0.2315975 | 0.10394343 | 14754.88 | 0.4721792 | 0.4218532 | 0.3051871 | 1 | 0 | 1 | 2 | 3000 |\n",
       "| 4000 |  17241 | 18732.72 | 0.6273418 | 0.2499275 | 0.12273070 | 13462.74 | 0.4835122 | 0.4329708 | 0.3281278 | 1 | 0 | 1 | 2 | 4000 |\n",
       "| 5000 | 101067 | 22070.31 | 0.6134445 | 0.2338845 | 0.15267100 | 17187.98 | 0.4869603 | 0.4232996 | 0.3596701 | 1 | 0 | 1 | 2 | 5000 |\n",
       "| 6000 |  47218 | 21069.07 | 0.6135796 | 0.2348469 | 0.15157355 | 17342.74 | 0.4869288 | 0.4239031 | 0.3586070 | 1 | 0 | 1 | 2 | 6000 |\n",
       "\n"
      ],
      "text/plain": [
       "     N      M1       M2        M3        M4         S1       S2       \n",
       "1000 197007 23959.87 0.6650322 0.2285807 0.10638708 22179.08 0.4719792\n",
       "2000 261456 20966.65 0.6709886 0.2297519 0.09925953 19624.65 0.4698541\n",
       "3000 115813 19814.73 0.6644591 0.2315975 0.10394343 14754.88 0.4721792\n",
       "4000  17241 18732.72 0.6273418 0.2499275 0.12273070 13462.74 0.4835122\n",
       "5000 101067 22070.31 0.6134445 0.2338845 0.15267100 17187.98 0.4869603\n",
       "6000  47218 21069.07 0.6135796 0.2348469 0.15157355 17342.74 0.4869288\n",
       "     S3        S4        COST CENS DOM1 DOM2 STRATUM\n",
       "1000 0.4199185 0.3083324 1    0    1    2    1000   \n",
       "2000 0.4206732 0.2990102 1    0    1    2    2000   \n",
       "3000 0.4218532 0.3051871 1    0    1    2    3000   \n",
       "4000 0.4329708 0.3281278 1    0    1    2    4000   \n",
       "5000 0.4232996 0.3596701 1    0    1    2    5000   \n",
       "6000 0.4239031 0.3586070 1    0    1    2    6000   "
      ]
     },
     "metadata": {},
     "output_type": "display_data"
    }
   ],
   "source": [
    "head(inp$strata)"
   ]
  },
  {
   "cell_type": "code",
   "execution_count": 11,
   "id": "48677dc4-b8e0-4a60-b5e2-1cb815a916ab",
   "metadata": {},
   "outputs": [
    {
     "data": {
      "text/html": [
       "<table class=\"dataframe\">\n",
       "<caption>A data.frame: 6 × 7</caption>\n",
       "<thead>\n",
       "\t<tr><th></th><th scope=col>stratum</th><th scope=col>STRATUM</th><th scope=col>DEFF1</th><th scope=col>DEFF2</th><th scope=col>DEFF3</th><th scope=col>DEFF4</th><th scope=col>b_nar</th></tr>\n",
       "\t<tr><th></th><th scope=col>&lt;fct&gt;</th><th scope=col>&lt;chr&gt;</th><th scope=col>&lt;dbl&gt;</th><th scope=col>&lt;dbl&gt;</th><th scope=col>&lt;dbl&gt;</th><th scope=col>&lt;dbl&gt;</th><th scope=col>&lt;dbl&gt;</th></tr>\n",
       "</thead>\n",
       "<tbody>\n",
       "\t<tr><th scope=row>1</th><td>1000 </td><td>1000 </td><td>1.002141</td><td>1.003487</td><td>1.018508</td><td>0.998091</td><td> 254.50000</td></tr>\n",
       "\t<tr><th scope=row>2</th><td>10000</td><td>10000</td><td>1.019820</td><td>1.029362</td><td>1.010320</td><td>1.000982</td><td> 178.83333</td></tr>\n",
       "\t<tr><th scope=row>3</th><td>11000</td><td>11000</td><td>1.128662</td><td>1.036882</td><td>1.002039</td><td>1.115932</td><td>  52.07500</td></tr>\n",
       "\t<tr><th scope=row>4</th><td>12000</td><td>12000</td><td>3.233942</td><td>0.978419</td><td>1.202842</td><td>0.639357</td><td>  49.42857</td></tr>\n",
       "\t<tr><th scope=row>5</th><td>13000</td><td>13000</td><td>1.063373</td><td>1.056811</td><td>1.015756</td><td>1.048938</td><td>1285.00000</td></tr>\n",
       "\t<tr><th scope=row>6</th><td>14000</td><td>14000</td><td>1.018801</td><td>1.003173</td><td>1.002272</td><td>1.013573</td><td> 263.50000</td></tr>\n",
       "</tbody>\n",
       "</table>\n"
      ],
      "text/latex": [
       "A data.frame: 6 × 7\n",
       "\\begin{tabular}{r|lllllll}\n",
       "  & stratum & STRATUM & DEFF1 & DEFF2 & DEFF3 & DEFF4 & b\\_nar\\\\\n",
       "  & <fct> & <chr> & <dbl> & <dbl> & <dbl> & <dbl> & <dbl>\\\\\n",
       "\\hline\n",
       "\t1 & 1000  & 1000  & 1.002141 & 1.003487 & 1.018508 & 0.998091 &  254.50000\\\\\n",
       "\t2 & 10000 & 10000 & 1.019820 & 1.029362 & 1.010320 & 1.000982 &  178.83333\\\\\n",
       "\t3 & 11000 & 11000 & 1.128662 & 1.036882 & 1.002039 & 1.115932 &   52.07500\\\\\n",
       "\t4 & 12000 & 12000 & 3.233942 & 0.978419 & 1.202842 & 0.639357 &   49.42857\\\\\n",
       "\t5 & 13000 & 13000 & 1.063373 & 1.056811 & 1.015756 & 1.048938 & 1285.00000\\\\\n",
       "\t6 & 14000 & 14000 & 1.018801 & 1.003173 & 1.002272 & 1.013573 &  263.50000\\\\\n",
       "\\end{tabular}\n"
      ],
      "text/markdown": [
       "\n",
       "A data.frame: 6 × 7\n",
       "\n",
       "| <!--/--> | stratum &lt;fct&gt; | STRATUM &lt;chr&gt; | DEFF1 &lt;dbl&gt; | DEFF2 &lt;dbl&gt; | DEFF3 &lt;dbl&gt; | DEFF4 &lt;dbl&gt; | b_nar &lt;dbl&gt; |\n",
       "|---|---|---|---|---|---|---|---|\n",
       "| 1 | 1000  | 1000  | 1.002141 | 1.003487 | 1.018508 | 0.998091 |  254.50000 |\n",
       "| 2 | 10000 | 10000 | 1.019820 | 1.029362 | 1.010320 | 1.000982 |  178.83333 |\n",
       "| 3 | 11000 | 11000 | 1.128662 | 1.036882 | 1.002039 | 1.115932 |   52.07500 |\n",
       "| 4 | 12000 | 12000 | 3.233942 | 0.978419 | 1.202842 | 0.639357 |   49.42857 |\n",
       "| 5 | 13000 | 13000 | 1.063373 | 1.056811 | 1.015756 | 1.048938 | 1285.00000 |\n",
       "| 6 | 14000 | 14000 | 1.018801 | 1.003173 | 1.002272 | 1.013573 |  263.50000 |\n",
       "\n"
      ],
      "text/plain": [
       "  stratum STRATUM DEFF1    DEFF2    DEFF3    DEFF4    b_nar     \n",
       "1 1000    1000    1.002141 1.003487 1.018508 0.998091  254.50000\n",
       "2 10000   10000   1.019820 1.029362 1.010320 1.000982  178.83333\n",
       "3 11000   11000   1.128662 1.036882 1.002039 1.115932   52.07500\n",
       "4 12000   12000   3.233942 0.978419 1.202842 0.639357   49.42857\n",
       "5 13000   13000   1.063373 1.056811 1.015756 1.048938 1285.00000\n",
       "6 14000   14000   1.018801 1.003173 1.002272 1.013573  263.50000"
      ]
     },
     "metadata": {},
     "output_type": "display_data"
    }
   ],
   "source": [
    "head(inp$deff)"
   ]
  },
  {
   "cell_type": "code",
   "execution_count": 6,
   "id": "9a3019d8-71d7-4d38-ac61-7f28c03884f3",
   "metadata": {},
   "outputs": [
    {
     "data": {
      "text/html": [
       "<table class=\"dataframe\">\n",
       "<caption>A data.frame: 6 × 5</caption>\n",
       "<thead>\n",
       "\t<tr><th></th><th scope=col>STRATUM</th><th scope=col>EFFST1</th><th scope=col>EFFST2</th><th scope=col>EFFST3</th><th scope=col>EFFST4</th></tr>\n",
       "\t<tr><th></th><th scope=col>&lt;fct&gt;</th><th scope=col>&lt;dbl&gt;</th><th scope=col>&lt;dbl&gt;</th><th scope=col>&lt;dbl&gt;</th><th scope=col>&lt;dbl&gt;</th></tr>\n",
       "</thead>\n",
       "<tbody>\n",
       "\t<tr><th scope=row>1</th><td>1000</td><td>1</td><td>1</td><td>1</td><td>1</td></tr>\n",
       "\t<tr><th scope=row>2</th><td>2000</td><td>1</td><td>1</td><td>1</td><td>1</td></tr>\n",
       "\t<tr><th scope=row>3</th><td>3000</td><td>1</td><td>1</td><td>1</td><td>1</td></tr>\n",
       "\t<tr><th scope=row>4</th><td>4000</td><td>1</td><td>1</td><td>1</td><td>1</td></tr>\n",
       "\t<tr><th scope=row>5</th><td>5000</td><td>1</td><td>1</td><td>1</td><td>1</td></tr>\n",
       "\t<tr><th scope=row>6</th><td>6000</td><td>1</td><td>1</td><td>1</td><td>1</td></tr>\n",
       "</tbody>\n",
       "</table>\n"
      ],
      "text/latex": [
       "A data.frame: 6 × 5\n",
       "\\begin{tabular}{r|lllll}\n",
       "  & STRATUM & EFFST1 & EFFST2 & EFFST3 & EFFST4\\\\\n",
       "  & <fct> & <dbl> & <dbl> & <dbl> & <dbl>\\\\\n",
       "\\hline\n",
       "\t1 & 1000 & 1 & 1 & 1 & 1\\\\\n",
       "\t2 & 2000 & 1 & 1 & 1 & 1\\\\\n",
       "\t3 & 3000 & 1 & 1 & 1 & 1\\\\\n",
       "\t4 & 4000 & 1 & 1 & 1 & 1\\\\\n",
       "\t5 & 5000 & 1 & 1 & 1 & 1\\\\\n",
       "\t6 & 6000 & 1 & 1 & 1 & 1\\\\\n",
       "\\end{tabular}\n"
      ],
      "text/markdown": [
       "\n",
       "A data.frame: 6 × 5\n",
       "\n",
       "| <!--/--> | STRATUM &lt;fct&gt; | EFFST1 &lt;dbl&gt; | EFFST2 &lt;dbl&gt; | EFFST3 &lt;dbl&gt; | EFFST4 &lt;dbl&gt; |\n",
       "|---|---|---|---|---|---|\n",
       "| 1 | 1000 | 1 | 1 | 1 | 1 |\n",
       "| 2 | 2000 | 1 | 1 | 1 | 1 |\n",
       "| 3 | 3000 | 1 | 1 | 1 | 1 |\n",
       "| 4 | 4000 | 1 | 1 | 1 | 1 |\n",
       "| 5 | 5000 | 1 | 1 | 1 | 1 |\n",
       "| 6 | 6000 | 1 | 1 | 1 | 1 |\n",
       "\n"
      ],
      "text/plain": [
       "  STRATUM EFFST1 EFFST2 EFFST3 EFFST4\n",
       "1 1000    1      1      1      1     \n",
       "2 2000    1      1      1      1     \n",
       "3 3000    1      1      1      1     \n",
       "4 4000    1      1      1      1     \n",
       "5 5000    1      1      1      1     \n",
       "6 6000    1      1      1      1     "
      ]
     },
     "metadata": {},
     "output_type": "display_data"
    }
   ],
   "source": [
    "head(inp$effst)"
   ]
  },
  {
   "cell_type": "code",
   "execution_count": 7,
   "id": "19a4cd0c-7049-4be4-b61c-832b4a63c6e9",
   "metadata": {},
   "outputs": [
    {
     "data": {
      "text/html": [
       "<table class=\"dataframe\">\n",
       "<caption>A data.frame: 6 × 9</caption>\n",
       "<thead>\n",
       "\t<tr><th></th><th scope=col>STRATUM</th><th scope=col>RHO_AR1</th><th scope=col>RHO_NAR1</th><th scope=col>RHO_AR2</th><th scope=col>RHO_NAR2</th><th scope=col>RHO_AR3</th><th scope=col>RHO_NAR3</th><th scope=col>RHO_AR4</th><th scope=col>RHO_NAR4</th></tr>\n",
       "\t<tr><th></th><th scope=col>&lt;fct&gt;</th><th scope=col>&lt;dbl&gt;</th><th scope=col>&lt;dbl&gt;</th><th scope=col>&lt;dbl&gt;</th><th scope=col>&lt;dbl&gt;</th><th scope=col>&lt;dbl&gt;</th><th scope=col>&lt;dbl&gt;</th><th scope=col>&lt;dbl&gt;</th><th scope=col>&lt;dbl&gt;</th></tr>\n",
       "</thead>\n",
       "<tbody>\n",
       "\t<tr><th scope=row>1</th><td>1000</td><td>1</td><td>0.0001015399</td><td>1</td><td>0.0001015399</td><td>1</td><td>0.0001015399</td><td>1</td><td>0.0001015399</td></tr>\n",
       "\t<tr><th scope=row>12</th><td>2000</td><td>1</td><td>0.0004977105</td><td>1</td><td>0.0004977105</td><td>1</td><td>0.0004977105</td><td>1</td><td>0.0004977105</td></tr>\n",
       "\t<tr><th scope=row>18</th><td>3000</td><td>1</td><td>0.0022551239</td><td>1</td><td>0.0022551239</td><td>1</td><td>0.0022551239</td><td>1</td><td>0.0022551239</td></tr>\n",
       "\t<tr><th scope=row>19</th><td>4000</td><td>1</td><td>0.0106628754</td><td>1</td><td>0.0106628754</td><td>1</td><td>0.0106628754</td><td>1</td><td>0.0106628754</td></tr>\n",
       "\t<tr><th scope=row>20</th><td>5000</td><td>1</td><td>0.0001979669</td><td>1</td><td>0.0001979669</td><td>1</td><td>0.0001979669</td><td>1</td><td>0.0001979669</td></tr>\n",
       "\t<tr><th scope=row>21</th><td>6000</td><td>1</td><td>0.0006361593</td><td>1</td><td>0.0006361593</td><td>1</td><td>0.0006361593</td><td>1</td><td>0.0006361593</td></tr>\n",
       "</tbody>\n",
       "</table>\n"
      ],
      "text/latex": [
       "A data.frame: 6 × 9\n",
       "\\begin{tabular}{r|lllllllll}\n",
       "  & STRATUM & RHO\\_AR1 & RHO\\_NAR1 & RHO\\_AR2 & RHO\\_NAR2 & RHO\\_AR3 & RHO\\_NAR3 & RHO\\_AR4 & RHO\\_NAR4\\\\\n",
       "  & <fct> & <dbl> & <dbl> & <dbl> & <dbl> & <dbl> & <dbl> & <dbl> & <dbl>\\\\\n",
       "\\hline\n",
       "\t1 & 1000 & 1 & 0.0001015399 & 1 & 0.0001015399 & 1 & 0.0001015399 & 1 & 0.0001015399\\\\\n",
       "\t12 & 2000 & 1 & 0.0004977105 & 1 & 0.0004977105 & 1 & 0.0004977105 & 1 & 0.0004977105\\\\\n",
       "\t18 & 3000 & 1 & 0.0022551239 & 1 & 0.0022551239 & 1 & 0.0022551239 & 1 & 0.0022551239\\\\\n",
       "\t19 & 4000 & 1 & 0.0106628754 & 1 & 0.0106628754 & 1 & 0.0106628754 & 1 & 0.0106628754\\\\\n",
       "\t20 & 5000 & 1 & 0.0001979669 & 1 & 0.0001979669 & 1 & 0.0001979669 & 1 & 0.0001979669\\\\\n",
       "\t21 & 6000 & 1 & 0.0006361593 & 1 & 0.0006361593 & 1 & 0.0006361593 & 1 & 0.0006361593\\\\\n",
       "\\end{tabular}\n"
      ],
      "text/markdown": [
       "\n",
       "A data.frame: 6 × 9\n",
       "\n",
       "| <!--/--> | STRATUM &lt;fct&gt; | RHO_AR1 &lt;dbl&gt; | RHO_NAR1 &lt;dbl&gt; | RHO_AR2 &lt;dbl&gt; | RHO_NAR2 &lt;dbl&gt; | RHO_AR3 &lt;dbl&gt; | RHO_NAR3 &lt;dbl&gt; | RHO_AR4 &lt;dbl&gt; | RHO_NAR4 &lt;dbl&gt; |\n",
       "|---|---|---|---|---|---|---|---|---|---|\n",
       "| 1 | 1000 | 1 | 0.0001015399 | 1 | 0.0001015399 | 1 | 0.0001015399 | 1 | 0.0001015399 |\n",
       "| 12 | 2000 | 1 | 0.0004977105 | 1 | 0.0004977105 | 1 | 0.0004977105 | 1 | 0.0004977105 |\n",
       "| 18 | 3000 | 1 | 0.0022551239 | 1 | 0.0022551239 | 1 | 0.0022551239 | 1 | 0.0022551239 |\n",
       "| 19 | 4000 | 1 | 0.0106628754 | 1 | 0.0106628754 | 1 | 0.0106628754 | 1 | 0.0106628754 |\n",
       "| 20 | 5000 | 1 | 0.0001979669 | 1 | 0.0001979669 | 1 | 0.0001979669 | 1 | 0.0001979669 |\n",
       "| 21 | 6000 | 1 | 0.0006361593 | 1 | 0.0006361593 | 1 | 0.0006361593 | 1 | 0.0006361593 |\n",
       "\n"
      ],
      "text/plain": [
       "   STRATUM RHO_AR1 RHO_NAR1     RHO_AR2 RHO_NAR2     RHO_AR3 RHO_NAR3    \n",
       "1  1000    1       0.0001015399 1       0.0001015399 1       0.0001015399\n",
       "12 2000    1       0.0004977105 1       0.0004977105 1       0.0004977105\n",
       "18 3000    1       0.0022551239 1       0.0022551239 1       0.0022551239\n",
       "19 4000    1       0.0106628754 1       0.0106628754 1       0.0106628754\n",
       "20 5000    1       0.0001979669 1       0.0001979669 1       0.0001979669\n",
       "21 6000    1       0.0006361593 1       0.0006361593 1       0.0006361593\n",
       "   RHO_AR4 RHO_NAR4    \n",
       "1  1       0.0001015399\n",
       "12 1       0.0004977105\n",
       "18 1       0.0022551239\n",
       "19 1       0.0106628754\n",
       "20 1       0.0001979669\n",
       "21 1       0.0006361593"
      ]
     },
     "metadata": {},
     "output_type": "display_data"
    }
   ],
   "source": [
    "head(inp$rho)"
   ]
  },
  {
   "cell_type": "code",
   "execution_count": 8,
   "id": "6bd08c00-f0c4-4e3b-bd2a-641ac1f260d6",
   "metadata": {},
   "outputs": [
    {
     "data": {
      "text/html": [
       "<table class=\"dataframe\">\n",
       "<caption>A data.frame: 6 × 3</caption>\n",
       "<thead>\n",
       "\t<tr><th></th><th scope=col>PSU_ID</th><th scope=col>STRATUM</th><th scope=col>PSU_MOS</th></tr>\n",
       "\t<tr><th></th><th scope=col>&lt;dbl&gt;</th><th scope=col>&lt;fct&gt;</th><th scope=col>&lt;dbl&gt;</th></tr>\n",
       "</thead>\n",
       "<tbody>\n",
       "\t<tr><th scope=row>1</th><td>1</td><td>12000</td><td> 1546</td></tr>\n",
       "\t<tr><th scope=row>2</th><td>2</td><td>12000</td><td>  936</td></tr>\n",
       "\t<tr><th scope=row>3</th><td>3</td><td>12000</td><td>  367</td></tr>\n",
       "\t<tr><th scope=row>4</th><td>4</td><td>10000</td><td>13032</td></tr>\n",
       "\t<tr><th scope=row>5</th><td>5</td><td>12000</td><td>  678</td></tr>\n",
       "\t<tr><th scope=row>6</th><td>6</td><td>11000</td><td> 3193</td></tr>\n",
       "</tbody>\n",
       "</table>\n"
      ],
      "text/latex": [
       "A data.frame: 6 × 3\n",
       "\\begin{tabular}{r|lll}\n",
       "  & PSU\\_ID & STRATUM & PSU\\_MOS\\\\\n",
       "  & <dbl> & <fct> & <dbl>\\\\\n",
       "\\hline\n",
       "\t1 & 1 & 12000 &  1546\\\\\n",
       "\t2 & 2 & 12000 &   936\\\\\n",
       "\t3 & 3 & 12000 &   367\\\\\n",
       "\t4 & 4 & 10000 & 13032\\\\\n",
       "\t5 & 5 & 12000 &   678\\\\\n",
       "\t6 & 6 & 11000 &  3193\\\\\n",
       "\\end{tabular}\n"
      ],
      "text/markdown": [
       "\n",
       "A data.frame: 6 × 3\n",
       "\n",
       "| <!--/--> | PSU_ID &lt;dbl&gt; | STRATUM &lt;fct&gt; | PSU_MOS &lt;dbl&gt; |\n",
       "|---|---|---|---|\n",
       "| 1 | 1 | 12000 |  1546 |\n",
       "| 2 | 2 | 12000 |   936 |\n",
       "| 3 | 3 | 12000 |   367 |\n",
       "| 4 | 4 | 10000 | 13032 |\n",
       "| 5 | 5 | 12000 |   678 |\n",
       "| 6 | 6 | 11000 |  3193 |\n",
       "\n"
      ],
      "text/plain": [
       "  PSU_ID STRATUM PSU_MOS\n",
       "1 1      12000    1546  \n",
       "2 2      12000     936  \n",
       "3 3      12000     367  \n",
       "4 4      10000   13032  \n",
       "5 5      12000     678  \n",
       "6 6      11000    3193  "
      ]
     },
     "metadata": {},
     "output_type": "display_data"
    }
   ],
   "source": [
    "head(inp$psu_file)"
   ]
  },
  {
   "cell_type": "code",
   "execution_count": 9,
   "id": "f41c4eeb-0fb0-46d2-8d5c-ead1bfc5bb89",
   "metadata": {},
   "outputs": [
    {
     "data": {
      "text/html": [
       "<table class=\"dataframe\">\n",
       "<caption>A data.frame: 6 × 4</caption>\n",
       "<thead>\n",
       "\t<tr><th></th><th scope=col>STRATUM</th><th scope=col>STRAT_MOS</th><th scope=col>DELTA</th><th scope=col>MINIMUM</th></tr>\n",
       "\t<tr><th></th><th scope=col>&lt;fct&gt;</th><th scope=col>&lt;dbl&gt;</th><th scope=col>&lt;dbl&gt;</th><th scope=col>&lt;dbl&gt;</th></tr>\n",
       "</thead>\n",
       "<tbody>\n",
       "\t<tr><th scope=row>1</th><td>1000</td><td>197007</td><td>1</td><td>50</td></tr>\n",
       "\t<tr><th scope=row>2</th><td>2000</td><td>261456</td><td>1</td><td>50</td></tr>\n",
       "\t<tr><th scope=row>3</th><td>3000</td><td>115813</td><td>1</td><td>50</td></tr>\n",
       "\t<tr><th scope=row>4</th><td>4000</td><td> 17241</td><td>1</td><td>50</td></tr>\n",
       "\t<tr><th scope=row>5</th><td>5000</td><td>101067</td><td>1</td><td>50</td></tr>\n",
       "\t<tr><th scope=row>6</th><td>6000</td><td> 47218</td><td>1</td><td>50</td></tr>\n",
       "</tbody>\n",
       "</table>\n"
      ],
      "text/latex": [
       "A data.frame: 6 × 4\n",
       "\\begin{tabular}{r|llll}\n",
       "  & STRATUM & STRAT\\_MOS & DELTA & MINIMUM\\\\\n",
       "  & <fct> & <dbl> & <dbl> & <dbl>\\\\\n",
       "\\hline\n",
       "\t1 & 1000 & 197007 & 1 & 50\\\\\n",
       "\t2 & 2000 & 261456 & 1 & 50\\\\\n",
       "\t3 & 3000 & 115813 & 1 & 50\\\\\n",
       "\t4 & 4000 &  17241 & 1 & 50\\\\\n",
       "\t5 & 5000 & 101067 & 1 & 50\\\\\n",
       "\t6 & 6000 &  47218 & 1 & 50\\\\\n",
       "\\end{tabular}\n"
      ],
      "text/markdown": [
       "\n",
       "A data.frame: 6 × 4\n",
       "\n",
       "| <!--/--> | STRATUM &lt;fct&gt; | STRAT_MOS &lt;dbl&gt; | DELTA &lt;dbl&gt; | MINIMUM &lt;dbl&gt; |\n",
       "|---|---|---|---|---|\n",
       "| 1 | 1000 | 197007 | 1 | 50 |\n",
       "| 2 | 2000 | 261456 | 1 | 50 |\n",
       "| 3 | 3000 | 115813 | 1 | 50 |\n",
       "| 4 | 4000 |  17241 | 1 | 50 |\n",
       "| 5 | 5000 | 101067 | 1 | 50 |\n",
       "| 6 | 6000 |  47218 | 1 | 50 |\n",
       "\n"
      ],
      "text/plain": [
       "  STRATUM STRAT_MOS DELTA MINIMUM\n",
       "1 1000    197007    1     50     \n",
       "2 2000    261456    1     50     \n",
       "3 3000    115813    1     50     \n",
       "4 4000     17241    1     50     \n",
       "5 5000    101067    1     50     \n",
       "6 6000     47218    1     50     "
      ]
     },
     "metadata": {},
     "output_type": "display_data"
    }
   ],
   "source": [
    "head(inp$des_file)"
   ]
  },
  {
   "cell_type": "markdown",
   "id": "38ef19d1-4370-489c-9c91-d285a25f70b2",
   "metadata": {},
   "source": [
    "## Allocation"
   ]
  },
  {
   "cell_type": "code",
   "execution_count": 14,
   "id": "5a084351-70c4-4515-9a70-e5a3e5092e46",
   "metadata": {},
   "outputs": [
    {
     "data": {
      "text/html": [
       "<table class=\"dataframe\">\n",
       "<caption>A data.frame: 2 × 5</caption>\n",
       "<thead>\n",
       "\t<tr><th scope=col>DOM</th><th scope=col>CV1</th><th scope=col>CV2</th><th scope=col>CV3</th><th scope=col>CV4</th></tr>\n",
       "\t<tr><th scope=col>&lt;chr&gt;</th><th scope=col>&lt;dbl&gt;</th><th scope=col>&lt;dbl&gt;</th><th scope=col>&lt;dbl&gt;</th><th scope=col>&lt;dbl&gt;</th></tr>\n",
       "</thead>\n",
       "<tbody>\n",
       "\t<tr><td>DOM1</td><td>0.02</td><td>0.03</td><td>0.03</td><td>0.03</td></tr>\n",
       "\t<tr><td>DOM2</td><td>0.03</td><td>0.06</td><td>0.06</td><td>0.06</td></tr>\n",
       "</tbody>\n",
       "</table>\n"
      ],
      "text/latex": [
       "A data.frame: 2 × 5\n",
       "\\begin{tabular}{lllll}\n",
       " DOM & CV1 & CV2 & CV3 & CV4\\\\\n",
       " <chr> & <dbl> & <dbl> & <dbl> & <dbl>\\\\\n",
       "\\hline\n",
       "\t DOM1 & 0.02 & 0.03 & 0.03 & 0.03\\\\\n",
       "\t DOM2 & 0.03 & 0.06 & 0.06 & 0.06\\\\\n",
       "\\end{tabular}\n"
      ],
      "text/markdown": [
       "\n",
       "A data.frame: 2 × 5\n",
       "\n",
       "| DOM &lt;chr&gt; | CV1 &lt;dbl&gt; | CV2 &lt;dbl&gt; | CV3 &lt;dbl&gt; | CV4 &lt;dbl&gt; |\n",
       "|---|---|---|---|---|\n",
       "| DOM1 | 0.02 | 0.03 | 0.03 | 0.03 |\n",
       "| DOM2 | 0.03 | 0.06 | 0.06 | 0.06 |\n",
       "\n"
      ],
      "text/plain": [
       "  DOM  CV1  CV2  CV3  CV4 \n",
       "1 DOM1 0.02 0.03 0.03 0.03\n",
       "2 DOM2 0.03 0.06 0.06 0.06"
      ]
     },
     "metadata": {},
     "output_type": "display_data"
    }
   ],
   "source": [
    "## Precision constraints\n",
    "cv <- as.data.frame(list(DOM=c(\"DOM1\",\"DOM2\"),\n",
    "                         CV1=c(0.02,0.03),\n",
    "                         CV2=c(0.03,0.06),\n",
    "                         CV3=c(0.03,0.06),\n",
    "                         CV4=c(0.03,0.06)))\n",
    "cv"
   ]
  },
  {
   "cell_type": "code",
   "execution_count": 15,
   "id": "af3c8bf0-6d3c-4d7e-a2ad-79010a9e1f83",
   "metadata": {},
   "outputs": [
    {
     "name": "stdout",
     "output_type": "stream",
     "text": [
      "  iterations PSU_SR PSU NSR PSU Total   SSU\n",
      "1          0      0       0         0 13554\n",
      "2          1     43     131       174 15074\n",
      "3          2     52     144       196 15025\n"
     ]
    }
   ],
   "source": [
    "alloc <- beat.2st(stratif = inp$strata, \n",
    "                  errors = cv, \n",
    "                  des_file = inp$des_file, \n",
    "                  psu_file = inp$psu_file, \n",
    "                  rho = inp$rho, \n",
    "                  deft_start = NULL, \n",
    "                  effst = inp$effst,\n",
    "                  epsilon1 = 5, \n",
    "                  mmdiff_deft = 1,\n",
    "                  maxi = 15, \n",
    "                  epsilon = 10^(-11), \n",
    "                  minnumstrat = 2, \n",
    "                  maxiter = 200, \n",
    "                  maxiter1 = 25)"
   ]
  },
  {
   "cell_type": "markdown",
   "id": "66ec790f-f0ba-4920-bf77-42e9f1a8a156",
   "metadata": {},
   "source": [
    "## Selection of PSUs (I stage)"
   ]
  },
  {
   "cell_type": "code",
   "execution_count": 16,
   "id": "12318460-beb6-451e-8b51-6fee22562a0f",
   "metadata": {},
   "outputs": [],
   "source": [
    "allocat <- alloc$alloc[-nrow(alloc$alloc),]\n",
    "set.seed(1234)\n",
    "sample_2st <- StratSel(dataPop= inp$psu_file,\n",
    "                       idpsu= ~ PSU_ID, \n",
    "                       dom= ~ STRATUM, \n",
    "                       final_pop= ~ PSU_MOS, \n",
    "                       size= ~ PSU_MOS, \n",
    "                       PSUsamplestratum= 1, \n",
    "                       min_sample= minimum, \n",
    "                       min_sample_index= FALSE, \n",
    "                       dataAll=allocat,\n",
    "                       domAll= ~ factor(STRATUM), \n",
    "                       f_sample= ~ ALLOC, \n",
    "                       planned_min_sample= NULL, \n",
    "                       launch= F)"
   ]
  },
  {
   "cell_type": "code",
   "execution_count": 17,
   "id": "506c1e9f-b636-4f3d-914b-e2ba2be406b8",
   "metadata": {},
   "outputs": [
    {
     "data": {
      "text/html": [
       "<table class=\"dataframe\">\n",
       "<caption>A data.frame: 26 × 6</caption>\n",
       "<thead>\n",
       "\t<tr><th scope=col>Domain</th><th scope=col>SRdom</th><th scope=col>nSRdom</th><th scope=col>SRdom+nSRdom</th><th scope=col>SR_PSU_final_sample_unit</th><th scope=col>NSR_PSU_final_sample_unit</th></tr>\n",
       "\t<tr><th scope=col>&lt;chr&gt;</th><th scope=col>&lt;chr&gt;</th><th scope=col>&lt;chr&gt;</th><th scope=col>&lt;chr&gt;</th><th scope=col>&lt;chr&gt;</th><th scope=col>&lt;chr&gt;</th></tr>\n",
       "</thead>\n",
       "<tbody>\n",
       "\t<tr><td>1000 </td><td>2 </td><td>0  </td><td>2  </td><td>509 </td><td>0   </td></tr>\n",
       "\t<tr><td>2000 </td><td>9 </td><td>2  </td><td>11 </td><td>525 </td><td>132 </td></tr>\n",
       "\t<tr><td>3000 </td><td>0 </td><td>6  </td><td>6  </td><td>0   </td><td>312 </td></tr>\n",
       "\t<tr><td>4000 </td><td>0 </td><td>1  </td><td>1  </td><td>0   </td><td>59  </td></tr>\n",
       "\t<tr><td>5000 </td><td>2 </td><td>0  </td><td>2  </td><td>305 </td><td>0   </td></tr>\n",
       "\t<tr><td>6000 </td><td>3 </td><td>0  </td><td>3  </td><td>143 </td><td>0   </td></tr>\n",
       "\t<tr><td>7000 </td><td>0 </td><td>2  </td><td>2  </td><td>0   </td><td>97  </td></tr>\n",
       "\t<tr><td>8000 </td><td>0 </td><td>2  </td><td>2  </td><td>0   </td><td>99  </td></tr>\n",
       "\t<tr><td>9000 </td><td>1 </td><td>0  </td><td>1  </td><td>1018</td><td>0   </td></tr>\n",
       "\t<tr><td>10000</td><td>6 </td><td>0  </td><td>6  </td><td>1073</td><td>0   </td></tr>\n",
       "\t<tr><td>11000</td><td>21</td><td>19 </td><td>40 </td><td>1028</td><td>1055</td></tr>\n",
       "\t<tr><td>12000</td><td>0 </td><td>14 </td><td>14 </td><td>0   </td><td>692 </td></tr>\n",
       "\t<tr><td>13000</td><td>1 </td><td>0  </td><td>1  </td><td>1285</td><td>0   </td></tr>\n",
       "\t<tr><td>14000</td><td>4 </td><td>0  </td><td>4  </td><td>1054</td><td>0   </td></tr>\n",
       "\t<tr><td>15000</td><td>28</td><td>10 </td><td>38 </td><td>1629</td><td>627 </td></tr>\n",
       "\t<tr><td>16000</td><td>0 </td><td>34 </td><td>34 </td><td>0   </td><td>1705</td></tr>\n",
       "\t<tr><td>17000</td><td>1 </td><td>0  </td><td>1  </td><td>170 </td><td>0   </td></tr>\n",
       "\t<tr><td>18000</td><td>2 </td><td>2  </td><td>4  </td><td>84  </td><td>137 </td></tr>\n",
       "\t<tr><td>19000</td><td>0 </td><td>9  </td><td>9  </td><td>0   </td><td>462 </td></tr>\n",
       "\t<tr><td>20000</td><td>0 </td><td>5  </td><td>5  </td><td>0   </td><td>229 </td></tr>\n",
       "\t<tr><td>21000</td><td>1 </td><td>0  </td><td>1  </td><td>160 </td><td>0   </td></tr>\n",
       "\t<tr><td>22000</td><td>3 </td><td>0  </td><td>3  </td><td>137 </td><td>0   </td></tr>\n",
       "\t<tr><td>23000</td><td>0 </td><td>5  </td><td>5  </td><td>0   </td><td>247 </td></tr>\n",
       "\t<tr><td>24000</td><td>0 </td><td>1  </td><td>1  </td><td>0   </td><td>47  </td></tr>\n",
       "\t<tr><td>Total</td><td>84</td><td>112</td><td>196</td><td>9120</td><td>5900</td></tr>\n",
       "\t<tr><td>Mean </td><td>  </td><td>   </td><td>   </td><td>380 </td><td>246 </td></tr>\n",
       "</tbody>\n",
       "</table>\n"
      ],
      "text/latex": [
       "A data.frame: 26 × 6\n",
       "\\begin{tabular}{llllll}\n",
       " Domain & SRdom & nSRdom & SRdom+nSRdom & SR\\_PSU\\_final\\_sample\\_unit & NSR\\_PSU\\_final\\_sample\\_unit\\\\\n",
       " <chr> & <chr> & <chr> & <chr> & <chr> & <chr>\\\\\n",
       "\\hline\n",
       "\t 1000  & 2  & 0   & 2   & 509  & 0   \\\\\n",
       "\t 2000  & 9  & 2   & 11  & 525  & 132 \\\\\n",
       "\t 3000  & 0  & 6   & 6   & 0    & 312 \\\\\n",
       "\t 4000  & 0  & 1   & 1   & 0    & 59  \\\\\n",
       "\t 5000  & 2  & 0   & 2   & 305  & 0   \\\\\n",
       "\t 6000  & 3  & 0   & 3   & 143  & 0   \\\\\n",
       "\t 7000  & 0  & 2   & 2   & 0    & 97  \\\\\n",
       "\t 8000  & 0  & 2   & 2   & 0    & 99  \\\\\n",
       "\t 9000  & 1  & 0   & 1   & 1018 & 0   \\\\\n",
       "\t 10000 & 6  & 0   & 6   & 1073 & 0   \\\\\n",
       "\t 11000 & 21 & 19  & 40  & 1028 & 1055\\\\\n",
       "\t 12000 & 0  & 14  & 14  & 0    & 692 \\\\\n",
       "\t 13000 & 1  & 0   & 1   & 1285 & 0   \\\\\n",
       "\t 14000 & 4  & 0   & 4   & 1054 & 0   \\\\\n",
       "\t 15000 & 28 & 10  & 38  & 1629 & 627 \\\\\n",
       "\t 16000 & 0  & 34  & 34  & 0    & 1705\\\\\n",
       "\t 17000 & 1  & 0   & 1   & 170  & 0   \\\\\n",
       "\t 18000 & 2  & 2   & 4   & 84   & 137 \\\\\n",
       "\t 19000 & 0  & 9   & 9   & 0    & 462 \\\\\n",
       "\t 20000 & 0  & 5   & 5   & 0    & 229 \\\\\n",
       "\t 21000 & 1  & 0   & 1   & 160  & 0   \\\\\n",
       "\t 22000 & 3  & 0   & 3   & 137  & 0   \\\\\n",
       "\t 23000 & 0  & 5   & 5   & 0    & 247 \\\\\n",
       "\t 24000 & 0  & 1   & 1   & 0    & 47  \\\\\n",
       "\t Total & 84 & 112 & 196 & 9120 & 5900\\\\\n",
       "\t Mean  &    &     &     & 380  & 246 \\\\\n",
       "\\end{tabular}\n"
      ],
      "text/markdown": [
       "\n",
       "A data.frame: 26 × 6\n",
       "\n",
       "| Domain &lt;chr&gt; | SRdom &lt;chr&gt; | nSRdom &lt;chr&gt; | SRdom+nSRdom &lt;chr&gt; | SR_PSU_final_sample_unit &lt;chr&gt; | NSR_PSU_final_sample_unit &lt;chr&gt; |\n",
       "|---|---|---|---|---|---|\n",
       "| 1000  | 2  | 0   | 2   | 509  | 0    |\n",
       "| 2000  | 9  | 2   | 11  | 525  | 132  |\n",
       "| 3000  | 0  | 6   | 6   | 0    | 312  |\n",
       "| 4000  | 0  | 1   | 1   | 0    | 59   |\n",
       "| 5000  | 2  | 0   | 2   | 305  | 0    |\n",
       "| 6000  | 3  | 0   | 3   | 143  | 0    |\n",
       "| 7000  | 0  | 2   | 2   | 0    | 97   |\n",
       "| 8000  | 0  | 2   | 2   | 0    | 99   |\n",
       "| 9000  | 1  | 0   | 1   | 1018 | 0    |\n",
       "| 10000 | 6  | 0   | 6   | 1073 | 0    |\n",
       "| 11000 | 21 | 19  | 40  | 1028 | 1055 |\n",
       "| 12000 | 0  | 14  | 14  | 0    | 692  |\n",
       "| 13000 | 1  | 0   | 1   | 1285 | 0    |\n",
       "| 14000 | 4  | 0   | 4   | 1054 | 0    |\n",
       "| 15000 | 28 | 10  | 38  | 1629 | 627  |\n",
       "| 16000 | 0  | 34  | 34  | 0    | 1705 |\n",
       "| 17000 | 1  | 0   | 1   | 170  | 0    |\n",
       "| 18000 | 2  | 2   | 4   | 84   | 137  |\n",
       "| 19000 | 0  | 9   | 9   | 0    | 462  |\n",
       "| 20000 | 0  | 5   | 5   | 0    | 229  |\n",
       "| 21000 | 1  | 0   | 1   | 160  | 0    |\n",
       "| 22000 | 3  | 0   | 3   | 137  | 0    |\n",
       "| 23000 | 0  | 5   | 5   | 0    | 247  |\n",
       "| 24000 | 0  | 1   | 1   | 0    | 47   |\n",
       "| Total | 84 | 112 | 196 | 9120 | 5900 |\n",
       "| Mean  | <!----> | <!----> | <!----> | 380  | 246  |\n",
       "\n"
      ],
      "text/plain": [
       "   Domain SRdom nSRdom SRdom+nSRdom SR_PSU_final_sample_unit\n",
       "1  1000   2     0      2            509                     \n",
       "2  2000   9     2      11           525                     \n",
       "3  3000   0     6      6            0                       \n",
       "4  4000   0     1      1            0                       \n",
       "5  5000   2     0      2            305                     \n",
       "6  6000   3     0      3            143                     \n",
       "7  7000   0     2      2            0                       \n",
       "8  8000   0     2      2            0                       \n",
       "9  9000   1     0      1            1018                    \n",
       "10 10000  6     0      6            1073                    \n",
       "11 11000  21    19     40           1028                    \n",
       "12 12000  0     14     14           0                       \n",
       "13 13000  1     0      1            1285                    \n",
       "14 14000  4     0      4            1054                    \n",
       "15 15000  28    10     38           1629                    \n",
       "16 16000  0     34     34           0                       \n",
       "17 17000  1     0      1            170                     \n",
       "18 18000  2     2      4            84                      \n",
       "19 19000  0     9      9            0                       \n",
       "20 20000  0     5      5            0                       \n",
       "21 21000  1     0      1            160                     \n",
       "22 22000  3     0      3            137                     \n",
       "23 23000  0     5      5            0                       \n",
       "24 24000  0     1      1            0                       \n",
       "25 Total  84    112    196          9120                    \n",
       "26 Mean                             380                     \n",
       "   NSR_PSU_final_sample_unit\n",
       "1  0                        \n",
       "2  132                      \n",
       "3  312                      \n",
       "4  59                       \n",
       "5  0                        \n",
       "6  0                        \n",
       "7  97                       \n",
       "8  99                       \n",
       "9  0                        \n",
       "10 0                        \n",
       "11 1055                     \n",
       "12 692                      \n",
       "13 0                        \n",
       "14 0                        \n",
       "15 627                      \n",
       "16 1705                     \n",
       "17 0                        \n",
       "18 137                      \n",
       "19 462                      \n",
       "20 229                      \n",
       "21 0                        \n",
       "22 0                        \n",
       "23 247                      \n",
       "24 47                       \n",
       "25 5900                     \n",
       "26 246                      "
      ]
     },
     "metadata": {},
     "output_type": "display_data"
    }
   ],
   "source": [
    "sample_2st[[2]]"
   ]
  },
  {
   "cell_type": "code",
   "execution_count": 18,
   "id": "1c30c165-2ed7-4532-8632-e15764355639",
   "metadata": {},
   "outputs": [
    {
     "data": {
      "image/png": "[encoded data removed]",
      "text/plain": [
       "Plot with title \"SSUs by strata\""
      ]
     },
     "metadata": {
      "image/png": {
       "height": 420,
       "width": 420
      }
     },
     "output_type": "display_data"
    }
   ],
   "source": [
    "## Plot of allocation (PSUs and SSUs)\n",
    "des <- sample_2st[[2]]\n",
    "des2 <- NULL\n",
    "des2$strata <- c(des$Domain[1:24],des$Domain[1:24])\n",
    "des2$SR <- c(rep(\"SR\",24),rep(\"nSR\",24))\n",
    "des2$PSU <- as.numeric(c(des$SRdom[1:24],des$nSRdom[1:24]))\n",
    "des2$SSU <- as.numeric(c(des$SR_PSU_final_sample_unit[1:24],des$NSR_PSU_final_sample_unit[1:24]))\n",
    "des2 <- as.data.frame(des2)\n",
    "des2$strata <- as.numeric(des2$strata)\n",
    "par(mfrow=c(2, 1))\n",
    "barplot(PSU~SR+strata, data=des2,\n",
    "        main = \"PSUs by strata\",\n",
    "        xlab = \"strata\", ylab = \"PSUs\",\n",
    "        col = c(\"black\", \"grey\"),\n",
    "        # beside = TRUE,\n",
    "        las=2,\n",
    "        cex.names=0.7)\n",
    "legend(\"topright\", \n",
    "       legend = c(\"Non Self Representative\",\"Self Representative\"),cex = 0.7,\n",
    "       fill = c(\"black\", \"grey\"))\n",
    "barplot(SSU~SR+strata, data=des2,\n",
    "        main = \"SSUs by strata\",\n",
    "        xlab = \"strata\", ylab = \"PSUs\",\n",
    "        col = c(\"black\", \"grey\"),\n",
    "        # beside = TRUE,\n",
    "        las=2,\n",
    "        cex.names=0.7)\n",
    "legend(\"topright\", \n",
    "       legend = c(\"Non Self Representative\",\"Self Representative\"),cex = 0.7,\n",
    "       fill = c(\"black\", \"grey\"))\n"
   ]
  },
  {
   "cell_type": "markdown",
   "id": "4cb05ba2-3872-4886-a99f-ec1a62908790",
   "metadata": {},
   "source": [
    "## Selection of SSUs (II stage)"
   ]
  },
  {
   "cell_type": "code",
   "execution_count": 19,
   "id": "2454296e-ea81-413f-9e3f-a605efa24412",
   "metadata": {},
   "outputs": [
    {
     "name": "stdout",
     "output_type": "stream",
     "text": [
      "\n",
      "PSU =  1  *** Selected SSU =  132\n",
      "PSU =  2  *** Selected SSU =  65\n",
      "PSU =  3  *** Selected SSU =  55\n",
      "PSU =  4  *** Selected SSU =  1018\n",
      "PSU =  5  *** Selected SSU =  191\n",
      "PSU =  6  *** Selected SSU =  145\n",
      "PSU =  7  *** Selected SSU =  71\n",
      "PSU =  8  *** Selected SSU =  50\n",
      "PSU =  9  *** Selected SSU =  50\n",
      "PSU =  10  *** Selected SSU =  21\n",
      "PSU =  11  *** Selected SSU =  61\n",
      "PSU =  12  *** Selected SSU =  47\n",
      "PSU =  13  *** Selected SSU =  41\n",
      "PSU =  14  *** Selected SSU =  46\n",
      "PSU =  15  *** Selected SSU =  62\n",
      "PSU =  16  *** Selected SSU =  47\n",
      "PSU =  17  *** Selected SSU =  51\n",
      "PSU =  18  *** Selected SSU =  48\n",
      "PSU =  19  *** Selected SSU =  59\n",
      "PSU =  20  *** Selected SSU =  47\n",
      "PSU =  21  *** Selected SSU =  46\n",
      "PSU =  22  *** Selected SSU =  158\n",
      "PSU =  23  *** Selected SSU =  106\n",
      "PSU =  24  *** Selected SSU =  36\n",
      "PSU =  25  *** Selected SSU =  51\n",
      "PSU =  26  *** Selected SSU =  46\n",
      "PSU =  27  *** Selected SSU =  55\n",
      "PSU =  28  *** Selected SSU =  53\n",
      "PSU =  29  *** Selected SSU =  341\n",
      "PSU =  30  *** Selected SSU =  46\n",
      "PSU =  31  *** Selected SSU =  42\n",
      "PSU =  32  *** Selected SSU =  52\n",
      "PSU =  33  *** Selected SSU =  66\n",
      "PSU =  34  *** Selected SSU =  44\n",
      "PSU =  35  *** Selected SSU =  69\n",
      "PSU =  36  *** Selected SSU =  61\n",
      "PSU =  37  *** Selected SSU =  63\n",
      "PSU =  38  *** Selected SSU =  41\n",
      "PSU =  39  *** Selected SSU =  53\n",
      "PSU =  40  *** Selected SSU =  71\n",
      "PSU =  41  *** Selected SSU =  58\n",
      "PSU =  42  *** Selected SSU =  36\n",
      "PSU =  43  *** Selected SSU =  42\n",
      "PSU =  44  *** Selected SSU =  64\n",
      "PSU =  45  *** Selected SSU =  53\n",
      "PSU =  46  *** Selected SSU =  47\n",
      "PSU =  47  *** Selected SSU =  49\n",
      "PSU =  48  *** Selected SSU =  54\n",
      "PSU =  49  *** Selected SSU =  57\n",
      "PSU =  50  *** Selected SSU =  40\n",
      "PSU =  51  *** Selected SSU =  61\n",
      "PSU =  52  *** Selected SSU =  44\n",
      "PSU =  53  *** Selected SSU =  53\n",
      "PSU =  54  *** Selected SSU =  56\n",
      "PSU =  55  *** Selected SSU =  52\n",
      "PSU =  56  *** Selected SSU =  55\n",
      "PSU =  57  *** Selected SSU =  40\n",
      "PSU =  58  *** Selected SSU =  50\n",
      "PSU =  59  *** Selected SSU =  59\n",
      "PSU =  60  *** Selected SSU =  43\n",
      "PSU =  61  *** Selected SSU =  46\n",
      "PSU =  62  *** Selected SSU =  97\n",
      "PSU =  63  *** Selected SSU =  45\n",
      "PSU =  64  *** Selected SSU =  196\n",
      "PSU =  65  *** Selected SSU =  45\n",
      "PSU =  66  *** Selected SSU =  55\n",
      "PSU =  67  *** Selected SSU =  43\n",
      "PSU =  68  *** Selected SSU =  57\n",
      "PSU =  69  *** Selected SSU =  76\n",
      "PSU =  70  *** Selected SSU =  43\n",
      "PSU =  71  *** Selected SSU =  48\n",
      "PSU =  72  *** Selected SSU =  59\n",
      "PSU =  73  *** Selected SSU =  40\n",
      "PSU =  74  *** Selected SSU =  44\n",
      "PSU =  75  *** Selected SSU =  55\n",
      "PSU =  76  *** Selected SSU =  45\n",
      "PSU =  77  *** Selected SSU =  44\n",
      "PSU =  78  *** Selected SSU =  75\n",
      "PSU =  79  *** Selected SSU =  50\n",
      "PSU =  80  *** Selected SSU =  47\n",
      "PSU =  81  *** Selected SSU =  54\n",
      "PSU =  82  *** Selected SSU =  53\n",
      "PSU =  83  *** Selected SSU =  47\n",
      "PSU =  84  *** Selected SSU =  72\n",
      "PSU =  85  *** Selected SSU =  57\n",
      "PSU =  86  *** Selected SSU =  50\n",
      "PSU =  87  *** Selected SSU =  51\n",
      "PSU =  88  *** Selected SSU =  96\n",
      "PSU =  89  *** Selected SSU =  85\n",
      "PSU =  90  *** Selected SSU =  48\n",
      "PSU =  91  *** Selected SSU =  62\n",
      "PSU =  92  *** Selected SSU =  58\n",
      "PSU =  93  *** Selected SSU =  76\n",
      "PSU =  94  *** Selected SSU =  61\n",
      "PSU =  95  *** Selected SSU =  48\n",
      "PSU =  96  *** Selected SSU =  106\n",
      "PSU =  97  *** Selected SSU =  58\n",
      "PSU =  98  *** Selected SSU =  50\n",
      "PSU =  99  *** Selected SSU =  52\n",
      "PSU =  100  *** Selected SSU =  237\n",
      "PSU =  101  *** Selected SSU =  53\n",
      "PSU =  102  *** Selected SSU =  50\n",
      "PSU =  103  *** Selected SSU =  189\n",
      "PSU =  104  *** Selected SSU =  61\n",
      "PSU =  105  *** Selected SSU =  46\n",
      "PSU =  106  *** Selected SSU =  432\n",
      "PSU =  107  *** Selected SSU =  53\n",
      "PSU =  108  *** Selected SSU =  53\n",
      "PSU =  109  *** Selected SSU =  41\n",
      "PSU =  110  *** Selected SSU =  43\n",
      "PSU =  111  *** Selected SSU =  52\n",
      "PSU =  112  *** Selected SSU =  56\n",
      "PSU =  113  *** Selected SSU =  50\n",
      "PSU =  114  *** Selected SSU =  43\n",
      "PSU =  115  *** Selected SSU =  46\n",
      "PSU =  116  *** Selected SSU =  65\n",
      "PSU =  117  *** Selected SSU =  40\n",
      "PSU =  118  *** Selected SSU =  1285\n",
      "PSU =  119  *** Selected SSU =  50\n",
      "PSU =  120  *** Selected SSU =  42\n",
      "PSU =  121  *** Selected SSU =  70\n",
      "PSU =  122  *** Selected SSU =  50\n",
      "PSU =  123  *** Selected SSU =  32\n",
      "PSU =  124  *** Selected SSU =  60\n",
      "PSU =  125  *** Selected SSU =  72\n",
      "PSU =  126  *** Selected SSU =  53\n",
      "PSU =  127  *** Selected SSU =  42\n",
      "PSU =  128  *** Selected SSU =  48\n",
      "PSU =  129  *** Selected SSU =  55\n",
      "PSU =  130  *** Selected SSU =  52\n",
      "PSU =  131  *** Selected SSU =  25\n",
      "PSU =  132  *** Selected SSU =  64\n",
      "PSU =  133  *** Selected SSU =  59\n",
      "PSU =  134  *** Selected SSU =  66\n",
      "PSU =  135  *** Selected SSU =  55\n",
      "PSU =  136  *** Selected SSU =  55\n",
      "PSU =  137  *** Selected SSU =  38\n",
      "PSU =  138  *** Selected SSU =  69\n",
      "PSU =  139  *** Selected SSU =  62\n",
      "PSU =  140  *** Selected SSU =  49\n",
      "PSU =  141  *** Selected SSU =  49\n",
      "PSU =  142  *** Selected SSU =  72\n",
      "PSU =  143  *** Selected SSU =  91\n",
      "PSU =  144  *** Selected SSU =  51\n",
      "PSU =  145  *** Selected SSU =  47\n",
      "PSU =  146  *** Selected SSU =  131\n",
      "PSU =  147  *** Selected SSU =  35\n",
      "PSU =  148  *** Selected SSU =  74\n",
      "PSU =  149  *** Selected SSU =  60\n",
      "PSU =  150  *** Selected SSU =  43\n",
      "PSU =  151  *** Selected SSU =  57\n",
      "PSU =  152  *** Selected SSU =  378\n",
      "PSU =  153  *** Selected SSU =  59\n",
      "PSU =  154  *** Selected SSU =  44\n",
      "PSU =  155  *** Selected SSU =  86\n",
      "PSU =  156  *** Selected SSU =  38\n",
      "PSU =  157  *** Selected SSU =  55\n",
      "PSU =  158  *** Selected SSU =  56\n",
      "PSU =  159  *** Selected SSU =  54\n",
      "PSU =  160  *** Selected SSU =  32\n",
      "PSU =  161  *** Selected SSU =  52\n",
      "PSU =  162  *** Selected SSU =  47\n",
      "PSU =  163  *** Selected SSU =  54\n",
      "PSU =  164  *** Selected SSU =  57\n",
      "PSU =  165  *** Selected SSU =  6\n",
      "PSU =  166  *** Selected SSU =  43\n",
      "PSU =  167  *** Selected SSU =  299\n",
      "PSU =  168  *** Selected SSU =  45\n",
      "PSU =  169  *** Selected SSU =  64\n",
      "PSU =  170  *** Selected SSU =  55\n",
      "PSU =  171  *** Selected SSU =  47\n",
      "PSU =  172  *** Selected SSU =  44\n",
      "PSU =  173  *** Selected SSU =  46\n",
      "PSU =  174  *** Selected SSU =  73\n",
      "PSU =  175  *** Selected SSU =  46\n",
      "PSU =  176  *** Selected SSU =  48\n",
      "PSU =  177  *** Selected SSU =  48\n",
      "PSU =  178  *** Selected SSU =  51\n",
      "PSU =  179  *** Selected SSU =  58\n",
      "PSU =  180  *** Selected SSU =  170\n",
      "PSU =  181  *** Selected SSU =  54\n",
      "PSU =  182  *** Selected SSU =  36\n",
      "PSU =  183  *** Selected SSU =  52\n",
      "PSU =  184  *** Selected SSU =  54\n",
      "PSU =  185  *** Selected SSU =  43\n",
      "PSU =  186  *** Selected SSU =  48\n",
      "PSU =  187  *** Selected SSU =  47\n",
      "PSU =  188  *** Selected SSU =  36\n",
      "PSU =  189  *** Selected SSU =  58\n",
      "PSU =  190  *** Selected SSU =  54\n",
      "PSU =  191  *** Selected SSU =  45\n",
      "PSU =  192  *** Selected SSU =  160\n",
      "PSU =  193  *** Selected SSU =  45\n",
      "PSU =  194  *** Selected SSU =  51\n",
      "PSU =  195  *** Selected SSU =  50\n",
      "PSU =  196  *** Selected SSU =  45\n",
      "--------------------------------\n",
      "Total PSU =  196\n",
      "Total SSU =  15020\n",
      "--------------------------------"
     ]
    }
   ],
   "source": [
    "selected_PSU <- sample_2st[[4]]\n",
    "selected_PSU <- selected_PSU[selected_PSU$PSU_final_sample_unit > 0,]\n",
    "samp <- select_SSU(df=pop,\n",
    "                   PSU_code=\"municipality\",\n",
    "                   SSU_code=\"id_ind\",\n",
    "                   PSU_sampled=selected_PSU[selected_PSU$Sampled_PSU==1,],\n",
    "                   verbose=TRUE)\n"
   ]
  },
  {
   "cell_type": "code",
   "execution_count": 20,
   "id": "49d7066e-e5b3-44ed-a6d8-c86e9f31c672",
   "metadata": {},
   "outputs": [
    {
     "data": {
      "text/html": [
       "15020"
      ],
      "text/latex": [
       "15020"
      ],
      "text/markdown": [
       "15020"
      ],
      "text/plain": [
       "[1] 15020"
      ]
     },
     "metadata": {},
     "output_type": "display_data"
    },
    {
     "data": {
      "text/html": [
       "15025"
      ],
      "text/latex": [
       "15025"
      ],
      "text/markdown": [
       "15025"
      ],
      "text/plain": [
       "[1] 15025"
      ]
     },
     "metadata": {},
     "output_type": "display_data"
    }
   ],
   "source": [
    "nrow(samp)\n",
    "sum(allocat$ALLOC)"
   ]
  },
  {
   "cell_type": "code",
   "execution_count": 21,
   "id": "38676fa0-815a-41df-a8a0-8aa260accdf8",
   "metadata": {},
   "outputs": [
    {
     "data": {
      "text/html": [
       "2258507"
      ],
      "text/latex": [
       "2258507"
      ],
      "text/markdown": [
       "2258507"
      ],
      "text/plain": [
       "[1] 2258507"
      ]
     },
     "metadata": {},
     "output_type": "display_data"
    },
    {
     "data": {
      "text/html": [
       "2258507"
      ],
      "text/latex": [
       "2258507"
      ],
      "text/markdown": [
       "2258507"
      ],
      "text/plain": [
       "[1] 2258507"
      ]
     },
     "metadata": {},
     "output_type": "display_data"
    }
   ],
   "source": [
    "nrow(pop)\n",
    "sum(samp$weight)"
   ]
  },
  {
   "cell_type": "code",
   "execution_count": 22,
   "id": "d260cab4-a346-4b0a-99b3-527ba077ab52",
   "metadata": {},
   "outputs": [
    {
     "data": {
      "image/png": "[encoded data removed]",
      "text/plain": [
       "Plot with title \"Weights distribution by region\""
      ]
     },
     "metadata": {
      "image/png": {
       "height": 420,
       "width": 420
      }
     },
     "output_type": "display_data"
    },
    {
     "data": {
      "image/png": "[encoded data removed]",
      "text/plain": [
       "Plot with title \"Weights distribution by stratum\""
      ]
     },
     "metadata": {
      "image/png": {
       "height": 420,
       "width": 420
      }
     },
     "output_type": "display_data"
    }
   ],
   "source": [
    "## Plot of weights distribution\n",
    "par(mfrow=c(1, 2))\n",
    "boxplot(samp$weight,col=\"grey\")\n",
    "title(\"Weights distribution (total sample)\",cex.main=0.7)\n",
    "boxplot(weight ~ region, data=samp,col=\"grey\")\n",
    "title(\"Weights distribution by region\",cex.main=0.7)\n",
    "par(mfrow=c(1, 2))\n",
    "boxplot(weight ~ province, data=samp,col=\"grey\")\n",
    "title(\"Weights distribution by province\",cex.main=0.7)\n",
    "boxplot(weight ~ stratum, data=samp,col=\"grey\")\n",
    "title(\"Weights distribution by stratum\",cex.main=0.7)"
   ]
  },
  {
   "cell_type": "markdown",
   "id": "edf54291-9d4e-47be-9a92-aad6b1b24fc1",
   "metadata": {},
   "source": [
    "## Precision constraints compliance control (by simulation)"
   ]
  },
  {
   "cell_type": "code",
   "execution_count": 23,
   "id": "bde1b28c-cc52-48df-809e-7194f806a2fe",
   "metadata": {},
   "outputs": [],
   "source": [
    "selected_PSU <- sample_2st[[4]]\n",
    "df=pop\n",
    "df$one <- 1\n",
    "PSU_code=\"municipality\"\n",
    "SSU_code=\"id_ind\"\n",
    "PSU_sampled=selected_PSU[selected_PSU$Sampled_PSU==1,]\n",
    "target_vars <- c(\"income_hh\",\n",
    "                 \"active\",\n",
    "                 \"inactive\",\n",
    "                 \"unemployed\")  \n",
    "PSU_sampled <- selected_PSU[selected_PSU$PSU_final_sample_unit > 0,]"
   ]
  },
  {
   "cell_type": "code",
   "execution_count": 24,
   "id": "c3d35837-196f-444f-8583-e5dc715b3978",
   "metadata": {},
   "outputs": [
    {
     "name": "stdout",
     "output_type": "stream",
     "text": [
      "  |======================================================================| 100%\n"
     ]
    },
    {
     "data": {
      "text/html": [
       "<table class=\"dataframe\">\n",
       "<caption>A data.frame: 1 × 5</caption>\n",
       "<thead>\n",
       "\t<tr><th scope=col>CV1</th><th scope=col>CV2</th><th scope=col>CV3</th><th scope=col>CV4</th><th scope=col>dom</th></tr>\n",
       "\t<tr><th scope=col>&lt;dbl&gt;</th><th scope=col>&lt;dbl&gt;</th><th scope=col>&lt;dbl&gt;</th><th scope=col>&lt;dbl&gt;</th><th scope=col>&lt;chr&gt;</th></tr>\n",
       "</thead>\n",
       "<tbody>\n",
       "\t<tr><td>0.009</td><td>0.0074</td><td>0.0213</td><td>0.029</td><td>DOM1</td></tr>\n",
       "</tbody>\n",
       "</table>\n"
      ],
      "text/latex": [
       "A data.frame: 1 × 5\n",
       "\\begin{tabular}{lllll}\n",
       " CV1 & CV2 & CV3 & CV4 & dom\\\\\n",
       " <dbl> & <dbl> & <dbl> & <dbl> & <chr>\\\\\n",
       "\\hline\n",
       "\t 0.009 & 0.0074 & 0.0213 & 0.029 & DOM1\\\\\n",
       "\\end{tabular}\n"
      ],
      "text/markdown": [
       "\n",
       "A data.frame: 1 × 5\n",
       "\n",
       "| CV1 &lt;dbl&gt; | CV2 &lt;dbl&gt; | CV3 &lt;dbl&gt; | CV4 &lt;dbl&gt; | dom &lt;chr&gt; |\n",
       "|---|---|---|---|---|\n",
       "| 0.009 | 0.0074 | 0.0213 | 0.029 | DOM1 |\n",
       "\n"
      ],
      "text/plain": [
       "  CV1   CV2    CV3    CV4   dom \n",
       "1 0.009 0.0074 0.0213 0.029 DOM1"
      ]
     },
     "metadata": {},
     "output_type": "display_data"
    }
   ],
   "source": [
    "# Domain level = national\n",
    "domain_var <- \"one\"\n",
    "eval <- eval_2stage(df,\n",
    "                    PSU_code,\n",
    "                    SSU_code,\n",
    "                    domain_var,\n",
    "                    target_vars,\n",
    "                    PSU_sampled,\n",
    "                    nsampl=100, \n",
    "                    writeFiles=FALSE,\n",
    "                    progress=TRUE) \n",
    "eval$coeff_var"
   ]
  },
  {
   "cell_type": "code",
   "execution_count": 25,
   "id": "ea0e548e-81b6-4f6d-a84c-efb50be4f8d3",
   "metadata": {},
   "outputs": [
    {
     "name": "stdout",
     "output_type": "stream",
     "text": [
      "  |======================================================================| 100%\n"
     ]
    },
    {
     "data": {
      "image/png": "[encoded data removed]",
      "text/plain": [
       "Plot with title \"Distribution of CV's in the domains\""
      ]
     },
     "metadata": {
      "image/png": {
       "height": 420,
       "width": 420
      }
     },
     "output_type": "display_data"
    },
    {
     "data": {
      "text/html": [
       "<table class=\"dataframe\">\n",
       "<caption>A data.frame: 3 × 5</caption>\n",
       "<thead>\n",
       "\t<tr><th scope=col>CV1</th><th scope=col>CV2</th><th scope=col>CV3</th><th scope=col>CV4</th><th scope=col>dom</th></tr>\n",
       "\t<tr><th scope=col>&lt;dbl&gt;</th><th scope=col>&lt;dbl&gt;</th><th scope=col>&lt;dbl&gt;</th><th scope=col>&lt;dbl&gt;</th><th scope=col>&lt;chr&gt;</th></tr>\n",
       "</thead>\n",
       "<tbody>\n",
       "\t<tr><td>0.0094</td><td>0.0053</td><td>0.0174</td><td>0.0566</td><td>DOM1</td></tr>\n",
       "\t<tr><td>0.0187</td><td>0.0158</td><td>0.0398</td><td>0.0524</td><td>DOM2</td></tr>\n",
       "\t<tr><td>0.0228</td><td>0.0240</td><td>0.0453</td><td>0.0355</td><td>DOM3</td></tr>\n",
       "</tbody>\n",
       "</table>\n"
      ],
      "text/latex": [
       "A data.frame: 3 × 5\n",
       "\\begin{tabular}{lllll}\n",
       " CV1 & CV2 & CV3 & CV4 & dom\\\\\n",
       " <dbl> & <dbl> & <dbl> & <dbl> & <chr>\\\\\n",
       "\\hline\n",
       "\t 0.0094 & 0.0053 & 0.0174 & 0.0566 & DOM1\\\\\n",
       "\t 0.0187 & 0.0158 & 0.0398 & 0.0524 & DOM2\\\\\n",
       "\t 0.0228 & 0.0240 & 0.0453 & 0.0355 & DOM3\\\\\n",
       "\\end{tabular}\n"
      ],
      "text/markdown": [
       "\n",
       "A data.frame: 3 × 5\n",
       "\n",
       "| CV1 &lt;dbl&gt; | CV2 &lt;dbl&gt; | CV3 &lt;dbl&gt; | CV4 &lt;dbl&gt; | dom &lt;chr&gt; |\n",
       "|---|---|---|---|---|\n",
       "| 0.0094 | 0.0053 | 0.0174 | 0.0566 | DOM1 |\n",
       "| 0.0187 | 0.0158 | 0.0398 | 0.0524 | DOM2 |\n",
       "| 0.0228 | 0.0240 | 0.0453 | 0.0355 | DOM3 |\n",
       "\n"
      ],
      "text/plain": [
       "  CV1    CV2    CV3    CV4    dom \n",
       "1 0.0094 0.0053 0.0174 0.0566 DOM1\n",
       "2 0.0187 0.0158 0.0398 0.0524 DOM2\n",
       "3 0.0228 0.0240 0.0453 0.0355 DOM3"
      ]
     },
     "metadata": {},
     "output_type": "display_data"
    },
    {
     "data": {
      "image/png": "[encoded data removed]",
      "text/plain": [
       "Plot with title \"Distribution of relative bias in the domains\""
      ]
     },
     "metadata": {
      "image/png": {
       "height": 420,
       "width": 420
      }
     },
     "output_type": "display_data"
    }
   ],
   "source": [
    "# Domain level = regional\n",
    "domain_var <- \"region\"\n",
    "set.seed(1234)\n",
    "eval <- eval_2stage(df,\n",
    "                    PSU_code,\n",
    "                    SSU_code,\n",
    "                    domain_var,\n",
    "                    target_vars,\n",
    "                    PSU_sampled,\n",
    "                    nsampl=100, \n",
    "                    writeFiles=FALSE,\n",
    "                    progress=TRUE) \n",
    "eval$coeff_var"
   ]
  },
  {
   "cell_type": "code",
   "execution_count": 26,
   "id": "08cb71f0-535f-401e-ae82-355941cd4a55",
   "metadata": {},
   "outputs": [
    {
     "data": {
      "text/html": [
       "<table class=\"dataframe\">\n",
       "<caption>A data.frame: 4 × 6</caption>\n",
       "<thead>\n",
       "\t<tr><th></th><th scope=col>Type</th><th scope=col>Dom</th><th scope=col>V1</th><th scope=col>V2</th><th scope=col>V3</th><th scope=col>V4</th></tr>\n",
       "\t<tr><th></th><th scope=col>&lt;chr&gt;</th><th scope=col>&lt;chr&gt;</th><th scope=col>&lt;dbl&gt;</th><th scope=col>&lt;dbl&gt;</th><th scope=col>&lt;dbl&gt;</th><th scope=col>&lt;dbl&gt;</th></tr>\n",
       "</thead>\n",
       "<tbody>\n",
       "\t<tr><th scope=row>1</th><td>DOM1</td><td>1</td><td>1</td><td>1</td><td>1</td><td> 628</td></tr>\n",
       "\t<tr><th scope=row>5</th><td>DOM2</td><td>1</td><td>1</td><td>0</td><td>1</td><td>2214</td></tr>\n",
       "\t<tr><th scope=row>9</th><td>DOM2</td><td>2</td><td>1</td><td>1</td><td>1</td><td> 163</td></tr>\n",
       "\t<tr><th scope=row>13</th><td>DOM2</td><td>3</td><td>1</td><td>1</td><td>1</td><td>   1</td></tr>\n",
       "</tbody>\n",
       "</table>\n"
      ],
      "text/latex": [
       "A data.frame: 4 × 6\n",
       "\\begin{tabular}{r|llllll}\n",
       "  & Type & Dom & V1 & V2 & V3 & V4\\\\\n",
       "  & <chr> & <chr> & <dbl> & <dbl> & <dbl> & <dbl>\\\\\n",
       "\\hline\n",
       "\t1 & DOM1 & 1 & 1 & 1 & 1 &  628\\\\\n",
       "\t5 & DOM2 & 1 & 1 & 0 & 1 & 2214\\\\\n",
       "\t9 & DOM2 & 2 & 1 & 1 & 1 &  163\\\\\n",
       "\t13 & DOM2 & 3 & 1 & 1 & 1 &    1\\\\\n",
       "\\end{tabular}\n"
      ],
      "text/markdown": [
       "\n",
       "A data.frame: 4 × 6\n",
       "\n",
       "| <!--/--> | Type &lt;chr&gt; | Dom &lt;chr&gt; | V1 &lt;dbl&gt; | V2 &lt;dbl&gt; | V3 &lt;dbl&gt; | V4 &lt;dbl&gt; |\n",
       "|---|---|---|---|---|---|---|\n",
       "| 1 | DOM1 | 1 | 1 | 1 | 1 |  628 |\n",
       "| 5 | DOM2 | 1 | 1 | 0 | 1 | 2214 |\n",
       "| 9 | DOM2 | 2 | 1 | 1 | 1 |  163 |\n",
       "| 13 | DOM2 | 3 | 1 | 1 | 1 |    1 |\n",
       "\n"
      ],
      "text/plain": [
       "   Type Dom V1 V2 V3 V4  \n",
       "1  DOM1 1   1  1  1   628\n",
       "5  DOM2 1   1  0  1  2214\n",
       "9  DOM2 2   1  1  1   163\n",
       "13 DOM2 3   1  1  1     1"
      ]
     },
     "metadata": {},
     "output_type": "display_data"
    }
   ],
   "source": [
    "alloc$sensitivity"
   ]
  },
  {
   "cell_type": "code",
   "execution_count": null,
   "id": "0f1a7298-1b61-44cd-9c29-748fa6435729",
   "metadata": {},
   "outputs": [],
   "source": []
  }
 ],
 "metadata": {
  "kernelspec": {
   "display_name": "R",
   "language": "R",
   "name": "ir"
  },
  "language_info": {
   "codemirror_mode": "r",
   "file_extension": ".r",
   "mimetype": "text/x-r-source",
   "name": "R",
   "pygments_lexer": "r",
   "version": "4.1.1"
  }
 },
 "nbformat": 4,
 "nbformat_minor": 5
}
